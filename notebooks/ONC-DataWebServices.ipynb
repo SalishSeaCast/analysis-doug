{
 "cells": [
  {
   "cell_type": "markdown",
   "metadata": {},
   "source": [
    "# Exploring ONC Data Web Services\n",
    "\n",
    "Exploring the ONC data web services documented at https://wiki.oceannetworks.ca/display/help/API"
   ]
  },
  {
   "cell_type": "code",
   "execution_count": 67,
   "metadata": {
    "collapsed": false
   },
   "outputs": [],
   "source": [
    "import json\n",
    "import os\n",
    "from urllib.parse import (\n",
    "    quote,\n",
    "    urlencode,\n",
    ")\n",
    "\n",
    "import arrow\n",
    "import numpy as np\n",
    "import requests\n",
    "import xarray as xr"
   ]
  },
  {
   "cell_type": "markdown",
   "metadata": {},
   "source": [
    "## Contents\n",
    "\n",
    "* [Web Service Requests](#Web-Service-Requests)\n",
    "* [`stations` End-point](#stations-End-point)\n",
    "* [`scalardata` End-point](#scalardata-End-point)\n",
    "\n",
    "  * [VENUS Node CTD Data](#VENUS-Node-CTD-Data)\n",
    "  * [Ferry Temperature and Salinity Data](#Ferry-Temperature-and-Salinity-Data)\n",
    "  * [Parsing `scalardata`](#Parsing-scalardata)"
   ]
  },
  {
   "cell_type": "markdown",
   "metadata": {},
   "source": [
    "## Web Service Requests\n",
    "\n",
    "The web service URLS are composed of:\n",
    "\n",
    "* the base URL: `http://dmas.uvic.ca/api/\n",
    "* an end-point: presently one of `archivefiles`, `dataproducts`, `rawdata`, `scalardata`, `stations`, or `status`\n",
    "* a query string that includes `method=methodName`, `token=USER_TOKEN`, and other end-point-specific key/value pairs\n",
    "\n",
    "For example:\n",
    "\n",
    "  `http://dmas.uvic.ca/api/scalardata?method=getByStation&token=<yourValidToken>&station=SCHDW.O1&deviceCategory=OXYSENSOR`\n",
    "\n",
    "Access to the web services requires a user token which you can generate on the \n",
    "`Web Services API` tab of your [ONC account profile page](http://dmas.uvic.ca/Profile).\n",
    "I have stored mine in an environment variable so as not to publish it to the world\n",
    "in this notebook."
   ]
  },
  {
   "cell_type": "code",
   "execution_count": 18,
   "metadata": {
    "collapsed": false
   },
   "outputs": [],
   "source": [
    "TOKEN = os.environ['ONC_USER_TOKEN']"
   ]
  },
  {
   "cell_type": "markdown",
   "metadata": {},
   "source": [
    "Here's a string template for a request URL, and a technique for composing the query string:"
   ]
  },
  {
   "cell_type": "code",
   "execution_count": 19,
   "metadata": {
    "collapsed": true
   },
   "outputs": [],
   "source": [
    "url_tmpl = 'http://dmas.uvic.ca/api/{endpoint}?{query}'"
   ]
  },
  {
   "cell_type": "code",
   "execution_count": 20,
   "metadata": {
    "collapsed": false
   },
   "outputs": [
    {
     "data": {
      "text/plain": [
       "'http://dmas.uvic.ca/api/scalardata?deviceCategory=OXYSENSOR&station=SCHDW.O1&method=getByStation&token=USER_TOKEN'"
      ]
     },
     "execution_count": 20,
     "metadata": {},
     "output_type": "execute_result"
    }
   ],
   "source": [
    "url_tmpl.format(\n",
    "    endpoint='scalardata',\n",
    "    query=urlencode({\n",
    "        'method': 'getByStation',\n",
    "        'token': 'USER_TOKEN',\n",
    "        'station': 'SCHDW.O1',\n",
    "        'deviceCategory': 'OXYSENSOR',\n",
    "    }, quote_via=quote, safe='/:'))"
   ]
  },
  {
   "cell_type": "markdown",
   "metadata": {},
   "source": [
    "Substituting my real token,\n",
    "and using the `requests` package to send the data request to the web service:"
   ]
  },
  {
   "cell_type": "code",
   "execution_count": 21,
   "metadata": {
    "collapsed": true
   },
   "outputs": [],
   "source": [
    "data_url = url_tmpl.format(\n",
    "    endpoint='scalardata',\n",
    "    query=urlencode({\n",
    "        'method': 'getByStation',\n",
    "        'token': TOKEN,\n",
    "        'station': 'SCHDW.O1',\n",
    "        'deviceCategory': 'OXYSENSOR',\n",
    "    }, quote_via=quote, safe='/:'))\n",
    "\n",
    "response = requests.get(data_url)\n",
    "response.raise_for_status()"
   ]
  },
  {
   "cell_type": "markdown",
   "metadata": {},
   "source": [
    "Calling the `raise_for_status()` method on the response object is a quick\n",
    "way to test for HTTP errors.\n",
    "\n",
    "The default response type from the web services is JSON\n",
    "and `requests` provides a convenience method to convert JSON\n",
    "in the response to a Python `dict` object:"
   ]
  },
  {
   "cell_type": "code",
   "execution_count": 22,
   "metadata": {
    "collapsed": false
   },
   "outputs": [
    {
     "data": {
      "text/plain": [
       "{'sensorData': [{'actualSamples': 1,\n",
       "   'data': [{'qaqcFlag': 1,\n",
       "     'sampleTime': '2016-05-02T20:13:10.064Z',\n",
       "     'value': 2.093462278}],\n",
       "   'sensor': 'oxygen',\n",
       "   'sensorName': 'Oxygen',\n",
       "   'unitOfMeasure': 'ml/l'},\n",
       "  {'actualSamples': 1,\n",
       "   'data': [{'qaqcFlag': 1,\n",
       "     'sampleTime': '2016-05-02T20:13:10.064Z',\n",
       "     'value': 9.9706}],\n",
       "   'sensor': 'temperature',\n",
       "   'sensorName': 'Temperature',\n",
       "   'unitOfMeasure': 'C'}],\n",
       " 'serviceMetadata': {'dateFrom': None,\n",
       "  'dateTo': None,\n",
       "  'deviceCategory': 'OXYSENSOR',\n",
       "  'nextDateFrom': None,\n",
       "  'outputFormat': None,\n",
       "  'rowLimit': None,\n",
       "  'sensors': None,\n",
       "  'station': 'SCHDW.O1',\n",
       "  'totalActualSamples': 2}}"
      ]
     },
     "execution_count": 22,
     "metadata": {},
     "output_type": "execute_result"
    }
   ],
   "source": [
    "response.json()"
   ]
  },
  {
   "cell_type": "markdown",
   "metadata": {},
   "source": [
    "So, let's put that all together into a function to query the ONC data web services:"
   ]
  },
  {
   "cell_type": "code",
   "execution_count": 23,
   "metadata": {
    "collapsed": true
   },
   "outputs": [],
   "source": [
    "def get_onc_data(endpoint, method, token, **query_params):\n",
    "    url_tmpl = 'http://dmas.uvic.ca/api/{endpoint}?{query}'\n",
    "    query = {'method': method, 'token': token}\n",
    "    query.update(query_params)\n",
    "    data_url = url_tmpl.format(\n",
    "        endpoint=endpoint,\n",
    "        query=urlencode(query, quote_via=quote, safe='/:'))\n",
    "    response = requests.get(data_url)\n",
    "    response.raise_for_status()\n",
    "    return response.json()"
   ]
  },
  {
   "cell_type": "code",
   "execution_count": 24,
   "metadata": {
    "collapsed": false
   },
   "outputs": [
    {
     "data": {
      "text/plain": [
       "{'sensorData': [{'actualSamples': 1,\n",
       "   'data': [{'qaqcFlag': 1,\n",
       "     'sampleTime': '2016-05-02T20:13:10.064Z',\n",
       "     'value': 2.093462278}],\n",
       "   'sensor': 'oxygen',\n",
       "   'sensorName': 'Oxygen',\n",
       "   'unitOfMeasure': 'ml/l'},\n",
       "  {'actualSamples': 1,\n",
       "   'data': [{'qaqcFlag': 1,\n",
       "     'sampleTime': '2016-05-02T20:13:10.064Z',\n",
       "     'value': 9.9706}],\n",
       "   'sensor': 'temperature',\n",
       "   'sensorName': 'Temperature',\n",
       "   'unitOfMeasure': 'C'}],\n",
       " 'serviceMetadata': {'dateFrom': None,\n",
       "  'dateTo': None,\n",
       "  'deviceCategory': 'OXYSENSOR',\n",
       "  'nextDateFrom': None,\n",
       "  'outputFormat': None,\n",
       "  'rowLimit': None,\n",
       "  'sensors': None,\n",
       "  'station': 'SCHDW.O1',\n",
       "  'totalActualSamples': 2}}"
      ]
     },
     "execution_count": 24,
     "metadata": {},
     "output_type": "execute_result"
    }
   ],
   "source": [
    "get_onc_data('scalardata', 'getByStation', TOKEN, station='SCHDW.O1', deviceCategory='OXYSENSOR')"
   ]
  },
  {
   "cell_type": "markdown",
   "metadata": {},
   "source": [
    "## `stations` End-point\n",
    "\n",
    "The [`stations` end-point](https://wiki.oceannetworks.ca/display/help/stations)\n",
    "has a `getTree` method that returns a large, hierarchical tree data structure of\n",
    "stations, station codes, and devices.\n",
    "```python\n",
    "get_onc_data('stations', 'getTree', TOKEN)\n",
    "```\n",
    "Rather than reading or parsing the data structure here,\n",
    "it is perhaps easier to find station codes and device categories to use with the\n",
    "other end-points by looking at the list generated by the\n",
    "[Javascript Usage Exmaple](https://wiki.oceannetworks.ca/download/attachments/42172426/stationTreeExample.html?version=2&modificationDate=1428438144000&api=v2)\n",
    "provided by ONC."
   ]
  },
  {
   "cell_type": "markdown",
   "metadata": {},
   "source": [
    "## `scalardata` End-point\n",
    "\n",
    "The [`scalardata` end-point](https://wiki.oceannetworks.ca/display/help/scalardata+service)\n",
    "has a `getByStation` method that returns time series of data given a station code\n",
    "and an device category code.\n",
    "Its simplest use case is to return the most recent data for all sensors associated with\n",
    "the device category at the station."
   ]
  },
  {
   "cell_type": "markdown",
   "metadata": {},
   "source": [
    "### VENUS Node CTD Data\n",
    "\n",
    "Here that is for the CTD at the Salish Sea Central node VENUS Instrument Platform:"
   ]
  },
  {
   "cell_type": "code",
   "execution_count": 25,
   "metadata": {
    "collapsed": false
   },
   "outputs": [
    {
     "data": {
      "text/plain": [
       "{'sensorData': [{'actualSamples': 1,\n",
       "   'data': [{'qaqcFlag': 1,\n",
       "     'sampleTime': '2016-07-11T19:03:06.364Z',\n",
       "     'value': 113.16}],\n",
       "   'sensor': 'Depth',\n",
       "   'sensorName': 'Depth',\n",
       "   'unitOfMeasure': 'm'},\n",
       "  {'actualSamples': 1,\n",
       "   'data': [{'qaqcFlag': 1,\n",
       "     'sampleTime': '2016-07-11T19:03:06.364Z',\n",
       "     'value': 23.261575019}],\n",
       "   'sensor': 'SIGMA_THETA',\n",
       "   'sensorName': 'Sigma-theta (0 dbar)',\n",
       "   'unitOfMeasure': 'kg/m3'},\n",
       "  {'actualSamples': 1,\n",
       "   'data': [{'qaqcFlag': 1,\n",
       "     'sampleTime': '2016-07-11T19:03:06.364Z',\n",
       "     'value': 3.35354}],\n",
       "   'sensor': 'cond',\n",
       "   'sensorName': 'Conductivity',\n",
       "   'unitOfMeasure': 'S/m'},\n",
       "  {'actualSamples': 1,\n",
       "   'data': [{'qaqcFlag': 1,\n",
       "     'sampleTime': '2016-07-11T19:03:06.364Z',\n",
       "     'value': 1023.779048283}],\n",
       "   'sensor': 'density',\n",
       "   'sensorName': 'Density',\n",
       "   'unitOfMeasure': 'kg/m3'},\n",
       "  {'actualSamples': 1,\n",
       "   'data': [{'qaqcFlag': 1,\n",
       "     'sampleTime': '2016-07-11T19:03:06.364Z',\n",
       "     'value': 114.157}],\n",
       "   'sensor': 'pressure',\n",
       "   'sensorName': 'Pressure',\n",
       "   'unitOfMeasure': 'decibar'},\n",
       "  {'actualSamples': 1,\n",
       "   'data': [{'qaqcFlag': 1,\n",
       "     'sampleTime': '2016-07-11T19:03:06.364Z',\n",
       "     'value': 30.281}],\n",
       "   'sensor': 'salinity',\n",
       "   'sensorName': 'Practical Salinity',\n",
       "   'unitOfMeasure': 'psu'},\n",
       "  {'actualSamples': 1,\n",
       "   'data': [{'qaqcFlag': 1,\n",
       "     'sampleTime': '2016-07-11T19:03:06.364Z',\n",
       "     'value': 23.259561821}],\n",
       "   'sensor': 'sigmaT',\n",
       "   'sensorName': 'Sigma-t',\n",
       "   'unitOfMeasure': 'kg/m3'},\n",
       "  {'actualSamples': 1,\n",
       "   'data': [{'qaqcFlag': 1,\n",
       "     'sampleTime': '2016-07-11T19:03:06.364Z',\n",
       "     'value': 1486.198}],\n",
       "   'sensor': 'sound_speed',\n",
       "   'sensorName': 'Sound Speed',\n",
       "   'unitOfMeasure': 'm/s'},\n",
       "  {'actualSamples': 1,\n",
       "   'data': [{'qaqcFlag': 1,\n",
       "     'sampleTime': '2016-07-11T19:03:06.364Z',\n",
       "     'value': 10.0633}],\n",
       "   'sensor': 'temperature',\n",
       "   'sensorName': 'Temperature',\n",
       "   'unitOfMeasure': 'C'}],\n",
       " 'serviceMetadata': {'dateFrom': None,\n",
       "  'dateTo': None,\n",
       "  'deviceCategory': 'CTD',\n",
       "  'nextDateFrom': None,\n",
       "  'outputFormat': None,\n",
       "  'rowLimit': None,\n",
       "  'sensors': None,\n",
       "  'station': 'USDDL',\n",
       "  'totalActualSamples': 9}}"
      ]
     },
     "execution_count": 25,
     "metadata": {},
     "output_type": "execute_result"
    }
   ],
   "source": [
    "get_onc_data('scalardata', 'getByStation', TOKEN, station='USDDL', deviceCategory='CTD')"
   ]
  },
  {
   "cell_type": "markdown",
   "metadata": {},
   "source": [
    "Adding a `sensors` item to the query with a value that is a comma-separated list\n",
    "of `sensor` codes limits the response to contain only the data from the specified sensors:"
   ]
  },
  {
   "cell_type": "code",
   "execution_count": 26,
   "metadata": {
    "collapsed": false
   },
   "outputs": [
    {
     "data": {
      "text/plain": [
       "{'sensorData': [{'actualSamples': 1,\n",
       "   'data': [{'qaqcFlag': 1,\n",
       "     'sampleTime': '2016-07-11T19:03:14.582Z',\n",
       "     'value': 30.8947}],\n",
       "   'sensor': 'salinity',\n",
       "   'sensorName': 'Practical Salinity',\n",
       "   'unitOfMeasure': 'psu'},\n",
       "  {'actualSamples': 1,\n",
       "   'data': [{'qaqcFlag': 1,\n",
       "     'sampleTime': '2016-07-11T19:03:14.582Z',\n",
       "     'value': 9.5234}],\n",
       "   'sensor': 'temperature',\n",
       "   'sensorName': 'Temperature',\n",
       "   'unitOfMeasure': 'C'}],\n",
       " 'serviceMetadata': {'dateFrom': None,\n",
       "  'dateTo': None,\n",
       "  'deviceCategory': 'CTD',\n",
       "  'nextDateFrom': None,\n",
       "  'outputFormat': None,\n",
       "  'rowLimit': None,\n",
       "  'sensors': 'salinity,temperature',\n",
       "  'station': 'SCVIP',\n",
       "  'totalActualSamples': 2}}"
      ]
     },
     "execution_count": 26,
     "metadata": {},
     "output_type": "execute_result"
    }
   ],
   "source": [
    "get_onc_data(\n",
    "    'scalardata', 'getByStation', TOKEN, station='SCVIP', deviceCategory='CTD', \n",
    "    sensors='salinity,temperature')"
   ]
  },
  {
   "cell_type": "markdown",
   "metadata": {},
   "source": [
    "Time series of data are obtained by adding `dateFrom` and `dateTo` items to the query:"
   ]
  },
  {
   "cell_type": "code",
   "execution_count": 31,
   "metadata": {
    "collapsed": false
   },
   "outputs": [
    {
     "data": {
      "text/plain": [
       "{'sensorData': [{'actualSamples': 2,\n",
       "   'data': [{'qaqcFlag': 1,\n",
       "     'sampleTime': '2016-06-28T00:26:45.895Z',\n",
       "     'value': 30.9153},\n",
       "    {'qaqcFlag': 1,\n",
       "     'sampleTime': '2016-06-28T00:26:46.895Z',\n",
       "     'value': 30.9154}],\n",
       "   'sensor': 'salinity',\n",
       "   'sensorName': 'Practical Salinity',\n",
       "   'unitOfMeasure': 'psu'},\n",
       "  {'actualSamples': 2,\n",
       "   'data': [{'qaqcFlag': 1,\n",
       "     'sampleTime': '2016-06-28T00:26:45.895Z',\n",
       "     'value': 9.563},\n",
       "    {'qaqcFlag': 1,\n",
       "     'sampleTime': '2016-06-28T00:26:46.895Z',\n",
       "     'value': 9.5627}],\n",
       "   'sensor': 'temperature',\n",
       "   'sensorName': 'Temperature',\n",
       "   'unitOfMeasure': 'C'}],\n",
       " 'serviceMetadata': {'dateFrom': '2016-06-28T00:26:45.000Z',\n",
       "  'dateTo': None,\n",
       "  'deviceCategory': 'CTD',\n",
       "  'nextDateFrom': None,\n",
       "  'outputFormat': None,\n",
       "  'rowLimit': None,\n",
       "  'sensors': 'salinity,temperature',\n",
       "  'station': 'SCVIP',\n",
       "  'totalActualSamples': 4}}"
      ]
     },
     "execution_count": 31,
     "metadata": {},
     "output_type": "execute_result"
    }
   ],
   "source": [
    "get_onc_data(\n",
    "    'scalardata', 'getByStation', TOKEN, station='SCVIP', deviceCategory='CTD',\n",
    "    sensors='salinity,temperature',\n",
    "    dateFrom='2016-06-28T00:26:45.000Z',\n",
    ")"
   ]
  },
  {
   "cell_type": "markdown",
   "metadata": {},
   "source": [
    "With only a `dateFrom` item in the query the time series length defaults to 1 day in length.\n",
    "The `dateTo` query item controls the length of the time series by date/time stamp."
   ]
  },
  {
   "cell_type": "code",
   "execution_count": 27,
   "metadata": {
    "collapsed": false
   },
   "outputs": [
    {
     "data": {
      "text/plain": [
       "{'sensorData': [{'actualSamples': 5,\n",
       "   'data': [{'qaqcFlag': 1,\n",
       "     'sampleTime': '2016-06-21T17:58:45.400Z',\n",
       "     'value': 31.1297},\n",
       "    {'qaqcFlag': 1,\n",
       "     'sampleTime': '2016-06-21T17:58:46.440Z',\n",
       "     'value': 31.1294},\n",
       "    {'qaqcFlag': 1,\n",
       "     'sampleTime': '2016-06-21T17:58:47.400Z',\n",
       "     'value': 31.1285},\n",
       "    {'qaqcFlag': 1,\n",
       "     'sampleTime': '2016-06-21T17:58:48.444Z',\n",
       "     'value': 31.1285},\n",
       "    {'qaqcFlag': 1,\n",
       "     'sampleTime': '2016-06-21T17:58:49.400Z',\n",
       "     'value': 31.1282}],\n",
       "   'sensor': 'salinity',\n",
       "   'sensorName': 'Practical Salinity',\n",
       "   'unitOfMeasure': 'psu'},\n",
       "  {'actualSamples': 5,\n",
       "   'data': [{'qaqcFlag': 1,\n",
       "     'sampleTime': '2016-06-21T17:58:45.400Z',\n",
       "     'value': 9.3081},\n",
       "    {'qaqcFlag': 1, 'sampleTime': '2016-06-21T17:58:46.440Z', 'value': 9.3083},\n",
       "    {'qaqcFlag': 1, 'sampleTime': '2016-06-21T17:58:47.400Z', 'value': 9.3087},\n",
       "    {'qaqcFlag': 1, 'sampleTime': '2016-06-21T17:58:48.444Z', 'value': 9.3088},\n",
       "    {'qaqcFlag': 1, 'sampleTime': '2016-06-21T17:58:49.400Z', 'value': 9.309}],\n",
       "   'sensor': 'temperature',\n",
       "   'sensorName': 'Temperature',\n",
       "   'unitOfMeasure': 'C'}],\n",
       " 'serviceMetadata': {'dateFrom': '2016-06-21T17:58:45.000Z',\n",
       "  'dateTo': '2016-06-21T17:58:50.000Z',\n",
       "  'deviceCategory': 'CTD',\n",
       "  'nextDateFrom': '2016-06-21T17:58:50.444Z',\n",
       "  'outputFormat': None,\n",
       "  'rowLimit': None,\n",
       "  'sensors': 'salinity,temperature',\n",
       "  'station': 'SCVIP',\n",
       "  'totalActualSamples': 10}}"
      ]
     },
     "execution_count": 27,
     "metadata": {},
     "output_type": "execute_result"
    }
   ],
   "source": [
    "get_onc_data(\n",
    "    'scalardata', 'getByStation', TOKEN, station='SCVIP', deviceCategory='CTD',\n",
    "    sensors='salinity,temperature',\n",
    "    dateFrom='2016-06-21T17:58:45.000Z', dateTo='2016-06-21T17:58:50.000Z',\n",
    ")"
   ]
  },
  {
   "cell_type": "markdown",
   "metadata": {},
   "source": [
    "The number of measurements returned can be specified directly with the `rowLimit` query item.\n",
    "*Note also that there is a hard limit of 100,000 measurements per sensor per request.*"
   ]
  },
  {
   "cell_type": "code",
   "execution_count": 28,
   "metadata": {
    "collapsed": false
   },
   "outputs": [
    {
     "data": {
      "text/plain": [
       "{'sensorData': [{'actualSamples': 2,\n",
       "   'data': [{'qaqcFlag': 1,\n",
       "     'sampleTime': '2016-06-21T17:58:45.400Z',\n",
       "     'value': 31.1297},\n",
       "    {'qaqcFlag': 1,\n",
       "     'sampleTime': '2016-06-21T17:58:46.440Z',\n",
       "     'value': 31.1294}],\n",
       "   'sensor': 'salinity',\n",
       "   'sensorName': 'Practical Salinity',\n",
       "   'unitOfMeasure': 'psu'},\n",
       "  {'actualSamples': 2,\n",
       "   'data': [{'qaqcFlag': 1,\n",
       "     'sampleTime': '2016-06-21T17:58:45.400Z',\n",
       "     'value': 9.3081},\n",
       "    {'qaqcFlag': 1,\n",
       "     'sampleTime': '2016-06-21T17:58:46.440Z',\n",
       "     'value': 9.3083}],\n",
       "   'sensor': 'temperature',\n",
       "   'sensorName': 'Temperature',\n",
       "   'unitOfMeasure': 'C'}],\n",
       " 'serviceMetadata': {'dateFrom': '2016-06-21T17:58:45.000Z',\n",
       "  'dateTo': None,\n",
       "  'deviceCategory': 'CTD',\n",
       "  'nextDateFrom': '2016-06-21T17:58:47.400Z',\n",
       "  'outputFormat': None,\n",
       "  'rowLimit': 2,\n",
       "  'sensors': 'salinity,temperature',\n",
       "  'station': 'SCVIP',\n",
       "  'totalActualSamples': 4}}"
      ]
     },
     "execution_count": 28,
     "metadata": {},
     "output_type": "execute_result"
    }
   ],
   "source": [
    "get_onc_data(\n",
    "    'scalardata', 'getByStation', TOKEN, station='SCVIP', deviceCategory='CTD',\n",
    "    sensors='salinity,temperature',\n",
    "    dateFrom='2016-06-21T17:58:45.000Z', rowLimit=2,\n",
    ")"
   ]
  },
  {
   "cell_type": "markdown",
   "metadata": {},
   "source": [
    "The values for `dateFrom` and `dateTo` are in UTC and must be strings formatted\n",
    "as `yyyy-MM-ddTHH:mm:ss.SSSZ`.\n",
    "That format is annoying enough to type,\n",
    "and timezone conversions are error-prone enough\n",
    "that it is worth writing a function to handle the details:"
   ]
  },
  {
   "cell_type": "code",
   "execution_count": 29,
   "metadata": {
    "collapsed": true
   },
   "outputs": [],
   "source": [
    "def onc_datetime(datetime_str, timezone='Canada/Pacific'):\n",
    "    d = arrow.get(datetime_str)\n",
    "    d_tz = arrow.get(d.datetime, timezone)\n",
    "    d_utc = d_tz.to('utc')\n",
    "    return '{}Z'.format(d_utc.format('YYYY-MM-DDTHH:mm:ss.SSS'))"
   ]
  },
  {
   "cell_type": "markdown",
   "metadata": {},
   "source": [
    "The `onc_datetime()` function has been added to the\n",
    "[`salishssea_tools.data_tools` module](http://salishsea-meopar-tools.readthedocs.io/en/latest/SalishSeaTools/api.html#module-salishsea_tools.data_tools)."
   ]
  },
  {
   "cell_type": "code",
   "execution_count": 30,
   "metadata": {
    "collapsed": false
   },
   "outputs": [
    {
     "data": {
      "text/plain": [
       "'2016-06-21T17:58:45.000Z'"
      ]
     },
     "execution_count": 30,
     "metadata": {},
     "output_type": "execute_result"
    }
   ],
   "source": [
    "onc_datetime('2016-06-21 10:58:45')"
   ]
  },
  {
   "cell_type": "code",
   "execution_count": 31,
   "metadata": {
    "collapsed": false
   },
   "outputs": [
    {
     "data": {
      "text/plain": [
       "'2016-06-21T17:58:45.000Z'"
      ]
     },
     "execution_count": 31,
     "metadata": {},
     "output_type": "execute_result"
    }
   ],
   "source": [
    "onc_datetime('2016-06-21 17:58:45', 'utc')"
   ]
  },
  {
   "cell_type": "code",
   "execution_count": 32,
   "metadata": {
    "collapsed": false
   },
   "outputs": [
    {
     "data": {
      "text/plain": [
       "{'sensorData': [{'actualSamples': 5,\n",
       "   'data': [{'qaqcFlag': 1,\n",
       "     'sampleTime': '2016-06-21T17:58:45.400Z',\n",
       "     'value': 31.1297},\n",
       "    {'qaqcFlag': 1,\n",
       "     'sampleTime': '2016-06-21T17:58:46.440Z',\n",
       "     'value': 31.1294},\n",
       "    {'qaqcFlag': 1,\n",
       "     'sampleTime': '2016-06-21T17:58:47.400Z',\n",
       "     'value': 31.1285},\n",
       "    {'qaqcFlag': 1,\n",
       "     'sampleTime': '2016-06-21T17:58:48.444Z',\n",
       "     'value': 31.1285},\n",
       "    {'qaqcFlag': 1,\n",
       "     'sampleTime': '2016-06-21T17:58:49.400Z',\n",
       "     'value': 31.1282}],\n",
       "   'sensor': 'salinity',\n",
       "   'sensorName': 'Practical Salinity',\n",
       "   'unitOfMeasure': 'psu'},\n",
       "  {'actualSamples': 5,\n",
       "   'data': [{'qaqcFlag': 1,\n",
       "     'sampleTime': '2016-06-21T17:58:45.400Z',\n",
       "     'value': 9.3081},\n",
       "    {'qaqcFlag': 1, 'sampleTime': '2016-06-21T17:58:46.440Z', 'value': 9.3083},\n",
       "    {'qaqcFlag': 1, 'sampleTime': '2016-06-21T17:58:47.400Z', 'value': 9.3087},\n",
       "    {'qaqcFlag': 1, 'sampleTime': '2016-06-21T17:58:48.444Z', 'value': 9.3088},\n",
       "    {'qaqcFlag': 1, 'sampleTime': '2016-06-21T17:58:49.400Z', 'value': 9.309}],\n",
       "   'sensor': 'temperature',\n",
       "   'sensorName': 'Temperature',\n",
       "   'unitOfMeasure': 'C'}],\n",
       " 'serviceMetadata': {'dateFrom': '2016-06-21T17:58:45.000Z',\n",
       "  'dateTo': '2016-06-21T17:58:50.000Z',\n",
       "  'deviceCategory': 'CTD',\n",
       "  'nextDateFrom': '2016-06-21T17:58:50.444Z',\n",
       "  'outputFormat': None,\n",
       "  'rowLimit': None,\n",
       "  'sensors': 'salinity,temperature',\n",
       "  'station': 'SCVIP',\n",
       "  'totalActualSamples': 10}}"
      ]
     },
     "execution_count": 32,
     "metadata": {},
     "output_type": "execute_result"
    }
   ],
   "source": [
    "get_onc_data(\n",
    "    'scalardata', 'getByStation', TOKEN, station='SCVIP', deviceCategory='CTD',\n",
    "    sensors='salinity,temperature',\n",
    "    dateFrom=onc_datetime('2016-06-21 10:58:45'), dateTo=onc_datetime('2016-06-21 10:58:50'),\n",
    ")"
   ]
  },
  {
   "cell_type": "markdown",
   "metadata": {},
   "source": [
    "### Ferry Temperature and Salinity Data\n",
    "\n",
    "The instrumented ferries are stations.\n",
    "Here is the most recent available data from the TSG device\n",
    "aboard the Tsawwassen to Duke Point ferry:"
   ]
  },
  {
   "cell_type": "code",
   "execution_count": 33,
   "metadata": {
    "collapsed": false
   },
   "outputs": [
    {
     "data": {
      "text/plain": [
       "{'sensorData': [{'actualSamples': 1,\n",
       "   'data': [{'qaqcFlag': 1,\n",
       "     'sampleTime': '2016-07-11T16:41:10.218Z',\n",
       "     'value': 2.95693}],\n",
       "   'sensor': 'Conductivity',\n",
       "   'sensorName': 'Conductivity',\n",
       "   'unitOfMeasure': 'S/m'},\n",
       "  {'actualSamples': 1,\n",
       "   'data': [{'qaqcFlag': 1,\n",
       "     'sampleTime': '2016-07-11T16:41:10.218Z',\n",
       "     'value': 22.6041}],\n",
       "   'sensor': 'salinity',\n",
       "   'sensorName': 'Practical Salinity',\n",
       "   'unitOfMeasure': 'psu'},\n",
       "  {'actualSamples': 1,\n",
       "   'data': [{'qaqcFlag': 1,\n",
       "     'sampleTime': '2016-07-11T16:41:10.218Z',\n",
       "     'value': 15.9418}],\n",
       "   'sensor': 'temperature',\n",
       "   'sensorName': 'Temperature',\n",
       "   'unitOfMeasure': 'C'}],\n",
       " 'serviceMetadata': {'dateFrom': None,\n",
       "  'dateTo': None,\n",
       "  'deviceCategory': 'TSG',\n",
       "  'nextDateFrom': None,\n",
       "  'outputFormat': None,\n",
       "  'rowLimit': None,\n",
       "  'sensors': None,\n",
       "  'station': 'TWDP',\n",
       "  'totalActualSamples': 3}}"
      ]
     },
     "execution_count": 33,
     "metadata": {},
     "output_type": "execute_result"
    }
   ],
   "source": [
    "get_onc_data('scalardata', 'getByStation', TOKEN, station='TWDP', deviceCategory='TSG')"
   ]
  },
  {
   "cell_type": "markdown",
   "metadata": {},
   "source": [
    "Note that the data may lag the present time by several hours because it is only\n",
    "transmitted from the ferry to the ONC servers when the ferry is at dock.\n",
    "Also, there appears to be a several hours long gap in the data each day,\n",
    "presumably while the ferry is docked overnight.\n",
    "\n",
    "The ferry's location is available from the NAV device.\n",
    "*Note that the times from the TSG and NAV devices do not appear to be synchronized.*"
   ]
  },
  {
   "cell_type": "code",
   "execution_count": 34,
   "metadata": {
    "collapsed": false
   },
   "outputs": [
    {
     "data": {
      "text/plain": [
       "{'sensorData': [{'actualSamples': 1,\n",
       "   'data': [{'qaqcFlag': 1,\n",
       "     'sampleTime': '2016-07-11T17:19:52.257Z',\n",
       "     'value': 49.0047}],\n",
       "   'sensor': 'Latitude',\n",
       "   'sensorName': 'Latitude',\n",
       "   'unitOfMeasure': 'deg'},\n",
       "  {'actualSamples': 1,\n",
       "   'data': [{'qaqcFlag': 1,\n",
       "     'sampleTime': '2016-07-11T17:19:52.257Z',\n",
       "     'value': -123.1335}],\n",
       "   'sensor': 'Longitude',\n",
       "   'sensorName': 'Longitude',\n",
       "   'unitOfMeasure': 'deg'},\n",
       "  {'actualSamples': 1,\n",
       "   'data': [{'qaqcFlag': 1,\n",
       "     'sampleTime': '2016-07-11T17:19:52.257Z',\n",
       "     'value': 224.0}],\n",
       "   'sensor': 'ship_course',\n",
       "   'sensorName': 'Ship Course',\n",
       "   'unitOfMeasure': 'deg'},\n",
       "  {'actualSamples': 1,\n",
       "   'data': [{'qaqcFlag': 1,\n",
       "     'sampleTime': '2016-07-11T17:19:52.257Z',\n",
       "     'value': 4.115552}],\n",
       "   'sensor': 'speed_over_ground',\n",
       "   'sensorName': 'Speed over Ground',\n",
       "   'unitOfMeasure': 'm/s'}],\n",
       " 'serviceMetadata': {'dateFrom': None,\n",
       "  'dateTo': None,\n",
       "  'deviceCategory': 'NAV',\n",
       "  'nextDateFrom': None,\n",
       "  'outputFormat': None,\n",
       "  'rowLimit': None,\n",
       "  'sensors': None,\n",
       "  'station': 'TWDP',\n",
       "  'totalActualSamples': 4}}"
      ]
     },
     "execution_count": 34,
     "metadata": {},
     "output_type": "execute_result"
    }
   ],
   "source": [
    "get_onc_data('scalardata', 'getByStation', TOKEN, station='TWDP', deviceCategory='NAV')"
   ]
  },
  {
   "cell_type": "markdown",
   "metadata": {},
   "source": [
    "### Parsing `scalardata`\n",
    "\n",
    "The Python `dict` data structure that we get from the `scalarData` end-point\n",
    "has 2 top-level keys: `sensorData` and `serviceMetadata`."
   ]
  },
  {
   "cell_type": "code",
   "execution_count": 35,
   "metadata": {
    "collapsed": false
   },
   "outputs": [],
   "source": [
    "data = get_onc_data(\n",
    "    'scalardata', 'getByStation', TOKEN, station='SCVIP', deviceCategory='CTD',\n",
    "    sensors='salinity,temperature',\n",
    "    dateFrom=onc_datetime('2016-06-21 10:58:45'), dateTo=onc_datetime('2016-06-21 10:58:50'),\n",
    ")"
   ]
  },
  {
   "cell_type": "code",
   "execution_count": 36,
   "metadata": {
    "collapsed": false
   },
   "outputs": [
    {
     "data": {
      "text/plain": [
       "{'dateFrom': '2016-06-21T17:58:45.000Z',\n",
       " 'dateTo': '2016-06-21T17:58:50.000Z',\n",
       " 'deviceCategory': 'CTD',\n",
       " 'nextDateFrom': '2016-06-21T17:58:50.444Z',\n",
       " 'outputFormat': None,\n",
       " 'rowLimit': None,\n",
       " 'sensors': 'salinity,temperature',\n",
       " 'station': 'SCVIP',\n",
       " 'totalActualSamples': 10}"
      ]
     },
     "execution_count": 36,
     "metadata": {},
     "output_type": "execute_result"
    }
   ],
   "source": [
    "data['serviceMetadata']"
   ]
  },
  {
   "cell_type": "markdown",
   "metadata": {},
   "source": [
    "`serviceMetadata` is a `dict` of metadata attributes of the returned data\n",
    "as a whole."
   ]
  },
  {
   "cell_type": "code",
   "execution_count": 37,
   "metadata": {
    "collapsed": false
   },
   "outputs": [
    {
     "data": {
      "text/plain": [
       "[{'actualSamples': 5,\n",
       "  'data': [{'qaqcFlag': 1,\n",
       "    'sampleTime': '2016-06-21T17:58:45.400Z',\n",
       "    'value': 31.1297},\n",
       "   {'qaqcFlag': 1, 'sampleTime': '2016-06-21T17:58:46.440Z', 'value': 31.1294},\n",
       "   {'qaqcFlag': 1, 'sampleTime': '2016-06-21T17:58:47.400Z', 'value': 31.1285},\n",
       "   {'qaqcFlag': 1, 'sampleTime': '2016-06-21T17:58:48.444Z', 'value': 31.1285},\n",
       "   {'qaqcFlag': 1,\n",
       "    'sampleTime': '2016-06-21T17:58:49.400Z',\n",
       "    'value': 31.1282}],\n",
       "  'sensor': 'salinity',\n",
       "  'sensorName': 'Practical Salinity',\n",
       "  'unitOfMeasure': 'psu'},\n",
       " {'actualSamples': 5,\n",
       "  'data': [{'qaqcFlag': 1,\n",
       "    'sampleTime': '2016-06-21T17:58:45.400Z',\n",
       "    'value': 9.3081},\n",
       "   {'qaqcFlag': 1, 'sampleTime': '2016-06-21T17:58:46.440Z', 'value': 9.3083},\n",
       "   {'qaqcFlag': 1, 'sampleTime': '2016-06-21T17:58:47.400Z', 'value': 9.3087},\n",
       "   {'qaqcFlag': 1, 'sampleTime': '2016-06-21T17:58:48.444Z', 'value': 9.3088},\n",
       "   {'qaqcFlag': 1, 'sampleTime': '2016-06-21T17:58:49.400Z', 'value': 9.309}],\n",
       "  'sensor': 'temperature',\n",
       "  'sensorName': 'Temperature',\n",
       "  'unitOfMeasure': 'C'}]"
      ]
     },
     "execution_count": 37,
     "metadata": {},
     "output_type": "execute_result"
    }
   ],
   "source": [
    "data['sensorData']"
   ]
  },
  {
   "cell_type": "markdown",
   "metadata": {},
   "source": [
    "`sensorData` is a `list` of `dict`s containing the sensor data and metadata\n",
    "for each of the sensors requested in the query\n",
    "(or all of the sensors in the `deviceCategory` if an explicit list of sensors was\n",
    "not included in the query).\n",
    "\n",
    "The metadata keys in each `list` element are:\n",
    "\n",
    "* `sensor`: the sensor id (as listed in the query)\n",
    "* `actualSamples`: the count of the data samples for the sensor\n",
    "* `sensorName`: the sensor's descriptive name\n",
    "* `unitOfMeasure`: the sensor's unit of measure\n",
    "\n",
    "The sensor data is contained in a `list` of `dict`s that are the value\n",
    "associated with the `data` key:"
   ]
  },
  {
   "cell_type": "code",
   "execution_count": 38,
   "metadata": {
    "collapsed": false
   },
   "outputs": [
    {
     "data": {
      "text/plain": [
       "[{'qaqcFlag': 1, 'sampleTime': '2016-06-21T17:58:45.400Z', 'value': 31.1297},\n",
       " {'qaqcFlag': 1, 'sampleTime': '2016-06-21T17:58:46.440Z', 'value': 31.1294},\n",
       " {'qaqcFlag': 1, 'sampleTime': '2016-06-21T17:58:47.400Z', 'value': 31.1285},\n",
       " {'qaqcFlag': 1, 'sampleTime': '2016-06-21T17:58:48.444Z', 'value': 31.1285},\n",
       " {'qaqcFlag': 1, 'sampleTime': '2016-06-21T17:58:49.400Z', 'value': 31.1282}]"
      ]
     },
     "execution_count": 38,
     "metadata": {},
     "output_type": "execute_result"
    }
   ],
   "source": [
    "data['sensorData'][0]['data']"
   ]
  },
  {
   "cell_type": "markdown",
   "metadata": {},
   "source": [
    "We can parse those `dict`s into `list`s of data items with list comprehensions:"
   ]
  },
  {
   "cell_type": "code",
   "execution_count": 39,
   "metadata": {
    "collapsed": false
   },
   "outputs": [
    {
     "data": {
      "text/plain": [
       "[1, 1, 1, 1, 1]"
      ]
     },
     "execution_count": 39,
     "metadata": {},
     "output_type": "execute_result"
    }
   ],
   "source": [
    "qaqcFlag = [d['qaqcFlag'] for d in data['sensorData'][0]['data']]\n",
    "qaqcFlag"
   ]
  },
  {
   "cell_type": "markdown",
   "metadata": {},
   "source": [
    "The meaning of the `qaqcFlag` is\n",
    "[described in the ONC docs](http://www.oceannetworks.ca/data-tools/data-quality)."
   ]
  },
  {
   "cell_type": "code",
   "execution_count": 40,
   "metadata": {
    "collapsed": false
   },
   "outputs": [
    {
     "data": {
      "text/plain": [
       "[31.1297, 31.1294, 31.1285, 31.1285, 31.1282]"
      ]
     },
     "execution_count": 40,
     "metadata": {},
     "output_type": "execute_result"
    }
   ],
   "source": [
    "salinity = [d['value'] for d in data['sensorData'][0]['data']]\n",
    "salinity"
   ]
  },
  {
   "cell_type": "markdown",
   "metadata": {},
   "source": [
    "It's convenient to use [`arrow`](http://crsmithdev.com/arrow/)\n",
    "to convert the `sampleTime` strings to Python objects:"
   ]
  },
  {
   "cell_type": "code",
   "execution_count": 41,
   "metadata": {
    "collapsed": false
   },
   "outputs": [
    {
     "data": {
      "text/plain": [
       "[<Arrow [2016-06-21T17:58:45.400000+00:00]>,\n",
       " <Arrow [2016-06-21T17:58:46.440000+00:00]>,\n",
       " <Arrow [2016-06-21T17:58:47.400000+00:00]>,\n",
       " <Arrow [2016-06-21T17:58:48.444000+00:00]>,\n",
       " <Arrow [2016-06-21T17:58:49.400000+00:00]>]"
      ]
     },
     "execution_count": 41,
     "metadata": {},
     "output_type": "execute_result"
    }
   ],
   "source": [
    "timestamp = [arrow.get(d['sampleTime']) for d in data['sensorData'][0]['data']]\n",
    "timestamp"
   ]
  },
  {
   "cell_type": "markdown",
   "metadata": {},
   "source": [
    "and from there it is easy to get timezone-aware `datetime` objects if we need them:"
   ]
  },
  {
   "cell_type": "code",
   "execution_count": 42,
   "metadata": {
    "collapsed": false
   },
   "outputs": [
    {
     "data": {
      "text/plain": [
       "[datetime.datetime(2016, 6, 21, 17, 58, 45, 400000, tzinfo=tzutc()),\n",
       " datetime.datetime(2016, 6, 21, 17, 58, 46, 440000, tzinfo=tzutc()),\n",
       " datetime.datetime(2016, 6, 21, 17, 58, 47, 400000, tzinfo=tzutc()),\n",
       " datetime.datetime(2016, 6, 21, 17, 58, 48, 444000, tzinfo=tzutc()),\n",
       " datetime.datetime(2016, 6, 21, 17, 58, 49, 400000, tzinfo=tzutc())]"
      ]
     },
     "execution_count": 42,
     "metadata": {},
     "output_type": "execute_result"
    }
   ],
   "source": [
    "[t.datetime for t in timestamp]"
   ]
  },
  {
   "cell_type": "markdown",
   "metadata": {},
   "source": [
    "Rather than dealing with the layers of `dict`s and `list`s that\n",
    "we get back from the `scalardata` service it is worthwhile to\n",
    "create a function that constructs an \n",
    "[`xarray.Dataset` object](http://xarray.pydata.org/en/stable/data-structures.html#dataset)\n",
    "containing the data and metadata."
   ]
  },
  {
   "cell_type": "code",
   "execution_count": 68,
   "metadata": {
    "collapsed": false,
    "scrolled": true
   },
   "outputs": [],
   "source": [
    "def onc_json_to_dataset(onc_json):\n",
    "    data_vars = {}\n",
    "    for sensor in data['sensorData']:\n",
    "        data_vars[sensor['sensor']] = xr.DataArray(\n",
    "            name=sensor['sensor'],\n",
    "            data=[d['value'] for d in sensor['data']],\n",
    "            coords={\n",
    "                'sampleTime': [arrow.get(d['sampleTime']).datetime \n",
    "                               for d in sensor['data']],\n",
    "            },\n",
    "            attrs={\n",
    "                'qaqcFlag': np.array([d['qaqcFlag'] for d in sensor['data']]),\n",
    "                'sensorName': sensor['sensorName'],\n",
    "                'unitOfMeasure': sensor['unitOfMeasure'],\n",
    "                'actualSamples': sensor['actualSamples'],\n",
    "            }\n",
    "        )\n",
    "    return xr.Dataset(data_vars, attrs=onc_json['serviceMetadata'])"
   ]
  },
  {
   "cell_type": "markdown",
   "metadata": {},
   "source": [
    "The `onc_json_to_dataset()` function has been added to the\n",
    "[`salishssea_tools.data_tools` module](http://salishsea-meopar-tools.readthedocs.io/en/latest/SalishSeaTools/api.html#module-salishsea_tools.data_tools)."
   ]
  },
  {
   "cell_type": "code",
   "execution_count": 76,
   "metadata": {
    "collapsed": false
   },
   "outputs": [
    {
     "data": {
      "text/plain": [
       "<xarray.Dataset>\n",
       "Dimensions:      (sampleTime: 5)\n",
       "Coordinates:\n",
       "  * sampleTime   (sampleTime) datetime64[ns] 2016-06-21T17:58:45.400000 ...\n",
       "Data variables:\n",
       "    salinity     (sampleTime) float64 31.13 31.13 31.13 31.13 31.13\n",
       "    temperature  (sampleTime) float64 9.308 9.308 9.309 9.309 9.309\n",
       "Attributes:\n",
       "    deviceCategory: CTD\n",
       "    station: SCVIP\n",
       "    rowLimit: None\n",
       "    dateTo: 2016-06-21T17:58:50.000Z\n",
       "    outputFormat: None\n",
       "    dateFrom: 2016-06-21T17:58:45.000Z\n",
       "    nextDateFrom: 2016-06-21T17:58:50.444Z\n",
       "    sensors: salinity,temperature\n",
       "    totalActualSamples: 10"
      ]
     },
     "execution_count": 76,
     "metadata": {},
     "output_type": "execute_result"
    }
   ],
   "source": [
    "onc_json_to_dataset(data)"
   ]
  },
  {
   "cell_type": "markdown",
   "metadata": {},
   "source": [
    "It is noteworthy that,\n",
    "even though the `xarray.Dataset` contructor\n",
    "collapses the `sampleTime` coordinates of the 2 sensors on to a\n",
    "single dataset coordinate,\n",
    "the individual `sampleTime` arrays are preserved at the variable level:"
   ]
  },
  {
   "cell_type": "code",
   "execution_count": 73,
   "metadata": {
    "collapsed": false
   },
   "outputs": [
    {
     "data": {
      "text/plain": [
       "False"
      ]
     },
     "execution_count": 73,
     "metadata": {},
     "output_type": "execute_result"
    }
   ],
   "source": [
    "ds = onc_json_to_dataset(data)\n",
    "ds.salinity.sampleTime is ds.temperature.sampleTime"
   ]
  },
  {
   "cell_type": "code",
   "execution_count": null,
   "metadata": {
    "collapsed": true
   },
   "outputs": [],
   "source": []
  }
 ],
 "metadata": {
  "kernelspec": {
   "display_name": "Python 3",
   "language": "python",
   "name": "python3"
  },
  "language_info": {
   "codemirror_mode": {
    "name": "ipython",
    "version": 3
   },
   "file_extension": ".py",
   "mimetype": "text/x-python",
   "name": "python",
   "nbconvert_exporter": "python",
   "pygments_lexer": "ipython3",
   "version": "3.5.2"
  }
 },
 "nbformat": 4,
 "nbformat_minor": 0
}

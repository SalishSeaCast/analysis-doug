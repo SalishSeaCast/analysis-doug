{
 "cells": [
  {
   "cell_type": "markdown",
   "metadata": {},
   "source": [
    "# Exploring ONC Data Web Services\n",
    "\n",
    "Exploring the ONC data web services documented at https://wiki.oceannetworks.ca/display/help/API"
   ]
  },
  {
   "cell_type": "code",
   "execution_count": 1,
   "metadata": {
    "collapsed": false
   },
   "outputs": [],
   "source": [
    "import json\n",
    "import os\n",
    "from urllib.parse import quote, urlencode\n",
    "\n",
    "import arrow\n",
    "import requests"
   ]
  },
  {
   "cell_type": "markdown",
   "metadata": {},
   "source": [
    "The web service URLS are composed of:\n",
    "\n",
    "* the base URL: `http://dmas.uvic.ca/api/\n",
    "* an end-point: presently one of `archivefiles`, `dataproducts`, `rawdata`, `scalardata`, `stations`, or `status`\n",
    "* a query string that includes `method=methodName`, `token=USER_TOKEN`, and other end-point-specific key/value pairs\n",
    "\n",
    "For example:\n",
    "\n",
    "  `http://dmas.uvic.ca/api/scalardata?method=getByStation&token=<yourValidToken>&station=SCHDW.O1&deviceCategory=OXYSENSOR`\n",
    "\n",
    "Access to the web services requires a user token which you can generate on the \n",
    "`Web Services API` tab of your [ONC account profile page](http://dmas.uvic.ca/Profile).\n",
    "I have stored mine in an environment variable so as not to publish it to the world\n",
    "in this notebook."
   ]
  },
  {
   "cell_type": "code",
   "execution_count": 2,
   "metadata": {
    "collapsed": false
   },
   "outputs": [],
   "source": [
    "TOKEN = os.environ['ONC_USER_TOKEN']"
   ]
  },
  {
   "cell_type": "markdown",
   "metadata": {},
   "source": [
    "Here's a string template for a request URL, and a technique for composing the query string:"
   ]
  },
  {
   "cell_type": "code",
   "execution_count": 3,
   "metadata": {
    "collapsed": true
   },
   "outputs": [],
   "source": [
    "url_tmpl = 'http://dmas.uvic.ca/api/{endpoint}?{query}'"
   ]
  },
  {
   "cell_type": "code",
   "execution_count": 4,
   "metadata": {
    "collapsed": false
   },
   "outputs": [
    {
     "data": {
      "text/plain": [
       "'http://dmas.uvic.ca/api/scalardata?deviceCategory=OXYSENSOR&method=getByStation&token=USER_TOKEN&station=SCHDW.O1'"
      ]
     },
     "execution_count": 4,
     "metadata": {},
     "output_type": "execute_result"
    }
   ],
   "source": [
    "url_tmpl.format(\n",
    "    endpoint='scalardata',\n",
    "    query=urlencode({\n",
    "        'method': 'getByStation',\n",
    "        'token': 'USER_TOKEN',\n",
    "        'station': 'SCHDW.O1',\n",
    "        'deviceCategory': 'OXYSENSOR',\n",
    "    }, quote_via=quote, safe='/:'))"
   ]
  },
  {
   "cell_type": "markdown",
   "metadata": {},
   "source": [
    "Substituting my real token,\n",
    "and using the `requests` package to send the data request to the web service:"
   ]
  },
  {
   "cell_type": "code",
   "execution_count": 5,
   "metadata": {
    "collapsed": true
   },
   "outputs": [],
   "source": [
    "data_url = url_tmpl.format(\n",
    "    endpoint='scalardata',\n",
    "    query=urlencode({\n",
    "        'method': 'getByStation',\n",
    "        'token': TOKEN,\n",
    "        'station': 'SCHDW.O1',\n",
    "        'deviceCategory': 'OXYSENSOR',\n",
    "    }, quote_via=quote, safe='/:'))\n",
    "\n",
    "response = requests.get(data_url)\n",
    "response.raise_for_status()"
   ]
  },
  {
   "cell_type": "markdown",
   "metadata": {},
   "source": [
    "Calling the `raise_for_status()` method on the response object is a quick\n",
    "way to test for HTTP errors.\n",
    "\n",
    "The default response type from the web services is JSON\n",
    "and `requests` provides a convenience method to convert JSON\n",
    "in the response to a Python `dict` object:"
   ]
  },
  {
   "cell_type": "code",
   "execution_count": 6,
   "metadata": {
    "collapsed": false
   },
   "outputs": [
    {
     "data": {
      "text/plain": [
       "{'sensorData': [{'actualSamples': 1,\n",
       "   'data': [{'qaqcFlag': 1,\n",
       "     'sampleTime': '2016-05-02T20:13:10.064Z',\n",
       "     'value': 2.093462278}],\n",
       "   'sensor': 'oxygen',\n",
       "   'sensorName': 'Oxygen',\n",
       "   'unitOfMeasure': 'ml/l'},\n",
       "  {'actualSamples': 1,\n",
       "   'data': [{'qaqcFlag': 1,\n",
       "     'sampleTime': '2016-05-02T20:13:10.064Z',\n",
       "     'value': 9.9706}],\n",
       "   'sensor': 'temperature',\n",
       "   'sensorName': 'Temperature',\n",
       "   'unitOfMeasure': 'C'}],\n",
       " 'serviceMetadata': {'dateFrom': None,\n",
       "  'dateTo': None,\n",
       "  'deviceCategory': 'OXYSENSOR',\n",
       "  'nextDateFrom': None,\n",
       "  'outputFormat': None,\n",
       "  'rowLimit': None,\n",
       "  'sensors': None,\n",
       "  'station': 'SCHDW.O1',\n",
       "  'totalActualSamples': 2}}"
      ]
     },
     "execution_count": 6,
     "metadata": {},
     "output_type": "execute_result"
    }
   ],
   "source": [
    "response.json()"
   ]
  },
  {
   "cell_type": "markdown",
   "metadata": {},
   "source": [
    "So, let's put that all together into a function to query the ONC data web services:"
   ]
  },
  {
   "cell_type": "code",
   "execution_count": 7,
   "metadata": {
    "collapsed": true
   },
   "outputs": [],
   "source": [
    "def get_onc_data(endpoint, method, token, **query_params):\n",
    "    url_tmpl = 'http://dmas.uvic.ca/api/{endpoint}?{query}'\n",
    "    query = {'method': method, 'token': token}\n",
    "    query.update(query_params)\n",
    "    print(query)\n",
    "    data_url = url_tmpl.format(\n",
    "        endpoint=endpoint,\n",
    "        query=urlencode(query, quote_via=quote, safe='/:'))\n",
    "    print(data_url)\n",
    "    response = requests.get(data_url)\n",
    "    response.raise_for_status()\n",
    "    return response.json()"
   ]
  },
  {
   "cell_type": "code",
   "execution_count": 8,
   "metadata": {
    "collapsed": false
   },
   "outputs": [
    {
     "name": "stdout",
     "output_type": "stream",
     "text": [
      "{'deviceCategory': 'OXYSENSOR', 'method': 'getByStation', 'token': '8efe44eb-0fb5-4413-bba3-ae3dbe0fbb1d', 'station': 'SCHDW.O1'}\n",
      "http://dmas.uvic.ca/api/scalardata?deviceCategory=OXYSENSOR&method=getByStation&token=8efe44eb-0fb5-4413-bba3-ae3dbe0fbb1d&station=SCHDW.O1\n"
     ]
    },
    {
     "data": {
      "text/plain": [
       "{'sensorData': [{'actualSamples': 1,\n",
       "   'data': [{'qaqcFlag': 1,\n",
       "     'sampleTime': '2016-05-02T20:13:10.064Z',\n",
       "     'value': 2.093462278}],\n",
       "   'sensor': 'oxygen',\n",
       "   'sensorName': 'Oxygen',\n",
       "   'unitOfMeasure': 'ml/l'},\n",
       "  {'actualSamples': 1,\n",
       "   'data': [{'qaqcFlag': 1,\n",
       "     'sampleTime': '2016-05-02T20:13:10.064Z',\n",
       "     'value': 9.9706}],\n",
       "   'sensor': 'temperature',\n",
       "   'sensorName': 'Temperature',\n",
       "   'unitOfMeasure': 'C'}],\n",
       " 'serviceMetadata': {'dateFrom': None,\n",
       "  'dateTo': None,\n",
       "  'deviceCategory': 'OXYSENSOR',\n",
       "  'nextDateFrom': None,\n",
       "  'outputFormat': None,\n",
       "  'rowLimit': None,\n",
       "  'sensors': None,\n",
       "  'station': 'SCHDW.O1',\n",
       "  'totalActualSamples': 2}}"
      ]
     },
     "execution_count": 8,
     "metadata": {},
     "output_type": "execute_result"
    }
   ],
   "source": [
    "get_onc_data('scalardata', 'getByStation', TOKEN, station='SCHDW.O1', deviceCategory='OXYSENSOR')"
   ]
  },
  {
   "cell_type": "markdown",
   "metadata": {},
   "source": [
    "## `stations` End-point\n",
    "\n",
    "The [`stations` end-point](https://wiki.oceannetworks.ca/display/help/stations)\n",
    "has a `getTree` method that returns a large, hierarchical tree data structure of\n",
    "stations, station codes, and devices.\n",
    "```python\n",
    "get_onc_data('stations', 'getTree', TOKEN)\n",
    "```\n",
    "Rather than reading or parsing the data structure here,\n",
    "it is perhaps easier to find station codes and device categories to use with the\n",
    "other end-points by looking at the list generated by the\n",
    "[Javascript Usage Exmaple](https://wiki.oceannetworks.ca/download/attachments/42172426/stationTreeExample.html?version=2&modificationDate=1428438144000&api=v2)\n",
    "provided by ONC."
   ]
  },
  {
   "cell_type": "markdown",
   "metadata": {},
   "source": [
    "## `scalardata` End-point\n",
    "\n",
    "The [`scalardata` end-point](https://wiki.oceannetworks.ca/display/help/scalardata+service)\n",
    "has a `getByStation` method that returns time series of data given a station code\n",
    "and an device category code.\n",
    "Its simplest use case is to return the most recent data for all sensors associated with\n",
    "the device category at the station."
   ]
  },
  {
   "cell_type": "markdown",
   "metadata": {},
   "source": [
    "### VENUS Node CTD Data\n",
    "\n",
    "Here that is for the CTD at the Salish Sea Central node VENUS Instrument Platform:"
   ]
  },
  {
   "cell_type": "code",
   "execution_count": 9,
   "metadata": {
    "collapsed": false
   },
   "outputs": [
    {
     "name": "stdout",
     "output_type": "stream",
     "text": [
      "{'deviceCategory': 'CTD', 'method': 'getByStation', 'token': '8efe44eb-0fb5-4413-bba3-ae3dbe0fbb1d', 'station': 'SCVIP'}\n",
      "http://dmas.uvic.ca/api/scalardata?deviceCategory=CTD&method=getByStation&token=8efe44eb-0fb5-4413-bba3-ae3dbe0fbb1d&station=SCVIP\n"
     ]
    },
    {
     "data": {
      "text/plain": [
       "{'sensorData': [{'actualSamples': 1,\n",
       "   'data': [{'qaqcFlag': 1,\n",
       "     'sampleTime': '2016-06-21T19:00:36.360Z',\n",
       "     'value': 24.072243605}],\n",
       "   'sensor': 'SIGMA_THETA',\n",
       "   'sensorName': 'Sigma-theta (0 dbar)',\n",
       "   'unitOfMeasure': 'kg/m3'},\n",
       "  {'actualSamples': 1,\n",
       "   'data': [{'qaqcFlag': 1,\n",
       "     'sampleTime': '2016-06-21T19:00:36.360Z',\n",
       "     'value': 3.38293}],\n",
       "   'sensor': 'cond',\n",
       "   'sensorName': 'Conductivity',\n",
       "   'unitOfMeasure': 'S/m'},\n",
       "  {'actualSamples': 1,\n",
       "   'data': [{'qaqcFlag': 1,\n",
       "     'sampleTime': '2016-06-21T19:00:36.360Z',\n",
       "     'value': 1025.419945716}],\n",
       "   'sensor': 'density',\n",
       "   'sensorName': 'Density',\n",
       "   'unitOfMeasure': 'kg/m3'},\n",
       "  {'actualSamples': 1,\n",
       "   'data': [{'qaqcFlag': 1,\n",
       "     'sampleTime': '2016-06-21T19:00:36.360Z',\n",
       "     'value': 297.189}],\n",
       "   'sensor': 'pressure',\n",
       "   'sensorName': 'Pressure',\n",
       "   'unitOfMeasure': 'decibar'},\n",
       "  {'actualSamples': 1,\n",
       "   'data': [{'qaqcFlag': 1,\n",
       "     'sampleTime': '2016-06-21T19:00:36.360Z',\n",
       "     'value': 31.1595}],\n",
       "   'sensor': 'salinity',\n",
       "   'sensorName': 'Practical Salinity',\n",
       "   'unitOfMeasure': 'psu'},\n",
       "  {'actualSamples': 1,\n",
       "   'data': [{'qaqcFlag': 1,\n",
       "     'sampleTime': '2016-06-21T19:00:36.360Z',\n",
       "     'value': 24.067363935}],\n",
       "   'sensor': 'sigmaT',\n",
       "   'sensorName': 'Sigma-t',\n",
       "   'unitOfMeasure': 'kg/m3'},\n",
       "  {'actualSamples': 1,\n",
       "   'data': [{'qaqcFlag': 1,\n",
       "     'sampleTime': '2016-06-21T19:00:36.360Z',\n",
       "     'value': 1487.452}],\n",
       "   'sensor': 'sound_speed',\n",
       "   'sensorName': 'Sound Speed',\n",
       "   'unitOfMeasure': 'm/s'},\n",
       "  {'actualSamples': 1,\n",
       "   'data': [{'qaqcFlag': 1,\n",
       "     'sampleTime': '2016-06-21T19:00:36.360Z',\n",
       "     'value': 9.2924}],\n",
       "   'sensor': 'temperature',\n",
       "   'sensorName': 'Temperature',\n",
       "   'unitOfMeasure': 'C'}],\n",
       " 'serviceMetadata': {'dateFrom': None,\n",
       "  'dateTo': None,\n",
       "  'deviceCategory': 'CTD',\n",
       "  'nextDateFrom': None,\n",
       "  'outputFormat': None,\n",
       "  'rowLimit': None,\n",
       "  'sensors': None,\n",
       "  'station': 'SCVIP',\n",
       "  'totalActualSamples': 8}}"
      ]
     },
     "execution_count": 9,
     "metadata": {},
     "output_type": "execute_result"
    }
   ],
   "source": [
    "get_onc_data('scalardata', 'getByStation', TOKEN, station='SCVIP', deviceCategory='CTD')"
   ]
  },
  {
   "cell_type": "markdown",
   "metadata": {},
   "source": [
    "Adding a `sensors` item to the query with a value that is a comma-separated list\n",
    "of `sensor` codes limits the response to contain only the data from the specified sensors:"
   ]
  },
  {
   "cell_type": "code",
   "execution_count": 10,
   "metadata": {
    "collapsed": false
   },
   "outputs": [
    {
     "name": "stdout",
     "output_type": "stream",
     "text": [
      "{'deviceCategory': 'CTD', 'sensors': 'salinity,temperature', 'method': 'getByStation', 'token': '8efe44eb-0fb5-4413-bba3-ae3dbe0fbb1d', 'station': 'SCVIP'}\n",
      "http://dmas.uvic.ca/api/scalardata?deviceCategory=CTD&sensors=salinity%2Ctemperature&method=getByStation&token=8efe44eb-0fb5-4413-bba3-ae3dbe0fbb1d&station=SCVIP\n"
     ]
    },
    {
     "data": {
      "text/plain": [
       "{'sensorData': [{'actualSamples': 1,\n",
       "   'data': [{'qaqcFlag': 1,\n",
       "     'sampleTime': '2016-06-21T19:00:37.349Z',\n",
       "     'value': 31.1602}],\n",
       "   'sensor': 'salinity',\n",
       "   'sensorName': 'Practical Salinity',\n",
       "   'unitOfMeasure': 'psu'},\n",
       "  {'actualSamples': 1,\n",
       "   'data': [{'qaqcFlag': 1,\n",
       "     'sampleTime': '2016-06-21T19:00:37.349Z',\n",
       "     'value': 9.2931}],\n",
       "   'sensor': 'temperature',\n",
       "   'sensorName': 'Temperature',\n",
       "   'unitOfMeasure': 'C'}],\n",
       " 'serviceMetadata': {'dateFrom': None,\n",
       "  'dateTo': None,\n",
       "  'deviceCategory': 'CTD',\n",
       "  'nextDateFrom': None,\n",
       "  'outputFormat': None,\n",
       "  'rowLimit': None,\n",
       "  'sensors': 'salinity,temperature',\n",
       "  'station': 'SCVIP',\n",
       "  'totalActualSamples': 2}}"
      ]
     },
     "execution_count": 10,
     "metadata": {},
     "output_type": "execute_result"
    }
   ],
   "source": [
    "get_onc_data('scalardata', 'getByStation', TOKEN, station='SCVIP', deviceCategory='CTD', sensors='salinity,temperature')"
   ]
  },
  {
   "cell_type": "markdown",
   "metadata": {},
   "source": [
    "Time series of data are obtained by adding `dateFrom` and `dateTo` items to the query:"
   ]
  },
  {
   "cell_type": "code",
   "execution_count": 37,
   "metadata": {
    "collapsed": false
   },
   "outputs": [
    {
     "name": "stdout",
     "output_type": "stream",
     "text": [
      "{'deviceCategory': 'CTD', 'method': 'getByStation', 'token': '8efe44eb-0fb5-4413-bba3-ae3dbe0fbb1d', 'sensors': 'salinity,temperature', 'dateFrom': '2016-06-21T19:03:45.000Z', 'station': 'SCVIP'}\n",
      "http://dmas.uvic.ca/api/scalardata?deviceCategory=CTD&method=getByStation&token=8efe44eb-0fb5-4413-bba3-ae3dbe0fbb1d&sensors=salinity%2Ctemperature&dateFrom=2016-06-21T19:03:45.000Z&station=SCVIP\n"
     ]
    },
    {
     "data": {
      "text/plain": [
       "{'sensorData': [{'actualSamples': 5,\n",
       "   'data': [{'qaqcFlag': 1,\n",
       "     'sampleTime': '2016-06-21T19:03:45.347Z',\n",
       "     'value': 31.1534},\n",
       "    {'qaqcFlag': 1, 'sampleTime': '2016-06-21T19:03:46.359Z', 'value': 31.154},\n",
       "    {'qaqcFlag': 1,\n",
       "     'sampleTime': '2016-06-21T19:03:47.348Z',\n",
       "     'value': 31.1545},\n",
       "    {'qaqcFlag': 1, 'sampleTime': '2016-06-21T19:03:48.356Z', 'value': 31.155},\n",
       "    {'qaqcFlag': 1,\n",
       "     'sampleTime': '2016-06-21T19:03:49.347Z',\n",
       "     'value': 31.1554}],\n",
       "   'sensor': 'salinity',\n",
       "   'sensorName': 'Practical Salinity',\n",
       "   'unitOfMeasure': 'psu'},\n",
       "  {'actualSamples': 5,\n",
       "   'data': [{'qaqcFlag': 1,\n",
       "     'sampleTime': '2016-06-21T19:03:45.347Z',\n",
       "     'value': 9.2982},\n",
       "    {'qaqcFlag': 1, 'sampleTime': '2016-06-21T19:03:46.359Z', 'value': 9.2976},\n",
       "    {'qaqcFlag': 1, 'sampleTime': '2016-06-21T19:03:47.348Z', 'value': 9.2973},\n",
       "    {'qaqcFlag': 1, 'sampleTime': '2016-06-21T19:03:48.356Z', 'value': 9.297},\n",
       "    {'qaqcFlag': 1,\n",
       "     'sampleTime': '2016-06-21T19:03:49.347Z',\n",
       "     'value': 9.2967}],\n",
       "   'sensor': 'temperature',\n",
       "   'sensorName': 'Temperature',\n",
       "   'unitOfMeasure': 'C'}],\n",
       " 'serviceMetadata': {'dateFrom': '2016-06-21T19:03:45.000Z',\n",
       "  'dateTo': None,\n",
       "  'deviceCategory': 'CTD',\n",
       "  'nextDateFrom': None,\n",
       "  'outputFormat': None,\n",
       "  'rowLimit': None,\n",
       "  'sensors': 'salinity,temperature',\n",
       "  'station': 'SCVIP',\n",
       "  'totalActualSamples': 10}}"
      ]
     },
     "execution_count": 37,
     "metadata": {},
     "output_type": "execute_result"
    }
   ],
   "source": [
    "get_onc_data(\n",
    "    'scalardata', 'getByStation', TOKEN, station='SCVIP', deviceCategory='CTD',\n",
    "    sensors='salinity,temperature',\n",
    "    dateFrom='2016-06-21T19:03:45.000Z',\n",
    ")"
   ]
  },
  {
   "cell_type": "markdown",
   "metadata": {},
   "source": [
    "With only a `dateFrom` item in the query the time series length defaults to 1 day in length.\n",
    "The `dateTo` query item controls the length of the time series by date/time stamp."
   ]
  },
  {
   "cell_type": "code",
   "execution_count": 12,
   "metadata": {
    "collapsed": false
   },
   "outputs": [
    {
     "name": "stdout",
     "output_type": "stream",
     "text": [
      "{'deviceCategory': 'CTD', 'dateTo': '2016-06-21T17:58:50.000Z', 'method': 'getByStation', 'token': '8efe44eb-0fb5-4413-bba3-ae3dbe0fbb1d', 'sensors': 'salinity,temperature', 'dateFrom': '2016-06-21T17:58:45.000Z', 'station': 'SCVIP'}\n",
      "http://dmas.uvic.ca/api/scalardata?deviceCategory=CTD&dateTo=2016-06-21T17:58:50.000Z&method=getByStation&token=8efe44eb-0fb5-4413-bba3-ae3dbe0fbb1d&sensors=salinity%2Ctemperature&dateFrom=2016-06-21T17:58:45.000Z&station=SCVIP\n"
     ]
    },
    {
     "data": {
      "text/plain": [
       "{'sensorData': [{'actualSamples': 5,\n",
       "   'data': [{'qaqcFlag': 1,\n",
       "     'sampleTime': '2016-06-21T17:58:45.400Z',\n",
       "     'value': 31.1297},\n",
       "    {'qaqcFlag': 1,\n",
       "     'sampleTime': '2016-06-21T17:58:46.440Z',\n",
       "     'value': 31.1294},\n",
       "    {'qaqcFlag': 1,\n",
       "     'sampleTime': '2016-06-21T17:58:47.400Z',\n",
       "     'value': 31.1285},\n",
       "    {'qaqcFlag': 1,\n",
       "     'sampleTime': '2016-06-21T17:58:48.444Z',\n",
       "     'value': 31.1285},\n",
       "    {'qaqcFlag': 1,\n",
       "     'sampleTime': '2016-06-21T17:58:49.400Z',\n",
       "     'value': 31.1282}],\n",
       "   'sensor': 'salinity',\n",
       "   'sensorName': 'Practical Salinity',\n",
       "   'unitOfMeasure': 'psu'},\n",
       "  {'actualSamples': 5,\n",
       "   'data': [{'qaqcFlag': 1,\n",
       "     'sampleTime': '2016-06-21T17:58:45.400Z',\n",
       "     'value': 9.3081},\n",
       "    {'qaqcFlag': 1, 'sampleTime': '2016-06-21T17:58:46.440Z', 'value': 9.3083},\n",
       "    {'qaqcFlag': 1, 'sampleTime': '2016-06-21T17:58:47.400Z', 'value': 9.3087},\n",
       "    {'qaqcFlag': 1, 'sampleTime': '2016-06-21T17:58:48.444Z', 'value': 9.3088},\n",
       "    {'qaqcFlag': 1, 'sampleTime': '2016-06-21T17:58:49.400Z', 'value': 9.309}],\n",
       "   'sensor': 'temperature',\n",
       "   'sensorName': 'Temperature',\n",
       "   'unitOfMeasure': 'C'}],\n",
       " 'serviceMetadata': {'dateFrom': '2016-06-21T17:58:45.000Z',\n",
       "  'dateTo': '2016-06-21T17:58:50.000Z',\n",
       "  'deviceCategory': 'CTD',\n",
       "  'nextDateFrom': '2016-06-21T17:58:50.444Z',\n",
       "  'outputFormat': None,\n",
       "  'rowLimit': None,\n",
       "  'sensors': 'salinity,temperature',\n",
       "  'station': 'SCVIP',\n",
       "  'totalActualSamples': 10}}"
      ]
     },
     "execution_count": 12,
     "metadata": {},
     "output_type": "execute_result"
    }
   ],
   "source": [
    "get_onc_data(\n",
    "    'scalardata', 'getByStation', TOKEN, station='SCVIP', deviceCategory='CTD',\n",
    "    sensors='salinity,temperature',\n",
    "    dateFrom='2016-06-21T17:58:45.000Z', dateTo='2016-06-21T17:58:50.000Z',\n",
    ")"
   ]
  },
  {
   "cell_type": "markdown",
   "metadata": {},
   "source": [
    "The number of measurements returned can be specified directly with the `rowLimit` query item.\n",
    "*Note also that there is a hard limit of 100,000 measurements per sensor per request.*"
   ]
  },
  {
   "cell_type": "code",
   "execution_count": 13,
   "metadata": {
    "collapsed": false
   },
   "outputs": [
    {
     "name": "stdout",
     "output_type": "stream",
     "text": [
      "{'deviceCategory': 'CTD', 'method': 'getByStation', 'token': '8efe44eb-0fb5-4413-bba3-ae3dbe0fbb1d', 'sensors': 'salinity,temperature', 'rowLimit': 2, 'dateFrom': '2016-06-21T17:58:45.000Z', 'station': 'SCVIP'}\n",
      "http://dmas.uvic.ca/api/scalardata?deviceCategory=CTD&method=getByStation&token=8efe44eb-0fb5-4413-bba3-ae3dbe0fbb1d&sensors=salinity%2Ctemperature&rowLimit=2&dateFrom=2016-06-21T17:58:45.000Z&station=SCVIP\n"
     ]
    },
    {
     "data": {
      "text/plain": [
       "{'sensorData': [{'actualSamples': 2,\n",
       "   'data': [{'qaqcFlag': 1,\n",
       "     'sampleTime': '2016-06-21T17:58:45.400Z',\n",
       "     'value': 31.1297},\n",
       "    {'qaqcFlag': 1,\n",
       "     'sampleTime': '2016-06-21T17:58:46.440Z',\n",
       "     'value': 31.1294}],\n",
       "   'sensor': 'salinity',\n",
       "   'sensorName': 'Practical Salinity',\n",
       "   'unitOfMeasure': 'psu'},\n",
       "  {'actualSamples': 2,\n",
       "   'data': [{'qaqcFlag': 1,\n",
       "     'sampleTime': '2016-06-21T17:58:45.400Z',\n",
       "     'value': 9.3081},\n",
       "    {'qaqcFlag': 1,\n",
       "     'sampleTime': '2016-06-21T17:58:46.440Z',\n",
       "     'value': 9.3083}],\n",
       "   'sensor': 'temperature',\n",
       "   'sensorName': 'Temperature',\n",
       "   'unitOfMeasure': 'C'}],\n",
       " 'serviceMetadata': {'dateFrom': '2016-06-21T17:58:45.000Z',\n",
       "  'dateTo': None,\n",
       "  'deviceCategory': 'CTD',\n",
       "  'nextDateFrom': '2016-06-21T17:58:47.400Z',\n",
       "  'outputFormat': None,\n",
       "  'rowLimit': 2,\n",
       "  'sensors': 'salinity,temperature',\n",
       "  'station': 'SCVIP',\n",
       "  'totalActualSamples': 4}}"
      ]
     },
     "execution_count": 13,
     "metadata": {},
     "output_type": "execute_result"
    }
   ],
   "source": [
    "get_onc_data(\n",
    "    'scalardata', 'getByStation', TOKEN, station='SCVIP', deviceCategory='CTD',\n",
    "    sensors='salinity,temperature',\n",
    "    dateFrom='2016-06-21T17:58:45.000Z', rowLimit=2,\n",
    ")"
   ]
  },
  {
   "cell_type": "markdown",
   "metadata": {},
   "source": [
    "The values for `dateFrom` and `dateTo` are in UTC and must be strings formatted\n",
    "as `yyyy-MM-ddTHH:mm:ss.SSSZ`.\n",
    "That format is annoying enough to type,\n",
    "and timezone conversions are error-prone enough\n",
    "that it is worth writing a function to handle the details:"
   ]
  },
  {
   "cell_type": "code",
   "execution_count": 14,
   "metadata": {
    "collapsed": true
   },
   "outputs": [],
   "source": [
    "def onc_datetime(datetime_str, timezone='Canada/Pacific'):\n",
    "    print(datetime_str)\n",
    "    d = arrow.get(datetime_str)\n",
    "    print(d)\n",
    "    d_tz = arrow.get(d.datetime, timezone)\n",
    "    print(d_tz)\n",
    "    d_utc = d_tz.to('utc')\n",
    "    print(d_utc)\n",
    "    return '{}Z'.format(d_utc.format('YYYY-MM-DDTHH:mm:ss.SSS'))"
   ]
  },
  {
   "cell_type": "code",
   "execution_count": 15,
   "metadata": {
    "collapsed": false
   },
   "outputs": [
    {
     "name": "stdout",
     "output_type": "stream",
     "text": [
      "2016-06-21 10:58:45\n",
      "2016-06-21T10:58:45+00:00\n",
      "2016-06-21T10:58:45-07:00\n",
      "2016-06-21T17:58:45+00:00\n"
     ]
    },
    {
     "data": {
      "text/plain": [
       "'2016-06-21T17:58:45.000Z'"
      ]
     },
     "execution_count": 15,
     "metadata": {},
     "output_type": "execute_result"
    }
   ],
   "source": [
    "onc_datetime('2016-06-21 10:58:45')"
   ]
  },
  {
   "cell_type": "code",
   "execution_count": 16,
   "metadata": {
    "collapsed": false
   },
   "outputs": [
    {
     "name": "stdout",
     "output_type": "stream",
     "text": [
      "2016-06-21 17:58:45\n",
      "2016-06-21T17:58:45+00:00\n",
      "2016-06-21T17:58:45+00:00\n",
      "2016-06-21T17:58:45+00:00\n"
     ]
    },
    {
     "data": {
      "text/plain": [
       "'2016-06-21T17:58:45.000Z'"
      ]
     },
     "execution_count": 16,
     "metadata": {},
     "output_type": "execute_result"
    }
   ],
   "source": [
    "onc_datetime('2016-06-21 17:58:45', 'utc')"
   ]
  },
  {
   "cell_type": "code",
   "execution_count": 17,
   "metadata": {
    "collapsed": false
   },
   "outputs": [
    {
     "name": "stdout",
     "output_type": "stream",
     "text": [
      "2016-06-21 10:58:45\n",
      "2016-06-21T10:58:45+00:00\n",
      "2016-06-21T10:58:45-07:00\n",
      "2016-06-21T17:58:45+00:00\n",
      "2016-06-21 10:58:50\n",
      "2016-06-21T10:58:50+00:00\n",
      "2016-06-21T10:58:50-07:00\n",
      "2016-06-21T17:58:50+00:00\n",
      "{'deviceCategory': 'CTD', 'dateTo': '2016-06-21T17:58:50.000Z', 'method': 'getByStation', 'token': '8efe44eb-0fb5-4413-bba3-ae3dbe0fbb1d', 'sensors': 'salinity,temperature', 'dateFrom': '2016-06-21T17:58:45.000Z', 'station': 'SCVIP'}\n",
      "http://dmas.uvic.ca/api/scalardata?deviceCategory=CTD&dateTo=2016-06-21T17:58:50.000Z&method=getByStation&token=8efe44eb-0fb5-4413-bba3-ae3dbe0fbb1d&sensors=salinity%2Ctemperature&dateFrom=2016-06-21T17:58:45.000Z&station=SCVIP\n"
     ]
    },
    {
     "data": {
      "text/plain": [
       "{'sensorData': [{'actualSamples': 5,\n",
       "   'data': [{'qaqcFlag': 1,\n",
       "     'sampleTime': '2016-06-21T17:58:45.400Z',\n",
       "     'value': 31.1297},\n",
       "    {'qaqcFlag': 1,\n",
       "     'sampleTime': '2016-06-21T17:58:46.440Z',\n",
       "     'value': 31.1294},\n",
       "    {'qaqcFlag': 1,\n",
       "     'sampleTime': '2016-06-21T17:58:47.400Z',\n",
       "     'value': 31.1285},\n",
       "    {'qaqcFlag': 1,\n",
       "     'sampleTime': '2016-06-21T17:58:48.444Z',\n",
       "     'value': 31.1285},\n",
       "    {'qaqcFlag': 1,\n",
       "     'sampleTime': '2016-06-21T17:58:49.400Z',\n",
       "     'value': 31.1282}],\n",
       "   'sensor': 'salinity',\n",
       "   'sensorName': 'Practical Salinity',\n",
       "   'unitOfMeasure': 'psu'},\n",
       "  {'actualSamples': 5,\n",
       "   'data': [{'qaqcFlag': 1,\n",
       "     'sampleTime': '2016-06-21T17:58:45.400Z',\n",
       "     'value': 9.3081},\n",
       "    {'qaqcFlag': 1, 'sampleTime': '2016-06-21T17:58:46.440Z', 'value': 9.3083},\n",
       "    {'qaqcFlag': 1, 'sampleTime': '2016-06-21T17:58:47.400Z', 'value': 9.3087},\n",
       "    {'qaqcFlag': 1, 'sampleTime': '2016-06-21T17:58:48.444Z', 'value': 9.3088},\n",
       "    {'qaqcFlag': 1, 'sampleTime': '2016-06-21T17:58:49.400Z', 'value': 9.309}],\n",
       "   'sensor': 'temperature',\n",
       "   'sensorName': 'Temperature',\n",
       "   'unitOfMeasure': 'C'}],\n",
       " 'serviceMetadata': {'dateFrom': '2016-06-21T17:58:45.000Z',\n",
       "  'dateTo': '2016-06-21T17:58:50.000Z',\n",
       "  'deviceCategory': 'CTD',\n",
       "  'nextDateFrom': '2016-06-21T17:58:50.444Z',\n",
       "  'outputFormat': None,\n",
       "  'rowLimit': None,\n",
       "  'sensors': 'salinity,temperature',\n",
       "  'station': 'SCVIP',\n",
       "  'totalActualSamples': 10}}"
      ]
     },
     "execution_count": 17,
     "metadata": {},
     "output_type": "execute_result"
    }
   ],
   "source": [
    "get_onc_data(\n",
    "    'scalardata', 'getByStation', TOKEN, station='SCVIP', deviceCategory='CTD',\n",
    "    sensors='salinity,temperature',\n",
    "    dateFrom=onc_datetime('2016-06-21 10:58:45'), dateTo=onc_datetime('2016-06-21 10:58:50'),\n",
    ")"
   ]
  },
  {
   "cell_type": "markdown",
   "metadata": {},
   "source": [
    "### Ferry Temperature and Salinity Data\n",
    "\n",
    "The instrumented ferries are stations.\n",
    "Here is the most recent available data from the TSG device\n",
    "aboard the Tsawwassen to Duke Point ferry:"
   ]
  },
  {
   "cell_type": "code",
   "execution_count": 18,
   "metadata": {
    "collapsed": false
   },
   "outputs": [
    {
     "name": "stdout",
     "output_type": "stream",
     "text": [
      "{'deviceCategory': 'TSG', 'method': 'getByStation', 'token': '8efe44eb-0fb5-4413-bba3-ae3dbe0fbb1d', 'station': 'TWDP'}\n",
      "http://dmas.uvic.ca/api/scalardata?deviceCategory=TSG&method=getByStation&token=8efe44eb-0fb5-4413-bba3-ae3dbe0fbb1d&station=TWDP\n"
     ]
    },
    {
     "data": {
      "text/plain": [
       "{'sensorData': [{'actualSamples': 1,\n",
       "   'data': [{'qaqcFlag': 1,\n",
       "     'sampleTime': '2016-06-21T05:27:56.148Z',\n",
       "     'value': 2.88854}],\n",
       "   'sensor': 'Conductivity',\n",
       "   'sensorName': 'Conductivity',\n",
       "   'unitOfMeasure': 'S/m'},\n",
       "  {'actualSamples': 1,\n",
       "   'data': [{'qaqcFlag': 1,\n",
       "     'sampleTime': '2016-06-21T05:27:56.148Z',\n",
       "     'value': 23.3721}],\n",
       "   'sensor': 'salinity',\n",
       "   'sensorName': 'Practical Salinity',\n",
       "   'unitOfMeasure': 'psu'},\n",
       "  {'actualSamples': 1,\n",
       "   'data': [{'qaqcFlag': 1,\n",
       "     'sampleTime': '2016-06-21T05:27:56.148Z',\n",
       "     'value': 13.628}],\n",
       "   'sensor': 'temperature',\n",
       "   'sensorName': 'Temperature',\n",
       "   'unitOfMeasure': 'C'}],\n",
       " 'serviceMetadata': {'dateFrom': None,\n",
       "  'dateTo': None,\n",
       "  'deviceCategory': 'TSG',\n",
       "  'nextDateFrom': None,\n",
       "  'outputFormat': None,\n",
       "  'rowLimit': None,\n",
       "  'sensors': None,\n",
       "  'station': 'TWDP',\n",
       "  'totalActualSamples': 3}}"
      ]
     },
     "execution_count": 18,
     "metadata": {},
     "output_type": "execute_result"
    }
   ],
   "source": [
    "get_onc_data('scalardata', 'getByStation', TOKEN, station='TWDP', deviceCategory='TSG')"
   ]
  },
  {
   "cell_type": "markdown",
   "metadata": {},
   "source": [
    "Note that the data may lag the present time by several hours because it is only\n",
    "transmitted from the ferry to the ONC servers when the ferry is at dock.\n",
    "Also, there appears to be a several hours long gap in the data each day,\n",
    "presumably while the ferry is docked overnight.\n",
    "\n",
    "The ferry's location is available from the NAV device.\n",
    "*Note that the times from the TSG and NAV devices do not appear to be synchronized.*"
   ]
  },
  {
   "cell_type": "code",
   "execution_count": 19,
   "metadata": {
    "collapsed": false
   },
   "outputs": [
    {
     "name": "stdout",
     "output_type": "stream",
     "text": [
      "{'deviceCategory': 'NAV', 'method': 'getByStation', 'token': '8efe44eb-0fb5-4413-bba3-ae3dbe0fbb1d', 'station': 'TWDP'}\n",
      "http://dmas.uvic.ca/api/scalardata?deviceCategory=NAV&method=getByStation&token=8efe44eb-0fb5-4413-bba3-ae3dbe0fbb1d&station=TWDP\n"
     ]
    },
    {
     "data": {
      "text/plain": [
       "{'sensorData': [{'actualSamples': 1,\n",
       "   'data': [{'qaqcFlag': 1,\n",
       "     'sampleTime': '2016-06-21T05:17:53.196Z',\n",
       "     'value': 49.0057}],\n",
       "   'sensor': 'Latitude',\n",
       "   'sensorName': 'Latitude',\n",
       "   'unitOfMeasure': 'deg'},\n",
       "  {'actualSamples': 1,\n",
       "   'data': [{'qaqcFlag': 1,\n",
       "     'sampleTime': '2016-06-21T05:17:53.196Z',\n",
       "     'value': -123.1295}],\n",
       "   'sensor': 'Longitude',\n",
       "   'sensorName': 'Longitude',\n",
       "   'unitOfMeasure': 'deg'},\n",
       "  {'actualSamples': 1,\n",
       "   'data': [{'qaqcFlag': 1,\n",
       "     'sampleTime': '2016-06-21T05:17:53.196Z',\n",
       "     'value': 3.0}],\n",
       "   'sensor': 'ship_course',\n",
       "   'sensorName': 'Ship Course',\n",
       "   'unitOfMeasure': 'deg'},\n",
       "  {'actualSamples': 1,\n",
       "   'data': [{'qaqcFlag': 1,\n",
       "     'sampleTime': '2016-06-21T05:17:53.196Z',\n",
       "     'value': 0.0}],\n",
       "   'sensor': 'speed_over_ground',\n",
       "   'sensorName': 'Speed over Ground',\n",
       "   'unitOfMeasure': 'm/s'}],\n",
       " 'serviceMetadata': {'dateFrom': None,\n",
       "  'dateTo': None,\n",
       "  'deviceCategory': 'NAV',\n",
       "  'nextDateFrom': None,\n",
       "  'outputFormat': None,\n",
       "  'rowLimit': None,\n",
       "  'sensors': None,\n",
       "  'station': 'TWDP',\n",
       "  'totalActualSamples': 4}}"
      ]
     },
     "execution_count": 19,
     "metadata": {},
     "output_type": "execute_result"
    }
   ],
   "source": [
    "get_onc_data('scalardata', 'getByStation', TOKEN, station='TWDP', deviceCategory='NAV')"
   ]
  },
  {
   "cell_type": "markdown",
   "metadata": {},
   "source": [
    "Just fiddling around from here on...."
   ]
  },
  {
   "cell_type": "code",
   "execution_count": 20,
   "metadata": {
    "collapsed": false
   },
   "outputs": [
    {
     "name": "stdout",
     "output_type": "stream",
     "text": [
      "{'deviceCategory': 'CTD', 'method': 'getByStation', 'token': '8efe44eb-0fb5-4413-bba3-ae3dbe0fbb1d', 'station': 'BDYPM'}\n",
      "http://dmas.uvic.ca/api/scalardata?deviceCategory=CTD&method=getByStation&token=8efe44eb-0fb5-4413-bba3-ae3dbe0fbb1d&station=BDYPM\n"
     ]
    },
    {
     "data": {
      "text/plain": [
       "{'sensorData': [{'actualSamples': 1,\n",
       "   'data': [{'qaqcFlag': 1,\n",
       "     'sampleTime': '2015-04-09T14:50:31.000Z',\n",
       "     'value': 3.32322}],\n",
       "   'sensor': 'cond',\n",
       "   'sensorName': 'Conductivity',\n",
       "   'unitOfMeasure': 'S/m'},\n",
       "  {'actualSamples': 1,\n",
       "   'data': [{'qaqcFlag': 1,\n",
       "     'sampleTime': '2015-04-09T14:50:31.000Z',\n",
       "     'value': 1025.029060561}],\n",
       "   'sensor': 'density',\n",
       "   'sensorName': 'Density',\n",
       "   'unitOfMeasure': 'kg/m3'},\n",
       "  {'actualSamples': 1,\n",
       "   'data': [{'qaqcFlag': 1,\n",
       "     'sampleTime': '2015-04-09T14:50:31.000Z',\n",
       "     'value': 218.533}],\n",
       "   'sensor': 'pressure',\n",
       "   'sensorName': 'Pressure',\n",
       "   'unitOfMeasure': 'decibar'},\n",
       "  {'actualSamples': 1,\n",
       "   'data': [{'qaqcFlag': 1,\n",
       "     'sampleTime': '2015-04-09T14:50:31.000Z',\n",
       "     'value': 31.0154}],\n",
       "   'sensor': 'salinity',\n",
       "   'sensorName': 'Practical Salinity',\n",
       "   'unitOfMeasure': 'psu'},\n",
       "  {'actualSamples': 1,\n",
       "   'data': [{'qaqcFlag': 1,\n",
       "     'sampleTime': '2015-04-09T14:50:31.000Z',\n",
       "     'value': 24.031170169}],\n",
       "   'sensor': 'sigmaT',\n",
       "   'sensorName': 'Sigma-t',\n",
       "   'unitOfMeasure': 'kg/m3'},\n",
       "  {'actualSamples': 1,\n",
       "   'data': [{'qaqcFlag': 1,\n",
       "     'sampleTime': '2015-04-09T14:50:31.000Z',\n",
       "     'value': 1484.11}],\n",
       "   'sensor': 'sound_speed',\n",
       "   'sensorName': 'Sound Speed',\n",
       "   'unitOfMeasure': 'm/s'},\n",
       "  {'actualSamples': 1,\n",
       "   'data': [{'qaqcFlag': 1,\n",
       "     'sampleTime': '2015-04-09T14:50:31.000Z',\n",
       "     'value': 8.791}],\n",
       "   'sensor': 'temperature',\n",
       "   'sensorName': 'Temperature',\n",
       "   'unitOfMeasure': 'C'}],\n",
       " 'serviceMetadata': {'dateFrom': None,\n",
       "  'dateTo': None,\n",
       "  'deviceCategory': 'CTD',\n",
       "  'nextDateFrom': None,\n",
       "  'outputFormat': None,\n",
       "  'rowLimit': None,\n",
       "  'sensors': None,\n",
       "  'station': 'BDYPM',\n",
       "  'totalActualSamples': 7}}"
      ]
     },
     "execution_count": 20,
     "metadata": {},
     "output_type": "execute_result"
    }
   ],
   "source": [
    "get_onc_data(\n",
    "    'scalardata', 'getByStation', TOKEN, station='BDYPM', deviceCategory='CTD',\n",
    ")"
   ]
  },
  {
   "cell_type": "code",
   "execution_count": 21,
   "metadata": {
    "collapsed": false
   },
   "outputs": [
    {
     "name": "stdout",
     "output_type": "stream",
     "text": [
      "{'deviceCategory': 'ADCP150KHZ', 'method': 'getByStation', 'token': '8efe44eb-0fb5-4413-bba3-ae3dbe0fbb1d', 'station': 'SCVIP'}\n",
      "http://dmas.uvic.ca/api/scalardata?deviceCategory=ADCP150KHZ&method=getByStation&token=8efe44eb-0fb5-4413-bba3-ae3dbe0fbb1d&station=SCVIP\n"
     ]
    },
    {
     "data": {
      "text/plain": [
       "{'sensorData': [{'actualSamples': 1,\n",
       "   'data': [{'qaqcFlag': 1,\n",
       "     'sampleTime': '2016-06-21T19:00:39.891Z',\n",
       "     'value': 273.75}],\n",
       "   'sensor': 'heading',\n",
       "   'sensorName': 'Magnetic Compass Heading',\n",
       "   'unitOfMeasure': 'deg'},\n",
       "  {'actualSamples': 1,\n",
       "   'data': [{'qaqcFlag': 1,\n",
       "     'sampleTime': '2016-06-21T19:00:39.891Z',\n",
       "     'value': 0.83}],\n",
       "   'sensor': 'pitch',\n",
       "   'sensorName': 'Pitch',\n",
       "   'unitOfMeasure': 'deg'},\n",
       "  {'actualSamples': 1,\n",
       "   'data': [{'qaqcFlag': 1,\n",
       "     'sampleTime': '2016-06-21T19:00:39.891Z',\n",
       "     'value': 295.122}],\n",
       "   'sensor': 'pressure',\n",
       "   'sensorName': 'Pressure',\n",
       "   'unitOfMeasure': 'decibar'},\n",
       "  {'actualSamples': 1,\n",
       "   'data': [{'qaqcFlag': 1,\n",
       "     'sampleTime': '2016-06-21T19:00:39.891Z',\n",
       "     'value': -0.15}],\n",
       "   'sensor': 'roll',\n",
       "   'sensorName': 'Roll',\n",
       "   'unitOfMeasure': 'deg'},\n",
       "  {'actualSamples': 1,\n",
       "   'data': [{'qaqcFlag': 0,\n",
       "     'sampleTime': '2016-06-21T19:00:39.891Z',\n",
       "     'value': 1487.0}],\n",
       "   'sensor': 'sound_speed',\n",
       "   'sensorName': 'Sound Speed',\n",
       "   'unitOfMeasure': 'm/s'},\n",
       "  {'actualSamples': 1,\n",
       "   'data': [{'qaqcFlag': 1,\n",
       "     'sampleTime': '2016-06-21T19:00:39.891Z',\n",
       "     'value': 9.37}],\n",
       "   'sensor': 'temperature',\n",
       "   'sensorName': 'Temperature',\n",
       "   'unitOfMeasure': 'C'}],\n",
       " 'serviceMetadata': {'dateFrom': None,\n",
       "  'dateTo': None,\n",
       "  'deviceCategory': 'ADCP150KHZ',\n",
       "  'nextDateFrom': None,\n",
       "  'outputFormat': None,\n",
       "  'rowLimit': None,\n",
       "  'sensors': None,\n",
       "  'station': 'SCVIP',\n",
       "  'totalActualSamples': 6}}"
      ]
     },
     "execution_count": 21,
     "metadata": {},
     "output_type": "execute_result"
    }
   ],
   "source": [
    "get_onc_data('scalardata', 'getByStation', TOKEN, station='SCVIP', deviceCategory='ADCP150KHZ')"
   ]
  },
  {
   "cell_type": "code",
   "execution_count": 22,
   "metadata": {
    "collapsed": false
   },
   "outputs": [
    {
     "name": "stdout",
     "output_type": "stream",
     "text": [
      "{'deviceCategory': 'CURRENTMETER', 'method': 'getByStation', 'token': '8efe44eb-0fb5-4413-bba3-ae3dbe0fbb1d', 'station': 'SCVIP'}\n",
      "http://dmas.uvic.ca/api/scalardata?deviceCategory=CURRENTMETER&method=getByStation&token=8efe44eb-0fb5-4413-bba3-ae3dbe0fbb1d&station=SCVIP\n"
     ]
    },
    {
     "data": {
      "text/plain": [
       "{'sensorData': [{'actualSamples': 1,\n",
       "   'data': [{'qaqcFlag': 0,\n",
       "     'sampleTime': '2016-06-21T19:00:41.018Z',\n",
       "     'value': 105.0}],\n",
       "   'sensor': 'Amplitude_Beam_1',\n",
       "   'sensorName': 'Amplitude (Beam 1)',\n",
       "   'unitOfMeasure': 'Count'},\n",
       "  {'actualSamples': 1,\n",
       "   'data': [{'qaqcFlag': 0,\n",
       "     'sampleTime': '2016-06-21T19:00:41.018Z',\n",
       "     'value': 103.0}],\n",
       "   'sensor': 'Amplitude_Beam_2',\n",
       "   'sensorName': 'Amplitude (Beam 2)',\n",
       "   'unitOfMeasure': 'Count'},\n",
       "  {'actualSamples': 1,\n",
       "   'data': [{'qaqcFlag': 0,\n",
       "     'sampleTime': '2016-06-21T19:00:41.018Z',\n",
       "     'value': 104.0}],\n",
       "   'sensor': 'Amplitude_Beam_3',\n",
       "   'sensorName': 'Amplitude (Beam 3)',\n",
       "   'unitOfMeasure': 'Count'},\n",
       "  {'actualSamples': 1,\n",
       "   'data': [{'qaqcFlag': 0,\n",
       "     'sampleTime': '2016-06-21T19:00:41.018Z',\n",
       "     'value': 99.0}],\n",
       "   'sensor': 'Correlation_Beam_1',\n",
       "   'sensorName': 'Correlation Beam 1',\n",
       "   'unitOfMeasure': '%'},\n",
       "  {'actualSamples': 1,\n",
       "   'data': [{'qaqcFlag': 0,\n",
       "     'sampleTime': '2016-06-21T19:00:41.018Z',\n",
       "     'value': 99.0}],\n",
       "   'sensor': 'Correlation_Beam_2',\n",
       "   'sensorName': 'Correlation Beam 2',\n",
       "   'unitOfMeasure': '%'},\n",
       "  {'actualSamples': 1,\n",
       "   'data': [{'qaqcFlag': 0,\n",
       "     'sampleTime': '2016-06-21T19:00:41.018Z',\n",
       "     'value': 99.0}],\n",
       "   'sensor': 'Correlation_Beam_3',\n",
       "   'sensorName': 'Correlation Beam 3',\n",
       "   'unitOfMeasure': '%'},\n",
       "  {'actualSamples': 1,\n",
       "   'data': [{'qaqcFlag': 0,\n",
       "     'sampleTime': '2016-06-21T19:00:41.018Z',\n",
       "     'value': 0.46}],\n",
       "   'sensor': 'Current_Velocity_Beam1_X_East',\n",
       "   'sensorName': 'Current Beam 1',\n",
       "   'unitOfMeasure': 'm/s'},\n",
       "  {'actualSamples': 1,\n",
       "   'data': [{'qaqcFlag': 0,\n",
       "     'sampleTime': '2016-06-21T19:00:41.018Z',\n",
       "     'value': -0.115}],\n",
       "   'sensor': 'Current_Velocity_Beam2_Y_North',\n",
       "   'sensorName': 'Current Beam 2',\n",
       "   'unitOfMeasure': 'm/s'},\n",
       "  {'actualSamples': 1,\n",
       "   'data': [{'qaqcFlag': 0,\n",
       "     'sampleTime': '2016-06-21T19:00:41.018Z',\n",
       "     'value': -0.105}],\n",
       "   'sensor': 'Current_Velocity_Beam3_Z_Up',\n",
       "   'sensorName': 'Current Beam 3',\n",
       "   'unitOfMeasure': 'm/s'},\n",
       "  {'actualSamples': 1,\n",
       "   'data': [{'qaqcFlag': 0,\n",
       "     'sampleTime': '2016-06-21T19:00:40.818Z',\n",
       "     'value': 341.6}],\n",
       "   'sensor': 'Heading',\n",
       "   'sensorName': 'Magnetic Compass Heading',\n",
       "   'unitOfMeasure': 'deg'},\n",
       "  {'actualSamples': 1,\n",
       "   'data': [{'qaqcFlag': 0,\n",
       "     'sampleTime': '2016-06-21T19:00:40.818Z',\n",
       "     'value': 0.6}],\n",
       "   'sensor': 'Pitch',\n",
       "   'sensorName': 'Pitch',\n",
       "   'unitOfMeasure': 'deg'},\n",
       "  {'actualSamples': 1,\n",
       "   'data': [{'qaqcFlag': 0,\n",
       "     'sampleTime': '2016-06-21T19:00:40.818Z',\n",
       "     'value': 0.3}],\n",
       "   'sensor': 'Roll',\n",
       "   'sensorName': 'Roll',\n",
       "   'unitOfMeasure': 'deg'},\n",
       "  {'actualSamples': 1,\n",
       "   'data': [{'qaqcFlag': 1,\n",
       "     'sampleTime': '2016-06-21T19:00:41.018Z',\n",
       "     'value': 299.688282005}],\n",
       "   'sensor': 'pressure',\n",
       "   'sensorName': 'Pressure',\n",
       "   'unitOfMeasure': 'decibar'},\n",
       "  {'actualSamples': 1,\n",
       "   'data': [{'qaqcFlag': 1,\n",
       "     'sampleTime': '2016-06-21T19:00:40.818Z',\n",
       "     'value': 9.68}],\n",
       "   'sensor': 'temperature',\n",
       "   'sensorName': 'Temperature',\n",
       "   'unitOfMeasure': 'C'}],\n",
       " 'serviceMetadata': {'dateFrom': None,\n",
       "  'dateTo': None,\n",
       "  'deviceCategory': 'CURRENTMETER',\n",
       "  'nextDateFrom': None,\n",
       "  'outputFormat': None,\n",
       "  'rowLimit': None,\n",
       "  'sensors': None,\n",
       "  'station': 'SCVIP',\n",
       "  'totalActualSamples': 14}}"
      ]
     },
     "execution_count": 22,
     "metadata": {},
     "output_type": "execute_result"
    }
   ],
   "source": [
    "get_onc_data('scalardata', 'getByStation', TOKEN, station='SCVIP', deviceCategory='CURRENTMETER')"
   ]
  }
 ],
 "metadata": {
  "kernelspec": {
   "display_name": "Python 3",
   "language": "python",
   "name": "python3"
  },
  "language_info": {
   "codemirror_mode": {
    "name": "ipython",
    "version": 3
   },
   "file_extension": ".py",
   "mimetype": "text/x-python",
   "name": "python",
   "nbconvert_exporter": "python",
   "pygments_lexer": "ipython3",
   "version": "3.5.1"
  }
 },
 "nbformat": 4,
 "nbformat_minor": 0
}

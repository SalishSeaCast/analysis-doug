{
 "cells": [
  {
   "cell_type": "markdown",
   "metadata": {},
   "source": [
    "# ONC scalardata API TWDP Ferry Nav Sensors Check\n",
    "\n",
    "Explore availability of nav data from ONC scalardata API for TWDP ferry in 2016"
   ]
  },
  {
   "cell_type": "code",
   "execution_count": 2,
   "metadata": {
    "collapsed": true
   },
   "outputs": [],
   "source": [
    "import os\n",
    "\n",
    "import arrow\n",
    "import requests"
   ]
  },
  {
   "cell_type": "markdown",
   "metadata": {},
   "source": [
    "A function to grab a day's nav data and tell us what's available:"
   ]
  },
  {
   "cell_type": "code",
   "execution_count": 4,
   "metadata": {},
   "outputs": [],
   "source": [
    "TOKEN = os.environ['ONC_USER_TOKEN']"
   ]
  },
  {
   "cell_type": "code",
   "execution_count": 5,
   "metadata": {},
   "outputs": [],
   "source": [
    "def check_nav(day):\n",
    "    yyyymmdd=day.format('YYYY-MM-DD')\n",
    "    url = (\n",
    "        f'http://dmas.uvic.ca:/api/scalardata?method=getByStation&token={TOKEN}'\n",
    "        f'&station=TWDP.N2&deviceCategory=NAV&sensors=&dateFrom={yyyymmdd}T00:00:00.000Z'\n",
    "    )\n",
    "    r = requests.get(url)\n",
    "    if r.status_code != 200:\n",
    "        return f'{yyyymmdd}: {r.status_code}'\n",
    "    if r.text.startswith('null'):\n",
    "        return f'{yyyymmdd}: no nav data'\n",
    "    j = r.json()\n",
    "    if j['sensorData'] is None:\n",
    "        return f'{yyyymmdd}: no nav data'\n",
    "    sensors = ', '.join(s['sensorName'] for s in j['sensorData'])\n",
    "    if sensors:\n",
    "        return f'{yyyymmdd}: {sensors}'\n",
    "    return f'{yyyymmdd}: {r.text[:100]}'"
   ]
  },
  {
   "cell_type": "code",
   "execution_count": 6,
   "metadata": {},
   "outputs": [
    {
     "name": "stdout",
     "output_type": "stream",
     "text": [
      "2016-11-18: no nav data\n",
      "2016-11-17: no nav data\n",
      "2016-11-16: no nav data\n",
      "2016-11-15: Latitude, Longitude, Ship Course, Speed over Ground\n",
      "2016-11-14: no nav data\n",
      "2016-11-13: no nav data\n",
      "2016-11-12: no nav data\n",
      "2016-11-11: no nav data\n",
      "2016-11-10: no nav data\n",
      "2016-11-09: no nav data\n",
      "2016-11-08: Latitude, Longitude, Ship Course, Speed over Ground\n",
      "2016-11-07: Latitude, Longitude, Ship Course, Speed over Ground\n",
      "2016-11-06: Latitude, Longitude, Ship Course, Speed over Ground\n",
      "2016-11-05: no nav data\n",
      "2016-11-04: no nav data\n",
      "2016-11-03: no nav data\n",
      "2016-11-02: Latitude, Longitude, Ship Course, Speed over Ground\n",
      "2016-11-01: Latitude, Longitude, Ship Course, Speed over Ground\n"
     ]
    }
   ],
   "source": [
    "for d in range(18, 0, -1):\n",
    "    print(check_nav(arrow.get(2016, 11, d)))"
   ]
  },
  {
   "cell_type": "markdown",
   "metadata": {},
   "source": [
    "But http://dmas.uvic.ca/PlottingUtility?TREETYPE=26&LOCATION=506&DEVICECATEGORY=81&SENSOR=21095&DATEFROM=01-Nov-2016%2000:00:00&DATETO=18-Nov-2016%2023:59:59 shows lat and lon data for 1-17 Nov.\n",
    "\n",
    "The story is as bad or worse for Oct.\n",
    "http://dmas.uvic.ca/PlottingUtility?TREETYPE=26&LOCATION=506&DEVICECATEGORY=81&SENSOR=21095&DATEFROM=01-Oct-2016%2000:00:00&DATETO=31-Oct-2016%2023:59:59 show lat and lon data every day of the month,\n",
    "but the API shows only 6 days:"
   ]
  },
  {
   "cell_type": "code",
   "execution_count": 7,
   "metadata": {},
   "outputs": [
    {
     "name": "stdout",
     "output_type": "stream",
     "text": [
      "2016-10-31: no nav data\n",
      "2016-10-30: no nav data\n",
      "2016-10-29: no nav data\n",
      "2016-10-28: no nav data\n",
      "2016-10-27: no nav data\n",
      "2016-10-26: no nav data\n",
      "2016-10-25: Latitude, Longitude, Ship Course, Speed over Ground\n",
      "2016-10-24: no nav data\n",
      "2016-10-23: no nav data\n",
      "2016-10-22: no nav data\n",
      "2016-10-21: Latitude, Longitude, Ship Course, Speed over Ground\n",
      "2016-10-20: Latitude, Longitude, Ship Course, Speed over Ground\n",
      "2016-10-19: no nav data\n",
      "2016-10-18: Latitude, Longitude, Ship Course, Speed over Ground\n",
      "2016-10-17: no nav data\n",
      "2016-10-16: no nav data\n",
      "2016-10-15: Latitude, Longitude, Ship Course, Speed over Ground\n",
      "2016-10-14: Latitude, Longitude, Ship Course, Speed over Ground\n",
      "2016-10-13: no nav data\n",
      "2016-10-12: no nav data\n",
      "2016-10-11: no nav data\n",
      "2016-10-10: no nav data\n",
      "2016-10-09: no nav data\n",
      "2016-10-08: no nav data\n",
      "2016-10-07: no nav data\n",
      "2016-10-06: no nav data\n",
      "2016-10-05: no nav data\n",
      "2016-10-04: no nav data\n",
      "2016-10-03: no nav data\n",
      "2016-10-02: no nav data\n",
      "2016-10-01: no nav data\n"
     ]
    }
   ],
   "source": [
    "for d in range(31, 0, -1):\n",
    "    print(check_nav(arrow.get(2016, 10, d)))"
   ]
  },
  {
   "cell_type": "code",
   "execution_count": null,
   "metadata": {
    "collapsed": true
   },
   "outputs": [],
   "source": []
  }
 ],
 "metadata": {
  "kernelspec": {
   "display_name": "Python 3",
   "language": "python",
   "name": "python3"
  },
  "toc": {
   "nav_menu": {},
   "number_sections": true,
   "sideBar": true,
   "skip_h1_title": false,
   "toc_cell": false,
   "toc_position": {},
   "toc_section_display": "block",
   "toc_window_display": false
  }
 },
 "nbformat": 4,
 "nbformat_minor": 2
}

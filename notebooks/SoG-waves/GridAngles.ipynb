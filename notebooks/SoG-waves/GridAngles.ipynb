{
 "cells": [
  {
   "cell_type": "markdown",
   "metadata": {
    "collapsed": true
   },
   "source": [
    "# Investigate Orientation Wind and Currents Grids for WaveWatch\n",
    "\n",
    "ww3 requires wind and currents forcing files to be on a \n",
    "\"spherical lat-long grid, with constant dlon, dlat\"\n",
    "(maybe the same as a [plate carrée](https://en.wikipedia.org/wiki/Equirectangular_projection)\n",
    "grid?).\n",
    "This notebook examines the Salish Sea NEMO atmospheric forcing files like\n",
    "\n",
    "`/results/forcing/atmospheric/GEM2.5/operational/ops_y2017m03d17.nc`\n",
    "\n",
    "and the `u` and `v` current component output files like\n",
    "\n",
    "`/results/SalishSea/nowcast-blue/17mar17/SalishSea_1h_20170317_20170317_grid_U.nc`\n",
    "\n",
    "and\n",
    "\n",
    "`/results/SalishSea/nowcast-blue/17mar17/SalishSea_1h_20170317_20170317_grid_V.nc`\n",
    "\n",
    "and their associated mesh mask file:\n",
    "\n",
    "`NEMO-forcing/grid/mesh_mask_downbyone2.nc`\n",
    "\n",
    "or the\n",
    "\n",
    "https://salishsea.eos.ubc.ca/erddap/info/ubcSSn2DMeshMask2V16-07/index.html\n",
    "\n",
    "ERDDAP dataset,\n",
    "to determine what transformation of them is required to produce input wind and current files\n",
    "for ww3.\n",
    "\n",
    "The mesh mask file is required because the latitudes and longitudes of the velocity grid points\n",
    "are not stored in the `*grid_Ū.nc` and `*grid_V.nc` files."
   ]
  },
  {
   "cell_type": "code",
   "execution_count": 165,
   "metadata": {},
   "outputs": [],
   "source": [
    "import arrow\n",
    "from matplotlib.path import Path\n",
    "from matplotlib.patches import PathPatch\n",
    "import matplotlib.pyplot as plt\n",
    "import numpy as np\n",
    "from scipy import interpolate\n",
    "import xarray as xr"
   ]
  },
  {
   "cell_type": "code",
   "execution_count": 2,
   "metadata": {
    "collapsed": true
   },
   "outputs": [],
   "source": [
    "%matplotlib inline"
   ]
  },
  {
   "cell_type": "markdown",
   "metadata": {},
   "source": [
    "## WaveWatch Grid"
   ]
  },
  {
   "cell_type": "code",
   "execution_count": 3,
   "metadata": {},
   "outputs": [
    {
     "data": {
      "text/plain": [
       "<xarray.Dataset>\n",
       "Dimensions:    (latitude: 661, longitude: 572, time: 120)\n",
       "Coordinates:\n",
       "  * longitude  (longitude) float32 234.0 234.007 234.014 234.021 234.028 ...\n",
       "  * latitude   (latitude) float32 48.0 48.0045 48.009 48.0135 48.018 48.0225 ...\n",
       "  * time       (time) datetime64[ns] 2017-01-21 2017-01-21T00:29:59.971200 ...\n",
       "Data variables:\n",
       "    MAPSTA     (latitude, longitude) int16 8 8 8 8 8 8 8 8 8 8 8 8 8 8 8 8 8 ...\n",
       "    ucur       (time, latitude, longitude) float64 nan nan nan nan nan nan ...\n",
       "    vcur       (time, latitude, longitude) float64 nan nan nan nan nan nan ...\n",
       "    uwnd       (time, latitude, longitude) float64 nan nan nan nan nan nan ...\n",
       "    vwnd       (time, latitude, longitude) float64 nan nan nan nan nan nan ...\n",
       "    hs         (time, latitude, longitude) float64 nan nan nan nan nan nan ...\n",
       "    lm         (time, latitude, longitude) float64 nan nan nan nan nan nan ...\n",
       "    t02        (time, latitude, longitude) float64 nan nan nan nan nan nan ...\n",
       "    fp         (time, latitude, longitude) float64 nan nan nan nan nan nan ...\n",
       "    dir        (time, latitude, longitude) float64 nan nan nan nan nan nan ...\n",
       "    dp         (time, latitude, longitude) float64 nan nan nan nan nan nan ...\n",
       "    wcc        (time, latitude, longitude) float64 nan nan nan nan nan nan ...\n",
       "    wch        (time, latitude, longitude) float64 nan nan nan nan nan nan ...\n",
       "    utwo       (time, latitude, longitude) float64 nan nan nan nan nan nan ...\n",
       "    vtwo       (time, latitude, longitude) float64 nan nan nan nan nan nan ...\n",
       "    foc        (time, latitude, longitude) float64 nan nan nan nan nan nan ...\n",
       "    uuss       (time, latitude, longitude) float64 nan nan nan nan nan nan ...\n",
       "    vuss       (time, latitude, longitude) float64 nan nan nan nan nan nan ...\n",
       "Attributes:\n",
       "    WAVEWATCH_III_version_number: 5.16\n",
       "    WAVEWATCH_III_switches: F90 NOGRB NOPA LRB4 NC4 DIST MPI PR3 UQ FLX0 LN1 ST4 STAB0 NL1 BT0 DB1 TR0 BS0 IC0 IS0 REF1 XX0 WNT1 WNX1 RWND CRT1 CRX1 O0 O1 O2\n",
       "    product_name: SoG_ww3_fields_20170121.nc\n",
       "    area: SoG_BCgrid_00500m\n",
       "    latitude_resolution: 4.50000027E-03\n",
       "    longitude_resolution: 6.99999975E-03\n",
       "    southernmost_latitude: 48.0000000\n",
       "    northernmost_latitude: 50.9700012\n",
       "    westernmost_longitude: 234.000000\n",
       "    easternmost_longitude: 237.996994\n",
       "    minimum_altitude: -12000 m\n",
       "    maximum_altitude: 9000 m\n",
       "    altitude_resolution: n/a\n",
       "    start_date: 2017-01-21 00:00:00\n",
       "    stop_date: 2017-01-21 23:30:00\n",
       "    history: Sun Apr  2 10:18:05 2017: ncrcat -4 -L4 -o SoG_ww3_fields_20170121_20170123.nc SoG_ww3_fields_20170121.nc SoG_ww3_fields_20170122.nc SoG_ww3_fields_20170123.nc\n",
       "    nco_openmp_thread_number: 1"
      ]
     },
     "execution_count": 3,
     "metadata": {},
     "output_type": "execute_result"
    }
   ],
   "source": [
    "wwf = xr.open_dataset('SoG_ww3_fields_20170121_20170123.nc')\n",
    "wwf"
   ]
  },
  {
   "cell_type": "code",
   "execution_count": 4,
   "metadata": {},
   "outputs": [
    {
     "data": {
      "text/plain": [
       "<matplotlib.collections.QuadMesh at 0x7fd03f973ac8>"
      ]
     },
     "execution_count": 4,
     "metadata": {},
     "output_type": "execute_result"
    },
    {
     "data": {
      "image/png": "[encoded data removed]",
      "text/plain": [
       "<matplotlib.figure.Figure at 0x7fd0446cc0f0>"
      ]
     },
     "metadata": {},
     "output_type": "display_data"
    }
   ],
   "source": [
    "# Whole wwatch3 domain land mask\n",
    "wwf.MAPSTA.plot(levels=[0, 1])"
   ]
  },
  {
   "cell_type": "markdown",
   "metadata": {},
   "source": [
    "## Wind"
   ]
  },
  {
   "cell_type": "code",
   "execution_count": 4,
   "metadata": {},
   "outputs": [
    {
     "data": {
      "text/plain": [
       "<xarray.Dataset>\n",
       "Dimensions:       (time_counter: 24, x: 256, y: 266)\n",
       "Coordinates:\n",
       "  * time_counter  (time_counter) datetime64[ns] 2017-03-17 ...\n",
       "  * x             (x) float64 0.0 2.5e+03 5e+03 7.5e+03 1e+04 1.25e+04 ...\n",
       "  * y             (y) float64 0.0 2.5e+03 5e+03 7.5e+03 1e+04 1.25e+04 ...\n",
       "Data variables:\n",
       "    atmpres       (time_counter, y, x) float64 1.023e+05 1.023e+05 1.023e+05 ...\n",
       "    nav_lat       (y, x) float64 45.66 45.67 45.67 45.68 45.68 45.69 45.69 ...\n",
       "    nav_lon       (y, x) float64 233.0 233.0 233.1 233.1 233.1 233.2 233.2 ...\n",
       "    precip        (time_counter, y, x) float64 0.0 0.0 0.0 0.0 0.0 0.0 0.0 ...\n",
       "    qair          (time_counter, y, x) float64 0.005553 0.005538 0.005526 ...\n",
       "    solar         (time_counter, y, x) float64 359.8 348.6 315.3 304.2 304.2 ...\n",
       "    tair          (time_counter, y, x) float64 282.3 282.3 282.3 282.3 282.3 ...\n",
       "    therm_rad     (time_counter, y, x) float64 304.2 308.7 317.6 322.0 317.6 ...\n",
       "    u_wind        (time_counter, y, x) float64 3.691 3.691 3.711 3.711 3.731 ...\n",
       "    v_wind        (time_counter, y, x) float64 7.609 7.609 7.609 7.619 7.649 ...\n",
       "Attributes:\n",
       "    Conventions: CF-1.0\n",
       "    History: Fri Mar 17 11:56:11 2017: ncks -4 -L4 -O /results/forcing/atmospheric/GEM2.5/operational/ops_y2017m03d17.nc /results/forcing/atmospheric/GEM2.5/operational/ops_y2017m03d17.nc\n",
       "created by wgrib2\n",
       "    GRIB2_grid_template: 20\n",
       "    NCO: 4.4.2"
      ]
     },
     "execution_count": 4,
     "metadata": {},
     "output_type": "execute_result"
    }
   ],
   "source": [
    "meteo = xr.open_dataset('/results/forcing/atmospheric/GEM2.5/operational/ops_y2017m03d17.nc')\n",
    "meteo"
   ]
  },
  {
   "cell_type": "code",
   "execution_count": 60,
   "metadata": {},
   "outputs": [
    {
     "data": {
      "text/plain": [
       "(<xarray.DataArray 'nav_lat' ()>\n",
       " array(45.564901), <xarray.DataArray 'nav_lat' ()>\n",
       " array(52.27926367151701))"
      ]
     },
     "execution_count": 60,
     "metadata": {},
     "output_type": "execute_result"
    },
    {
     "data": {
      "image/png": "[encoded data removed]",
      "text/plain": [
       "<matplotlib.figure.Figure at 0x7fa2d54961d0>"
      ]
     },
     "metadata": {},
     "output_type": "display_data"
    }
   ],
   "source": [
    "fig, ax = plt.subplots(1, 1, figsize=(10, 10))\n",
    "\n",
    "wwf.MAPSTA.plot(ax= ax, levels=[0, 1])\n",
    "\n",
    "vertices = [\n",
    "    (wwf.longitude.min(), wwf.latitude.min()),\n",
    "    (wwf.longitude.min(), wwf.latitude.max()),\n",
    "    (wwf.longitude.max(), wwf.latitude.max()),\n",
    "    (wwf.longitude.max(), wwf.latitude.min()),\n",
    "]\n",
    "codes = [Path.MOVETO] + [Path.LINETO]*(len(vertices)-1) + [Path.CLOSEPOLY]\n",
    "vertices.append(vertices[-1])\n",
    "vertices = np.array(vertices, float)\n",
    "path = Path(vertices, codes)\n",
    "pathpatch = PathPatch(path, facecolor='None', edgecolor='lime')\n",
    "ax.add_patch(pathpatch)\n",
    "\n",
    "vertices = [\n",
    "    (meteo.nav_lon.min(), meteo.nav_lat.min()),\n",
    "    (meteo.nav_lon.min(), meteo.nav_lat.max()),\n",
    "    (meteo.nav_lon.max(), meteo.nav_lat.max()),\n",
    "    (meteo.nav_lon.max(), meteo.nav_lat.min()),\n",
    "]\n",
    "codes = [Path.MOVETO] + [Path.LINETO]*(len(vertices)-1) + [Path.CLOSEPOLY]\n",
    "vertices.append(vertices[-1])\n",
    "vertices = np.array(vertices, float)\n",
    "path = Path(vertices, codes)\n",
    "pathpatch = PathPatch(path, facecolor='None', edgecolor='orange')\n",
    "ax.add_patch(pathpatch)\n",
    "\n",
    "vertices = [\n",
    "    (meteo.nav_lon[0, 0], meteo.nav_lat[0, 0]),\n",
    "    (meteo.nav_lon[-1, 0], meteo.nav_lat[-1, 0]),\n",
    "    (meteo.nav_lon[-1, -1], meteo.nav_lat[-1, -1]),\n",
    "    (meteo.nav_lon[0, -1], meteo.nav_lat[0, -1]),\n",
    "]\n",
    "codes = [Path.MOVETO] + [Path.LINETO]*(len(vertices)-1) + [Path.CLOSEPOLY]\n",
    "vertices.append(vertices[-1])\n",
    "vertices = np.array(vertices, float)\n",
    "path = Path(vertices, codes)\n",
    "pathpatch = PathPatch(path, facecolor='None', edgecolor='blue')\n",
    "ax.add_patch(pathpatch)\n",
    "\n",
    "vertices = [\n",
    "    (meteo.nav_lon[76, 55], meteo.nav_lat[76, 55]),\n",
    "    (meteo.nav_lon[242, 55], meteo.nav_lat[242, 55]),\n",
    "    (meteo.nav_lon[242, 206], meteo.nav_lat[242, 206]),\n",
    "    (meteo.nav_lon[76, 206], meteo.nav_lat[76, 206]),\n",
    "]\n",
    "codes = [Path.MOVETO] + [Path.LINETO]*(len(vertices)-1) + [Path.CLOSEPOLY]\n",
    "vertices.append(vertices[-1])\n",
    "vertices = np.array(vertices, float)\n",
    "path = Path(vertices, codes)\n",
    "pathpatch = PathPatch(path, facecolor='None', edgecolor='red')\n",
    "ax.add_patch(pathpatch)\n",
    "\n",
    "ax.plot(meteo.nav_lon[103, 51], meteo.nav_lat[103, 51], 'o')\n",
    "\n",
    "ax.set_xlim(meteo.nav_lon.min()-0.1, meteo.nav_lon.max()+0.1)\n",
    "ax.set_ylim(meteo.nav_lat.min()-0.1, meteo.nav_lat.max()+0.1)"
   ]
  },
  {
   "cell_type": "code",
   "execution_count": 46,
   "metadata": {},
   "outputs": [
    {
     "data": {
      "text/plain": [
       "<xarray.DataArray 'nav_lon' ()>\n",
       "array(232.85043813773942)"
      ]
     },
     "execution_count": 46,
     "metadata": {},
     "output_type": "execute_result"
    }
   ],
   "source": [
    "meteo.nav_lon[76:-24, 55:-50].min()"
   ]
  },
  {
   "cell_type": "code",
   "execution_count": 150,
   "metadata": {
    "collapsed": true
   },
   "outputs": [],
   "source": [
    "wx, wy = np.meshgrid(wwf.longitude[::5], wwf.latitude[::5])\n",
    "wx[:, -1] = 238"
   ]
  },
  {
   "cell_type": "code",
   "execution_count": 151,
   "metadata": {},
   "outputs": [
    {
     "data": {
      "text/plain": [
       "((133, 115), (133, 115))"
      ]
     },
     "execution_count": 151,
     "metadata": {},
     "output_type": "execute_result"
    }
   ],
   "source": [
    "wx.shape, wy.shape"
   ]
  },
  {
   "cell_type": "code",
   "execution_count": 6,
   "metadata": {
    "collapsed": true
   },
   "outputs": [],
   "source": [
    "time = 0\n",
    "y_slice = slice(76, 159)  # 76, 242\n",
    "x_slice = slice(55, 206)  # 55, 206"
   ]
  },
  {
   "cell_type": "code",
   "execution_count": 7,
   "metadata": {
    "collapsed": true,
    "scrolled": true
   },
   "outputs": [],
   "source": [
    "u_interp = interpolate.Rbf(\n",
    "    meteo.nav_lon[y_slice, x_slice], meteo.nav_lat[y_slice, x_slice], meteo.u_wind[time, y_slice, x_slice],\n",
    ")"
   ]
  },
  {
   "cell_type": "code",
   "execution_count": 8,
   "metadata": {
    "collapsed": true,
    "scrolled": true
   },
   "outputs": [],
   "source": [
    "v_interp = interpolate.Rbf(\n",
    "    meteo.nav_lon[y_slice, x_slice], meteo.nav_lat[y_slice, x_slice], meteo.v_wind[time, y_slice, x_slice],\n",
    ")"
   ]
  },
  {
   "cell_type": "code",
   "execution_count": 24,
   "metadata": {},
   "outputs": [
    {
     "data": {
      "text/plain": [
       "(242, 206)"
      ]
     },
     "execution_count": 24,
     "metadata": {},
     "output_type": "execute_result"
    }
   ],
   "source": [
    "meteo.nav_lon[:-24, :-50].shape"
   ]
  },
  {
   "cell_type": "code",
   "execution_count": 29,
   "metadata": {},
   "outputs": [
    {
     "data": {
      "text/plain": [
       "(83.0, 151, 159)"
      ]
     },
     "execution_count": 29,
     "metadata": {},
     "output_type": "execute_result"
    }
   ],
   "source": [
    "(242-76)/2, 206-55, 76+83"
   ]
  },
  {
   "cell_type": "code",
   "execution_count": 152,
   "metadata": {},
   "outputs": [],
   "source": [
    "u_wind = u_interp(wx, wy)\n",
    "v_wind = v_interp(wx, wy)"
   ]
  },
  {
   "cell_type": "code",
   "execution_count": 153,
   "metadata": {},
   "outputs": [
    {
     "data": {
      "text/plain": [
       "(47.85375003814697, 51.071249198913577)"
      ]
     },
     "execution_count": 153,
     "metadata": {},
     "output_type": "execute_result"
    },
    {
     "data": {
      "image/png": "[encoded data removed]",
      "text/plain": [
       "<matplotlib.figure.Figure at 0x7fa2d3453160>"
      ]
     },
     "metadata": {},
     "output_type": "display_data"
    }
   ],
   "source": [
    "fig, axs = plt.subplots(1, 2, figsize=(18, 9))\n",
    "units = 'dots'\n",
    "axs[0].quiver(\n",
    "    meteo.nav_lon[::5, ::5], meteo.nav_lat[::5, ::5], \n",
    "    meteo.u_wind[time][::5, ::5], meteo.v_wind[time][::5, ::5],\n",
    "    units=units, scale_units=units, scale=1,\n",
    ")\n",
    "axs[1].quiver(\n",
    "    wx[::5, ::5], wy[::5, ::5], u_wind[::5, ::5], v_wind[::5, ::5],\n",
    "    units=units, scale_units=units, scale=1,\n",
    ")\n",
    "\n",
    "axs[0].set_xlim(axs[1].get_xlim())\n",
    "axs[0].set_ylim(axs[1].get_ylim())"
   ]
  },
  {
   "cell_type": "code",
   "execution_count": 24,
   "metadata": {},
   "outputs": [
    {
     "name": "stdout",
     "output_type": "stream",
     "text": [
      "234.0 48.0\n",
      "4.11331779943 10.9031430942\n"
     ]
    }
   ],
   "source": [
    "print(wx[0, 0], wy[0, 0])\n",
    "print(u_wind[0, 0], v_wind[0, 0])"
   ]
  },
  {
   "cell_type": "code",
   "execution_count": 80,
   "metadata": {},
   "outputs": [
    {
     "name": "stdout",
     "output_type": "stream",
     "text": [
      "233.902742768 48.0401610101\n",
      "4.40066480637 10.6493330002\n"
     ]
    }
   ],
   "source": [
    "mj, mi = 104, 55\n",
    "print(meteo.nav_lon.values[mj, mi], meteo.nav_lat.values[mj, mi])\n",
    "print(meteo.u_wind.values[time, mj, mi], meteo.v_wind.values[time, mj, mi])"
   ]
  },
  {
   "cell_type": "code",
   "execution_count": 95,
   "metadata": {},
   "outputs": [
    {
     "data": {
      "text/plain": [
       "(133, 115)"
      ]
     },
     "execution_count": 95,
     "metadata": {},
     "output_type": "execute_result"
    }
   ],
   "source": [
    "u_wind.shape"
   ]
  },
  {
   "cell_type": "code",
   "execution_count": 154,
   "metadata": {},
   "outputs": [
    {
     "data": {
      "text/plain": [
       "array([ 238.,  238.,  238.,  238.,  238.,  238.,  238.,  238.,  238.,\n",
       "        238.,  238.,  238.,  238.,  238.,  238.,  238.,  238.,  238.,\n",
       "        238.,  238.,  238.,  238.,  238.,  238.,  238.,  238.,  238.,\n",
       "        238.,  238.,  238.,  238.,  238.,  238.,  238.,  238.,  238.,\n",
       "        238.,  238.,  238.,  238.,  238.,  238.,  238.,  238.,  238.,\n",
       "        238.,  238.,  238.,  238.,  238.,  238.,  238.,  238.,  238.,\n",
       "        238.,  238.,  238.,  238.,  238.,  238.,  238.,  238.,  238.,\n",
       "        238.,  238.,  238.,  238.,  238.,  238.,  238.,  238.,  238.,\n",
       "        238.,  238.,  238.,  238.,  238.,  238.,  238.,  238.,  238.,\n",
       "        238.,  238.,  238.,  238.,  238.,  238.,  238.,  238.,  238.,\n",
       "        238.,  238.,  238.,  238.,  238.,  238.,  238.,  238.,  238.,\n",
       "        238.,  238.,  238.,  238.,  238.,  238.,  238.,  238.,  238.,\n",
       "        238.,  238.,  238.,  238.,  238.,  238.,  238.,  238.,  238.,\n",
       "        238.,  238.,  238.,  238.,  238.,  238.,  238.,  238.,  238.,\n",
       "        238.,  238.,  238.,  238.,  238.,  238.,  238.])"
      ]
     },
     "execution_count": 154,
     "metadata": {},
     "output_type": "execute_result"
    }
   ],
   "source": [
    "wx[:, -1]"
   ]
  },
  {
   "cell_type": "code",
   "execution_count": 169,
   "metadata": {},
   "outputs": [
    {
     "data": {
      "text/plain": [
       "<xarray.Dataset>\n",
       "Dimensions:    (latitude: 133, longitude: 115, time: 1)\n",
       "Coordinates:\n",
       "  * latitude   (latitude) float64 48.0 48.02 48.04 48.07 48.09 48.11 48.13 ...\n",
       "  * longitude  (longitude) float64 234.0 234.0 234.1 234.1 234.1 234.2 234.2 ...\n",
       "  * time       (time) datetime64[ns] 2017-03-17\n",
       "Data variables:\n",
       "    u_wind     (time, latitude, longitude) float64 4.113 3.76 3.44 3.145 ...\n",
       "    v_wind     (time, latitude, longitude) float64 10.9 11.02 11.12 11.19 ..."
      ]
     },
     "execution_count": 169,
     "metadata": {},
     "output_type": "execute_result"
    }
   ],
   "source": [
    "lats = xr.DataArray(\n",
    "    name='latitude',\n",
    "    data=wy[:, 0],\n",
    "    dims=('latitude')\n",
    ")\n",
    "lons = xr.DataArray(\n",
    "    name='longitude',\n",
    "    data=wx[0, :],\n",
    "    dims=('longitude')\n",
    ")\n",
    "time_dim = xr.DataArray(\n",
    "    name='time',\n",
    "    data=np.array([arrow.get('2017-03-17 00:00:00').datetime]),\n",
    "    dims=('time'),\n",
    "    attrs={\n",
    "        'time_origin': '2017-03-17 00:00:00',\n",
    "    },\n",
    ")\n",
    "ww_wind = xr.Dataset(\n",
    "    data_vars={\n",
    "        'u_wind': xr.DataArray(\n",
    "            name='u_wind',\n",
    "            data=np.expand_dims(u_wind, axis=0),\n",
    "            dims=('time', 'latitude', 'longitude'),\n",
    "        ),\n",
    "        'v_wind': xr.DataArray(\n",
    "            name='v_wind',\n",
    "            data=np.expand_dims(v_wind, axis=0),\n",
    "            dims=('time', 'latitude', 'longitude'),\n",
    "        ),\n",
    "    },\n",
    "    coords={\n",
    "        'latitude': lats,\n",
    "        'longitude': lons,\n",
    "        'time': time_dim,\n",
    "    },\n",
    ")\n",
    "ww_wind"
   ]
  },
  {
   "cell_type": "code",
   "execution_count": 171,
   "metadata": {},
   "outputs": [],
   "source": [
    "ww_wind.to_netcdf(\n",
    "    'SoG_wind_20170317.nc',\n",
    "    encoding={'time': {'units': 'hours since 2017-03-17'}},\n",
    "    unlimited_dims=('time',),\n",
    ")"
   ]
  },
  {
   "cell_type": "code",
   "execution_count": 246,
   "metadata": {
    "collapsed": true
   },
   "outputs": [],
   "source": [
    "hrdps = xr.open_dataset('/results/forcing/atmospheric/GEM2.5/operational/fcst/ops_y2017m04d06.nc')"
   ]
  },
  {
   "cell_type": "code",
   "execution_count": 247,
   "metadata": {},
   "outputs": [
    {
     "data": {
      "text/plain": [
       "<xarray.DataArray 'nav_lat' (y: 266, x: 256)>\n",
       "array([[ 45.664901,  45.66989 ,  45.674869, ...,  46.601005,  46.603365,\n",
       "         46.605715],\n",
       "       [ 45.684955,  45.689948,  45.69493 , ...,  46.621673,  46.624035,\n",
       "         46.626387],\n",
       "       [ 45.705012,  45.710008,  45.714993, ...,  46.642345,  46.644709,\n",
       "         46.647061],\n",
       "       ..., \n",
       "       [ 51.010078,  51.016028,  51.021966, ...,  52.130846,  52.133684,\n",
       "         52.136509],\n",
       "       [ 51.030647,  51.036601,  51.042543, ...,  52.152218,  52.155058,\n",
       "         52.157885],\n",
       "       [ 51.051217,  51.057175,  51.063121, ...,  52.173593,  52.176435,\n",
       "         52.179264]])\n",
       "Coordinates:\n",
       "  * x        (x) float64 0.0 2.5e+03 5e+03 7.5e+03 1e+04 1.25e+04 1.5e+04 ...\n",
       "  * y        (y) float64 0.0 2.5e+03 5e+03 7.5e+03 1e+04 1.25e+04 1.5e+04 ...\n",
       "Attributes:\n",
       "    units: degrees_north\n",
       "    long_name: latitude"
      ]
     },
     "execution_count": 247,
     "metadata": {},
     "output_type": "execute_result"
    }
   ],
   "source": [
    "hrdps.nav_lat"
   ]
  },
  {
   "cell_type": "code",
   "execution_count": 248,
   "metadata": {},
   "outputs": [
    {
     "data": {
      "text/plain": [
       "<xarray.DataArray 'u_wind' (time_counter: 24, latitude: 266, longitude: 256)>\n",
       "[1634304 values with dtype=float64]\n",
       "Coordinates:\n",
       "  * time_counter  (time_counter) datetime64[ns] 2017-04-06 ...\n",
       "  * longitude     (longitude) float64 0.0 2.5e+03 5e+03 7.5e+03 1e+04 ...\n",
       "  * latitude      (latitude) float64 0.0 2.5e+03 5e+03 7.5e+03 1e+04 ...\n",
       "Attributes:\n",
       "    short_name: UGRD_10maboveground\n",
       "    long_name: U-Component of Wind\n",
       "    level: 10 m above ground\n",
       "    units: m/s\n",
       "    coordinates: longitude latitude"
      ]
     },
     "execution_count": 248,
     "metadata": {},
     "output_type": "execute_result"
    }
   ],
   "source": [
    "hrdps.u_wind.rename({'y': 'latitude', 'x': 'longitude'})"
   ]
  },
  {
   "cell_type": "code",
   "execution_count": 273,
   "metadata": {},
   "outputs": [
    {
     "data": {
      "text/plain": [
       "<xarray.Dataset>\n",
       "Dimensions:    (time: 24, x: 256, y: 266)\n",
       "Coordinates:\n",
       "  * time       (time) datetime64[ns] 2017-04-06 2017-04-06T01:00:00 ...\n",
       "  * x          (x) float64 0.0 2.5e+03 5e+03 7.5e+03 1e+04 1.25e+04 1.5e+04 ...\n",
       "  * y          (y) float64 0.0 2.5e+03 5e+03 7.5e+03 1e+04 1.25e+04 1.5e+04 ...\n",
       "    latitude   (y, x) float64 45.66 45.67 45.67 45.68 45.68 45.69 45.69 45.7 ...\n",
       "    longitude  (y, x) float64 233.0 233.0 233.1 233.1 233.1 233.2 233.2 ...\n",
       "Data variables:\n",
       "    u_wind     (time, y, x) float64 -2.255 -2.235 -2.21 -2.195 -2.17 -2.15 ...\n",
       "    v_wind     (time, y, x) float64 -1.141 -1.191 -1.236 -1.276 -1.321 ..."
      ]
     },
     "execution_count": 273,
     "metadata": {},
     "output_type": "execute_result"
    }
   ],
   "source": [
    "ds = xr.Dataset(\n",
    "    data_vars={\n",
    "        'u_wind': hrdps.u_wind.rename({'time_counter': 'time'}),\n",
    "        'v_wind': hrdps.v_wind.rename({'time_counter': 'time'}),\n",
    "    },\n",
    "    coords={\n",
    "        'time': hrdps.time_counter.rename('time').rename({'time_counter': 'time'}),\n",
    "        'latitude': hrdps.nav_lat,\n",
    "        'longitude': hrdps.nav_lon,\n",
    "    }\n",
    ")\n",
    "del ds.u_wind.attrs['coordinates']\n",
    "del ds.v_wind.attrs['coordinates']\n",
    "ds"
   ]
  },
  {
   "cell_type": "code",
   "execution_count": 275,
   "metadata": {},
   "outputs": [
    {
     "data": {
      "text/plain": [
       "<xarray.DataArray 'latitude' (y: 266, x: 256)>\n",
       "array([[ 45.664901,  45.66989 ,  45.674869, ...,  46.601005,  46.603365,\n",
       "         46.605715],\n",
       "       [ 45.684955,  45.689948,  45.69493 , ...,  46.621673,  46.624035,\n",
       "         46.626387],\n",
       "       [ 45.705012,  45.710008,  45.714993, ...,  46.642345,  46.644709,\n",
       "         46.647061],\n",
       "       ..., \n",
       "       [ 51.010078,  51.016028,  51.021966, ...,  52.130846,  52.133684,\n",
       "         52.136509],\n",
       "       [ 51.030647,  51.036601,  51.042543, ...,  52.152218,  52.155058,\n",
       "         52.157885],\n",
       "       [ 51.051217,  51.057175,  51.063121, ...,  52.173593,  52.176435,\n",
       "         52.179264]])\n",
       "Coordinates:\n",
       "  * x          (x) float64 0.0 2.5e+03 5e+03 7.5e+03 1e+04 1.25e+04 1.5e+04 ...\n",
       "  * y          (y) float64 0.0 2.5e+03 5e+03 7.5e+03 1e+04 1.25e+04 1.5e+04 ...\n",
       "    latitude   (y, x) float64 45.66 45.67 45.67 45.68 45.68 45.69 45.69 45.7 ...\n",
       "    longitude  (y, x) float64 233.0 233.0 233.1 233.1 233.1 233.2 233.2 ...\n",
       "Attributes:\n",
       "    units: degrees_north\n",
       "    long_name: latitude"
      ]
     },
     "execution_count": 275,
     "metadata": {},
     "output_type": "execute_result"
    }
   ],
   "source": [
    "ds.latitude"
   ]
  },
  {
   "cell_type": "code",
   "execution_count": 274,
   "metadata": {},
   "outputs": [],
   "source": [
    "ds.to_netcdf('SoG_wind_20170406.nc')"
   ]
  },
  {
   "cell_type": "markdown",
   "metadata": {},
   "source": [
    "Use http://www.movable-type.co.uk/scripts/latlong.html to calculate grid point to grid point bearings:\n",
    "\n",
    "### SW corner"
   ]
  },
  {
   "cell_type": "code",
   "execution_count": 9,
   "metadata": {},
   "outputs": [
    {
     "name": "stdout",
     "output_type": "stream",
     "text": [
      "[ 45.664901    45.68495545]\n",
      "[ 233.015505   233.0083553]\n"
     ]
    }
   ],
   "source": [
    "print(meteo.nav_lat[0:2, 0].data)\n",
    "print(meteo.nav_lon[0:2, 0].data)"
   ]
  },
  {
   "cell_type": "markdown",
   "metadata": {},
   "source": [
    "Initial bearing: \t346° 00′ 52″\n",
    "\n",
    "Final bearing: \t346° 00′ 34″"
   ]
  },
  {
   "cell_type": "code",
   "execution_count": 10,
   "metadata": {},
   "outputs": [
    {
     "name": "stdout",
     "output_type": "stream",
     "text": [
      "[ 45.664901    45.66989016]\n",
      "[ 233.015505    233.04420318]\n"
     ]
    }
   ],
   "source": [
    "print(meteo.nav_lat[0, 0:2].data)\n",
    "print(meteo.nav_lon[0, 0:2].data)"
   ]
  },
  {
   "cell_type": "markdown",
   "metadata": {},
   "source": [
    "Initial bearing: \t076° 01′ 11″\n",
    "\n",
    "Final bearing: \t076° 02′ 24″"
   ]
  },
  {
   "cell_type": "markdown",
   "metadata": {},
   "source": [
    "### SE corner"
   ]
  },
  {
   "cell_type": "code",
   "execution_count": 12,
   "metadata": {},
   "outputs": [
    {
     "name": "stdout",
     "output_type": "stream",
     "text": [
      "[ 46.60571492  46.62638675]\n",
      "[ 240.52961343  240.52619937]\n"
     ]
    }
   ],
   "source": [
    "print(meteo.nav_lat[0:2, -1].data)\n",
    "print(meteo.nav_lon[0:2, -1].data)"
   ]
  },
  {
   "cell_type": "markdown",
   "metadata": {},
   "source": [
    "Initial bearing: \t353° 31′ 45″\n",
    "\n",
    "Final bearing: \t353° 31′ 36″"
   ]
  },
  {
   "cell_type": "code",
   "execution_count": 13,
   "metadata": {},
   "outputs": [
    {
     "name": "stdout",
     "output_type": "stream",
     "text": [
      "[ 46.60336524  46.60571492]\n",
      "[ 240.49952793  240.52961343]\n"
     ]
    }
   ],
   "source": [
    "print(meteo.nav_lat[0, -2:].data)\n",
    "print(meteo.nav_lon[0, -2:].data)"
   ]
  },
  {
   "cell_type": "markdown",
   "metadata": {},
   "source": [
    "Initial bearing: \t083° 30′ 13″\n",
    "\n",
    "Final bearing: \t083° 31′ 32″"
   ]
  },
  {
   "cell_type": "markdown",
   "metadata": {},
   "source": [
    "### NW corner"
   ]
  },
  {
   "cell_type": "code",
   "execution_count": 14,
   "metadata": {},
   "outputs": [
    {
     "name": "stdout",
     "output_type": "stream",
     "text": [
      "[ 51.03064696  51.05121732]\n",
      "[ 230.84253367  230.83305233]\n"
     ]
    }
   ],
   "source": [
    "print(meteo.nav_lat[-2:, 0].data)\n",
    "print(meteo.nav_lon[-2:, 0].data)"
   ]
  },
  {
   "cell_type": "markdown",
   "metadata": {},
   "source": [
    "Initial bearing: \t343° 50′ 30″\n",
    "\n",
    "Final bearing: \t343° 50′ 03″"
   ]
  },
  {
   "cell_type": "code",
   "execution_count": 15,
   "metadata": {},
   "outputs": [
    {
     "name": "stdout",
     "output_type": "stream",
     "text": [
      "[ 51.05121732  51.05717517]\n",
      "[ 230.83305233  230.86578181]\n"
     ]
    }
   ],
   "source": [
    "print(meteo.nav_lat[-1, 0:2].data)\n",
    "print(meteo.nav_lon[-1, 0:2].data)"
   ]
  },
  {
   "cell_type": "markdown",
   "metadata": {},
   "source": [
    "Initial bearing: \t073° 50′ 12″\n",
    "\n",
    "Final bearing: \t073° 51′ 44″"
   ]
  },
  {
   "cell_type": "markdown",
   "metadata": {},
   "source": [
    "### NE Corner"
   ]
  },
  {
   "cell_type": "code",
   "execution_count": 16,
   "metadata": {},
   "outputs": [
    {
     "name": "stdout",
     "output_type": "stream",
     "text": [
      "[ 52.15788498  52.17926367]\n",
      "[ 239.4839078   239.47930752]\n"
     ]
    }
   ],
   "source": [
    "print(meteo.nav_lat[-2:, -1].data)\n",
    "print(meteo.nav_lon[-2:, -1].data)"
   ]
  },
  {
   "cell_type": "markdown",
   "metadata": {},
   "source": [
    "Initial bearing: \t352° 29′ 00″\n",
    "\n",
    "Final bearing: \t352° 28′ 47″"
   ]
  },
  {
   "cell_type": "markdown",
   "metadata": {},
   "source": [
    "## Currents"
   ]
  },
  {
   "cell_type": "code",
   "execution_count": 22,
   "metadata": {
    "collapsed": true
   },
   "outputs": [],
   "source": [
    "mesh = xr.open_dataset('https://salishsea.eos.ubc.ca/erddap/griddap/ubcSSn2DMeshMask2V16-07')"
   ]
  },
  {
   "cell_type": "code",
   "execution_count": 23,
   "metadata": {},
   "outputs": [
    {
     "data": {
      "text/plain": [
       "<xarray.Dataset>\n",
       "Dimensions:    (gridX: 398, gridY: 898, gridZ: 40)\n",
       "Coordinates:\n",
       "  * gridZ      (gridZ) int32 0 1 2 3 4 5 6 7 8 9 10 11 12 13 14 15 16 17 18 ...\n",
       "  * gridY      (gridY) int16 0 1 2 3 4 5 6 7 8 9 10 11 12 13 14 15 16 17 18 ...\n",
       "  * gridX      (gridX) int16 0 1 2 3 4 5 6 7 8 9 10 11 12 13 14 15 16 17 18 ...\n",
       "Data variables:\n",
       "    e1t        (gridZ, gridY, gridX) float64 ...\n",
       "    e2t        (gridZ, gridY, gridX) float64 ...\n",
       "    e1u        (gridZ, gridY, gridX) float64 ...\n",
       "    e2u        (gridZ, gridY, gridX) float64 ...\n",
       "    e1v        (gridZ, gridY, gridX) float64 ...\n",
       "    e2v        (gridZ, gridY, gridX) float64 ...\n",
       "    e1f        (gridZ, gridY, gridX) float64 ...\n",
       "    e2f        (gridZ, gridY, gridX) float64 ...\n",
       "    glamt      (gridZ, gridY, gridX) float64 ...\n",
       "    gphit      (gridZ, gridY, gridX) float64 ...\n",
       "    glamu      (gridZ, gridY, gridX) float64 ...\n",
       "    gphiu      (gridZ, gridY, gridX) float64 ...\n",
       "    glamv      (gridZ, gridY, gridX) float64 ...\n",
       "    glamf      (gridZ, gridY, gridX) float64 ...\n",
       "    gphiv      (gridZ, gridY, gridX) float64 ...\n",
       "    gphif      (gridZ, gridY, gridX) float64 ...\n",
       "    tmaskutil  (gridZ, gridY, gridX) int8 ...\n",
       "    umaskutil  (gridZ, gridY, gridX) int8 ...\n",
       "    vmaskutil  (gridZ, gridY, gridX) int8 ...\n",
       "    fmaskutil  (gridZ, gridY, gridX) int8 ...\n",
       "    ff         (gridZ, gridY, gridX) float64 ...\n",
       "    mbathy     (gridZ, gridY, gridX) float64 ...\n",
       "Attributes:\n",
       "    acknowledgement: MEOPAR, ONC, Compute Canada\n",
       "    cdm_data_type: Grid\n",
       "    Conventions: CF-1.6, COARDS, ACDD-1.3\n",
       "    coverage_content_type: modelResult\n",
       "    creator_email: sallen@eos.ubc.ca\n",
       "    creator_name: Salish Sea MEOPAR Project Contributors\n",
       "    creator_url: https://salishsea-meopar-docs.readthedocs.io/\n",
       "    drawLandMask: over\n",
       "    file_name: NEMO-forcing/grid/mesh_mask_downbyone2.nc\n",
       "    history: Sun Jun 19 14:06:59 2016: ncks -4 -L4 -O mesh_mask.nc mesh_mask.nc\n",
       "[2016-11-14 16:25] Added metadata to variable in preparation for creation of ERDDAP datasets.\n",
       "2017-03-18T03:22:44Z (local files)\n",
       "2017-03-18T03:22:44Z https://salishsea.eos.ubc.ca/erddap/griddap/ubcSSn2DMeshMask2V16-07.das\n",
       "    infoUrl: https://salishsea-meopar-docs.readthedocs.io/en/latest/results_server/index.html#salish-sea-model-results\n",
       "    institution: UBC EOAS\n",
       "    institution_fullname: Earth, Ocean & Atmospheric Sciences, University of British Columbia\n",
       "    keywords: bathymetry, british columbia, depth, downonegrid2, e1f, e1t, e1u, e1v, e2f, e2t, e2u , e2v, ff, fmaskutil, glamt, glamu, glamv, glamf, gphit, gphiu, gphiv, gphif, mask mesh, mbathy, grid, nemo, ocean, points, salish sea, spacing, t-grid, tmaskutil, u-grid, umaskutil, v-grid, vmaskutil, vorticity, vorticity-grid\n",
       "    license: The Salish Sea MEOPAR NEMO model results are copyright 2013-2016\n",
       "by the Salish Sea MEOPAR Project Contributors and The University of British Columbia.\n",
       "\n",
       "They are licensed under the Apache License, Version 2.0. http://www.apache.org/licenses/LICENSE-2.0\n",
       "    NCO: \"4.5.2\"\n",
       "    project: Salish Sea MEOPAR NEMO Model\n",
       "    references: https://salishsea.eos.ubc.ca/erddap/info/\n",
       "https://bitbucket.org/salishsea/nemo-forcing/src/tip/grid/bathy_meter_downbyone2.nc\n",
       "\n",
       "    source: NEMO-3.6 Salish Sea configuration\n",
       "    sourceUrl: (local files)\n",
       "    standard_name_vocabulary: CF Standard Name Table v29\n",
       "    summary: NEMO grid variable value for the u-v plane of the\n",
       "Salish Sea NEMO model Arakawa-C grid.\n",
       "The values are those calculated by NEMO from the input coordinates and bathymetry files.\n",
       "The variable names are those used by NEMO-3.6,\n",
       "see the NEMO-3.6 book (http://www.nemo-ocean.eu/Media/Files/NEMO_book_V3_6.pdf) for details,\n",
       "or the long_name attributes of the variables for succinct descriptions of the variables.\n",
       "The model grid includes the Juan de Fuca Strait, the Strait of Georgia, Puget Sound,\n",
       "and Jo...\n",
       "    TimeStamp: 19/06/2016 14:06:46 -0700\n",
       "    title: Salish Sea NEMO Model Grid, 2D Mesh Mask, v16-07"
      ]
     },
     "execution_count": 23,
     "metadata": {},
     "output_type": "execute_result"
    }
   ],
   "source": [
    "mesh"
   ]
  },
  {
   "cell_type": "code",
   "execution_count": 25,
   "metadata": {},
   "outputs": [
    {
     "data": {
      "text/plain": [
       "(<xarray.DataArray 'gphiu' (gridZ: 40, gridY: 898, gridX: 398)>\n",
       " [14296160 values with dtype=float64]\n",
       " Coordinates:\n",
       "   * gridZ    (gridZ) int32 0 1 2 3 4 5 6 7 8 9 10 11 12 13 14 15 16 17 18 19 ...\n",
       "   * gridY    (gridY) int16 0 1 2 3 4 5 6 7 8 9 10 11 12 13 14 15 16 17 18 19 ...\n",
       "   * gridX    (gridX) int16 0 1 2 3 4 5 6 7 8 9 10 11 12 13 14 15 16 17 18 19 ...\n",
       " Attributes:\n",
       "     long_name: latitude of U-grid points\n",
       "     standard_name: gphiu\n",
       "     units: degrees_north,\n",
       " <xarray.DataArray 'glamu' (gridZ: 40, gridY: 898, gridX: 398)>\n",
       " [14296160 values with dtype=float64]\n",
       " Coordinates:\n",
       "   * gridZ    (gridZ) int32 0 1 2 3 4 5 6 7 8 9 10 11 12 13 14 15 16 17 18 19 ...\n",
       "   * gridY    (gridY) int16 0 1 2 3 4 5 6 7 8 9 10 11 12 13 14 15 16 17 18 19 ...\n",
       "   * gridX    (gridX) int16 0 1 2 3 4 5 6 7 8 9 10 11 12 13 14 15 16 17 18 19 ...\n",
       " Attributes:\n",
       "     long_name: longitude of U-grid points\n",
       "     standard_name: glamu\n",
       "     units: degrees_east)"
      ]
     },
     "execution_count": 25,
     "metadata": {},
     "output_type": "execute_result"
    }
   ],
   "source": [
    "mesh.gphiu, mesh.glamu"
   ]
  },
  {
   "cell_type": "markdown",
   "metadata": {},
   "source": [
    "### SW Corner"
   ]
  },
  {
   "cell_type": "code",
   "execution_count": 29,
   "metadata": {},
   "outputs": [
    {
     "name": "stdout",
     "output_type": "stream",
     "text": [
      "[ 46.86060715  46.86380005]\n",
      "[-123.42677307 -123.42937469]\n"
     ]
    }
   ],
   "source": [
    "print(mesh.gphiu[0, 0:2, 0].data)\n",
    "print(mesh.glamu[0, 0:2, 0].data)"
   ]
  },
  {
   "cell_type": "markdown",
   "metadata": {},
   "source": [
    "Initial bearing: \t330° 52′ 38″\n",
    "Final bearing: \t330° 52′ 31″"
   ]
  },
  {
   "cell_type": "code",
   "execution_count": null,
   "metadata": {
    "collapsed": true
   },
   "outputs": [],
   "source": []
  }
 ],
 "metadata": {
  "kernelspec": {
   "display_name": "Python 3",
   "language": "python",
   "name": "python3"
  },
  "language_info": {
   "codemirror_mode": {
    "name": "ipython",
    "version": 3
   },
   "file_extension": ".py",
   "mimetype": "text/x-python",
   "name": "python",
   "nbconvert_exporter": "python",
   "pygments_lexer": "ipython3",
   "version": "3.6.0"
  }
 },
 "nbformat": 4,
 "nbformat_minor": 2
}

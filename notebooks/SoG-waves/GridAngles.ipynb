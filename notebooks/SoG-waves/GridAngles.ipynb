{
 "cells": [
  {
   "cell_type": "markdown",
   "metadata": {
    "collapsed": true,
    "deletable": true,
    "editable": true
   },
   "source": [
    "# Investigate Orientation Wind and Currents Grids for WaveWatch\n",
    "\n",
    "ww3 requires wind and currents forcing files to be on a \n",
    "\"spherical lat-long grid, with constant dlon, dlat\"\n",
    "(maybe the same as a [plate carrée](https://en.wikipedia.org/wiki/Equirectangular_projection)\n",
    "grid?).\n",
    "This notebook examines the Salish Sea NEMO atmospheric forcing files like\n",
    "\n",
    "`/results/forcing/atmospheric/GEM2.5/operational/ops_y2017m03d17.nc`\n",
    "\n",
    "and the `u` and `v` current component output files like\n",
    "\n",
    "`/results/SalishSea/nowcast-blue/17mar17/SalishSea_1h_20170317_20170317_grid_U.nc`\n",
    "\n",
    "and\n",
    "\n",
    "`/results/SalishSea/nowcast-blue/17mar17/SalishSea_1h_20170317_20170317_grid_V.nc`\n",
    "\n",
    "and their associated mesh mask file:\n",
    "\n",
    "`NEMO-forcing/grid/mesh_mask_downbyone2.nc`\n",
    "\n",
    "or the\n",
    "\n",
    "https://salishsea.eos.ubc.ca/erddap/info/ubcSSn2DMeshMask2V16-07/index.html\n",
    "\n",
    "ERDDAP dataset,\n",
    "to determine what transformation of them is required to produce input wind and current files\n",
    "for ww3.\n",
    "\n",
    "The mesh mask file is required because the latitudes and longitudes of the velocity grid points\n",
    "are not stored in the `*grid_Ū.nc` and `*grid_V.nc` files."
   ]
  },
  {
   "cell_type": "code",
   "execution_count": 4,
   "metadata": {
    "collapsed": false,
    "deletable": true,
    "editable": true
   },
   "outputs": [],
   "source": [
    "from matplotlib.path import Path\n",
    "from matplotlib.patches import PathPatch\n",
    "import matplotlib.pyplot as plt\n",
    "import numpy as np\n",
    "from scipy import interpolate\n",
    "import xarray as xr"
   ]
  },
  {
   "cell_type": "code",
   "execution_count": 5,
   "metadata": {
    "collapsed": true
   },
   "outputs": [],
   "source": [
    "%matplotlib inline"
   ]
  },
  {
   "cell_type": "markdown",
   "metadata": {},
   "source": [
    "## WaveWatch Grid"
   ]
  },
  {
   "cell_type": "code",
   "execution_count": 6,
   "metadata": {
    "collapsed": false
   },
   "outputs": [
    {
     "data": {
      "text/plain": [
       "<xarray.Dataset>\n",
       "Dimensions:    (latitude: 661, longitude: 572, time: 144)\n",
       "Coordinates:\n",
       "  * longitude  (longitude) float32 234.0 234.007 234.014 234.021 234.028 ...\n",
       "  * latitude   (latitude) float32 48.0 48.0045 48.009 48.0135 48.018 48.0225 ...\n",
       "  * time       (time) datetime64[ns] 2017-01-20 2017-01-20T00:29:59.971200 ...\n",
       "Data variables:\n",
       "    MAPSTA     (latitude, longitude) int16 8 8 8 8 8 8 8 8 8 8 8 8 8 8 8 8 8 ...\n",
       "    ucur       (time, latitude, longitude) float64 nan nan nan nan nan nan ...\n",
       "    vcur       (time, latitude, longitude) float64 nan nan nan nan nan nan ...\n",
       "    uwnd       (time, latitude, longitude) float64 nan nan nan nan nan nan ...\n",
       "    vwnd       (time, latitude, longitude) float64 nan nan nan nan nan nan ...\n",
       "    hs         (time, latitude, longitude) float64 nan nan nan nan nan nan ...\n",
       "    lm         (time, latitude, longitude) float64 nan nan nan nan nan nan ...\n",
       "    t02        (time, latitude, longitude) float64 nan nan nan nan nan nan ...\n",
       "    fp         (time, latitude, longitude) float64 nan nan nan nan nan nan ...\n",
       "    dir        (time, latitude, longitude) float64 nan nan nan nan nan nan ...\n",
       "    dp         (time, latitude, longitude) float64 nan nan nan nan nan nan ...\n",
       "    wcc        (time, latitude, longitude) float64 nan nan nan nan nan nan ...\n",
       "    wch        (time, latitude, longitude) float64 nan nan nan nan nan nan ...\n",
       "Attributes:\n",
       "    WAVEWATCH_III_version_number: 5.16\n",
       "    WAVEWATCH_III_switches: F90 NOGRB NOPA LRB4 NC4 DIST MPI PR3 UQ FLX0 LN1 ST4 STAB0 NL1 BT0 DB1 TR0 BS0 IC0 IS0 REF1 XX0 WNT1 WNX1 RWND CRT1 CRX1 O0 O1 O2\n",
       "    product_name: SoG_ww3_fields20170120.nc\n",
       "    area: SoG_BCgrid_00500m\n",
       "    latitude_resolution: 4.50000027E-03\n",
       "    longitude_resolution: 6.99999975E-03\n",
       "    southernmost_latitude: 48.0000000\n",
       "    northernmost_latitude: 50.9700012\n",
       "    westernmost_longitude: 234.000000\n",
       "    easternmost_longitude: 237.996994\n",
       "    minimum_altitude: -12000 m\n",
       "    maximum_altitude: 9000 m\n",
       "    altitude_resolution: n/a\n",
       "    start_date: 2017-01-20 00:00:00\n",
       "    stop_date: 2017-01-20 23:30:00\n",
       "    history: Wed Mar 29 11:16:38 2017: ncrcat -4 -L4 -o SoG_ww3_fields_20170120_20170122.nc SoG_ww3_fields_20170120.nc SoG_ww3_fields_20170121.nc SoG_ww3_fields_20170122.nc\n",
       "    nco_openmp_thread_number: 1"
      ]
     },
     "execution_count": 6,
     "metadata": {},
     "output_type": "execute_result"
    }
   ],
   "source": [
    "wwf = xr.open_dataset('SoG_ww3_fields_20170120_20170122.nc')\n",
    "wwf"
   ]
  },
  {
   "cell_type": "code",
   "execution_count": 4,
   "metadata": {
    "collapsed": false
   },
   "outputs": [
    {
     "data": {
      "text/plain": [
       "<matplotlib.collections.QuadMesh at 0x7f4c19578320>"
      ]
     },
     "execution_count": 4,
     "metadata": {},
     "output_type": "execute_result"
    },
    {
     "data": {
      "image/png": "[encoded data removed]",
      "text/plain": [
       "<matplotlib.figure.Figure at 0x7f4c504b57b8>"
      ]
     },
     "metadata": {},
     "output_type": "display_data"
    }
   ],
   "source": [
    "# Whole wwatch3 domain land mask\n",
    "wwf.MAPSTA.plot(levels=[0, 1])"
   ]
  },
  {
   "cell_type": "markdown",
   "metadata": {
    "deletable": true,
    "editable": true
   },
   "source": [
    "## Wind"
   ]
  },
  {
   "cell_type": "code",
   "execution_count": 7,
   "metadata": {
    "collapsed": false,
    "deletable": true,
    "editable": true
   },
   "outputs": [
    {
     "data": {
      "text/plain": [
       "<xarray.Dataset>\n",
       "Dimensions:       (time_counter: 24, x: 256, y: 266)\n",
       "Coordinates:\n",
       "  * time_counter  (time_counter) datetime64[ns] 2017-03-17 ...\n",
       "  * x             (x) float64 0.0 2.5e+03 5e+03 7.5e+03 1e+04 1.25e+04 ...\n",
       "  * y             (y) float64 0.0 2.5e+03 5e+03 7.5e+03 1e+04 1.25e+04 ...\n",
       "Data variables:\n",
       "    atmpres       (time_counter, y, x) float64 1.023e+05 1.023e+05 1.023e+05 ...\n",
       "    nav_lat       (y, x) float64 45.66 45.67 45.67 45.68 45.68 45.69 45.69 ...\n",
       "    nav_lon       (y, x) float64 233.0 233.0 233.1 233.1 233.1 233.2 233.2 ...\n",
       "    precip        (time_counter, y, x) float64 0.0 0.0 0.0 0.0 0.0 0.0 0.0 ...\n",
       "    qair          (time_counter, y, x) float64 0.005553 0.005538 0.005526 ...\n",
       "    solar         (time_counter, y, x) float64 359.8 348.6 315.3 304.2 304.2 ...\n",
       "    tair          (time_counter, y, x) float64 282.3 282.3 282.3 282.3 282.3 ...\n",
       "    therm_rad     (time_counter, y, x) float64 304.2 308.7 317.6 322.0 317.6 ...\n",
       "    u_wind        (time_counter, y, x) float64 3.691 3.691 3.711 3.711 3.731 ...\n",
       "    v_wind        (time_counter, y, x) float64 7.609 7.609 7.609 7.619 7.649 ...\n",
       "Attributes:\n",
       "    Conventions: CF-1.0\n",
       "    History: Fri Mar 17 11:56:11 2017: ncks -4 -L4 -O /results/forcing/atmospheric/GEM2.5/operational/ops_y2017m03d17.nc /results/forcing/atmospheric/GEM2.5/operational/ops_y2017m03d17.nc\n",
       "created by wgrib2\n",
       "    GRIB2_grid_template: 20\n",
       "    NCO: 4.4.2"
      ]
     },
     "execution_count": 7,
     "metadata": {},
     "output_type": "execute_result"
    }
   ],
   "source": [
    "meteo = xr.open_dataset('/results/forcing/atmospheric/GEM2.5/operational/ops_y2017m03d17.nc')\n",
    "meteo"
   ]
  },
  {
   "cell_type": "code",
   "execution_count": 37,
   "metadata": {
    "collapsed": false
   },
   "outputs": [
    {
     "data": {
      "text/plain": [
       "(<xarray.DataArray 'nav_lat' ()>\n",
       " array(45.564901), <xarray.DataArray 'nav_lat' ()>\n",
       " array(52.27926367151701))"
      ]
     },
     "execution_count": 37,
     "metadata": {},
     "output_type": "execute_result"
    },
    {
     "data": {
      "image/png": "[encoded data removed]",
      "text/plain": [
       "<matplotlib.figure.Figure at 0x7f6f9e01ba20>"
      ]
     },
     "metadata": {},
     "output_type": "display_data"
    }
   ],
   "source": [
    "fig, ax = plt.subplots(1, 1, figsize=(10, 10))\n",
    "\n",
    "wwf.MAPSTA.plot(ax= ax, levels=[0, 1])\n",
    "\n",
    "vertices = [\n",
    "    (wwf.longitude.min(), wwf.latitude.min()),\n",
    "    (wwf.longitude.min(), wwf.latitude.max()),\n",
    "    (wwf.longitude.max(), wwf.latitude.max()),\n",
    "    (wwf.longitude.max(), wwf.latitude.min()),\n",
    "]\n",
    "codes = [Path.MOVETO] + [Path.LINETO]*(len(vertices)-1) + [Path.CLOSEPOLY]\n",
    "vertices.append(vertices[-1])\n",
    "vertices = np.array(vertices, float)\n",
    "path = Path(vertices, codes)\n",
    "pathpatch = PathPatch(path, facecolor='None', edgecolor='lime')\n",
    "ax.add_patch(pathpatch)\n",
    "\n",
    "vertices = [\n",
    "    (meteo.nav_lon.min(), meteo.nav_lat.min()),\n",
    "    (meteo.nav_lon.min(), meteo.nav_lat.max()),\n",
    "    (meteo.nav_lon.max(), meteo.nav_lat.max()),\n",
    "    (meteo.nav_lon.max(), meteo.nav_lat.min()),\n",
    "]\n",
    "codes = [Path.MOVETO] + [Path.LINETO]*(len(vertices)-1) + [Path.CLOSEPOLY]\n",
    "vertices.append(vertices[-1])\n",
    "vertices = np.array(vertices, float)\n",
    "path = Path(vertices, codes)\n",
    "pathpatch = PathPatch(path, facecolor='None', edgecolor='orange')\n",
    "ax.add_patch(pathpatch)\n",
    "\n",
    "vertices = [\n",
    "    (meteo.nav_lon[0, 0], meteo.nav_lat[0, 0]),\n",
    "    (meteo.nav_lon[-1, 0], meteo.nav_lat[-1, 0]),\n",
    "    (meteo.nav_lon[-1, -1], meteo.nav_lat[-1, -1]),\n",
    "    (meteo.nav_lon[0, -1], meteo.nav_lat[0, -1]),\n",
    "]\n",
    "codes = [Path.MOVETO] + [Path.LINETO]*(len(vertices)-1) + [Path.CLOSEPOLY]\n",
    "vertices.append(vertices[-1])\n",
    "vertices = np.array(vertices, float)\n",
    "path = Path(vertices, codes)\n",
    "pathpatch = PathPatch(path, facecolor='None', edgecolor='blue')\n",
    "ax.add_patch(pathpatch)\n",
    "\n",
    "vertices = [\n",
    "    (meteo.nav_lon[76, 55], meteo.nav_lat[76, 55]),\n",
    "    (meteo.nav_lon[-24, 55], meteo.nav_lat[-24, 55]),\n",
    "    (meteo.nav_lon[-24, -50], meteo.nav_lat[-24, -50]),\n",
    "    (meteo.nav_lon[76, -50], meteo.nav_lat[76, -50]),\n",
    "]\n",
    "codes = [Path.MOVETO] + [Path.LINETO]*(len(vertices)-1) + [Path.CLOSEPOLY]\n",
    "vertices.append(vertices[-1])\n",
    "vertices = np.array(vertices, float)\n",
    "path = Path(vertices, codes)\n",
    "pathpatch = PathPatch(path, facecolor='None', edgecolor='red')\n",
    "ax.add_patch(pathpatch)\n",
    "\n",
    "ax.set_xlim(meteo.nav_lon.min()-0.1, meteo.nav_lon.max()+0.1)\n",
    "ax.set_ylim(meteo.nav_lat.min()-0.1, meteo.nav_lat.max()+0.1)"
   ]
  },
  {
   "cell_type": "code",
   "execution_count": 49,
   "metadata": {
    "collapsed": false
   },
   "outputs": [
    {
     "data": {
      "text/plain": [
       "(array([    426.,    3725.,   12099.,   38882.,   88372.,  152290.,\n",
       "          91292.,   23515.,    4908.,     363.]),\n",
       " array([-10.07287598,  -8.36709929,  -6.66132259,  -4.9555459 ,\n",
       "         -3.24976921,  -1.54399252,   0.16178417,   1.86756086,\n",
       "          3.57333755,   5.27911425,   6.98489094]),\n",
       " <a list of 10 Patch objects>)"
      ]
     },
     "execution_count": 49,
     "metadata": {},
     "output_type": "execute_result"
    },
    {
     "data": {
      "image/png": "[encoded data removed]",
      "text/plain": [
       "<matplotlib.figure.Figure at 0x7f9a8c4c91d0>"
      ]
     },
     "metadata": {},
     "output_type": "display_data"
    }
   ],
   "source": [
    "(meteo.u_wind\n",
    "     .where((meteo.nav_lon>=234) & (meteo.nav_lon<=238) & (meteo.nav_lat>=48) & (meteo.nav_lat<51), drop=True)\n",
    ").plot()"
   ]
  },
  {
   "cell_type": "code",
   "execution_count": 46,
   "metadata": {
    "collapsed": false
   },
   "outputs": [
    {
     "data": {
      "text/plain": [
       "<xarray.DataArray 'nav_lon' ()>\n",
       "array(232.85043813773942)"
      ]
     },
     "execution_count": 46,
     "metadata": {},
     "output_type": "execute_result"
    }
   ],
   "source": [
    "meteo.nav_lon[76:-24, 55:-50].min()"
   ]
  },
  {
   "cell_type": "code",
   "execution_count": 5,
   "metadata": {
    "collapsed": false,
    "deletable": true,
    "editable": true
   },
   "outputs": [
    {
     "data": {
      "text/plain": [
       "array([[False, False, False, ..., False, False, False],\n",
       "       [False, False, False, ..., False, False, False],\n",
       "       [False, False, False, ..., False, False, False],\n",
       "       ..., \n",
       "       [False, False, False, ..., False, False, False],\n",
       "       [False, False, False, ..., False, False, False],\n",
       "       [False, False, False, ..., False, False, False]], dtype=bool)"
      ]
     },
     "execution_count": 5,
     "metadata": {},
     "output_type": "execute_result"
    }
   ],
   "source": [
    "ww_grid_mask = np.logical_and(\n",
    "    np.logical_and(234 <= meteo.nav_lon, meteo.nav_lon <= 238),\n",
    "    np.logical_and(48 <= meteo.nav_lat, meteo.nav_lat <= 51),\n",
    ").values\n",
    "ww_grid_mask"
   ]
  },
  {
   "cell_type": "code",
   "execution_count": 211,
   "metadata": {
    "collapsed": false
   },
   "outputs": [
    {
     "data": {
      "text/plain": [
       "<matplotlib.quiver.Quiver at 0x7f53f0495f60>"
      ]
     },
     "execution_count": 211,
     "metadata": {},
     "output_type": "execute_result"
    },
    {
     "data": {
      "image/png": "[encoded data removed]",
      "text/plain": [
       "<matplotlib.figure.Figure at 0x7f53f0610be0>"
      ]
     },
     "metadata": {},
     "output_type": "display_data"
    }
   ],
   "source": [
    "time = 2\n",
    "\n",
    "fig, ax = plt.subplots(1, 1)\n",
    "ax.quiver(\n",
    "    meteo.nav_lon[::10, ::10], meteo.nav_lat[::10, ::10], \n",
    "    meteo.u_wind[time][::10, ::10], meteo.v_wind[time][::10, ::10],\n",
    "#     units='inches',\n",
    "#     scale=200,\n",
    ")\n",
    "# ax.set_xlim(234, 238)\n",
    "# ax.set_ylim(48, 51)"
   ]
  },
  {
   "cell_type": "code",
   "execution_count": 19,
   "metadata": {
    "collapsed": false
   },
   "outputs": [],
   "source": [
    "wx, wy = np.meshgrid(wwf.longitude[::5], wwf.latitude[::5], sparse=True)"
   ]
  },
  {
   "cell_type": "code",
   "execution_count": 20,
   "metadata": {
    "collapsed": false
   },
   "outputs": [
    {
     "data": {
      "text/plain": [
       "((1, 115), (133, 1))"
      ]
     },
     "execution_count": 20,
     "metadata": {},
     "output_type": "execute_result"
    }
   ],
   "source": [
    "wx.shape, wy.shape"
   ]
  },
  {
   "cell_type": "code",
   "execution_count": 14,
   "metadata": {
    "collapsed": false
   },
   "outputs": [],
   "source": [
    "mx, my = np.meshgrid(meteo.nav_lon[76:-24:10, 55:-50:10], meteo.nav_lat[76:-24:10, 55:-50:10], sparse=True)"
   ]
  },
  {
   "cell_type": "code",
   "execution_count": 15,
   "metadata": {
    "collapsed": false
   },
   "outputs": [
    {
     "data": {
      "text/plain": [
       "((1, 272), (272, 1))"
      ]
     },
     "execution_count": 15,
     "metadata": {},
     "output_type": "execute_result"
    }
   ],
   "source": [
    "mx.shape, my.shape"
   ]
  },
  {
   "cell_type": "code",
   "execution_count": 24,
   "metadata": {
    "collapsed": false
   },
   "outputs": [
    {
     "data": {
      "text/plain": [
       "(272,)"
      ]
     },
     "execution_count": 24,
     "metadata": {},
     "output_type": "execute_result"
    }
   ],
   "source": [
    "meteo.u_wind[0, 76:-24:10, 55:-50:10].values.flatten().shape"
   ]
  },
  {
   "cell_type": "code",
   "execution_count": 17,
   "metadata": {
    "collapsed": false
   },
   "outputs": [
    {
     "name": "stdout",
     "output_type": "stream",
     "text": [
      "Variable      Type        Data/Info\n",
      "-----------------------------------\n",
      "Path          type        <class 'matplotlib.path.Path'>\n",
      "PathPatch     type        <class 'matplotlib.patches.PathPatch'>\n",
      "interp        interp2d    <scipy.interpolate.interp<...>object at 0x7f9a9056e358>\n",
      "interpolate   module      <module 'scipy.interpolat<...>interpolate/__init__.py'>\n",
      "json          module      <module 'json' from '/hom<...>hon3.6/json/__init__.py'>\n",
      "meteo         Dataset     <xarray.Dataset>\\nDimensi<...>plate: 20\\n    NCO: 4.4.2\n",
      "mx            ndarray     1x272: 272 elems, type `float64`, 2176 bytes\n",
      "my            ndarray     272x1: 272 elems, type `float64`, 2176 bytes\n",
      "np            module      <module 'numpy' from '/ho<...>kages/numpy/__init__.py'>\n",
      "plt           module      <module 'matplotlib.pyplo<...>es/matplotlib/pyplot.py'>\n",
      "wwf           Dataset     <xarray.Dataset>\\nDimensi<...>o_openmp_thread_number: 1\n",
      "xr            module      <module 'xarray' from '/h<...>ages/xarray/__init__.py'>\n",
      "yapf          module      <module 'yapf' from '/hom<...>ckages/yapf/__init__.py'>\n"
     ]
    }
   ],
   "source": [
    "%whos"
   ]
  },
  {
   "cell_type": "code",
   "execution_count": 22,
   "metadata": {
    "collapsed": false,
    "deletable": true,
    "editable": true
   },
   "outputs": [
    {
     "ename": "ValueError",
     "evalue": "invalid shape for input data points",
     "output_type": "error",
     "traceback": [
      "\u001b[0;31m---------------------------------------------------------------------------\u001b[0m",
      "\u001b[0;31mValueError\u001b[0m                                Traceback (most recent call last)",
      "\u001b[0;32m<ipython-input-22-e726bcb898d1>\u001b[0m in \u001b[0;36m<module>\u001b[0;34m()\u001b[0m\n\u001b[1;32m      1\u001b[0m interp = interpolate.griddata(\n\u001b[0;32m----> 2\u001b[0;31m     \u001b[0;34m(\u001b[0m\u001b[0mmx\u001b[0m\u001b[0;34m,\u001b[0m \u001b[0mmy\u001b[0m\u001b[0;34m)\u001b[0m\u001b[0;34m,\u001b[0m \u001b[0mmeteo\u001b[0m\u001b[0;34m.\u001b[0m\u001b[0mu_wind\u001b[0m\u001b[0;34m[\u001b[0m\u001b[0;36m0\u001b[0m\u001b[0;34m,\u001b[0m \u001b[0;36m76\u001b[0m\u001b[0;34m:\u001b[0m\u001b[0;34m-\u001b[0m\u001b[0;36m24\u001b[0m\u001b[0;34m:\u001b[0m\u001b[0;36m10\u001b[0m\u001b[0;34m,\u001b[0m \u001b[0;36m55\u001b[0m\u001b[0;34m:\u001b[0m\u001b[0;34m-\u001b[0m\u001b[0;36m50\u001b[0m\u001b[0;34m:\u001b[0m\u001b[0;36m10\u001b[0m\u001b[0;34m]\u001b[0m\u001b[0;34m.\u001b[0m\u001b[0mvalues\u001b[0m\u001b[0;34m.\u001b[0m\u001b[0mflatten\u001b[0m\u001b[0;34m(\u001b[0m\u001b[0;34m)\u001b[0m\u001b[0;34m,\u001b[0m \u001b[0;34m(\u001b[0m\u001b[0mwx\u001b[0m\u001b[0;34m,\u001b[0m \u001b[0mwy\u001b[0m\u001b[0;34m)\u001b[0m\u001b[0;34m\u001b[0m\u001b[0m\n\u001b[0m\u001b[1;32m      3\u001b[0m )\n",
      "\u001b[0;32m/home/doug/warehouse/conda_envs/sog-waves-analysis/lib/python3.6/site-packages/scipy/interpolate/ndgriddata.py\u001b[0m in \u001b[0;36mgriddata\u001b[0;34m(points, values, xi, method, fill_value, rescale)\u001b[0m\n\u001b[1;32m    215\u001b[0m     \u001b[0;32melif\u001b[0m \u001b[0mmethod\u001b[0m \u001b[0;34m==\u001b[0m \u001b[0;34m'linear'\u001b[0m\u001b[0;34m:\u001b[0m\u001b[0;34m\u001b[0m\u001b[0m\n\u001b[1;32m    216\u001b[0m         ip = LinearNDInterpolator(points, values, fill_value=fill_value,\n\u001b[0;32m--> 217\u001b[0;31m                                   rescale=rescale)\n\u001b[0m\u001b[1;32m    218\u001b[0m         \u001b[0;32mreturn\u001b[0m \u001b[0mip\u001b[0m\u001b[0;34m(\u001b[0m\u001b[0mxi\u001b[0m\u001b[0;34m)\u001b[0m\u001b[0;34m\u001b[0m\u001b[0m\n\u001b[1;32m    219\u001b[0m     \u001b[0;32melif\u001b[0m \u001b[0mmethod\u001b[0m \u001b[0;34m==\u001b[0m \u001b[0;34m'cubic'\u001b[0m \u001b[0;32mand\u001b[0m \u001b[0mndim\u001b[0m \u001b[0;34m==\u001b[0m \u001b[0;36m2\u001b[0m\u001b[0;34m:\u001b[0m\u001b[0;34m\u001b[0m\u001b[0m\n",
      "\u001b[0;32mscipy/interpolate/interpnd.pyx\u001b[0m in \u001b[0;36mscipy.interpolate.interpnd.LinearNDInterpolator.__init__ (scipy/interpolate/interpnd.c:4934)\u001b[0;34m()\u001b[0m\n",
      "\u001b[0;32mscipy/interpolate/interpnd.pyx\u001b[0m in \u001b[0;36mscipy.interpolate.interpnd.NDInterpolatorBase.__init__ (scipy/interpolate/interpnd.c:2386)\u001b[0;34m()\u001b[0m\n",
      "\u001b[0;32mscipy/interpolate/interpnd.pyx\u001b[0m in \u001b[0;36mscipy.interpolate.interpnd._check_init_shape (scipy/interpolate/interpnd.c:4593)\u001b[0;34m()\u001b[0m\n",
      "\u001b[0;31mValueError\u001b[0m: invalid shape for input data points"
     ]
    }
   ],
   "source": [
    "interp = interpolate.griddata(\n",
    "    (mx, my), meteo.u_wind[0, 76:-24:10, 55:-50:10].values.flatten(), (wx, wy)\n",
    ")"
   ]
  },
  {
   "cell_type": "code",
   "execution_count": 12,
   "metadata": {
    "collapsed": false
   },
   "outputs": [
    {
     "data": {
      "text/plain": [
       "(<xarray.DataArray 'nav_lon' (y: 17, x: 16)>\n",
       " array([[ 234.099159,  234.401271,  234.704096, ...,  238.077993,  238.388195,\n",
       "          238.698907],\n",
       "        [ 234.029679,  234.333309,  234.637664, ...,  238.029071,  238.340921,\n",
       "          238.653289],\n",
       "        [ 233.959459,  234.264622,  234.570521, ...,  237.979614,  238.293129,\n",
       "          238.60717 ],\n",
       "        ..., \n",
       "        [ 233.054649,  233.379403,  233.705051, ...,  237.341012,  237.675946,\n",
       "          238.011524],\n",
       "        [ 232.973662,  233.300154,  233.627556, ...,  237.283729,  237.620577,\n",
       "          237.95808 ],\n",
       "        [ 232.891748,  233.219996,  233.549169, ...,  237.225769,  237.564552,\n",
       "          237.904002]])\n",
       " Coordinates:\n",
       "   * x        (x) float64 1.375e+05 1.625e+05 1.875e+05 2.125e+05 2.375e+05 ...\n",
       "   * y        (y) float64 1.9e+05 2.15e+05 2.4e+05 2.65e+05 2.9e+05 3.15e+05 ...\n",
       " Attributes:\n",
       "     units: degrees_east\n",
       "     long_name: longitude, <xarray.DataArray 'nav_lat' (y: 17, x: 16)>\n",
       " array([[ 47.468129,  47.51432 ,  47.559446, ...,  47.984296,  48.016306,\n",
       "          48.047197],\n",
       "        [ 47.672224,  47.718724,  47.764153, ...,  48.191881,  48.224109,\n",
       "          48.255212],\n",
       "        [ 47.876545,  47.923357,  47.969091, ...,  48.399725,  48.432175,\n",
       "          48.463491],\n",
       "        ..., \n",
       "        [ 50.345175,  50.395987,  50.445639, ...,  50.913576,  50.948869,\n",
       "          50.982934],\n",
       "        [ 50.55223 ,  50.603398,  50.653398, ...,  51.124662,  51.160209,\n",
       "          51.194518],\n",
       "        [ 50.759479,  50.811007,  50.86136 , ...,  51.335986,  51.371789,\n",
       "          51.406347]])\n",
       " Coordinates:\n",
       "   * x        (x) float64 1.375e+05 1.625e+05 1.875e+05 2.125e+05 2.375e+05 ...\n",
       "   * y        (y) float64 1.9e+05 2.15e+05 2.4e+05 2.65e+05 2.9e+05 3.15e+05 ...\n",
       " Attributes:\n",
       "     units: degrees_north\n",
       "     long_name: latitude, <xarray.DataArray 'u_wind' (y: 17, x: 16)>\n",
       " array([[ 3.510665,  3.310665,  3.260665, ...,  0.830665,  0.900665,  1.000665],\n",
       "        [ 3.310665,  3.060665,  3.020665, ...,  0.700665,  0.820665,  0.810665],\n",
       "        [ 4.190665,  2.630665,  2.740665, ...,  0.370665,  0.900665,  0.850665],\n",
       "        ..., \n",
       "        [ 0.420665,  0.250665, -1.349335, ...,  1.560665,  1.100665,  1.380665],\n",
       "        [-0.279335, -2.359335, -3.579335, ...,  1.640665,  2.310665, -0.129335],\n",
       "        [-1.099335, -1.519335, -2.429335, ...,  1.990665,  2.270665,  1.800665]])\n",
       " Coordinates:\n",
       "     time_counter  datetime64[ns] 2017-03-17\n",
       "   * x             (x) float64 1.375e+05 1.625e+05 1.875e+05 2.125e+05 ...\n",
       "   * y             (y) float64 1.9e+05 2.15e+05 2.4e+05 2.65e+05 2.9e+05 ...\n",
       " Attributes:\n",
       "     short_name: UGRD_10maboveground\n",
       "     long_name: U-Component of Wind\n",
       "     level: 10 m above ground\n",
       "     units: m/s\n",
       "     coordinates: longitude latitude)"
      ]
     },
     "execution_count": 12,
     "metadata": {},
     "output_type": "execute_result"
    }
   ],
   "source": [
    "meteo.nav_lon[76:-24:10, 55:-50:10], meteo.nav_lat[76:-24:10, 55:-50:10], meteo.u_wind[0, 76:-24:10, 55:-50:10]"
   ]
  },
  {
   "cell_type": "code",
   "execution_count": 13,
   "metadata": {
    "collapsed": false
   },
   "outputs": [
    {
     "name": "stderr",
     "output_type": "stream",
     "text": [
      "/home/doug/warehouse/conda_envs/sog-waves-analysis/lib/python3.6/site-packages/scipy/interpolate/_fitpack_impl.py:975: RuntimeWarning: No more knots can be added because the number of B-spline\n",
      "coefficients already exceeds the number of data points m.\n",
      "Probable causes: either s or m too small. (fp>s)\n",
      "\tkx,ky=1,1 nx,ny=34,35 m=1054 fp=10.988117 s=0.000000\n",
      "  warnings.warn(RuntimeWarning(_iermess2[ierm][0] + _mess))\n"
     ]
    }
   ],
   "source": [
    "interp = interpolate.interp2d(\n",
    "    meteo.nav_lon[76:-24:5, 55:-50:5], meteo.nav_lat[76:-24:5, 55:-50:5], meteo.u_wind[0, 76:-24:5, 55:-50:5]\n",
    ")"
   ]
  },
  {
   "cell_type": "code",
   "execution_count": 63,
   "metadata": {
    "collapsed": false,
    "deletable": true,
    "editable": true
   },
   "outputs": [
    {
     "name": "stderr",
     "output_type": "stream",
     "text": [
      "/home/doug/warehouse/conda_envs/sog-waves-analysis/lib/python3.6/site-packages/scipy/interpolate/_fitpack_impl.py:975: RuntimeWarning: No more knots can be added because the number of B-spline\n",
      "coefficients already exceeds the number of data points m.\n",
      "Probable causes: either s or m too small. (fp>s)\n",
      "\tkx,ky=1,1 nx,ny=28,25 m=576 fp=0.000848 s=0.000000\n",
      "  warnings.warn(RuntimeWarning(_iermess2[ierm][0] + _mess))\n"
     ]
    }
   ],
   "source": [
    "y_slice = slice(76, 100)\n",
    "x_slice = slice(76, 100)\n",
    "interp = interpolate.interp2d(\n",
    "    meteo.nav_lon[y_slice, x_slice], meteo.nav_lat[y_slice, x_slice], meteo.u_wind[0, y_slice, x_slice]\n",
    ")"
   ]
  },
  {
   "cell_type": "code",
   "execution_count": 60,
   "metadata": {
    "collapsed": false,
    "deletable": true,
    "editable": true
   },
   "outputs": [
    {
     "data": {
      "text/plain": [
       "array([ 2.30381552])"
      ]
     },
     "execution_count": 60,
     "metadata": {},
     "output_type": "execute_result"
    }
   ],
   "source": [
    "interp(233.01, 45.67)"
   ]
  },
  {
   "cell_type": "code",
   "execution_count": 62,
   "metadata": {
    "collapsed": false
   },
   "outputs": [
    {
     "data": {
      "text/plain": [
       "<xarray.DataArray 'nav_lat' (y: 242, x: 256)>\n",
       "array([[ 45.664901,  45.66989 ,  45.674869, ...,  46.601005,  46.603365,\n",
       "         46.605715],\n",
       "       [ 45.684955,  45.689948,  45.69493 , ...,  46.621673,  46.624035,\n",
       "         46.626387],\n",
       "       [ 45.705012,  45.710008,  45.714993, ...,  46.642345,  46.644709,\n",
       "         46.647061],\n",
       "       ..., \n",
       "       [ 50.516924,  50.522775,  50.528615, ...,  51.618672,  51.621461,\n",
       "         51.624237],\n",
       "       [ 50.537453,  50.543308,  50.549152, ...,  51.639984,  51.642774,\n",
       "         51.645552],\n",
       "       [ 50.557983,  50.563843,  50.569691, ...,  51.661298,  51.66409 ,\n",
       "         51.66687 ]])\n",
       "Coordinates:\n",
       "  * x        (x) float64 0.0 2.5e+03 5e+03 7.5e+03 1e+04 1.25e+04 1.5e+04 ...\n",
       "  * y        (y) float64 0.0 2.5e+03 5e+03 7.5e+03 1e+04 1.25e+04 1.5e+04 ...\n",
       "Attributes:\n",
       "    units: degrees_north\n",
       "    long_name: latitude"
      ]
     },
     "execution_count": 62,
     "metadata": {},
     "output_type": "execute_result"
    }
   ],
   "source": [
    "meteo.nav_lat[:-24, :]"
   ]
  },
  {
   "cell_type": "markdown",
   "metadata": {
    "deletable": true,
    "editable": true
   },
   "source": [
    "Use http://www.movable-type.co.uk/scripts/latlong.html to calculate grid point to grid point bearings:\n",
    "\n",
    "### SW corner"
   ]
  },
  {
   "cell_type": "code",
   "execution_count": 9,
   "metadata": {
    "collapsed": false,
    "deletable": true,
    "editable": true
   },
   "outputs": [
    {
     "name": "stdout",
     "output_type": "stream",
     "text": [
      "[ 45.664901    45.68495545]\n",
      "[ 233.015505   233.0083553]\n"
     ]
    }
   ],
   "source": [
    "print(meteo.nav_lat[0:2, 0].data)\n",
    "print(meteo.nav_lon[0:2, 0].data)"
   ]
  },
  {
   "cell_type": "markdown",
   "metadata": {
    "deletable": true,
    "editable": true
   },
   "source": [
    "Initial bearing: \t346° 00′ 52″\n",
    "\n",
    "Final bearing: \t346° 00′ 34″"
   ]
  },
  {
   "cell_type": "code",
   "execution_count": 10,
   "metadata": {
    "collapsed": false,
    "deletable": true,
    "editable": true
   },
   "outputs": [
    {
     "name": "stdout",
     "output_type": "stream",
     "text": [
      "[ 45.664901    45.66989016]\n",
      "[ 233.015505    233.04420318]\n"
     ]
    }
   ],
   "source": [
    "print(meteo.nav_lat[0, 0:2].data)\n",
    "print(meteo.nav_lon[0, 0:2].data)"
   ]
  },
  {
   "cell_type": "markdown",
   "metadata": {
    "deletable": true,
    "editable": true
   },
   "source": [
    "Initial bearing: \t076° 01′ 11″\n",
    "\n",
    "Final bearing: \t076° 02′ 24″"
   ]
  },
  {
   "cell_type": "markdown",
   "metadata": {
    "deletable": true,
    "editable": true
   },
   "source": [
    "### SE corner"
   ]
  },
  {
   "cell_type": "code",
   "execution_count": 12,
   "metadata": {
    "collapsed": false,
    "deletable": true,
    "editable": true
   },
   "outputs": [
    {
     "name": "stdout",
     "output_type": "stream",
     "text": [
      "[ 46.60571492  46.62638675]\n",
      "[ 240.52961343  240.52619937]\n"
     ]
    }
   ],
   "source": [
    "print(meteo.nav_lat[0:2, -1].data)\n",
    "print(meteo.nav_lon[0:2, -1].data)"
   ]
  },
  {
   "cell_type": "markdown",
   "metadata": {
    "deletable": true,
    "editable": true
   },
   "source": [
    "Initial bearing: \t353° 31′ 45″\n",
    "\n",
    "Final bearing: \t353° 31′ 36″"
   ]
  },
  {
   "cell_type": "code",
   "execution_count": 13,
   "metadata": {
    "collapsed": false,
    "deletable": true,
    "editable": true
   },
   "outputs": [
    {
     "name": "stdout",
     "output_type": "stream",
     "text": [
      "[ 46.60336524  46.60571492]\n",
      "[ 240.49952793  240.52961343]\n"
     ]
    }
   ],
   "source": [
    "print(meteo.nav_lat[0, -2:].data)\n",
    "print(meteo.nav_lon[0, -2:].data)"
   ]
  },
  {
   "cell_type": "markdown",
   "metadata": {
    "deletable": true,
    "editable": true
   },
   "source": [
    "Initial bearing: \t083° 30′ 13″\n",
    "\n",
    "Final bearing: \t083° 31′ 32″"
   ]
  },
  {
   "cell_type": "markdown",
   "metadata": {
    "deletable": true,
    "editable": true
   },
   "source": [
    "### NW corner"
   ]
  },
  {
   "cell_type": "code",
   "execution_count": 14,
   "metadata": {
    "collapsed": false,
    "deletable": true,
    "editable": true
   },
   "outputs": [
    {
     "name": "stdout",
     "output_type": "stream",
     "text": [
      "[ 51.03064696  51.05121732]\n",
      "[ 230.84253367  230.83305233]\n"
     ]
    }
   ],
   "source": [
    "print(meteo.nav_lat[-2:, 0].data)\n",
    "print(meteo.nav_lon[-2:, 0].data)"
   ]
  },
  {
   "cell_type": "markdown",
   "metadata": {
    "deletable": true,
    "editable": true
   },
   "source": [
    "Initial bearing: \t343° 50′ 30″\n",
    "\n",
    "Final bearing: \t343° 50′ 03″"
   ]
  },
  {
   "cell_type": "code",
   "execution_count": 15,
   "metadata": {
    "collapsed": false,
    "deletable": true,
    "editable": true
   },
   "outputs": [
    {
     "name": "stdout",
     "output_type": "stream",
     "text": [
      "[ 51.05121732  51.05717517]\n",
      "[ 230.83305233  230.86578181]\n"
     ]
    }
   ],
   "source": [
    "print(meteo.nav_lat[-1, 0:2].data)\n",
    "print(meteo.nav_lon[-1, 0:2].data)"
   ]
  },
  {
   "cell_type": "markdown",
   "metadata": {
    "deletable": true,
    "editable": true
   },
   "source": [
    "Initial bearing: \t073° 50′ 12″\n",
    "\n",
    "Final bearing: \t073° 51′ 44″"
   ]
  },
  {
   "cell_type": "markdown",
   "metadata": {
    "deletable": true,
    "editable": true
   },
   "source": [
    "### NE Corner"
   ]
  },
  {
   "cell_type": "code",
   "execution_count": 16,
   "metadata": {
    "collapsed": false,
    "deletable": true,
    "editable": true
   },
   "outputs": [
    {
     "name": "stdout",
     "output_type": "stream",
     "text": [
      "[ 52.15788498  52.17926367]\n",
      "[ 239.4839078   239.47930752]\n"
     ]
    }
   ],
   "source": [
    "print(meteo.nav_lat[-2:, -1].data)\n",
    "print(meteo.nav_lon[-2:, -1].data)"
   ]
  },
  {
   "cell_type": "markdown",
   "metadata": {
    "deletable": true,
    "editable": true
   },
   "source": [
    "Initial bearing: \t352° 29′ 00″\n",
    "\n",
    "Final bearing: \t352° 28′ 47″"
   ]
  },
  {
   "cell_type": "markdown",
   "metadata": {
    "deletable": true,
    "editable": true
   },
   "source": [
    "## Currents"
   ]
  },
  {
   "cell_type": "code",
   "execution_count": 22,
   "metadata": {
    "collapsed": false,
    "deletable": true,
    "editable": true
   },
   "outputs": [],
   "source": [
    "mesh = xr.open_dataset('https://salishsea.eos.ubc.ca/erddap/griddap/ubcSSn2DMeshMask2V16-07')"
   ]
  },
  {
   "cell_type": "code",
   "execution_count": 23,
   "metadata": {
    "collapsed": false,
    "deletable": true,
    "editable": true
   },
   "outputs": [
    {
     "data": {
      "text/plain": [
       "<xarray.Dataset>\n",
       "Dimensions:    (gridX: 398, gridY: 898, gridZ: 40)\n",
       "Coordinates:\n",
       "  * gridZ      (gridZ) int32 0 1 2 3 4 5 6 7 8 9 10 11 12 13 14 15 16 17 18 ...\n",
       "  * gridY      (gridY) int16 0 1 2 3 4 5 6 7 8 9 10 11 12 13 14 15 16 17 18 ...\n",
       "  * gridX      (gridX) int16 0 1 2 3 4 5 6 7 8 9 10 11 12 13 14 15 16 17 18 ...\n",
       "Data variables:\n",
       "    e1t        (gridZ, gridY, gridX) float64 ...\n",
       "    e2t        (gridZ, gridY, gridX) float64 ...\n",
       "    e1u        (gridZ, gridY, gridX) float64 ...\n",
       "    e2u        (gridZ, gridY, gridX) float64 ...\n",
       "    e1v        (gridZ, gridY, gridX) float64 ...\n",
       "    e2v        (gridZ, gridY, gridX) float64 ...\n",
       "    e1f        (gridZ, gridY, gridX) float64 ...\n",
       "    e2f        (gridZ, gridY, gridX) float64 ...\n",
       "    glamt      (gridZ, gridY, gridX) float64 ...\n",
       "    gphit      (gridZ, gridY, gridX) float64 ...\n",
       "    glamu      (gridZ, gridY, gridX) float64 ...\n",
       "    gphiu      (gridZ, gridY, gridX) float64 ...\n",
       "    glamv      (gridZ, gridY, gridX) float64 ...\n",
       "    glamf      (gridZ, gridY, gridX) float64 ...\n",
       "    gphiv      (gridZ, gridY, gridX) float64 ...\n",
       "    gphif      (gridZ, gridY, gridX) float64 ...\n",
       "    tmaskutil  (gridZ, gridY, gridX) int8 ...\n",
       "    umaskutil  (gridZ, gridY, gridX) int8 ...\n",
       "    vmaskutil  (gridZ, gridY, gridX) int8 ...\n",
       "    fmaskutil  (gridZ, gridY, gridX) int8 ...\n",
       "    ff         (gridZ, gridY, gridX) float64 ...\n",
       "    mbathy     (gridZ, gridY, gridX) float64 ...\n",
       "Attributes:\n",
       "    acknowledgement: MEOPAR, ONC, Compute Canada\n",
       "    cdm_data_type: Grid\n",
       "    Conventions: CF-1.6, COARDS, ACDD-1.3\n",
       "    coverage_content_type: modelResult\n",
       "    creator_email: sallen@eos.ubc.ca\n",
       "    creator_name: Salish Sea MEOPAR Project Contributors\n",
       "    creator_url: https://salishsea-meopar-docs.readthedocs.io/\n",
       "    drawLandMask: over\n",
       "    file_name: NEMO-forcing/grid/mesh_mask_downbyone2.nc\n",
       "    history: Sun Jun 19 14:06:59 2016: ncks -4 -L4 -O mesh_mask.nc mesh_mask.nc\n",
       "[2016-11-14 16:25] Added metadata to variable in preparation for creation of ERDDAP datasets.\n",
       "2017-03-18T03:22:44Z (local files)\n",
       "2017-03-18T03:22:44Z https://salishsea.eos.ubc.ca/erddap/griddap/ubcSSn2DMeshMask2V16-07.das\n",
       "    infoUrl: https://salishsea-meopar-docs.readthedocs.io/en/latest/results_server/index.html#salish-sea-model-results\n",
       "    institution: UBC EOAS\n",
       "    institution_fullname: Earth, Ocean & Atmospheric Sciences, University of British Columbia\n",
       "    keywords: bathymetry, british columbia, depth, downonegrid2, e1f, e1t, e1u, e1v, e2f, e2t, e2u , e2v, ff, fmaskutil, glamt, glamu, glamv, glamf, gphit, gphiu, gphiv, gphif, mask mesh, mbathy, grid, nemo, ocean, points, salish sea, spacing, t-grid, tmaskutil, u-grid, umaskutil, v-grid, vmaskutil, vorticity, vorticity-grid\n",
       "    license: The Salish Sea MEOPAR NEMO model results are copyright 2013-2016\n",
       "by the Salish Sea MEOPAR Project Contributors and The University of British Columbia.\n",
       "\n",
       "They are licensed under the Apache License, Version 2.0. http://www.apache.org/licenses/LICENSE-2.0\n",
       "    NCO: \"4.5.2\"\n",
       "    project: Salish Sea MEOPAR NEMO Model\n",
       "    references: https://salishsea.eos.ubc.ca/erddap/info/\n",
       "https://bitbucket.org/salishsea/nemo-forcing/src/tip/grid/bathy_meter_downbyone2.nc\n",
       "\n",
       "    source: NEMO-3.6 Salish Sea configuration\n",
       "    sourceUrl: (local files)\n",
       "    standard_name_vocabulary: CF Standard Name Table v29\n",
       "    summary: NEMO grid variable value for the u-v plane of the\n",
       "Salish Sea NEMO model Arakawa-C grid.\n",
       "The values are those calculated by NEMO from the input coordinates and bathymetry files.\n",
       "The variable names are those used by NEMO-3.6,\n",
       "see the NEMO-3.6 book (http://www.nemo-ocean.eu/Media/Files/NEMO_book_V3_6.pdf) for details,\n",
       "or the long_name attributes of the variables for succinct descriptions of the variables.\n",
       "The model grid includes the Juan de Fuca Strait, the Strait of Georgia, Puget Sound,\n",
       "and Jo...\n",
       "    TimeStamp: 19/06/2016 14:06:46 -0700\n",
       "    title: Salish Sea NEMO Model Grid, 2D Mesh Mask, v16-07"
      ]
     },
     "execution_count": 23,
     "metadata": {},
     "output_type": "execute_result"
    }
   ],
   "source": [
    "mesh"
   ]
  },
  {
   "cell_type": "code",
   "execution_count": 25,
   "metadata": {
    "collapsed": false,
    "deletable": true,
    "editable": true
   },
   "outputs": [
    {
     "data": {
      "text/plain": [
       "(<xarray.DataArray 'gphiu' (gridZ: 40, gridY: 898, gridX: 398)>\n",
       " [14296160 values with dtype=float64]\n",
       " Coordinates:\n",
       "   * gridZ    (gridZ) int32 0 1 2 3 4 5 6 7 8 9 10 11 12 13 14 15 16 17 18 19 ...\n",
       "   * gridY    (gridY) int16 0 1 2 3 4 5 6 7 8 9 10 11 12 13 14 15 16 17 18 19 ...\n",
       "   * gridX    (gridX) int16 0 1 2 3 4 5 6 7 8 9 10 11 12 13 14 15 16 17 18 19 ...\n",
       " Attributes:\n",
       "     long_name: latitude of U-grid points\n",
       "     standard_name: gphiu\n",
       "     units: degrees_north,\n",
       " <xarray.DataArray 'glamu' (gridZ: 40, gridY: 898, gridX: 398)>\n",
       " [14296160 values with dtype=float64]\n",
       " Coordinates:\n",
       "   * gridZ    (gridZ) int32 0 1 2 3 4 5 6 7 8 9 10 11 12 13 14 15 16 17 18 19 ...\n",
       "   * gridY    (gridY) int16 0 1 2 3 4 5 6 7 8 9 10 11 12 13 14 15 16 17 18 19 ...\n",
       "   * gridX    (gridX) int16 0 1 2 3 4 5 6 7 8 9 10 11 12 13 14 15 16 17 18 19 ...\n",
       " Attributes:\n",
       "     long_name: longitude of U-grid points\n",
       "     standard_name: glamu\n",
       "     units: degrees_east)"
      ]
     },
     "execution_count": 25,
     "metadata": {},
     "output_type": "execute_result"
    }
   ],
   "source": [
    "mesh.gphiu, mesh.glamu"
   ]
  },
  {
   "cell_type": "markdown",
   "metadata": {
    "deletable": true,
    "editable": true
   },
   "source": [
    "### SW Corner"
   ]
  },
  {
   "cell_type": "code",
   "execution_count": 29,
   "metadata": {
    "collapsed": false,
    "deletable": true,
    "editable": true
   },
   "outputs": [
    {
     "name": "stdout",
     "output_type": "stream",
     "text": [
      "[ 46.86060715  46.86380005]\n",
      "[-123.42677307 -123.42937469]\n"
     ]
    }
   ],
   "source": [
    "print(mesh.gphiu[0, 0:2, 0].data)\n",
    "print(mesh.glamu[0, 0:2, 0].data)"
   ]
  },
  {
   "cell_type": "markdown",
   "metadata": {
    "deletable": true,
    "editable": true
   },
   "source": [
    "Initial bearing: \t330° 52′ 38″\n",
    "Final bearing: \t330° 52′ 31″"
   ]
  },
  {
   "cell_type": "code",
   "execution_count": null,
   "metadata": {
    "collapsed": true,
    "deletable": true,
    "editable": true
   },
   "outputs": [],
   "source": []
  }
 ],
 "metadata": {
  "kernelspec": {
   "display_name": "Python 3",
   "language": "python",
   "name": "python3"
  },
  "language_info": {
   "codemirror_mode": {
    "name": "ipython",
    "version": 3
   },
   "file_extension": ".py",
   "mimetype": "text/x-python",
   "name": "python",
   "nbconvert_exporter": "python",
   "pygments_lexer": "ipython3",
   "version": "3.6.0"
  }
 },
 "nbformat": 4,
 "nbformat_minor": 2
}

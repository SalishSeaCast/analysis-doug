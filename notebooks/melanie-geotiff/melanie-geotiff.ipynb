{
 "cells": [
  {
   "cell_type": "markdown",
   "metadata": {},
   "source": [
    "# Explore Loading CAA geoTIFF\n",
    "\n",
    "Exploring issue that Mélanie is having with loading bathymetry of the Canadian Arctic Archepelago\n",
    "from a geoTIFF she downloaded from GMRT.\n",
    "\n",
    "Using a conda env described by `environment.yaml`.\n",
    "Exact package versions are recorded in `requirements.txt`."
   ]
  },
  {
   "cell_type": "code",
   "execution_count": 1,
   "metadata": {},
   "outputs": [],
   "source": [
    "%matplotlib inline"
   ]
  },
  {
   "cell_type": "markdown",
   "metadata": {},
   "source": [
    "## Mélanie's `basemap` Code"
   ]
  },
  {
   "cell_type": "code",
   "execution_count": null,
   "metadata": {},
   "outputs": [],
   "source": [
    "import os\n",
    "# PROJ_LIB envvar is already defined in my env\n",
    "# os.environ['PROJ_LIB'] = r'C://Users/Mel/Anaconda3/pkgs/proj4-5.2.0-h6538335_1006\\Library\\share'\n",
    "from mpl_toolkits.basemap import Basemap\n",
    "import matplotlib.pyplot as plt\n",
    "from osgeo import gdal\n",
    "from osgeo import osr\n",
    "import numpy as np\n",
    "import math\n",
    "\n",
    "#Plot setup\n",
    "fig= plt.figure(figsize=(10,8))\n",
    "\n",
    "ax = plt.subplot(111,aspect = 'equal')\n",
    "plt.subplots_adjust(left=0.1, bottom=0.1, right=0.9, top=0.9, wspace=0, hspace=0)\n",
    "\n",
    "#Map setup\n",
    "xx=1000\n",
    "map = Basemap(resolution='c', projection='ortho', llcrnrx=-25*xx, llcrnry=-10*xx, urcrnrx=+15*xx, urcrnry=+15*xx, lon_0=-100, lat_0=75)\n",
    "#map.drawcoastlines()\n",
    "#map.drawcountries()\n",
    "#map.fillcontinents(color='grey')\n",
    "\n",
    "# parallels = np.arange(65,90,5)\n",
    "# meridians = np.arange(-175,-50,20)\n",
    "\n",
    "#Load colormap and setup elevation contour levels\n",
    "cmap=plt.get_cmap(\"jet\")\n",
    "clevs = np.linspace(-4500, 0, 16)\n",
    "\n",
    "# Load GeoTiff data\n",
    "raster = 'C://Users/Mel/Documents/Recherche/Post-doc/Vancouver-Toulouse/Vancouver/PaTh_interpretation/CAA-MelvilleSound/GMRTv3_7_20200504topo.tif'\n",
    "\n",
    "ds = gdal.Open(raster)\n",
    "\n",
    "#Get the dimentions of column and row\n",
    "nc   = ds.RasterXSize\n",
    "nr   = ds.RasterYSize\n",
    "\n",
    "#Read elevation data\n",
    "data = ds.ReadAsArray()\n",
    "\n",
    "#Get Longitude and Latitude info\n",
    "geotransform = ds.GetGeoTransform()\n",
    "xOrigin      = geotransform[0]\n",
    "yOrigin      = geotransform[3]\n",
    "pixelWidth   = geotransform[1]\n",
    "pixelHeight  = geotransform[5]\n",
    "\n",
    "#Generate Longitude and Latitude array\n",
    "lons = xOrigin + np.arange(0, nc)*pixelWidth\n",
    "lats = yOrigin + np.arange(0, nr)*pixelHeight\n",
    "\n",
    "#Contour plot\n",
    "x, y = map(*np.meshgrid(lons, lats))\n",
    "##x, y = map(globals()[lons],globals()[lats])\n",
    "cs=map.contourf(x, y, data, clevs, cmap=cmap)\n",
    "\n",
    "map.drawparallels(parallels,labels=[1,0,0,0],color='k', fontsize=10, fontweight='bold')\n",
    "map.drawmeridians(meridians,labels=[0,0,0,1],color='k', fontsize=10, fontweight='bold')\n",
    "\n",
    "cb = map.colorbar(cs, 'bottom', size='5%', pad='10%')\n",
    "\n",
    "cb.set_label('Elevation (m)', fontsize=12, fontweight='bold')\n",
    "cb.ax.tick_params(labelsize=10)\n",
    "\n",
    "plt.show()"
   ]
  },
  {
   "cell_type": "markdown",
   "metadata": {},
   "source": [
    "This code crashes my notebook kernel.\n",
    "I was able to trace that down to the use of the `ortho` projection.\n",
    "As simplified demonstration:"
   ]
  },
  {
   "cell_type": "code",
   "execution_count": 2,
   "metadata": {},
   "outputs": [],
   "source": [
    "from mpl_toolkits.basemap import Basemap"
   ]
  },
  {
   "cell_type": "code",
   "execution_count": 3,
   "metadata": {},
   "outputs": [],
   "source": [
    "# works fine\n",
    "m = Basemap(width=12000000,height=9000000,projection='lcc',\n",
    "            resolution='c',lat_1=45.,lat_2=55,lat_0=50,lon_0=-107.)"
   ]
  },
  {
   "cell_type": "code",
   "execution_count": null,
   "metadata": {},
   "outputs": [],
   "source": [
    "# crashes notebook kernel\n",
    "m = Basemap(projection='ortho',\n",
    "            resolution='c',lat_1=45.,lat_2=55,lat_0=50,lon_0=-107.)"
   ]
  },
  {
   "cell_type": "markdown",
   "metadata": {},
   "source": [
    "## Mélanie's `cartopy` Code"
   ]
  },
  {
   "cell_type": "code",
   "execution_count": 1,
   "metadata": {},
   "outputs": [
    {
     "name": "stdout",
     "output_type": "stream",
     "text": [
      "PROJCS[\"WGS 84 / Arctic Polar Stereographic\",\n",
      "    GEOGCS[\"WGS 84\",\n",
      "        DATUM[\"WGS_1984\",\n",
      "            SPHEROID[\"WGS 84\",6378137,298.257223563,\n",
      "                AUTHORITY[\"EPSG\",\"7030\"]],\n",
      "            AUTHORITY[\"EPSG\",\"6326\"]],\n",
      "        PRIMEM[\"Greenwich\",0,\n",
      "            AUTHORITY[\"EPSG\",\"8901\"]],\n",
      "        UNIT[\"degree\",0.0174532925199433,\n",
      "            AUTHORITY[\"EPSG\",\"9122\"]],\n",
      "        AUTHORITY[\"EPSG\",\"4326\"]],\n",
      "    PROJECTION[\"Polar_Stereographic\"],\n",
      "    PARAMETER[\"latitude_of_origin\",71],\n",
      "    PARAMETER[\"central_meridian\",0],\n",
      "    PARAMETER[\"false_easting\",0],\n",
      "    PARAMETER[\"false_northing\",0],\n",
      "    UNIT[\"metre\",1,\n",
      "        AUTHORITY[\"EPSG\",\"9001\"]],\n",
      "    AXIS[\"Easting\",SOUTH],\n",
      "    AXIS[\"Northing\",SOUTH],\n",
      "    AUTHORITY[\"EPSG\",\"3995\"]]\n"
     ]
    },
    {
     "ename": "ParseError",
     "evalue": "mismatched tag: line 34, column 4 (<string>)",
     "output_type": "error",
     "traceback": [
      "Traceback \u001b[0;36m(most recent call last)\u001b[0m:\n",
      "  File \u001b[1;32m\"/media/doug/warehouse/conda_envs/melanie-geotiff/lib/python3.8/site-packages/IPython/core/interactiveshell.py\"\u001b[0m, line \u001b[1;32m3331\u001b[0m, in \u001b[1;35mrun_code\u001b[0m\n    exec(code_obj, self.user_global_ns, self.user_ns)\n",
      "  File \u001b[1;32m\"<ipython-input-1-7cd5599f2658>\"\u001b[0m, line \u001b[1;32m23\u001b[0m, in \u001b[1;35m<module>\u001b[0m\n    projection = ccrs.epsg(projcs)\n",
      "  File \u001b[1;32m\"/media/doug/warehouse/conda_envs/melanie-geotiff/lib/python3.8/site-packages/cartopy/crs.py\"\u001b[0m, line \u001b[1;32m2557\u001b[0m, in \u001b[1;35mepsg\u001b[0m\n    return cartopy._epsg._EPSGProjection(code)\n",
      "  File \u001b[1;32m\"/media/doug/warehouse/conda_envs/melanie-geotiff/lib/python3.8/site-packages/cartopy/_epsg.py\"\u001b[0m, line \u001b[1;32m43\u001b[0m, in \u001b[1;35m__init__\u001b[0m\n    projection = pyepsg.get(code)\n",
      "  File \u001b[1;32m\"/media/doug/warehouse/conda_envs/melanie-geotiff/lib/python3.8/site-packages/pyepsg.py\"\u001b[0m, line \u001b[1;32m288\u001b[0m, in \u001b[1;35mget\u001b[0m\n    root = ET.fromstring(xml)\n",
      "\u001b[0;36m  File \u001b[0;32m\"/media/doug/warehouse/conda_envs/melanie-geotiff/lib/python3.8/xml/etree/ElementTree.py\"\u001b[0;36m, line \u001b[0;32m1320\u001b[0;36m, in \u001b[0;35mXML\u001b[0;36m\u001b[0m\n\u001b[0;31m    parser.feed(text)\u001b[0m\n",
      "\u001b[0;36m  File \u001b[0;32m\"<string>\"\u001b[0;36m, line \u001b[0;32munknown\u001b[0m\n\u001b[0;31mParseError\u001b[0m\u001b[0;31m:\u001b[0m mismatched tag: line 34, column 4\n"
     ]
    }
   ],
   "source": [
    "from osgeo import gdal, osr\n",
    "\n",
    "gdal.UseExceptions()\n",
    "\n",
    "\n",
    "# fname = 'C://Users/Mel/Documents/Recherche/Post-doc/Vancouver-Toulouse/Vancouver/PaTh_interpretation/CAA-MelvilleSound/GMRTv3_7_20200504topo.tif'\n",
    "fname = \"/home/doug/Downloads/GMRTv3_7_20200504topo.tif\"\n",
    "\n",
    "ds = gdal.Open(fname)\n",
    "data = ds.ReadAsArray()\n",
    "gt = ds.GetGeoTransform()\n",
    "proj = ds.GetProjection()\n",
    "\n",
    "inproj = osr.SpatialReference()\n",
    "inproj.ImportFromWkt(proj)\n",
    "\n",
    "print(inproj)\n",
    "\n",
    "\n",
    "import cartopy.crs as ccrs\n",
    "\n",
    "projcs = inproj.GetAuthorityCode('LOCAL_CS')\n",
    "projection = ccrs.epsg(projcs)\n",
    "print(projection)\n",
    "\n",
    "import matplotlib.pyplot as plt\n",
    "\n",
    "subplot_kw = dict(projection=projection)\n",
    "fig, ax = plt.subplots(figsize=(9, 9), subplot_kw=subplot_kw)\n",
    "\n",
    "extent = (gt[0], gt[0] + ds.RasterXSize * gt[1],\n",
    "          gt[3] + ds.RasterYSize * gt[5], gt[3])\n",
    "\n",
    "img = ax.imshow(data[:3, :, :].transpose((1, 2, 0)), extent=extent,\n",
    "                origin='upper')\n",
    "\n",
    "# create a grid of xy coordinates in the original projection\n",
    "xy_source = np.mgrid[xmin:xmax+xres:xres, ymax+yres:ymin:yres]\n",
    "\n",
    "# Convert from source projection to basemap projection\n",
    "xx, yy = convertXY(xy_source, inproj, outproj)\n",
    "\n",
    "# plot the data (first layer)\n",
    "im1 = m.pcolormesh(xx, yy, data[0,:,:].T, cmap=plt.cm.jet)"
   ]
  },
  {
   "cell_type": "markdown",
   "metadata": {},
   "source": [
    "The above traceback tells me that there is a problem in the geoTIFF file.\n",
    "The only thing I can suggest is to ask GMRT about this."
   ]
  },
  {
   "cell_type": "code",
   "execution_count": null,
   "metadata": {},
   "outputs": [],
   "source": []
  }
 ],
 "metadata": {
  "kernelspec": {
   "display_name": "Python 3",
   "language": "python",
   "name": "python3"
  },
  "language_info": {
   "codemirror_mode": {
    "name": "ipython",
    "version": 3
   },
   "file_extension": ".py",
   "mimetype": "text/x-python",
   "name": "python",
   "nbconvert_exporter": "python",
   "pygments_lexer": "ipython3",
   "version": "3.8.2"
  }
 },
 "nbformat": 4,
 "nbformat_minor": 4
}

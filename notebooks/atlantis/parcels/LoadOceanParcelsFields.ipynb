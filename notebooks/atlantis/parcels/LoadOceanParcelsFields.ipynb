{
 "cells": [
  {
   "cell_type": "markdown",
   "source": [
    "# Building OceanParcels Fields from SalishSeaCast Currents and Winds\n",
    "\n",
    "Riffing on Raisha's \n",
    "[https://github.com/SS-Atlantis/analysis-raisha/blob/main/notebooks/contaminant-dispersal/SSAM-parcels.ipynb](https://github.com/SS-Atlantis/analysis-raisha/blob/main/notebooks/contaminant-dispersal/SSAM-parcels.ipynb)\n",
    "notebook but using `pathlib` and `pprint` from Python stdlib."
   ],
   "metadata": {}
  },
  {
   "cell_type": "markdown",
   "source": [
    "* `pathlib` docs: https://docs.python.org/3/library/pathlib.html\n",
    "* `pprint` docs: https://docs.python.org/3/library/pprint.html"
   ],
   "metadata": {}
  },
  {
   "cell_type": "code",
   "execution_count": 5,
   "source": [
    "import os\n",
    "from pathlib import Path\n",
    "from pprint import pprint\n",
    "\n",
    "from parcels import Field, FieldSet"
   ],
   "outputs": [],
   "metadata": {}
  },
  {
   "cell_type": "code",
   "execution_count": 6,
   "source": [
    "# Data Paths\n",
    "currents = Path('/ocean/rlovindeer/Atlantis/Physics/Raw_Transport_Data/')\n",
    "winds = Path('/ocean/rlovindeer/Atlantis/Physics/Wind/')\n",
    "sea_grid = Path('/ocean/rlovindeer/Atlantis/Physics/Grids/ubcSSnBathymetryV17-02_a29d_efc9_4047.nc')\n",
    "air_grid = Path('/ocean/rlovindeer/Atlantis/Physics/Grids/ubcSSaAtmosphereGridV1_0f03_6268_df4b.nc')"
   ],
   "outputs": [],
   "metadata": {}
  },
  {
   "cell_type": "markdown",
   "source": [
    "`Path` objects are semantically distinct from strings,\n",
    "and they have a bunch of useful methods and properties.\n",
    "\n",
    "One nice one is that you can join path segments of path and files using the `/` operator:\n",
    "\n",
    "```python\n",
    "currents / '2018-01-01_URaw_variables.nc'\n",
    "```\n",
    "    \n",
    "Here the `glob()` method is handy for building a collection of file paths by way of a wildcard pattern.\n",
    "This replaces the `util.parse_wildcards()` function from `ssam_oceanparcels/Parcels_Utils/particle_tracking/parcels/`,\n",
    "albeit without the file existence checks that `parse_wildcards()` does.\n",
    "You could add those if you wanted with something like:\n",
    "\n",
    "```python\n",
    "assert all(p.exists() for p in u_current)\n",
    "```"
   ],
   "metadata": {}
  },
  {
   "cell_type": "code",
   "execution_count": 7,
   "source": [
    "# Salish Sea NEMO Model Grid, Geo-location and Bathymetry, v17-02\n",
    "\n",
    "# Currents\n",
    "u_current = sorted([p for p in currents.glob('2018-01*URaw_variables.nc')])\n",
    "v_current = sorted([p for p in currents.glob('2018-01*VRaw_variables.nc')])\n",
    "\n",
    "filenames = {\n",
    "    'U': {\n",
    "        'lon': sea_grid,\n",
    "        'lat': sea_grid,\n",
    "        'data': u_current\n",
    "    },\n",
    "    'V': {\n",
    "        'lon': sea_grid,\n",
    "        'lat': sea_grid,\n",
    "        'data': v_current\n",
    "    }\n",
    "}\n",
    "pprint(filenames)"
   ],
   "outputs": [
    {
     "output_type": "stream",
     "name": "stdout",
     "text": [
      "{'U': {'data': [PosixPath('/ocean/rlovindeer/Atlantis/Physics/Raw_Transport_Data/2018-01-01_URaw_variables.nc'),\n",
      "                PosixPath('/ocean/rlovindeer/Atlantis/Physics/Raw_Transport_Data/2018-01-05_URaw_variables.nc'),\n",
      "                PosixPath('/ocean/rlovindeer/Atlantis/Physics/Raw_Transport_Data/2018-01-09_URaw_variables.nc'),\n",
      "                PosixPath('/ocean/rlovindeer/Atlantis/Physics/Raw_Transport_Data/2018-01-13_URaw_variables.nc'),\n",
      "                PosixPath('/ocean/rlovindeer/Atlantis/Physics/Raw_Transport_Data/2018-01-17_URaw_variables.nc'),\n",
      "                PosixPath('/ocean/rlovindeer/Atlantis/Physics/Raw_Transport_Data/2018-01-21_URaw_variables.nc'),\n",
      "                PosixPath('/ocean/rlovindeer/Atlantis/Physics/Raw_Transport_Data/2018-01-25_URaw_variables.nc'),\n",
      "                PosixPath('/ocean/rlovindeer/Atlantis/Physics/Raw_Transport_Data/2018-01-29_URaw_variables.nc')],\n",
      "       'lat': PosixPath('/ocean/rlovindeer/Atlantis/Physics/Grids/ubcSSnBathymetryV17-02_a29d_efc9_4047.nc'),\n",
      "       'lon': PosixPath('/ocean/rlovindeer/Atlantis/Physics/Grids/ubcSSnBathymetryV17-02_a29d_efc9_4047.nc')},\n",
      " 'V': {'data': [PosixPath('/ocean/rlovindeer/Atlantis/Physics/Raw_Transport_Data/2018-01-01_VRaw_variables.nc'),\n",
      "                PosixPath('/ocean/rlovindeer/Atlantis/Physics/Raw_Transport_Data/2018-01-05_VRaw_variables.nc'),\n",
      "                PosixPath('/ocean/rlovindeer/Atlantis/Physics/Raw_Transport_Data/2018-01-09_VRaw_variables.nc'),\n",
      "                PosixPath('/ocean/rlovindeer/Atlantis/Physics/Raw_Transport_Data/2018-01-13_VRaw_variables.nc'),\n",
      "                PosixPath('/ocean/rlovindeer/Atlantis/Physics/Raw_Transport_Data/2018-01-17_VRaw_variables.nc'),\n",
      "                PosixPath('/ocean/rlovindeer/Atlantis/Physics/Raw_Transport_Data/2018-01-21_VRaw_variables.nc'),\n",
      "                PosixPath('/ocean/rlovindeer/Atlantis/Physics/Raw_Transport_Data/2018-01-25_VRaw_variables.nc'),\n",
      "                PosixPath('/ocean/rlovindeer/Atlantis/Physics/Raw_Transport_Data/2018-01-29_VRaw_variables.nc')],\n",
      "       'lat': PosixPath('/ocean/rlovindeer/Atlantis/Physics/Grids/ubcSSnBathymetryV17-02_a29d_efc9_4047.nc'),\n",
      "       'lon': PosixPath('/ocean/rlovindeer/Atlantis/Physics/Grids/ubcSSnBathymetryV17-02_a29d_efc9_4047.nc')}}\n"
     ]
    }
   ],
   "metadata": {}
  },
  {
   "cell_type": "markdown",
   "source": [
    "`pprint()` (aka pretty-print) provides nicely indented display of things like nested dictionaries.\n",
    "Jupyter does some level of pretty-printing by itself,\n",
    "but needs an assist when data structure start to get more complicated."
   ],
   "metadata": {}
  },
  {
   "cell_type": "code",
   "execution_count": 4,
   "source": [
    "variables = {\"U\": \"uVelocity\", \"V\": \"vVelocity\"}\n",
    "dimensions = {\"lon\": \"longitude\", \"lat\": \"latitude\", \"time\": \"time\"}\n",
    "print(\"creating from_nemo\")\n",
    "fieldset = FieldSet.from_nemo(\n",
    "    filenames, variables, dimensions, allow_time_extrapolation=True\n",
    ")\n",
    "print(\"creating from_nemo done\")\n",
    "\n",
    "fieldset.add_constant(\"decay\", 1.0 * 3600.0)\n",
    "print(\"add_constant decay\")\n"
   ],
   "outputs": [
    {
     "output_type": "stream",
     "name": "stdout",
     "text": [
      "creating from_nemo\n",
      "creating from_nemo done\n",
      "add_constant decay\n"
     ]
    }
   ],
   "metadata": {}
  },
  {
   "cell_type": "markdown",
   "source": [
    "`os.fspath()` transforms a `Path` object into a string with the correct path separators,\n",
    "etc. for whatever operating system you are on.\n",
    "We need to use it here because I discovered that `Field.from_netcdf()` does some checking"
   ],
   "metadata": {}
  },
  {
   "cell_type": "code",
   "execution_count": 5,
   "source": [
    "# HRDPS, Salish Sea, Atmospheric Forcing Grid, Geo-location, v1\"\n",
    "\n",
    "wind_paths = sorted([p for p in winds.glob('*_Wind_variables.nc')])\n",
    "wind_filenames = {'lon': os.fspath(air_grid), 'lat': os.fspath(air_grid), 'data': wind_paths}\n",
    "wind_dimensions = {'lon': 'longitude', 'lat': 'latitude', 'time': 'time'}\n",
    "\n",
    "pprint(wind_filenames)\n",
    "pprint(wind_dimensions)"
   ],
   "outputs": [
    {
     "output_type": "stream",
     "name": "stdout",
     "text": [
      "{'data': [PosixPath('/ocean/rlovindeer/Atlantis/Physics/Wind/2018-01-01_Wind_variables.nc'),\n",
      "          PosixPath('/ocean/rlovindeer/Atlantis/Physics/Wind/2018-01-03_Wind_variables.nc'),\n",
      "          PosixPath('/ocean/rlovindeer/Atlantis/Physics/Wind/2018-01-05_Wind_variables.nc'),\n",
      "          PosixPath('/ocean/rlovindeer/Atlantis/Physics/Wind/2018-01-07_Wind_variables.nc'),\n",
      "          PosixPath('/ocean/rlovindeer/Atlantis/Physics/Wind/2018-01-09_Wind_variables.nc'),\n",
      "          PosixPath('/ocean/rlovindeer/Atlantis/Physics/Wind/2018-01-11_Wind_variables.nc'),\n",
      "          PosixPath('/ocean/rlovindeer/Atlantis/Physics/Wind/2018-01-13_Wind_variables.nc'),\n",
      "          PosixPath('/ocean/rlovindeer/Atlantis/Physics/Wind/2018-01-15_Wind_variables.nc'),\n",
      "          PosixPath('/ocean/rlovindeer/Atlantis/Physics/Wind/2018-01-17_Wind_variables.nc'),\n",
      "          PosixPath('/ocean/rlovindeer/Atlantis/Physics/Wind/2018-01-19_Wind_variables.nc'),\n",
      "          PosixPath('/ocean/rlovindeer/Atlantis/Physics/Wind/2018-01-21_Wind_variables.nc'),\n",
      "          PosixPath('/ocean/rlovindeer/Atlantis/Physics/Wind/2018-01-23_Wind_variables.nc'),\n",
      "          PosixPath('/ocean/rlovindeer/Atlantis/Physics/Wind/2018-01-25_Wind_variables.nc'),\n",
      "          PosixPath('/ocean/rlovindeer/Atlantis/Physics/Wind/2018-01-27_Wind_variables.nc'),\n",
      "          PosixPath('/ocean/rlovindeer/Atlantis/Physics/Wind/2018-01-29_Wind_variables.nc')],\n",
      " 'lat': '/ocean/rlovindeer/Atlantis/Physics/Grids/ubcSSaAtmosphereGridV1_0f03_6268_df4b.nc',\n",
      " 'lon': '/ocean/rlovindeer/Atlantis/Physics/Grids/ubcSSaAtmosphereGridV1_0f03_6268_df4b.nc'}\n",
      "{'lat': 'latitude', 'lon': 'longitude', 'time': 'time'}\n"
     ]
    }
   ],
   "metadata": {}
  },
  {
   "cell_type": "code",
   "execution_count": 6,
   "source": [
    "Uwind_field = Field.from_netcdf(wind_filenames, ('U_wind', 'u_wind'),\n",
    "                                     wind_dimensions,\n",
    "                                     fieldtype='U',\n",
    "                                     allow_time_extrapolation=True,\n",
    "                                     transpose=False,\n",
    "                                     deferred_load=False)\n",
    "Vwind_field = Field.from_netcdf(wind_filenames, ('V_wind', 'v_wind'),\n",
    "                                     wind_dimensions,\n",
    "                                     fieldtype='V',\n",
    "                                     allow_time_extrapolation=True,\n",
    "                                     transpose=False,\n",
    "                                     deferred_load=False)\n",
    "\n",
    "print('wind data loaded')"
   ],
   "outputs": [
    {
     "output_type": "stream",
     "name": "stdout",
     "text": [
      "wind data loaded\n"
     ]
    }
   ],
   "metadata": {}
  },
  {
   "cell_type": "code",
   "execution_count": null,
   "source": [],
   "outputs": [],
   "metadata": {}
  }
 ],
 "metadata": {
  "kernelspec": {
   "name": "python3",
   "display_name": "Python 3.9.7 64-bit ('atlantis-parcels': conda)"
  },
  "language_info": {
   "codemirror_mode": {
    "name": "ipython",
    "version": 3
   },
   "file_extension": ".py",
   "mimetype": "text/x-python",
   "name": "python",
   "nbconvert_exporter": "python",
   "pygments_lexer": "ipython3",
   "version": "3.9.7"
  },
  "interpreter": {
   "hash": "149b39d54b2f2577358430d5a0153dc12fb26dcdcf3ed9526049bcbab0a90404"
  }
 },
 "nbformat": 4,
 "nbformat_minor": 5
}
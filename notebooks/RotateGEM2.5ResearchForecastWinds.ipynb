{
 "cells": [
  {
   "cell_type": "markdown",
   "metadata": {},
   "source": [
    "# Rotate GEM2.5 Research Forecast Winds\n",
    "\n",
    "This notebook documents the process for correcting the wind direction\n",
    "issue in the GEM2.5 research model forecast files\n",
    "(/results/forcing/atmospheric/GEM2.5/research/).\n",
    "\n"
   ]
  },
  {
   "cell_type": "markdown",
   "metadata": {},
   "source": [
    "Our collaborators at EC discovered in early March 2016 that:\n",
    "\n",
    "> [...]the U and V components of the wind in the netcdfs are labelled as the zonal and \n",
    "> meridional components of the wind while, in fact, they are the U and V components of the wind \n",
    "> on the model grid. In other words, the U (V) component of the wind does [not] lies[sic] in \n",
    "> the East-West (North-South) direction but along the horizontal (vertical) axis of the model \n",
    "> grid.\n",
    "\n",
    "Starting on 7-Apr-2016 the files we download from EC have correct zonal/meridional wind components.\n",
    "The files that we downloaded prior to that date need to have a rotational correction algorithm applied.\n",
    "The date range of the affected files is 10-Sep-2014 through 6-Apr-2016."
   ]
  },
  {
   "cell_type": "markdown",
   "metadata": {},
   "source": [
    "The rotational correction algorithm provided by EC is:\n",
    "\n",
    "1. Read the U and V components of the wind on the model grid.\n",
    "Let's call them `u_grid`  and `v_grid` which are both 2D arrays.\n",
    "\n",
    "2. Convert to polar coordinates:\n",
    "```python\n",
    "modulus = sqrt(u_grid^2 + v_grid^2)\n",
    "rad_to_deg = 180 / pi\n",
    "angle_grid = arctan2(-u_grid, -v_grid) * rad_to_deg\n",
    "```\n",
    "where:\n",
    " * Angles here are defined according to the meteorological wind direction convention.\n",
    " * We use the 2 argument 4 quadrant arctangent function (the `ATAN(Y,X)` of IDL or the `atan2(Y,X)` of Matlab)\n",
    "\n",
    "3. Read the `correction_angle` variable in the provided `corr_fact_west.nc` file\n",
    "(stored as `/results/forcing/atmospheric/GEM2.5/research/corr_fact_west.nc`).\n",
    "This is a 2D array of the same dimension as u_grid and v_grid.\n",
    "\n",
    "4. Apply the correction angle using the following formula:\n",
    "```python\n",
    "angle_WESN = angle_grid + correction_angle\n",
    "```\n",
    "\n",
    "5. Calculate the W-E and S-N components of the wind:\n",
    "```python\n",
    "deg_to_rad = pi / 180\n",
    "u_WE = -modulus * sin(angle_WESN * deg_to_rad)  # the zonal component of the wind\n",
    "v_SN = -modulus * cos(angle_WESN * deg_to_rad)  # the meridional component of the wind\n",
    "```"
   ]
  },
  {
   "cell_type": "code",
   "execution_count": 53,
   "metadata": {
    "collapsed": true
   },
   "outputs": [],
   "source": [
    "import arrow\n",
    "import numpy as np\n",
    "from pathlib import Path\n",
    "import xarray as xr"
   ]
  },
  {
   "cell_type": "code",
   "execution_count": 57,
   "metadata": {
    "collapsed": true
   },
   "outputs": [],
   "source": [
    "corrections = '/results/forcing/atmospheric/GEM2.5/research/corr_fact_west.nc'\n",
    "forecast = '/results/forcing/atmospheric/GEM2.5/research/res_y2016m04d06.nc'\n",
    "corrected_forecast = str(Path(forecast).with_suffix('.corr.nc'))\n",
    "\n",
    "with xr.open_dataset(corrections) as corr:\n",
    "    with xr.open_dataset(forecast) as ds:\n",
    "        modulus = np.sqrt(ds.u_wind**2 + ds.v_wind**2)\n",
    "        angle_grid = np.rad2deg(np.arctan2(-ds.u_wind, -ds.v_wind))\n",
    "        angle_WESN = angle_grid + corr.correction_angle\n",
    "        u_WE = -modulus * np.sin(np.deg2rad(angle_WESN))\n",
    "        v_SN = -modulus * np.cos(np.deg2rad(angle_WESN))\n",
    "        ds.u_wind.values = u_WE\n",
    "        ds.v_wind.values = v_SN\n",
    "        ds.attrs['history'] = '\\n'.join((\n",
    "            ds.history,\n",
    "            '{} Correct wind components to true zonal/meridional values '\n",
    "            'using EC supplied angles and algorithm.'\n",
    "            .format(arrow.now().format('YYYY-MM-DD HH:mm:ss'))\n",
    "        ))\n",
    "        ds.to_netcdf(corrected_forecast, 'w')"
   ]
  }
 ],
 "metadata": {
  "kernelspec": {
   "display_name": "Python 3",
   "language": "python",
   "name": "python3"
  },
  "language_info": {
   "codemirror_mode": {
    "name": "ipython",
    "version": 3
   },
   "file_extension": ".py",
   "mimetype": "text/x-python",
   "name": "python",
   "nbconvert_exporter": "python",
   "pygments_lexer": "ipython3",
   "version": "3.5.1"
  }
 },
 "nbformat": 4,
 "nbformat_minor": 0
}

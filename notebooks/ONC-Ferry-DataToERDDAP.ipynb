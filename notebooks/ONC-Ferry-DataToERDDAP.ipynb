{
 "cells": [
  {
   "cell_type": "markdown",
   "metadata": {},
   "source": [
    "# Development of Algorithms for ERDDAP Dataset from ONC Ferry Data\n",
    "\n",
    "Figuring out how to transform a day's ONC ferry data into\n",
    "a netCDF file that is part of an ERDDAP dataset:\n",
    "\n",
    "* filter the ONC data to include only `qaqcFlag == 1` samples\n",
    "* remove the `qaqcFlag` arrays as variable attributes\n",
    "* aggregate the data into 1 minute time bins;\n",
    "mean, variance, and count for each variable in each time bin\n",
    "* store dataset as netCDF file\n",
    "* generate ERDDAP `/opt/tomcat/content/erddap/datasets.xml` fragment"
   ]
  },
  {
   "cell_type": "code",
   "execution_count": 1,
   "metadata": {
    "collapsed": true
   },
   "outputs": [],
   "source": [
    "from collections import OrderedDict\n",
    "import os\n",
    "from types import SimpleNamespace\n",
    "\n",
    "import arrow\n",
    "from lxml import etree\n",
    "import matplotlib.pyplot as plt\n",
    "import numpy as np\n",
    "import xarray as xr\n",
    "\n",
    "from salishsea_tools import data_tools\n",
    "from salishsea_tools.places import PLACES"
   ]
  },
  {
   "cell_type": "code",
   "execution_count": 2,
   "metadata": {
    "collapsed": true
   },
   "outputs": [],
   "source": [
    "%matplotlib inline"
   ]
  },
  {
   "cell_type": "markdown",
   "metadata": {},
   "source": [
    "## Get Data from ONC `scalardata` Web Service\n",
    "\n",
    "Access to the ONC web services requires a user token which you can generate on the \n",
    "`Web Services API` tab of your [ONC account profile page](http://dmas.uvic.ca/Profile).\n",
    "I have stored mine in an environment variable so as not to publish it to the world\n",
    "in this notebook."
   ]
  },
  {
   "cell_type": "code",
   "execution_count": 4,
   "metadata": {
    "collapsed": true
   },
   "outputs": [],
   "source": [
    "TOKEN = os.environ['ONC_USER_TOKEN']"
   ]
  },
  {
   "cell_type": "markdown",
   "metadata": {},
   "source": [
    "### Data of Interest\n",
    "\n",
    "Consultation with Rich and Susan resulted in this list of data of interest:\n",
    "\n",
    "* Navigation\n",
    "  *  lat/lon\n",
    "* Thermosalinograph\n",
    "   * temperature\n",
    "   * conductivity\n",
    "   * salinity\n",
    "* Oxygen Sensor\n",
    "   * saturation\n",
    "   * corrected concentration\n",
    "* Turbidity, Chlorophyll and Fluorescence\n",
    "  * CDOM fluorescence\n",
    "  * chlorophyll\n",
    "  * turbidity\n",
    "   \n",
    "Only available on Tsawwassen - Duke Point route:\n",
    "\n",
    "* CO2 Sensor\n",
    "  * partial pressure\n",
    "  * linearized concentration\n",
    "  \n",
    "Need to identify when ferries are pn a crossing vs. when they are in a berth\n",
    "(for loading/unloading, etc.).\n",
    "\n",
    "Also need to identify separate crossings."
   ]
  },
  {
   "cell_type": "markdown",
   "metadata": {},
   "source": [
    "### Ferry Location Data - Tsawwassen to Duke Point Route\n",
    "\n",
    "Request a day's worth of ferry location (longitude, latitude) data\n",
    "and parse them into an `xarray.Dataset`:"
   ]
  },
  {
   "cell_type": "code",
   "execution_count": 5,
   "metadata": {
    "collapsed": true
   },
   "outputs": [],
   "source": [
    "onc_data = data_tools.get_onc_data(\n",
    "    'scalardata', 'getByStation', TOKEN,\n",
    "    station='TWDP.N1', \n",
    "    deviceCategory='NAV',\n",
    "    sensors='longitude,latitude',\n",
    "    dateFrom=data_tools.onc_datetime('2017-06-25 00:00', 'utc'),\n",
    ")\n",
    "\n",
    "nav_data = data_tools.onc_json_to_dataset(onc_data)"
   ]
  },
  {
   "cell_type": "code",
   "execution_count": 6,
   "metadata": {},
   "outputs": [
    {
     "data": {
      "text/plain": [
       "<xarray.Dataset>\n",
       "Dimensions:     (sampleTime: 86400)\n",
       "Coordinates:\n",
       "  * sampleTime  (sampleTime) datetime64[ns] 2017-06-25T00:00:00.251000 ...\n",
       "Data variables:\n",
       "    latitude    (sampleTime) float64 49.21 49.21 49.21 49.21 49.21 49.21 ...\n",
       "    longitude   (sampleTime) float64 -123.8 -123.8 -123.8 -123.8 -123.8 ...\n",
       "Attributes:\n",
       "    dateFrom:            2017-06-25T00:00:00.000Z\n",
       "    dateTo:              None\n",
       "    deviceCategory:      NAV\n",
       "    nextDateFrom:        2017-06-26T00:00:00.083Z\n",
       "    outputFormat:        None\n",
       "    rowLimit:            None\n",
       "    sensors:             longitude,latitude\n",
       "    station:             TWDP.N1\n",
       "    totalActualSamples:  172800"
      ]
     },
     "execution_count": 6,
     "metadata": {},
     "output_type": "execute_result"
    }
   ],
   "source": [
    "nav_data"
   ]
  },
  {
   "cell_type": "markdown",
   "metadata": {},
   "source": [
    "Resample longitudes and latitudes to their mean values in 1 minute intervals,\n",
    "and rename the time variable:"
   ]
  },
  {
   "cell_type": "code",
   "execution_count": 7,
   "metadata": {},
   "outputs": [
    {
     "name": "stdout",
     "output_type": "stream",
     "text": [
      "<xarray.DataArray 'longitude' (time: 1440)>\n",
      "array([-123.835195, -123.842457, -123.849763, ..., -123.80404 , -123.812588,\n",
      "       -123.821182])\n",
      "Coordinates:\n",
      "  * time     (time) datetime64[ns] 2017-06-25 2017-06-25T00:01:00 ...\n",
      "<xarray.DataArray 'latitude' (time: 1440)>\n",
      "array([ 49.212699,  49.210974,  49.209306, ...,  49.219091,  49.219294,\n",
      "        49.218618])\n",
      "Coordinates:\n",
      "  * time     (time) datetime64[ns] 2017-06-25 2017-06-25T00:01:00 ...\n"
     ]
    }
   ],
   "source": [
    "lons = (\n",
    "    nav_data.longitude\n",
    "        .resample('1Min', 'sampleTime', how='mean')\n",
    "        .rename({'sampleTime': 'time'})\n",
    ")\n",
    "\n",
    "lats = (\n",
    "    nav_data.latitude\n",
    "        .resample('1Min', 'sampleTime', how='mean')\n",
    "        .rename({'sampleTime': 'time'})\n",
    ")\n",
    "\n",
    "print(lons)\n",
    "print(lats)"
   ]
  },
  {
   "cell_type": "markdown",
   "metadata": {},
   "source": [
    "#### On-Crossing Data Mask\n",
    "\n",
    "Calculate a boolean mask data array that indicates\n",
    "when the ferry is on a crossing vs. when it is in a berth"
   ]
  },
  {
   "cell_type": "code",
   "execution_count": 8,
   "metadata": {},
   "outputs": [
    {
     "data": {
      "text/plain": [
       "({'lon lat': (-123.1281, 49.0084)}, {'lon lat': (-123.8909, 49.1632)})"
      ]
     },
     "execution_count": 8,
     "metadata": {},
     "output_type": "execute_result"
    }
   ],
   "source": [
    "tsw = PLACES['Tsawwassen']\n",
    "duke_pt = PLACES['Duke Pt.']\n",
    "tsw, duke_pt"
   ]
  },
  {
   "cell_type": "code",
   "execution_count": 9,
   "metadata": {},
   "outputs": [
    {
     "data": {
      "text/plain": [
       "[<matplotlib.lines.Line2D at 0x7fd47043ecf8>]"
      ]
     },
     "execution_count": 9,
     "metadata": {},
     "output_type": "execute_result"
    },
    {
     "data": {
      "image/png": "[encoded data removed]",
      "text/plain": [
       "<matplotlib.figure.Figure at 0x7fd471935940>"
      ]
     },
     "metadata": {},
     "output_type": "display_data"
    }
   ],
   "source": [
    "fig, ax = plt.subplots(1, 1)\n",
    "n_pts = slice(14, 45)\n",
    "ax.plot(lons[n_pts], lats[n_pts], 'o-')\n",
    "ax.plot(duke_pt['lon lat'][0], duke_pt['lon lat'][1], 's')"
   ]
  },
  {
   "cell_type": "markdown",
   "metadata": {},
   "source": [
    "The nominal Duke Point ferry terminal location from `PLACES['Duke Pt.']`\n",
    "is clearly not accurate enough for our `in_berth` mask calculation.\n",
    "Instead,\n",
    "we'll use the mean of the cluster of points when the ferry was in-berth."
   ]
  },
  {
   "cell_type": "code",
   "execution_count": 10,
   "metadata": {},
   "outputs": [
    {
     "data": {
      "text/plain": [
       "(<xarray.DataArray 'longitude' ()>\n",
       " array(-123.89095676900132), <xarray.DataArray 'latitude' ()>\n",
       " array(49.16340592936349))"
      ]
     },
     "execution_count": 10,
     "metadata": {},
     "output_type": "execute_result"
    }
   ],
   "source": [
    "dp_data = (lons[15:44].mean(), lats[15:44].mean())\n",
    "dp_data"
   ]
  },
  {
   "cell_type": "markdown",
   "metadata": {},
   "source": [
    "Plotting the `dp_data` location on Google Maps,\n",
    "and playing with offsets leads to choosing 0.002°\n",
    "as a satisfactory \"in-berth\" radius to use."
   ]
  },
  {
   "cell_type": "code",
   "execution_count": 11,
   "metadata": {},
   "outputs": [
    {
     "data": {
      "text/plain": [
       "[<matplotlib.lines.Line2D at 0x7fd470973898>]"
      ]
     },
     "execution_count": 11,
     "metadata": {},
     "output_type": "execute_result"
    },
    {
     "data": {
      "image/png": "[encoded data removed]",
      "text/plain": [
       "<matplotlib.figure.Figure at 0x7fd471935710>"
      ]
     },
     "metadata": {},
     "output_type": "display_data"
    }
   ],
   "source": [
    "dp_radius = 0.002\n",
    "fig, ax = plt.subplots(1, 1)\n",
    "n_pts = slice(11, 47)\n",
    "ax.plot(lons[n_pts], lats[n_pts], 'o-')\n",
    "ax.plot(dp_data[0], dp_data[1], 's')\n",
    "ax.plot(dp_data[0] - dp_radius, dp_data[1], '+')\n",
    "ax.plot(dp_data[0], dp_data[1] + dp_radius, '+')\n",
    "ax.plot(dp_data[0] + dp_radius, dp_data[1], '+')\n",
    "ax.plot(dp_data[0], dp_data[1] - dp_radius, '+')"
   ]
  },
  {
   "cell_type": "code",
   "execution_count": 12,
   "metadata": {},
   "outputs": [
    {
     "data": {
      "text/plain": [
       "<xarray.DataArray 'longitude' (time: 36)>\n",
       "array([False, False, False, False,  True,  True,  True,  True,  True,  True,\n",
       "        True,  True,  True,  True,  True,  True,  True,  True,  True,  True,\n",
       "        True,  True,  True,  True,  True,  True,  True,  True,  True,  True,\n",
       "        True,  True,  True,  True,  True, False], dtype=bool)\n",
       "Coordinates:\n",
       "  * time     (time) datetime64[ns] 2017-06-25T00:11:00 2017-06-25T00:12:00 ..."
      ]
     },
     "execution_count": 12,
     "metadata": {},
     "output_type": "execute_result"
    }
   ],
   "source": [
    "in_berth = np.logical_and(\n",
    "    np.logical_and(\n",
    "        lons[n_pts] > (dp_data[0] - dp_radius), \n",
    "        lons[n_pts] < (dp_data[0] + dp_radius)),\n",
    "    np.logical_and(\n",
    "        lats[n_pts] > (dp_data[1] - dp_radius), \n",
    "        lats[n_pts] < (dp_data[1] + dp_radius))\n",
    "    )\n",
    "in_berth"
   ]
  },
  {
   "cell_type": "code",
   "execution_count": 13,
   "metadata": {},
   "outputs": [
    {
     "data": {
      "text/plain": [
       "[<matplotlib.lines.Line2D at 0x7fd47041f438>]"
      ]
     },
     "execution_count": 13,
     "metadata": {},
     "output_type": "execute_result"
    },
    {
     "data": {
      "image/png": "[encoded data removed]",
      "text/plain": [
       "<matplotlib.figure.Figure at 0x7fd47041c4e0>"
      ]
     },
     "metadata": {},
     "output_type": "display_data"
    }
   ],
   "source": [
    "fig, ax = plt.subplots(1, 1)\n",
    "ax.plot(lons[n_pts][~in_berth], lats[n_pts][~in_berth], 'o')\n",
    "ax.plot(dp_data[0], dp_data[1], 's')\n",
    "ax.plot(dp_data[0] - dp_radius, dp_data[1], '+')\n",
    "ax.plot(dp_data[0], dp_data[1] + dp_radius, '+')\n",
    "ax.plot(dp_data[0] + dp_radius, dp_data[1], '+')\n",
    "ax.plot(dp_data[0], dp_data[1] - dp_radius, '+')"
   ]
  },
  {
   "cell_type": "markdown",
   "metadata": {},
   "source": [
    "Repeating the process for the Tsawwassen terminal:"
   ]
  },
  {
   "cell_type": "code",
   "execution_count": 14,
   "metadata": {},
   "outputs": [
    {
     "data": {
      "text/plain": [
       "[<matplotlib.lines.Line2D at 0x7fd470871588>]"
      ]
     },
     "execution_count": 14,
     "metadata": {},
     "output_type": "execute_result"
    },
    {
     "data": {
      "image/png": "[encoded data removed]",
      "text/plain": [
       "<matplotlib.figure.Figure at 0x7fd470871b70>"
      ]
     },
     "metadata": {},
     "output_type": "display_data"
    }
   ],
   "source": [
    "fig, ax = plt.subplots(1, 1)\n",
    "n_pts = slice(1313, 1349)\n",
    "ax.plot(lons[n_pts], lats[n_pts], 'o-')\n",
    "ax.plot(tsw['lon lat'][0], tsw['lon lat'][1], 's')"
   ]
  },
  {
   "cell_type": "markdown",
   "metadata": {},
   "source": [
    "The nominal Tsawwassen ferry terminal location from `PLACES['Tsawwassen']`\n",
    "is clearly not accurate enough for our `in_berth` mask calculation.\n",
    "Instead,\n",
    "we'll try the mean of the cluster of points when the ferry was in-berth."
   ]
  },
  {
   "cell_type": "code",
   "execution_count": 15,
   "metadata": {},
   "outputs": [
    {
     "data": {
      "text/plain": [
       "(<xarray.DataArray 'longitude' ()>\n",
       " array(-123.13205165939382), <xarray.DataArray 'latitude' ()>\n",
       " array(49.00571794992648))"
      ]
     },
     "execution_count": 15,
     "metadata": {},
     "output_type": "execute_result"
    }
   ],
   "source": [
    "tsw_data = (lons[1314:1348].mean(), lats[1314:1348].mean())\n",
    "tsw_data"
   ]
  },
  {
   "cell_type": "markdown",
   "metadata": {},
   "source": [
    "Plotting the `tsw_data` location on Google Maps,\n",
    "and playing with offsets leads to choosing a better lon/lat,\n",
    "and 0.0015° as a satisfactory \"in-berth\" radius to use."
   ]
  },
  {
   "cell_type": "code",
   "execution_count": 16,
   "metadata": {},
   "outputs": [
    {
     "data": {
      "text/plain": [
       "[<matplotlib.lines.Line2D at 0x7fd4707704a8>]"
      ]
     },
     "execution_count": 16,
     "metadata": {},
     "output_type": "execute_result"
    },
    {
     "data": {
      "image/png": "[encoded data removed]",
      "text/plain": [
       "<matplotlib.figure.Figure at 0x7fd471935b00>"
      ]
     },
     "metadata": {},
     "output_type": "display_data"
    }
   ],
   "source": [
    "tsw_data = (-123.132722, 49.006165)\n",
    "tsw_radius = 0.0015\n",
    "fig, ax = plt.subplots(1, 1)\n",
    "n_pts = slice(1309, 1351)\n",
    "ax.plot(lons[n_pts], lats[n_pts], 'o-')\n",
    "ax.plot(tsw_data[0], tsw_data[1], 's')\n",
    "ax.plot(tsw_data[0] - tsw_radius, tsw_data[1], '+')\n",
    "ax.plot(tsw_data[0], tsw_data[1] + tsw_radius, '+')\n",
    "ax.plot(tsw_data[0] + tsw_radius, tsw_data[1], '+')\n",
    "ax.plot(tsw_data[0], tsw_data[1] - tsw_radius, '+')"
   ]
  },
  {
   "cell_type": "code",
   "execution_count": 17,
   "metadata": {},
   "outputs": [
    {
     "data": {
      "text/plain": [
       "<xarray.DataArray 'longitude' (time: 42)>\n",
       "array([False, False,  True,  True,  True,  True,  True,  True,  True,  True,\n",
       "        True,  True,  True,  True,  True,  True,  True,  True,  True,  True,\n",
       "        True,  True,  True,  True,  True,  True,  True,  True,  True,  True,\n",
       "        True,  True,  True,  True,  True,  True,  True,  True,  True,  True,\n",
       "       False, False], dtype=bool)\n",
       "Coordinates:\n",
       "  * time     (time) datetime64[ns] 2017-06-25T21:49:00 2017-06-25T21:50:00 ..."
      ]
     },
     "execution_count": 17,
     "metadata": {},
     "output_type": "execute_result"
    }
   ],
   "source": [
    "in_berth = np.logical_or(\n",
    "    np.logical_and(\n",
    "        np.logical_and(\n",
    "            lons[n_pts] > (dp_data[0] - dp_radius), \n",
    "            lons[n_pts] < (dp_data[0] + dp_radius)),\n",
    "        np.logical_and(\n",
    "            lats[n_pts] > (dp_data[1] - dp_radius), \n",
    "            lats[n_pts] < (dp_data[1] + dp_radius))\n",
    "    ),\n",
    "    np.logical_and(\n",
    "        np.logical_and(\n",
    "            lons[n_pts] > (tsw_data[0] - tsw_radius), \n",
    "            lons[n_pts] < (tsw_data[0] + tsw_radius)),\n",
    "        np.logical_and(\n",
    "            lats[n_pts] > (tsw_data[1] - tsw_radius), \n",
    "            lats[n_pts] < (tsw_data[1] + tsw_radius))\n",
    "    )\n",
    ")\n",
    "in_berth"
   ]
  },
  {
   "cell_type": "code",
   "execution_count": 18,
   "metadata": {},
   "outputs": [
    {
     "data": {
      "text/plain": [
       "[<matplotlib.lines.Line2D at 0x7fd4706a2a20>]"
      ]
     },
     "execution_count": 18,
     "metadata": {},
     "output_type": "execute_result"
    },
    {
     "data": {
      "image/png": "[encoded data removed]",
      "text/plain": [
       "<matplotlib.figure.Figure at 0x7fd47077c3c8>"
      ]
     },
     "metadata": {},
     "output_type": "display_data"
    }
   ],
   "source": [
    "fig, ax = plt.subplots(1, 1)\n",
    "ax.plot(lons[n_pts][~in_berth], lats[n_pts][~in_berth], 'o')\n",
    "ax.plot(tsw_data[0], tsw_data[1], 's')\n",
    "ax.plot(tsw_data[0] - tsw_radius, tsw_data[1], '+')\n",
    "ax.plot(tsw_data[0], tsw_data[1] + tsw_radius, '+')\n",
    "ax.plot(tsw_data[0] + tsw_radius, tsw_data[1], '+')\n",
    "ax.plot(tsw_data[0], tsw_data[1] - tsw_radius, '+')"
   ]
  },
  {
   "cell_type": "markdown",
   "metadata": {},
   "source": [
    "A function that calculates the `on_crossing` mask:"
   ]
  },
  {
   "cell_type": "code",
   "execution_count": 19,
   "metadata": {},
   "outputs": [
    {
     "data": {
      "text/plain": [
       "<xarray.DataArray 'longitude' (time: 42)>\n",
       "array([ True,  True, False, False, False, False, False, False, False, False,\n",
       "       False, False, False, False, False, False, False, False, False, False,\n",
       "       False, False, False, False, False, False, False, False, False, False,\n",
       "       False, False, False, False, False, False, False, False, False, False,\n",
       "        True,  True], dtype=bool)\n",
       "Coordinates:\n",
       "  * time     (time) datetime64[ns] 2017-06-25T21:49:00 2017-06-25T21:50:00 ..."
      ]
     },
     "execution_count": 19,
     "metadata": {},
     "output_type": "execute_result"
    }
   ],
   "source": [
    "def on_crossing(lons, lats, terminal1, terminal2, n_pts=slice(0, None)):\n",
    "    in_berth = np.logical_or(\n",
    "        np.logical_and(\n",
    "            np.logical_and(\n",
    "                lons[n_pts] > (terminal1.lon - terminal1.radius), \n",
    "                lons[n_pts] < (terminal1.lon + terminal1.radius)),\n",
    "            np.logical_and(\n",
    "                lats[n_pts] > (terminal1.lat - terminal1.radius), \n",
    "                lats[n_pts] < (terminal1.lat + terminal1.radius))\n",
    "        ),\n",
    "        np.logical_and(\n",
    "            np.logical_and(\n",
    "                lons[n_pts] > (terminal2.lon - terminal2.radius), \n",
    "                lons[n_pts] < (terminal2.lon + terminal2.radius)),\n",
    "            np.logical_and(\n",
    "                lats[n_pts] > (terminal2.lat - terminal2.radius), \n",
    "                lats[n_pts] < (terminal2.lat + terminal2.radius))\n",
    "        )\n",
    "    )\n",
    "    return np.logical_not(in_berth)\n",
    "\n",
    "dp_terminal = SimpleNamespace(lon=dp_data[0], lat=dp_data[1], radius=dp_radius)\n",
    "tsw_terminal = SimpleNamespace(lon=tsw_data[0], lat=tsw_data[1], radius=tsw_radius)\n",
    "on_crossing(lons, lats, dp_terminal, tsw_terminal, n_pts)"
   ]
  },
  {
   "cell_type": "markdown",
   "metadata": {},
   "source": [
    "The dataset begins with the end of a crossing:"
   ]
  },
  {
   "cell_type": "code",
   "execution_count": 20,
   "metadata": {},
   "outputs": [
    {
     "name": "stdout",
     "output_type": "stream",
     "text": [
      "<xarray.DataArray 'time' ()>\n",
      "array(1498348800000000000, dtype='datetime64[ns]')\n",
      "Coordinates:\n",
      "    time     datetime64[ns] 2017-06-25 <xarray.DataArray 'time' ()>\n",
      "array(1498349640000000000, dtype='datetime64[ns]')\n",
      "Coordinates:\n",
      "    time     datetime64[ns] 2017-06-25T00:14:00\n",
      "on-crossing minutes:  15\n",
      "in-berth minutes:  1\n"
     ]
    },
    {
     "data": {
      "image/png": "[encoded data removed]",
      "text/plain": [
       "<matplotlib.figure.Figure at 0x7fd4706d45f8>"
      ]
     },
     "metadata": {},
     "output_type": "display_data"
    }
   ],
   "source": [
    "fig, ax = plt.subplots(1, 1)\n",
    "\n",
    "n_pts = slice(0, 16)\n",
    "on_crossing_mask = on_crossing(lons, lats, dp_terminal, tsw_terminal, n_pts)\n",
    "\n",
    "ax.plot(lons[n_pts][on_crossing_mask], lats[n_pts][on_crossing_mask], 'o')\n",
    "\n",
    "ax.plot(tsw_data[0], tsw_data[1], 's')\n",
    "ax.plot(tsw_data[0] - tsw_radius, tsw_data[1], '+')\n",
    "ax.plot(tsw_data[0], tsw_data[1] + tsw_radius, '+')\n",
    "ax.plot(tsw_data[0] + tsw_radius, tsw_data[1], '+')\n",
    "ax.plot(tsw_data[0], tsw_data[1] - tsw_radius, '+')\n",
    "\n",
    "ax.plot(dp_data[0], dp_data[1], 's')\n",
    "ax.plot(dp_data[0] - dp_radius, dp_data[1], '+')\n",
    "ax.plot(dp_data[0], dp_data[1] + dp_radius, '+')\n",
    "ax.plot(dp_data[0] + dp_radius, dp_data[1], '+')\n",
    "ax.plot(dp_data[0], dp_data[1] - dp_radius, '+')\n",
    "\n",
    "print(lons.time[n_pts][on_crossing_mask][0], lons.time[n_pts][on_crossing_mask][-1])\n",
    "print('on-crossing minutes: ', lons.time[n_pts][on_crossing_mask].size)\n",
    "print('in-berth minutes: ', lons.time[n_pts][~on_crossing_mask].size)\n",
    "total_on_crossing_minutes, total_in_berth_minutes = 0, 0\n",
    "total_on_crossing_minutes += lons.time[n_pts][on_crossing_mask].size\n",
    "total_in_berth_minutes += lons.time[n_pts][~on_crossing_mask].size"
   ]
  },
  {
   "cell_type": "markdown",
   "metadata": {},
   "source": [
    "That is followed by a southbund crossing:"
   ]
  },
  {
   "cell_type": "code",
   "execution_count": 21,
   "metadata": {},
   "outputs": [
    {
     "name": "stdout",
     "output_type": "stream",
     "text": [
      "<xarray.DataArray 'time' ()>\n",
      "array(1498351560000000000, dtype='datetime64[ns]')\n",
      "Coordinates:\n",
      "    time     datetime64[ns] 2017-06-25T00:46:00 <xarray.DataArray 'time' ()>\n",
      "array(1498358520000000000, dtype='datetime64[ns]')\n",
      "Coordinates:\n",
      "    time     datetime64[ns] 2017-06-25T02:42:00\n",
      "on-crossing minutes:  117\n",
      "in-berth minutes:  32\n"
     ]
    },
    {
     "data": {
      "image/png": "[encoded data removed]",
      "text/plain": [
       "<matplotlib.figure.Figure at 0x7fd4705ffeb8>"
      ]
     },
     "metadata": {},
     "output_type": "display_data"
    }
   ],
   "source": [
    "fig, ax = plt.subplots(1, 1)\n",
    "\n",
    "n_pts = slice(16, 165)\n",
    "on_crossing_mask = on_crossing(lons, lats, dp_terminal, tsw_terminal, n_pts)\n",
    "\n",
    "ax.plot(lons[n_pts][on_crossing_mask], lats[n_pts][on_crossing_mask], 'o')\n",
    "\n",
    "ax.plot(tsw_data[0], tsw_data[1], 's')\n",
    "ax.plot(tsw_data[0] - tsw_radius, tsw_data[1], '+')\n",
    "ax.plot(tsw_data[0], tsw_data[1] + tsw_radius, '+')\n",
    "ax.plot(tsw_data[0] + tsw_radius, tsw_data[1], '+')\n",
    "ax.plot(tsw_data[0], tsw_data[1] - tsw_radius, '+')\n",
    "\n",
    "ax.plot(dp_data[0], dp_data[1], 's')\n",
    "ax.plot(dp_data[0] - dp_radius, dp_data[1], '+')\n",
    "ax.plot(dp_data[0], dp_data[1] + dp_radius, '+')\n",
    "ax.plot(dp_data[0] + dp_radius, dp_data[1], '+')\n",
    "ax.plot(dp_data[0], dp_data[1] - dp_radius, '+')\n",
    "\n",
    "print(lons.time[n_pts][on_crossing_mask][0], lons.time[n_pts][on_crossing_mask][-1])\n",
    "print('on-crossing minutes: ', lons.time[n_pts][on_crossing_mask].size)\n",
    "print('in-berth minutes: ', lons.time[n_pts][~on_crossing_mask].size)\n",
    "total_on_crossing_minutes += lons.time[n_pts][on_crossing_mask].size\n",
    "total_in_berth_minutes += lons.time[n_pts][~on_crossing_mask].size"
   ]
  },
  {
   "cell_type": "markdown",
   "metadata": {},
   "source": [
    "There is a long time gap until the next crossing northbound:"
   ]
  },
  {
   "cell_type": "code",
   "execution_count": 22,
   "metadata": {},
   "outputs": [
    {
     "name": "stdout",
     "output_type": "stream",
     "text": [
      "<xarray.DataArray 'time' ()>\n",
      "array(1498411080000000000, dtype='datetime64[ns]')\n",
      "Coordinates:\n",
      "    time     datetime64[ns] 2017-06-25T17:18:00 <xarray.DataArray 'time' ()>\n",
      "array(1498417920000000000, dtype='datetime64[ns]')\n",
      "Coordinates:\n",
      "    time     datetime64[ns] 2017-06-25T19:12:00\n",
      "on-crossing minutes:  115\n",
      "in-berth minutes:  875\n"
     ]
    },
    {
     "data": {
      "image/png": "[encoded data removed]",
      "text/plain": [
       "<matplotlib.figure.Figure at 0x7fd470595ef0>"
      ]
     },
     "metadata": {},
     "output_type": "display_data"
    }
   ],
   "source": [
    "fig, ax = plt.subplots(1, 1)\n",
    "\n",
    "n_pts = slice(165, 1155)\n",
    "on_crossing_mask = on_crossing(lons, lats, dp_terminal, tsw_terminal, n_pts)\n",
    "\n",
    "ax.plot(lons[n_pts][on_crossing_mask], lats[n_pts][on_crossing_mask], 'o')\n",
    "\n",
    "ax.plot(tsw_data[0], tsw_data[1], 's')\n",
    "ax.plot(tsw_data[0] - tsw_radius, tsw_data[1], '+')\n",
    "ax.plot(tsw_data[0], tsw_data[1] + tsw_radius, '+')\n",
    "ax.plot(tsw_data[0] + tsw_radius, tsw_data[1], '+')\n",
    "ax.plot(tsw_data[0], tsw_data[1] - tsw_radius, '+')\n",
    "\n",
    "ax.plot(dp_data[0], dp_data[1], 's')\n",
    "ax.plot(dp_data[0] - dp_radius, dp_data[1], '+')\n",
    "ax.plot(dp_data[0], dp_data[1] + dp_radius, '+')\n",
    "ax.plot(dp_data[0] + dp_radius, dp_data[1], '+')\n",
    "ax.plot(dp_data[0], dp_data[1] - dp_radius, '+')\n",
    "\n",
    "print(lons.time[n_pts][on_crossing_mask][0], lons.time[n_pts][on_crossing_mask][-1])\n",
    "print('on-crossing minutes: ', lons.time[n_pts][on_crossing_mask].size)\n",
    "print('in-berth minutes: ', lons.time[n_pts][~on_crossing_mask].size)\n",
    "total_on_crossing_minutes += lons.time[n_pts][on_crossing_mask].size\n",
    "total_in_berth_minutes += lons.time[n_pts][~on_crossing_mask].size"
   ]
  },
  {
   "cell_type": "markdown",
   "metadata": {},
   "source": [
    "The third crossing is southbound again:"
   ]
  },
  {
   "cell_type": "code",
   "execution_count": 23,
   "metadata": {},
   "outputs": [
    {
     "name": "stdout",
     "output_type": "stream",
     "text": [
      "<xarray.DataArray 'time' ()>\n",
      "array(1498420680000000000, dtype='datetime64[ns]')\n",
      "Coordinates:\n",
      "    time     datetime64[ns] 2017-06-25T19:58:00 <xarray.DataArray 'time' ()>\n",
      "array(1498427400000000000, dtype='datetime64[ns]')\n",
      "Coordinates:\n",
      "    time     datetime64[ns] 2017-06-25T21:50:00\n",
      "on-crossing minutes:  113\n",
      "in-berth minutes:  47\n"
     ]
    },
    {
     "data": {
      "image/png": "[encoded data removed]",
      "text/plain": [
       "<matplotlib.figure.Figure at 0x7fd4705c20b8>"
      ]
     },
     "metadata": {},
     "output_type": "display_data"
    }
   ],
   "source": [
    "fig, ax = plt.subplots(1, 1)\n",
    "\n",
    "n_pts = slice(1155, 1315)\n",
    "on_crossing_mask = on_crossing(lons, lats, dp_terminal, tsw_terminal, n_pts)\n",
    "\n",
    "ax.plot(lons[n_pts][on_crossing_mask], lats[n_pts][on_crossing_mask], 'o')\n",
    "\n",
    "ax.plot(tsw_data[0], tsw_data[1], 's')\n",
    "ax.plot(tsw_data[0] - tsw_radius, tsw_data[1], '+')\n",
    "ax.plot(tsw_data[0], tsw_data[1] + tsw_radius, '+')\n",
    "ax.plot(tsw_data[0] + tsw_radius, tsw_data[1], '+')\n",
    "ax.plot(tsw_data[0], tsw_data[1] - tsw_radius, '+')\n",
    "\n",
    "ax.plot(dp_data[0], dp_data[1], 's')\n",
    "ax.plot(dp_data[0] - dp_radius, dp_data[1], '+')\n",
    "ax.plot(dp_data[0], dp_data[1] + dp_radius, '+')\n",
    "ax.plot(dp_data[0] + dp_radius, dp_data[1], '+')\n",
    "ax.plot(dp_data[0], dp_data[1] - dp_radius, '+')\n",
    "\n",
    "print(lons.time[n_pts][on_crossing_mask][0], lons.time[n_pts][on_crossing_mask][-1])\n",
    "print('on-crossing minutes: ', lons.time[n_pts][on_crossing_mask].size)\n",
    "print('in-berth minutes: ', lons.time[n_pts][~on_crossing_mask].size)\n",
    "total_on_crossing_minutes += lons.time[n_pts][on_crossing_mask].size\n",
    "total_in_berth_minutes += lons.time[n_pts][~on_crossing_mask].size"
   ]
  },
  {
   "cell_type": "markdown",
   "metadata": {},
   "source": [
    "The final northbound crossing is incomplete:"
   ]
  },
  {
   "cell_type": "code",
   "execution_count": 24,
   "metadata": {},
   "outputs": [
    {
     "name": "stdout",
     "output_type": "stream",
     "text": [
      "<xarray.DataArray 'time' ()>\n",
      "array(1498429740000000000, dtype='datetime64[ns]')\n",
      "Coordinates:\n",
      "    time     datetime64[ns] 2017-06-25T22:29:00 <xarray.DataArray 'time' ()>\n",
      "array(1498435140000000000, dtype='datetime64[ns]')\n",
      "Coordinates:\n",
      "    time     datetime64[ns] 2017-06-25T23:59:00\n",
      "on-crossing minutes:  91\n",
      "in-berth minutes:  34\n"
     ]
    },
    {
     "data": {
      "image/png": "[encoded data removed]",
      "text/plain": [
       "<matplotlib.figure.Figure at 0x7fd4703ee908>"
      ]
     },
     "metadata": {},
     "output_type": "display_data"
    }
   ],
   "source": [
    "fig, ax = plt.subplots(1, 1)\n",
    "\n",
    "n_pts = slice(1315, None)\n",
    "on_crossing_mask = on_crossing(lons, lats, dp_terminal, tsw_terminal, n_pts)\n",
    "\n",
    "ax.plot(lons[n_pts][on_crossing_mask], lats[n_pts][on_crossing_mask], 'o')\n",
    "\n",
    "ax.plot(tsw_data[0], tsw_data[1], 's')\n",
    "ax.plot(tsw_data[0] - tsw_radius, tsw_data[1], '+')\n",
    "ax.plot(tsw_data[0], tsw_data[1] + tsw_radius, '+')\n",
    "ax.plot(tsw_data[0] + tsw_radius, tsw_data[1], '+')\n",
    "ax.plot(tsw_data[0], tsw_data[1] - tsw_radius, '+')\n",
    "\n",
    "ax.plot(dp_data[0], dp_data[1], 's')\n",
    "ax.plot(dp_data[0] - dp_radius, dp_data[1], '+')\n",
    "ax.plot(dp_data[0], dp_data[1] + dp_radius, '+')\n",
    "ax.plot(dp_data[0] + dp_radius, dp_data[1], '+')\n",
    "ax.plot(dp_data[0], dp_data[1] - dp_radius, '+')\n",
    "\n",
    "print(lons.time[n_pts][on_crossing_mask][0], lons.time[n_pts][on_crossing_mask][-1])\n",
    "print('on-crossing minutes: ', lons.time[n_pts][on_crossing_mask].size)\n",
    "print('in-berth minutes: ', lons.time[n_pts][~on_crossing_mask].size)\n",
    "total_on_crossing_minutes += lons.time[n_pts][on_crossing_mask].size\n",
    "total_in_berth_minutes += lons.time[n_pts][~on_crossing_mask].size"
   ]
  },
  {
   "cell_type": "code",
   "execution_count": 25,
   "metadata": {},
   "outputs": [
    {
     "name": "stdout",
     "output_type": "stream",
     "text": [
      "total on-crossing minutes: 451\n",
      "total in-berth minues: 989\n"
     ]
    }
   ],
   "source": [
    "print('total on-crossing minutes:', total_on_crossing_minutes)\n",
    "print('total in-berth minues:', total_in_berth_minutes)"
   ]
  },
  {
   "cell_type": "markdown",
   "metadata": {},
   "source": [
    "The on-crossing mask for the entire dataset:"
   ]
  },
  {
   "cell_type": "code",
   "execution_count": 26,
   "metadata": {},
   "outputs": [
    {
     "name": "stdout",
     "output_type": "stream",
     "text": [
      "total on-crossing minutes: 451\n",
      "total in-berth minutes: 989\n"
     ]
    }
   ],
   "source": [
    "on_crossing_mask = on_crossing(lons, lats, dp_terminal, tsw_terminal)\n",
    "print('total on-crossing minutes:', sum(1 for minute in on_crossing_mask[on_crossing_mask == True]))\n",
    "print('total in-berth minutes:', sum(1 for minute in on_crossing_mask[on_crossing_mask == False]))"
   ]
  },
  {
   "cell_type": "markdown",
   "metadata": {},
   "source": [
    "#### Calculate Index Numbers for Each Crossing\n",
    "\n",
    "Calculate crossing numbers from on-crossing mask.\n",
    "We have to make crossing numbers floats if we want to use NaNs for times when the ferry is\n",
    "in-berth because NumPy lacks the concept on an integer NaN."
   ]
  },
  {
   "cell_type": "code",
   "execution_count": 75,
   "metadata": {},
   "outputs": [
    {
     "name": "stdout",
     "output_type": "stream",
     "text": [
      "[ 0.  0.  0. ...,  4.  4.  4.]\n"
     ]
    }
   ],
   "source": [
    "def calc_crossing_numbers(on_crossing_mask):\n",
    "    crossing_numbers = np.empty_like(on_crossing_mask, dtype=float)\n",
    "    crossing_number = 0\n",
    "    crossing_numbers[0] = 0 if on_crossing_mask[0] else np.nan\n",
    "    for minute in range(1, crossing_numbers.size):\n",
    "        if not on_crossing_mask[minute-1] and on_crossing_mask[minute]:\n",
    "            crossing_number += 1\n",
    "        if on_crossing_mask[minute]:\n",
    "            crossing_numbers[minute] = crossing_number\n",
    "        else:\n",
    "            crossing_numbers[minute] = np.nan\n",
    "    return crossing_numbers\n",
    "\n",
    "crossing_number = calc_crossing_numbers(on_crossing_mask)\n",
    "print(crossing_number)"
   ]
  },
  {
   "cell_type": "code",
   "execution_count": 76,
   "metadata": {},
   "outputs": [
    {
     "data": {
      "text/plain": [
       "[<matplotlib.lines.Line2D at 0x7fd470257400>]"
      ]
     },
     "execution_count": 76,
     "metadata": {},
     "output_type": "execute_result"
    },
    {
     "data": {
      "image/png": "[encoded data removed]",
      "text/plain": [
       "<matplotlib.figure.Figure at 0x7fd470257940>"
      ]
     },
     "metadata": {},
     "output_type": "display_data"
    }
   ],
   "source": [
    "fig, ax = plt.subplots(1, 1)\n",
    "\n",
    "for crossing in range(5):\n",
    "    ax.plot(lons[crossing_number == crossing], lats[crossing_numbers == crossing], 'o')\n",
    "\n",
    "ax.plot(tsw_data[0], tsw_data[1], 's')\n",
    "\n",
    "ax.plot(dp_data[0], dp_data[1], 's')"
   ]
  },
  {
   "cell_type": "markdown",
   "metadata": {},
   "source": [
    "#### Temperature, Conductivity, and Salinity\n",
    "\n",
    "Request a day's worth of temperature,\n",
    "conductivity,\n",
    "and salinity data,\n",
    "and parse them into an `xarray.Dataset`:"
   ]
  },
  {
   "cell_type": "code",
   "execution_count": 51,
   "metadata": {},
   "outputs": [],
   "source": [
    "onc_data = data_tools.get_onc_data(\n",
    "    'scalardata', 'getByStation', TOKEN,\n",
    "    station='TWDP', \n",
    "    deviceCategory='TSG',\n",
    "    sensors='',  # fails if conductivity is included in sensors list, so '' gets all sensors\n",
    "    dateFrom=data_tools.onc_datetime('2017-06-25 00:00', 'utc'),\n",
    ")\n",
    "\n",
    "tsg_data = data_tools.onc_json_to_dataset(onc_data)"
   ]
  },
  {
   "cell_type": "code",
   "execution_count": 52,
   "metadata": {},
   "outputs": [
    {
     "data": {
      "text/plain": [
       "<xarray.Dataset>\n",
       "Dimensions:       (sampleTime: 86399)\n",
       "Coordinates:\n",
       "  * sampleTime    (sampleTime) datetime64[ns] 2017-06-25T00:00:00.756000 ...\n",
       "Data variables:\n",
       "    Conductivity  (sampleTime) float64 2.896 2.897 2.896 2.898 2.897 2.898 ...\n",
       "    salinity      (sampleTime) float64 21.78 21.79 21.79 21.8 21.8 21.81 ...\n",
       "    temperature   (sampleTime) float64 16.7 16.69 16.69 16.69 16.68 16.68 ...\n",
       "Attributes:\n",
       "    dateFrom:            2017-06-25T00:00:00.000Z\n",
       "    dateTo:              None\n",
       "    deviceCategory:      TSG\n",
       "    nextDateFrom:        2017-06-26T00:00:00.594Z\n",
       "    outputFormat:        None\n",
       "    rowLimit:            None\n",
       "    sensors:             None\n",
       "    station:             TWDP\n",
       "    totalActualSamples:  259197"
      ]
     },
     "execution_count": 52,
     "metadata": {},
     "output_type": "execute_result"
    }
   ],
   "source": [
    "tsg_data"
   ]
  },
  {
   "cell_type": "markdown",
   "metadata": {},
   "source": [
    "#### Filter Data Based on `qaqcFlag` Values\n",
    "\n",
    "Filter the temperature data to exclude samples for which `qaqcFlag != 1`:"
   ]
  },
  {
   "cell_type": "code",
   "execution_count": 53,
   "metadata": {},
   "outputs": [
    {
     "data": {
      "text/plain": [
       "<xarray.DataArray 'temperature' (sampleTime: 86399)>\n",
       "array([ 16.6968,  16.6911,  16.6883, ...,  17.8271,  17.8352,  17.8411])\n",
       "Coordinates:\n",
       "  * sampleTime  (sampleTime) datetime64[ns] 2017-06-25T00:00:00.756000 ...\n",
       "Attributes:\n",
       "    qaqcFlag:       [1 1 1 ..., 1 1 1]\n",
       "    sensorName:     Temperature\n",
       "    unitOfMeasure:  C\n",
       "    actualSamples:  86399"
      ]
     },
     "execution_count": 53,
     "metadata": {},
     "output_type": "execute_result"
    }
   ],
   "source": [
    "tsg_data.temperature"
   ]
  },
  {
   "cell_type": "code",
   "execution_count": 54,
   "metadata": {
    "collapsed": true
   },
   "outputs": [],
   "source": [
    "temperature_qaqc_mask = tsg_data.temperature.attrs['qaqcFlag'] == 1\n",
    "temperature = xr.DataArray(\n",
    "    name='temperature',\n",
    "    data=tsg_data.temperature[temperature_qaqc_mask].values,\n",
    "    coords={'time': tsg_data.temperature.sampleTime[temperature_qaqc_mask].values},\n",
    "    dims=('time',),\n",
    ")"
   ]
  },
  {
   "cell_type": "code",
   "execution_count": 55,
   "metadata": {},
   "outputs": [
    {
     "data": {
      "text/plain": [
       "<xarray.DataArray 'temperature' (time: 27535)>\n",
       "array([ 16.6968,  16.6911,  16.6883, ...,  17.8271,  17.8352,  17.8411])\n",
       "Coordinates:\n",
       "  * time     (time) datetime64[ns] 2017-06-25T00:00:00.756000 ..."
      ]
     },
     "execution_count": 55,
     "metadata": {},
     "output_type": "execute_result"
    }
   ],
   "source": [
    "temperature"
   ]
  },
  {
   "cell_type": "markdown",
   "metadata": {},
   "source": [
    "Filter the conductivity data to exclude samples for which `qaqcFlag != 1`:"
   ]
  },
  {
   "cell_type": "code",
   "execution_count": 61,
   "metadata": {},
   "outputs": [
    {
     "data": {
      "text/plain": [
       "<xarray.DataArray 'Conductivity' (sampleTime: 86399)>\n",
       "array([ 2.89591,  2.89653,  2.89641, ...,  2.80121,  2.80222,  2.80234])\n",
       "Coordinates:\n",
       "  * sampleTime  (sampleTime) datetime64[ns] 2017-06-25T00:00:00.756000 ...\n",
       "Attributes:\n",
       "    qaqcFlag:       [1 1 1 ..., 1 1 1]\n",
       "    sensorName:     Conductivity\n",
       "    unitOfMeasure:  S/m\n",
       "    actualSamples:  86399"
      ]
     },
     "execution_count": 61,
     "metadata": {},
     "output_type": "execute_result"
    }
   ],
   "source": [
    "tsg_data.Conductivity"
   ]
  },
  {
   "cell_type": "code",
   "execution_count": 62,
   "metadata": {
    "collapsed": true
   },
   "outputs": [],
   "source": [
    "conductivity_qaqc_mask = tsg_data.Conductivity.attrs['qaqcFlag'] == 1\n",
    "conductivity = xr.DataArray(\n",
    "    name='conductivity',\n",
    "    data=tsg_data.Conductivity[conductivity_qaqc_mask].values,\n",
    "    coords={'time': tsg_data.Conductivity.sampleTime[conductivity_qaqc_mask].values},\n",
    "    dims=('time',),\n",
    ")"
   ]
  },
  {
   "cell_type": "code",
   "execution_count": 63,
   "metadata": {},
   "outputs": [
    {
     "data": {
      "text/plain": [
       "<xarray.DataArray 'conductivity' (time: 27535)>\n",
       "array([ 2.89591,  2.89653,  2.89641, ...,  2.80121,  2.80222,  2.80234])\n",
       "Coordinates:\n",
       "  * time     (time) datetime64[ns] 2017-06-25T00:00:00.756000 ..."
      ]
     },
     "execution_count": 63,
     "metadata": {},
     "output_type": "execute_result"
    }
   ],
   "source": [
    "conductivity"
   ]
  },
  {
   "cell_type": "markdown",
   "metadata": {},
   "source": [
    "Filter the salinity data to exclude samples for which `qaqcFlag != 1`:"
   ]
  },
  {
   "cell_type": "code",
   "execution_count": 64,
   "metadata": {
    "scrolled": true
   },
   "outputs": [
    {
     "data": {
      "text/plain": [
       "<xarray.DataArray 'salinity' (sampleTime: 86399)>\n",
       "array([ 21.780623,  21.788862,  21.789464, ...,  20.422549,  20.426568,\n",
       "        20.424659])\n",
       "Coordinates:\n",
       "  * sampleTime  (sampleTime) datetime64[ns] 2017-06-25T00:00:00.756000 ...\n",
       "Attributes:\n",
       "    qaqcFlag:       [1 1 1 ..., 1 1 1]\n",
       "    sensorName:     Reference Salinity\n",
       "    unitOfMeasure:  g/kg\n",
       "    actualSamples:  86399"
      ]
     },
     "execution_count": 64,
     "metadata": {},
     "output_type": "execute_result"
    }
   ],
   "source": [
    "tsg_data.salinity"
   ]
  },
  {
   "cell_type": "code",
   "execution_count": 65,
   "metadata": {
    "collapsed": true
   },
   "outputs": [],
   "source": [
    "salinity_qaqc_mask = tsg_data.salinity.attrs['qaqcFlag'] == 1\n",
    "salinity = xr.DataArray(\n",
    "    name='salinity',\n",
    "    data=tsg_data.salinity[salinity_qaqc_mask].values,\n",
    "    coords={'time': tsg_data.salinity.sampleTime[salinity_qaqc_mask].values},\n",
    "    dims=('time',),\n",
    ")"
   ]
  },
  {
   "cell_type": "code",
   "execution_count": 66,
   "metadata": {
    "scrolled": false
   },
   "outputs": [
    {
     "data": {
      "text/plain": [
       "<xarray.DataArray 'salinity' (time: 27535)>\n",
       "array([ 21.780623,  21.788862,  21.789464, ...,  20.422549,  20.426568,\n",
       "        20.424659])\n",
       "Coordinates:\n",
       "  * time     (time) datetime64[ns] 2017-06-25T00:00:00.756000 ..."
      ]
     },
     "execution_count": 66,
     "metadata": {},
     "output_type": "execute_result"
    }
   ],
   "source": [
    "salinity"
   ]
  },
  {
   "cell_type": "markdown",
   "metadata": {},
   "source": [
    "#### Create 1 Minute Resampled Dataset"
   ]
  },
  {
   "cell_type": "markdown",
   "metadata": {},
   "source": [
    "Station-specific metadata for the dataset:"
   ]
  },
  {
   "cell_type": "code",
   "execution_count": 67,
   "metadata": {
    "collapsed": true
   },
   "outputs": [],
   "source": [
    "xr_metadata = {\n",
    "    'TWDP': {\n",
    "        'ferry_route_name': 'Tsawwassen - Duke Point',\n",
    "        'ONC_stationDescription':\n",
    "            'Mobile Platforms, British Columbia Ferries, Tsawwassen - Duke Point',\n",
    "    },\n",
    "}"
   ]
  },
  {
   "cell_type": "markdown",
   "metadata": {},
   "source": [
    "Define an aggregation function to count the samples in each\n",
    "resampling interval:"
   ]
  },
  {
   "cell_type": "code",
   "execution_count": 68,
   "metadata": {
    "collapsed": true
   },
   "outputs": [],
   "source": [
    "def count(values, axis):\n",
    "    return int(values.size)"
   ]
  },
  {
   "cell_type": "markdown",
   "metadata": {},
   "source": [
    "Create a dataset of resampled data and their statistics:"
   ]
  },
  {
   "cell_type": "code",
   "execution_count": 77,
   "metadata": {
    "collapsed": true
   },
   "outputs": [],
   "source": [
    "onc_station = 'TWDP'\n",
    "\n",
    "ds = xr.Dataset(\n",
    "    data_vars={\n",
    "        'longitude': xr.DataArray(\n",
    "            name='longitude',\n",
    "            data=lons,\n",
    "            attrs={\n",
    "                'ioos_category': 'Location',\n",
    "                'standard_name': 'longitude',\n",
    "                'long_name': 'Longitude',\n",
    "                'units': 'degree_east',\n",
    "                'aggregation_operation': 'mean',\n",
    "                'aggregation_interval': 60,\n",
    "                'aggregation_interval_units': 'seconds',\n",
    "                'ONC_stationCode': 'TWDP.N1',\n",
    "                'ONC_data_product_url': 'http://dmas.uvic.ca/DataSearch?location=TWDP.N1&deviceCategory=NAV',\n",
    "            },\n",
    "        ),\n",
    "        'latitude': xr.DataArray(\n",
    "            name='latitude',\n",
    "            data=lats,\n",
    "            attrs={\n",
    "                'ioos_category': 'Location',\n",
    "                'standard_name': 'latitude',\n",
    "                'long_name': 'Latitude',\n",
    "                'units': 'degree_north',\n",
    "                'aggregation_operation': 'mean',\n",
    "                'aggregation_interval': 60,\n",
    "                'aggregation_interval_units': 'seconds',\n",
    "                'ONC_stationCode': 'TWDP.N1',\n",
    "                'ONC_data_product_url': 'http://dmas.uvic.ca/DataSearch?location=TWDP.N1&deviceCategory=NAV',\n",
    "            },\n",
    "        ),\n",
    "        'on_crossing_mask': xr.DataArray(\n",
    "            name='on_crossing_mask',\n",
    "            data=on_crossing_mask,\n",
    "            attrs={\n",
    "                'standard_name': 'on_crossing_mask',\n",
    "                'long_name': 'on crossing',\n",
    "            },\n",
    "        ),\n",
    "        'crossing_number': xr.DataArray(\n",
    "            name='crossing_number',\n",
    "            data=crossing_number,\n",
    "            attrs={\n",
    "                'standard_name': 'crossing_number',\n",
    "                'long_name': 'crossing number',\n",
    "            },\n",
    "        ),\n",
    "        'temperature': xr.DataArray(\n",
    "            name='temperature',\n",
    "            data=temperature.resample('1Min', 'time', how='mean'),\n",
    "            attrs={\n",
    "                'ioos_category': 'Temperature',\n",
    "                'standard_name': 'sea_water_temperature',\n",
    "                'long_name': 'temperature',\n",
    "                'units': 'degrees_Celcius',\n",
    "                'aggregation_operation': 'mean',\n",
    "                'aggregation_interval': 60,\n",
    "                'aggregation_interval_units': 'seconds',\n",
    "                'ONC_stationCode': 'TWDP',\n",
    "                'ONC_data_product_url': 'http://dmas.uvic.ca/DataSearch?location=TWDP&deviceCategory=TSG',\n",
    "            },\n",
    "        ),\n",
    "        'temperature_std_dev': xr.DataArray(\n",
    "            name='temperature_std_dev',\n",
    "            data=temperature.resample('1Min', 'time', how='std'),\n",
    "            attrs={\n",
    "                'ioos_category': 'Temperature',\n",
    "                'standard_name': 'sea_water_temperature_standard_deviation',\n",
    "                'long_name': 'temperature standard deviation',\n",
    "                'units': 'degrees_Celcius',\n",
    "                'aggregation_operation': 'standard deviation',\n",
    "                'aggregation_interval': 60,\n",
    "                'aggregation_interval_units': 'seconds',\n",
    "                'ONC_stationCode': 'TWDP',\n",
    "                'ONC_data_product_url': 'http://dmas.uvic.ca/DataSearch?location=TWDP&deviceCategory=TSG',\n",
    "            },\n",
    "        ),\n",
    "        'temperature_sample_count': xr.DataArray(\n",
    "            name='temperature_sample_count',\n",
    "            data=temperature.resample('1Min', 'time', how=count),\n",
    "            attrs={\n",
    "                'ioos_category': 'Temperature',\n",
    "                'standard_name': 'sea_water_temperature_sample_count',\n",
    "                'long_name': 'temperature sample count',\n",
    "                'aggregation_operation': 'count',\n",
    "                'aggregation_interval': 60,\n",
    "                'aggregation_interval_units': 'seconds',\n",
    "                'ONC_stationCode': 'TWDP',\n",
    "                'ONC_data_product_url': 'http://dmas.uvic.ca/DataSearch?location=TWDP&deviceCategory=TSG',\n",
    "            },\n",
    "        ),\n",
    "        'conductivity': xr.DataArray(\n",
    "            name='conductivity',\n",
    "            data=conductivity.resample('1Min', 'time', how='mean'),\n",
    "            attrs={\n",
    "                'ioos_category': 'Salinity',\n",
    "                'standard_name': 'sea_water_electrical_conductivity',\n",
    "                'long_name': 'electrical conductivity',\n",
    "                'units': 'S/m',\n",
    "                'aggregation_operation': 'mean',\n",
    "                'aggregation_interval': 60,\n",
    "                'aggregation_interval_units': 'seconds',\n",
    "                'ONC_stationCode': 'TWDP',\n",
    "                'ONC_data_product_url': 'http://dmas.uvic.ca/DataSearch?location=TWDP&deviceCategory=TSG',\n",
    "            },\n",
    "        ),\n",
    "        'conductivity_std_dev': xr.DataArray(\n",
    "            name='conductivity_std_dev',\n",
    "            data=salinity.resample('1Min', 'time', how='std'),\n",
    "            attrs={\n",
    "                'ioos_category': 'Salinity',\n",
    "                'standard_name': 'sea_water_electrical_conductivity_standard_deviation',\n",
    "                'long_name': 'electrical conductivity standard deviation',\n",
    "                'units': 'S/m',\n",
    "                'aggregation_operation': 'standard deviation',\n",
    "                'aggregation_interval': 60,\n",
    "                'aggregation_interval_units': 'seconds',\n",
    "                'ONC_stationCode': 'TWDP',\n",
    "                'ONC_data_product_url': 'http://dmas.uvic.ca/DataSearch?location=TWDP&deviceCategory=TSG',\n",
    "            },\n",
    "        ),\n",
    "        'conductivity_sample_count': xr.DataArray(\n",
    "            name='conductivity_sample_count',\n",
    "            data=salinity.resample('1Min', 'time', how=count),\n",
    "            attrs={\n",
    "                'ioos_category': 'Salinity',\n",
    "                'standard_name': 'sea_water_electrical_conductivity_sample_count',\n",
    "                'long_name': 'electrical conductivity sample count',\n",
    "                'aggregation_operation': 'count',\n",
    "                'aggregation_interval': 60,\n",
    "                'aggregation_interval_units': 'seconds',\n",
    "                'ONC_stationCode': 'TWDP',\n",
    "                'ONC_data_product_url': 'http://dmas.uvic.ca/DataSearch?location=TWDP&deviceCategory=TSG',\n",
    "            },\n",
    "        ),\n",
    "        'salinity': xr.DataArray(\n",
    "            name='salinity',\n",
    "            data=salinity.resample('1Min', 'time', how='mean'),\n",
    "            attrs={\n",
    "                'ioos_category': 'Salinity',\n",
    "                'standard_name': 'sea_water_reference_salinity',\n",
    "                'long_name': 'reference salinity',\n",
    "                'units': 'g/kg',\n",
    "                'aggregation_operation': 'mean',\n",
    "                'aggregation_interval': 60,\n",
    "                'aggregation_interval_units': 'seconds',\n",
    "                'ONC_stationCode': 'TWDP',\n",
    "                'ONC_data_product_url': 'http://dmas.uvic.ca/DataSearch?location=TWDP&deviceCategory=TSG',\n",
    "            },\n",
    "        ),\n",
    "        'salinity_std_dev': xr.DataArray(\n",
    "            name='salinity_std_dev',\n",
    "            data=salinity.resample('1Min', 'time', how='std'),\n",
    "            attrs={\n",
    "                'ioos_category': 'Salinity',\n",
    "                'standard_name': 'sea_water_reference_salinity_standard_deviation',\n",
    "                'long_name': 'reference salinity standard deviation',\n",
    "                'units': 'g/kg',\n",
    "                'aggregation_operation': 'standard deviation',\n",
    "                'aggregation_interval': 60,\n",
    "                'aggregation_interval_units': 'seconds',\n",
    "                'ONC_stationCode': 'TWDP',\n",
    "                'ONC_data_product_url': 'http://dmas.uvic.ca/DataSearch?location=TWDP&deviceCategory=TSG',\n",
    "            },\n",
    "        ),\n",
    "        'salinity_sample_count': xr.DataArray(\n",
    "            name='salinity_sample_count',\n",
    "            data=salinity.resample('1Min', 'time', how=count),\n",
    "            attrs={\n",
    "                'ioos_category': 'Salinity',\n",
    "                'standard_name': 'sea_water_reference_salinity_sample_count',\n",
    "                'long_name': 'reference salinity sample count',\n",
    "                'aggregation_operation': 'count',\n",
    "                'aggregation_interval': 60,\n",
    "                'aggregation_interval_units': 'seconds',\n",
    "                'ONC_stationCode': 'TWDP',\n",
    "                'ONC_data_product_url': 'http://dmas.uvic.ca/DataSearch?location=TWDP&deviceCategory=TSG',\n",
    "            },\n",
    "        ),\n",
    "    },\n",
    "    coords={\n",
    "        'time': lons.time.values,\n",
    "    },\n",
    "    attrs={\n",
    "        'history': \"\"\"{0} Download raw data from ONC scalardata API.\n",
    "{0} Filter to exclude data with qaqcFlag != 1.\n",
    "{0} Resample data to 1 minute intervals using mean, standard deviation and count as aggregation functions.\n",
    "{0} Store as netCDF4 file.\n",
    "        \"\"\".format(arrow.now().format('YYYY-MM-DD HH:mm:ss')),\n",
    "        'ferry_route_name': xr_metadata[onc_station]['ferry_route_name'],\n",
    "        'ONC_stationDescription': xr_metadata[onc_station]['ONC_stationDescription'],\n",
    "    },\n",
    ")"
   ]
  },
  {
   "cell_type": "markdown",
   "metadata": {},
   "source": [
    "If any of the `DataArray`s are short compared to the others the missing values\n",
    "are filled with `NaN`s.\n",
    "That makes sense for temperature and salinity values,\n",
    "and their standard deviations,\n",
    "but not their sample counts.\n",
    "So, we change `NaN`s to zeros in the sample count `DataArray`s:"
   ]
  },
  {
   "cell_type": "code",
   "execution_count": 78,
   "metadata": {
    "collapsed": true
   },
   "outputs": [],
   "source": [
    "ds.temperature_sample_count.values = np.nan_to_num(ds.temperature_sample_count.values)\n",
    "ds.conductivity_sample_count.values = np.nan_to_num(ds.conductivity_sample_count.values)\n",
    "ds.salinity_sample_count.values = np.nan_to_num(ds.salinity_sample_count.values)"
   ]
  },
  {
   "cell_type": "code",
   "execution_count": 79,
   "metadata": {},
   "outputs": [
    {
     "data": {
      "text/plain": [
       "<xarray.Dataset>\n",
       "Dimensions:                    (dim_0: 1440, time: 1440)\n",
       "Coordinates:\n",
       "  * time                       (time) datetime64[ns] 2017-06-25 ...\n",
       "Dimensions without coordinates: dim_0\n",
       "Data variables:\n",
       "    longitude                  (time) float64 -123.8 -123.8 -123.8 -123.9 ...\n",
       "    latitude                   (time) float64 49.21 49.21 49.21 49.21 49.21 ...\n",
       "    on_crossing_mask           (time) bool True True True True True True ...\n",
       "    crossing_number            (dim_0) float64 0.0 0.0 0.0 0.0 0.0 0.0 0.0 ...\n",
       "    temperature                (time) float64 17.07 17.17 18.08 18.16 17.98 ...\n",
       "    temperature_std_dev        (time) float64 0.2436 0.2436 0.1713 0.08913 ...\n",
       "    temperature_sample_count   (time) float64 60.0 60.0 60.0 60.0 60.0 60.0 ...\n",
       "    conductivity               (time) float64 2.816 2.791 2.753 2.776 2.791 ...\n",
       "    conductivity_std_dev       (time) float64 0.5242 0.3924 0.1906 0.09553 ...\n",
       "    conductivity_sample_count  (time) float64 60.0 60.0 60.0 60.0 60.0 60.0 ...\n",
       "    salinity                   (time) float64 20.93 20.67 19.92 20.06 20.27 ...\n",
       "    salinity_std_dev           (time) float64 0.5242 0.3924 0.1906 0.09553 ...\n",
       "    salinity_sample_count      (time) float64 60.0 60.0 60.0 60.0 60.0 60.0 ...\n",
       "Attributes:\n",
       "    history:                 2017-08-22 18:05:12 Download raw data from ONC s...\n",
       "    ferry_route_name:        Tsawwassen - Duke Point\n",
       "    ONC_stationDescription:  Mobile Platforms, British Columbia Ferries, Tsaw..."
      ]
     },
     "execution_count": 79,
     "metadata": {},
     "output_type": "execute_result"
    }
   ],
   "source": [
    "ds"
   ]
  },
  {
   "cell_type": "code",
   "execution_count": 81,
   "metadata": {},
   "outputs": [
    {
     "data": {
      "text/plain": [
       "<xarray.DataArray 'time' (time: 1440)>\n",
       "array(['2017-06-25T00:00:00.000000000', '2017-06-25T00:01:00.000000000',\n",
       "       '2017-06-25T00:02:00.000000000', ..., '2017-06-25T23:57:00.000000000',\n",
       "       '2017-06-25T23:58:00.000000000', '2017-06-25T23:59:00.000000000'], dtype='datetime64[ns]')\n",
       "Coordinates:\n",
       "  * time     (time) datetime64[ns] 2017-06-25 2017-06-25T00:01:00 ..."
      ]
     },
     "execution_count": 81,
     "metadata": {},
     "output_type": "execute_result"
    }
   ],
   "source": [
    "ds.time"
   ]
  },
  {
   "cell_type": "code",
   "execution_count": 82,
   "metadata": {},
   "outputs": [
    {
     "data": {
      "text/plain": [
       "<xarray.DataArray 'crossing_number' (dim_0: 1440)>\n",
       "array([ 0.,  0.,  0., ...,  4.,  4.,  4.])\n",
       "Dimensions without coordinates: dim_0\n",
       "Attributes:\n",
       "    standard_name:  crossing_number\n",
       "    long_name:      crossing number"
      ]
     },
     "execution_count": 82,
     "metadata": {},
     "output_type": "execute_result"
    }
   ],
   "source": [
    "ds.crossing_number"
   ]
  },
  {
   "cell_type": "markdown",
   "metadata": {},
   "source": [
    "## Examine the Dataset"
   ]
  },
  {
   "cell_type": "code",
   "execution_count": 85,
   "metadata": {},
   "outputs": [
    {
     "name": "stdout",
     "output_type": "stream",
     "text": [
      "<xarray.DataArray 'temperature_sample_count' (time: 1440)>\n",
      "array([ 60.,  60.,  60., ...,  60.,  60.,  60.])\n",
      "Coordinates:\n",
      "  * time     (time) datetime64[ns] 2017-06-25 2017-06-25T00:01:00 ...\n",
      "Attributes:\n",
      "    ioos_category:               Temperature\n",
      "    standard_name:               sea_water_temperature_sample_count\n",
      "    long_name:                   temperature sample count\n",
      "    aggregation_operation:       count\n",
      "    aggregation_interval:        60\n",
      "    aggregation_interval_units:  seconds\n",
      "    ONC_stationCode:             TWDP\n",
      "    ONC_data_product_url:        http://dmas.uvic.ca/DataSearch?location=TWDP...\n"
     ]
    },
    {
     "data": {
      "text/plain": [
       "<matplotlib.text.Text at 0x7fd46ec78b00>"
      ]
     },
     "execution_count": 85,
     "metadata": {},
     "output_type": "execute_result"
    },
    {
     "data": {
      "image/png": "[encoded data removed]",
      "text/plain": [
       "<matplotlib.figure.Figure at 0x7fd46e620898>"
      ]
     },
     "metadata": {},
     "output_type": "display_data"
    }
   ],
   "source": [
    "print(ds.temperature_sample_count)\n",
    "fig, (ax1, ax2, ax3) = plt.subplots(1, 3, figsize=(18, 6))\n",
    "temperature.plot(ax=ax1)\n",
    "ax1.set_title('Raw Data')\n",
    "ds.temperature.plot(ax=ax2)\n",
    "ax2.set_title('1 min Averaged')\n",
    "ds.temperature_std_dev.plot(ax=ax3)\n",
    "ax3.set_title('1 min Std Dev')"
   ]
  },
  {
   "cell_type": "code",
   "execution_count": 84,
   "metadata": {},
   "outputs": [
    {
     "name": "stdout",
     "output_type": "stream",
     "text": [
      "<xarray.DataArray 'salinity_sample_count' (time: 1440)>\n",
      "array([ 60.,  60.,  60., ...,  60.,  60.,  60.])\n",
      "Coordinates:\n",
      "  * time     (time) datetime64[ns] 2017-06-25 2017-06-25T00:01:00 ...\n",
      "Attributes:\n",
      "    ioos_category:               Salinity\n",
      "    standard_name:               sea_water_reference_salinity_sample_count\n",
      "    long_name:                   reference salinity sample count\n",
      "    aggregation_operation:       count\n",
      "    aggregation_interval:        60\n",
      "    aggregation_interval_units:  seconds\n",
      "    ONC_stationCode:             TWDP\n",
      "    ONC_data_product_url:        http://dmas.uvic.ca/DataSearch?location=TWDP...\n"
     ]
    },
    {
     "data": {
      "text/plain": [
       "<matplotlib.text.Text at 0x7fd46bb543c8>"
      ]
     },
     "execution_count": 84,
     "metadata": {},
     "output_type": "execute_result"
    },
    {
     "data": {
      "image/png": "[encoded data removed]",
      "text/plain": [
       "<matplotlib.figure.Figure at 0x7fd4705b5e48>"
      ]
     },
     "metadata": {},
     "output_type": "display_data"
    }
   ],
   "source": [
    "print(ds.salinity_sample_count)\n",
    "fig, (ax1, ax2, ax3) = plt.subplots(1, 3, figsize=(18, 6))\n",
    "salinity.plot(ax=ax1)\n",
    "ax1.set_title('Raw Data')\n",
    "ds.salinity.plot(ax=ax2)\n",
    "ax2.set_title('1 min Averaged')\n",
    "ds.salinity_std_dev.plot(ax=ax3)\n",
    "ax3.set_title('1 min Std Dev')"
   ]
  },
  {
   "cell_type": "markdown",
   "metadata": {},
   "source": [
    "## Store the Dataset as a netCDF4 File\n",
    "\n",
    "ERDDAP requires that all files in a dataset have the same units for their `time` variable.\n",
    "On the other hand,\n",
    "`xarray` defaults to using the 1st `time` value in the dataset as the time-base for the units.\n",
    "So, we have to explicitly define the `time` units as an encoding when the dataset is stored\n",
    "as a netCDF4 file."
   ]
  },
  {
   "cell_type": "code",
   "execution_count": 53,
   "metadata": {
    "collapsed": true
   },
   "outputs": [],
   "source": [
    "ds.to_netcdf(\n",
    "    '/results/observations/ONC/CTD/{station}/{station}_CTD_15m_20151227.nc'\n",
    "    .format(station=onc_station),\n",
    "    encoding={'time': {'units': 'minutes since 1970-01-01 00:00'}})"
   ]
  },
  {
   "cell_type": "markdown",
   "metadata": {},
   "source": [
    "## Generate an ERDDAP Dataset XML Fragment\n",
    "\n",
    "Use the `/opt/tomcat/webapps/erddap/WEB-INF/GenerateDatasetsXml.sh` script\n",
    "generate the initial version of an XML fragment for a dataset:\n",
    "```\n",
    "$ cd /opt/tomcat/webapps/erddap/WEB-INF/\n",
    "$ bash GenerateDatasetsXml.sh EDDTableFromNcFiles /results/observations/ONC/CTD/SCVIP/\n",
    "```\n",
    "The `EDDTableFromNcFiles` and `/results/observations/ONC/CTD/SCVIP/` arguments\n",
    "tell the script which `EDDType` and what parent directory to use,\n",
    "avoiding having to type those in answer to prompts.\n",
    "Answer the remaining prompts,\n",
    "for example:\n",
    "```\n",
    "File name regex (e.g., \".*\\.nc\") (default=\"\")\n",
    "? .*SCVIP_CTD_15m_\\d{8}\\.nc$ \n",
    "A sample full file name (default=\"\")\n",
    "? /results/observations/ONC/CTD/SCVIP/SCVIP_CTD_15m_20160724.nc\n",
    "DimensionsCSV (or \"\" for default) (default=\"\")\n",
    "? \n",
    "ReloadEveryNMinutes (e.g., 10080) (default=\"\")\n",
    "? 10080\n",
    "PreExtractRegex (default=\"\")\n",
    "? \n",
    "PostExtractRegex (default=\"\")\n",
    "? \n",
    "ExtractRegex (default=\"\")\n",
    "? \n",
    "Column name for extract (default=\"\")\n",
    "? \n",
    "Sorted column source name (default=\"\")\n",
    "? \n",
    "Sort files by sourceName (default=\"\")\n",
    "? \n",
    "infoUrl (default=\"\")\n",
    "? https://salishsea-meopar-tools.readthedocs.org/en/latest/results_server/\n",
    "institution (default=\"\")\n",
    "? UBC EOAS\n",
    "summary (default=\"\")\n",
    "? \n",
    "title (default=\"\")\n",
    "? ONC, Strait of Georgia, Central Node, Salinity and Temperature, 15min, v1\n",
    "```\n",
    "\n",
    "The output is written to `/results/erddap/logs/GenerateDatasetsXml.out`"
   ]
  },
  {
   "cell_type": "markdown",
   "metadata": {},
   "source": [
    "The `metadata` dictionary below contains information for dataset\n",
    "attribute tags whose values need to be changed,\n",
    "or that need to be added for all datasets.\n",
    "\n",
    "The keys are the dataset attribute names.\n",
    "\n",
    "The values are dicts containing a required `text` item\n",
    "and perhaps an optional `after` item.\n",
    "\n",
    "The value associated with the `text` key is the text content\n",
    "for the attribute tag.\n",
    "\n",
    "When present,\n",
    "the value associated with the `after` key is the name\n",
    "of the dataset attribute after which a new attribute tag\n",
    "containing the `text` value is to be inserted."
   ]
  },
  {
   "cell_type": "code",
   "execution_count": 36,
   "metadata": {
    "collapsed": true
   },
   "outputs": [],
   "source": [
    "metadata = OrderedDict([\n",
    "    ('cdm_data_type', {'text': 'TimeSeries'}),\n",
    "    ('cdm_timeseries_variables', {\n",
    "        'text': 'depth, longitude, latitude',\n",
    "        'after': 'cdm_data_type',\n",
    "    }),\n",
    "    ('institution_fullname', {\n",
    "        'text': 'Earth, Ocean & Atmospheric Sciences, University of British Columbia',\n",
    "        'after': 'institution',\n",
    "    }),\n",
    "    ('license', {\n",
    "        'text': '''The Salish Sea MEOPAR observation datasets are copyright 2013-2016\n",
    "by the Salish Sea MEOPAR Project Contributors, The University of British Columbia, and Ocean Networks Canada.\n",
    "\n",
    "They are licensed under the Apache License, Version 2.0. http://www.apache.org/licenses/LICENSE-2.0\n",
    "\n",
    "Raw instrument data on which this dataset is based were provided by Ocean Networks Canada.''',\n",
    "    }),\n",
    "    ('project', {\n",
    "        'text':'Salish Sea MEOPAR NEMO Model',\n",
    "        'after': 'title',\n",
    "    }),\n",
    "    ('creator_name', {\n",
    "        'text': 'Salish Sea MEOPAR Project Contributors',\n",
    "    }),\n",
    "    ('creator_email', {\n",
    "        'text': 'sallen@eos.ubc.ca',\n",
    "        'after': 'creator_name',\n",
    "    }),\n",
    "    ('creator_url', {\n",
    "        'text': 'https://salishsea-meopar-docs.readthedocs.org/',\n",
    "    }),\n",
    "    ('acknowledgement', {\n",
    "        'text': 'MEOPAR, ONC, Compute Canada',\n",
    "        'after': 'creator_url',\n",
    "    }),\n",
    "    ('drawLandMask', {\n",
    "        'text': 'over',\n",
    "        'after': 'acknowledgement',\n",
    "    }),\n",
    "])"
   ]
  },
  {
   "cell_type": "markdown",
   "metadata": {},
   "source": [
    "The `datasets` dictionary below provides the content\n",
    "for the dataset `title` and `summary` attributes.\n",
    "\n",
    "The `title` attribute content appears in the the datasets list table\n",
    "(among other places).\n",
    "\n",
    "The `summary` atribute content appears\n",
    "(among other places)\n",
    "when a user hovers the cursor over the `?` icon beside the `title`\n",
    "content in the datasets list table.\n",
    "The text that is inserted into the `summary` attribute tag\n",
    "by code later in this notebook is the\n",
    "`title` content followed by the `summary` content,\n",
    "separated by a blank line.\n",
    "\n",
    "The keys of the `datasets` dict are the `datasetID` strings that\n",
    "are used in many places by the ERDDAP server.\n",
    "They are structured as follows:\n",
    "\n",
    "* `ubc` to indicate that the dataset was produced at UBC\n",
    "* `ONC` to indicate that the dataset is a product of filter, resampling, etc.\n",
    "raw instrument data provided by Ocean Networks Canada (ONC)\n",
    "* a description of the dataset variables; e.g. `SCVIPCTD`\n",
    "* the time interval of values in the dataset; e.g. `15m`\n",
    "* the dataset version; e.g. `V1`\n",
    "\n",
    "So:\n",
    "\n",
    "* `ubcONCSCVIPCTD15mV1` is the version 1 dataset of 15 minute resampled CTD temperature and salinity data\n",
    "from the ONC Strait of Georgia Central node VENUS instrument platform\n",
    "\n",
    "The dataset version part of the `datasetID` is used to indicate changes in the variables\n",
    "contained in the dataset.\n",
    "\n",
    "All datasets start at `V1` and their `summary` ends with a notation about the variables\n",
    "that they contain; e.g.\n",
    "```\n",
    "v1: reference salinity, reference salinity standard deviation, reference salinity sample counts, \n",
    "temperature, temperature standard deviation, temperature sample counts variables\n",
    "```\n",
    "When the a dataset version is incremented a line describing the change is added\n",
    "to the end of its `summary`."
   ]
  },
  {
   "cell_type": "code",
   "execution_count": 27,
   "metadata": {
    "collapsed": true
   },
   "outputs": [],
   "source": [
    "datasets = {\n",
    "    'ubcONCSCVIPCTD15mV1' :{\n",
    "        'type': 'resampled CTD',\n",
    "        'title': 'ONC, Strait of Georgia, Central Node, Salinity and Temperature, 15min, v1',\n",
    "        'summary':'''Temperature and salinity data from the Ocean Networks Canada (ONC)\n",
    "Strait of Georgia Central Node VENUS Instrument Platform CTD.\n",
    "The data are resampled from the raw instrument data to 15 minute mean values.\n",
    "They are accompanied by standard deviations and sample counts for each of the 15 minute\n",
    "aggregation intervals.\n",
    "\n",
    "v1: reference salinity, reference salinity standard deviation, reference salinity sample counts, \n",
    "temperature, temperature standard deviation, temperature sample counts variables''',\n",
    "        'keywords': '''15min aggregation, ONC Central Node VENUS Instrument Platform, Ocean Networks Canada,\n",
    "depth, UBC EOAS, Strait of Georgia, latitude, longitude, ocean, SCVIP, observations, CTD,\n",
    "Oceans &gt; Ocean Temperature &gt; Water Temperature,\n",
    "reference salinity, salinity_sample_count, salinity_std_dev, sea_water_reference_salinity, \n",
    "sea_water_reference_salinity_sample_count, sea_water_reference_salinity_standard_deviation, \n",
    "sea_water_temperature, sea_water_temperature_sample_count, sea_water_temperature_standard_deviation, \n",
    "temperature, temperature_sample_count, temperature_std_dev, time''',\n",
    "        'fileNameRegex': '.*SCVIP_CTD_15m_\\d{8}\\.nc$'\n",
    "    },\n",
    "    \n",
    "    'ubcONCSEVIPCTD15mV1' :{\n",
    "        'type': 'resampled CTD',\n",
    "        'title': 'ONC, Strait of Georgia, East Node, Salinity and Temperature, 15min, v1',\n",
    "        'summary':'''Temperature and salinity data from the Ocean Networks Canada (ONC)\n",
    "Strait of Georgia East Node VENUS Instrument Platform CTD.\n",
    "The data are resampled from the raw instrument data to 15 minute mean values.\n",
    "They are accompanied by standard deviations and sample counts for each of the 15 minute\n",
    "aggregation intervals.\n",
    "\n",
    "v1: reference salinity, reference salinity standard deviation, reference salinity sample counts, \n",
    "temperature, temperature standard deviation, temperature sample counts variables''',\n",
    "        'keywords': '''15min aggregation, ONC East Node VENUS Instrument Platform, Ocean Networks Canada,\n",
    "depth, UBC EOAS, Strait of Georgia, latitude, longitude, ocean, SEVIP, observations, CTD,\n",
    "Oceans &gt; Ocean Temperature &gt; Water Temperature,\n",
    "reference salinity, salinity_sample_count, salinity_std_dev, sea_water_reference_salinity, \n",
    "sea_water_reference_salinity_sample_count, sea_water_reference_salinity_standard_deviation, \n",
    "sea_water_temperature, sea_water_temperature_sample_count, sea_water_temperature_standard_deviation, \n",
    "temperature, temperature_sample_count, temperature_std_dev, time''',\n",
    "        'fileNameRegex': '.*SEVIP_CTD_15m_\\d{8}\\.nc$'\n",
    "    },\n",
    "}"
   ]
  },
  {
   "cell_type": "markdown",
   "metadata": {},
   "source": [
    "A few convenience functions to reduce code repetition:"
   ]
  },
  {
   "cell_type": "code",
   "execution_count": 28,
   "metadata": {
    "collapsed": true
   },
   "outputs": [],
   "source": [
    "def print_tree(root):\n",
    "    \"\"\"Display an XML tree fragment with indentation.\n",
    "    \"\"\"\n",
    "    print(etree.tostring(root, pretty_print=True).decode('ascii'))"
   ]
  },
  {
   "cell_type": "code",
   "execution_count": 29,
   "metadata": {
    "collapsed": true
   },
   "outputs": [],
   "source": [
    "def find_att(root, att):\n",
    "    \"\"\"Return the dataset attribute element named att\n",
    "    or raise a ValueError exception if it cannot be found.\n",
    "    \"\"\"\n",
    "    e = root.find('.//att[@name=\"{}\"]'.format(att))\n",
    "    if e is None:\n",
    "        raise ValueError('{} attribute element not found'.format(att))\n",
    "    return e"
   ]
  },
  {
   "cell_type": "markdown",
   "metadata": {},
   "source": [
    "* parse the output of `GenerateDatasetsXml.sh` into an XML tree data structure\n",
    "* set the `datasetID` dataset attribute value\n",
    "* change the `recursive` dataset attribute value to `false`\n",
    "* re-set the `fileNameRegex` dataset attribute value because it looses its `\\` characters during parsing(?)\n",
    "* add a `cf_role` attribute element with value `timeseries_id` to the `time` variable\n",
    "* update the metadata elements with the contents of the `datasets` dict defined above\n",
    "* set the colour map limit variables for the variables that they make sense for,\n",
    "and delete from the variables for which they are nonsensical"
   ]
  },
  {
   "cell_type": "code",
   "execution_count": 30,
   "metadata": {
    "collapsed": true
   },
   "outputs": [],
   "source": [
    "parser = etree.XMLParser(remove_blank_text=True)\n",
    "tree = etree.parse('/results/erddap/logs/GenerateDatasetsXml.out', parser)\n",
    "root = tree.getroot()\n",
    "\n",
    "datasetID = 'ubcONCSEVIPCTD15mV1'"
   ]
  },
  {
   "cell_type": "code",
   "execution_count": 31,
   "metadata": {
    "collapsed": true
   },
   "outputs": [],
   "source": [
    "root.attrib['datasetID'] = datasetID\n",
    "root.find('.//recursive').text = 'false'\n",
    "root.find('.//fileNameRegex').text = datasets[datasetID]['fileNameRegex']"
   ]
  },
  {
   "cell_type": "code",
   "execution_count": 32,
   "metadata": {},
   "outputs": [
    {
     "data": {
      "text/plain": [
       "['time',\n",
       " 'salinity',\n",
       " 'temperature',\n",
       " 'temperature_std_dev',\n",
       " 'salinity_std_dev',\n",
       " 'salinity_sample_count',\n",
       " 'temperature_sample_count',\n",
       " 'latitude',\n",
       " 'longitude',\n",
       " 'depth']"
      ]
     },
     "execution_count": 32,
     "metadata": {},
     "output_type": "execute_result"
    }
   ],
   "source": [
    "vars = [e.text for e in tree.findall('//sourceName')]\n",
    "vars"
   ]
  },
  {
   "cell_type": "code",
   "execution_count": 33,
   "metadata": {
    "collapsed": true
   },
   "outputs": [],
   "source": [
    "e = etree.Element('att', name='cf_role')\n",
    "e.text = 'timeseries_id'\n",
    "tree.find('//dataVariable[{}]/addAttributes'.format(vars.index('time')+1)).append(e)"
   ]
  },
  {
   "cell_type": "code",
   "execution_count": 37,
   "metadata": {
    "collapsed": true
   },
   "outputs": [],
   "source": [
    "for att, info in metadata.items():\n",
    "    e = etree.Element('att', name=att)\n",
    "    e.text = info['text']\n",
    "    try:\n",
    "        root.find('.//att[@name=\"{}\"]'.format(info['after'])).addnext(e)\n",
    "    except KeyError:\n",
    "        find_att(root, att).text = info['text']"
   ]
  },
  {
   "cell_type": "code",
   "execution_count": 38,
   "metadata": {
    "collapsed": true
   },
   "outputs": [],
   "source": [
    "title = datasets[datasetID]['title']\n",
    "find_att(root, 'title').text = title\n",
    "find_att(root, 'summary').text = '{0}\\n\\n{1}'.format(title, datasets[datasetID]['summary'])\n",
    "find_att(root, 'keywords').text = datasets[datasetID]['keywords']"
   ]
  },
  {
   "cell_type": "code",
   "execution_count": 39,
   "metadata": {
    "collapsed": true
   },
   "outputs": [],
   "source": [
    "# Salinity colour map limits\n",
    "e = tree.find(\n",
    "    '//dataVariable[{}]/addAttributes/att[@name=\"colorBarMinimum\"]'\n",
    "    .format(vars.index('salinity')+1))\n",
    "e.text = '0.0'\n",
    "e = tree.find(\n",
    "    '//dataVariable[{}]/addAttributes/att[@name=\"colorBarMaximum\"]'\n",
    "    .format(vars.index('salinity')+1))\n",
    "e.text = '34.0'\n",
    "\n",
    "# Temperature colour map limits\n",
    "e = tree.find(\n",
    "    '//dataVariable[{}]/addAttributes/att[@name=\"colorBarMinimum\"]'\n",
    "    .format(vars.index('temperature')+1))\n",
    "e.text = '4.0'\n",
    "e = tree.find(\n",
    "    '//dataVariable[{}]/addAttributes/att[@name=\"colorBarMaximum\"]'\n",
    "    .format(vars.index('temperature')+1))\n",
    "e.text = '20.0'\n",
    "\n",
    "# Depth colour map limits\n",
    "e = tree.find(\n",
    "    '//dataVariable[{}]/addAttributes/att[@name=\"colorBarMinimum\"]'\n",
    "    .format(vars.index('depth')+1))\n",
    "e.text = '0.0'\n",
    "e = tree.find(\n",
    "    '//dataVariable[{}]/addAttributes/att[@name=\"colorBarMaximum\"]'\n",
    "    .format(vars.index('depth')+1))\n",
    "e.text = '450.0'"
   ]
  },
  {
   "cell_type": "code",
   "execution_count": 40,
   "metadata": {
    "collapsed": true
   },
   "outputs": [],
   "source": [
    "# Delete nonsensical colourBar* attributes\n",
    "no_cbar_vars = [\n",
    "    'temperature_sample_count', 'temperature_std_dev',\n",
    "    'salinity_sample_count', 'salinity_std_dev']\n",
    "for var in no_cbar_vars:\n",
    "    for att in ('colorBarMinimum', 'colorBarMaximum'):\n",
    "        e = tree.find(\n",
    "            '//dataVariable[{0}]/addAttributes/att[@name=\"{1}\"]'\n",
    "            .format(vars.index(var)+1, att))\n",
    "        e.getparent().remove(e)"
   ]
  },
  {
   "cell_type": "markdown",
   "metadata": {},
   "source": [
    "Inspect the resulting dataset XML fragment below and edit the dicts and\n",
    "code cell above until it is what is required for the dataset:"
   ]
  },
  {
   "cell_type": "code",
   "execution_count": 41,
   "metadata": {},
   "outputs": [
    {
     "name": "stdout",
     "output_type": "stream",
     "text": [
      "<dataset type=\"EDDTableFromNcFiles\" datasetID=\"ubcONCSEVIPCTD15mV1\" active=\"true\">\n",
      "  <reloadEveryNMinutes>10080</reloadEveryNMinutes>\n",
      "  <updateEveryNMillis>10000</updateEveryNMillis>\n",
      "  <fileDir>/results/observations/ONC/CTD/SEVIP/</fileDir>\n",
      "  <recursive>false</recursive>\n",
      "  <fileNameRegex>.*SEVIP_CTD_15m_\\d{8}\\.nc$</fileNameRegex>\n",
      "  <metadataFrom>last</metadataFrom>\n",
      "  <preExtractRegex/>\n",
      "  <postExtractRegex/>\n",
      "  <extractRegex/>\n",
      "  <columnNameForExtract/>\n",
      "  <sortedColumnSourceName>time</sortedColumnSourceName>\n",
      "  <sortFilesBySourceNames>time</sortFilesBySourceNames>\n",
      "  <fileTableInMemory>false</fileTableInMemory>\n",
      "  <accessibleViaFiles>false</accessibleViaFiles>\n",
      "  <!-- sourceAttributes>\n",
      "        <att name=\"_NCProperties\">version=1|netcdflibversion=4.4.1|hdf5libversion=1.8.17</att>\n",
      "        <att name=\"coordinates\">latitude longitude depth</att>\n",
      "        <att name=\"history\">\n",
      "2016-09-10 15:28:46 Download raw data from ONC scalardata API.\n",
      "2016-09-10 15:28:46 Filter to exclude data with qaqcFlag != 1.\n",
      "2016-09-10 15:28:46 Resample data to 15 minute intervals using mean, standard deviation and count as aggregation functions.\n",
      "2016-09-10 15:28:46 Store as netCDF4 file.\n",
      "        </att>\n",
      "        <att name=\"ONC_data_product_url\">http://dmas.uvic.ca/DataSearch?location=SEVIP&amp;deviceCategory=CTD</att>\n",
      "        <att name=\"ONC_station\">East</att>\n",
      "        <att name=\"ONC_stationCode\">SEVIP</att>\n",
      "        <att name=\"ONC_stationDescription\">Pacific, Salish Sea, Strait of Georgia, East, Strait of Georgia VENUS Instrument Platform</att>\n",
      "    </sourceAttributes -->\n",
      "  <!-- Please specify the actual cdm_data_type (TimeSeries?) and related info below, for example...\n",
      "        <att name=\"cdm_timeseries_variables\">station, longitude, latitude</att>\n",
      "        <att name=\"subsetVariables\">station, longitude, latitude</att>\n",
      "    -->\n",
      "  <addAttributes>\n",
      "    <att name=\"cdm_data_type\">TimeSeries</att>\n",
      "    <att name=\"cdm_timeseries_variables\">depth, longitude, latitude</att>\n",
      "    <att name=\"Conventions\">COARDS, CF-1.6, ACDD-1.3</att>\n",
      "    <att name=\"creator_name\">Salish Sea MEOPAR Project Contributors</att>\n",
      "    <att name=\"creator_email\">sallen@eos.ubc.ca</att>\n",
      "    <att name=\"creator_url\">https://salishsea-meopar-docs.readthedocs.org/</att>\n",
      "    <att name=\"acknowledgement\">MEOPAR, ONC, Compute Canada</att>\n",
      "    <att name=\"drawLandMask\">over</att>\n",
      "    <att name=\"infoUrl\">https://salishsea-meopar-tools.readthedocs.org/en/latest/results_server/</att>\n",
      "    <att name=\"institution\">UBC EOAS</att>\n",
      "    <att name=\"institution_fullname\">Earth, Ocean &amp; Atmospheric Sciences, University of British Columbia</att>\n",
      "    <att name=\"keywords\">15min aggregation, ONC East Node VENUS Instrument Platform, Ocean Networks Canada,\n",
      "depth, UBC EOAS, Strait of Georgia, latitude, longitude, ocean, SEVIP, observations, CTD,\n",
      "Oceans &amp;gt; Ocean Temperature &amp;gt; Water Temperature,\n",
      "reference salinity, salinity_sample_count, salinity_std_dev, sea_water_reference_salinity, \n",
      "sea_water_reference_salinity_sample_count, sea_water_reference_salinity_standard_deviation, \n",
      "sea_water_temperature, sea_water_temperature_sample_count, sea_water_temperature_standard_deviation, \n",
      "temperature, temperature_sample_count, temperature_std_dev, time</att>\n",
      "    <att name=\"keywords_vocabulary\">GCMD Science Keywords</att>\n",
      "    <att name=\"license\">The Salish Sea MEOPAR observation datasets are copyright 2013-2016\n",
      "by the Salish Sea MEOPAR Project Contributors, The University of British Columbia, and Ocean Networks Canada.\n",
      "\n",
      "They are licensed under the Apache License, Version 2.0. http://www.apache.org/licenses/LICENSE-2.0\n",
      "\n",
      "Raw instrument data on which this dataset is based were provided by Ocean Networks Canada.</att>\n",
      "    <att name=\"sourceUrl\">(local files)</att>\n",
      "    <att name=\"standard_name_vocabulary\">CF Standard Name Table v29</att>\n",
      "    <att name=\"summary\">ONC, Strait of Georgia, East Node, Salinity and Temperature, 15min, v1\n",
      "\n",
      "Temperature and salinity data from the Ocean Networks Canada (ONC)\n",
      "Strait of Georgia East Node VENUS Instrument Platform CTD.\n",
      "The data are resampled from the raw instrument data to 15 minute mean values.\n",
      "They are accompanied by standard deviations and sample counts for each of the 15 minute\n",
      "aggregation intervals.\n",
      "\n",
      "v1: reference salinity, reference salinity standard deviation, reference salinity sample counts, \n",
      "temperature, temperature standard deviation, temperature sample counts variables</att>\n",
      "    <att name=\"title\">ONC, Strait of Georgia, East Node, Salinity and Temperature, 15min, v1</att>\n",
      "    <att name=\"project\">Salish Sea MEOPAR NEMO Model</att>\n",
      "  </addAttributes>\n",
      "  <dataVariable>\n",
      "    <sourceName>time</sourceName>\n",
      "    <destinationName>time</destinationName>\n",
      "    <dataType>long</dataType>\n",
      "    <!-- sourceAttributes>\n",
      "            <att name=\"calendar\">proleptic_gregorian</att>\n",
      "            <att name=\"units\">minutes since 1970-01-01</att>\n",
      "        </sourceAttributes -->\n",
      "    <addAttributes>\n",
      "      <att name=\"long_name\">Time</att>\n",
      "      <att name=\"standard_name\">time</att>\n",
      "      <att name=\"cf_role\">timeseries_id</att>\n",
      "    </addAttributes>\n",
      "  </dataVariable>\n",
      "  <dataVariable>\n",
      "    <sourceName>salinity</sourceName>\n",
      "    <destinationName>salinity</destinationName>\n",
      "    <dataType>double</dataType>\n",
      "    <!-- sourceAttributes>\n",
      "            <att name=\"aggregation_interval\" type=\"long\">900</att>\n",
      "            <att name=\"aggregation_interval_units\">seconds</att>\n",
      "            <att name=\"aggregation_operation\">mean</att>\n",
      "            <att name=\"ioos_category\">Salinity</att>\n",
      "            <att name=\"long_name\">reference salinity</att>\n",
      "            <att name=\"standard_name\">sea_water_reference_salinity</att>\n",
      "            <att name=\"units\">g/kg</att>\n",
      "        </sourceAttributes -->\n",
      "    <addAttributes>\n",
      "      <att name=\"colorBarMaximum\" type=\"double\">34.0</att>\n",
      "      <att name=\"colorBarMinimum\" type=\"double\">0.0</att>\n",
      "    </addAttributes>\n",
      "  </dataVariable>\n",
      "  <dataVariable>\n",
      "    <sourceName>temperature</sourceName>\n",
      "    <destinationName>temperature</destinationName>\n",
      "    <dataType>double</dataType>\n",
      "    <!-- sourceAttributes>\n",
      "            <att name=\"aggregation_interval\" type=\"long\">900</att>\n",
      "            <att name=\"aggregation_interval_units\">seconds</att>\n",
      "            <att name=\"aggregation_operation\">mean</att>\n",
      "            <att name=\"ioos_category\">Temperature</att>\n",
      "            <att name=\"long_name\">temperature</att>\n",
      "            <att name=\"standard_name\">sea_water_temperature</att>\n",
      "            <att name=\"units\">degrees_Celcius</att>\n",
      "        </sourceAttributes -->\n",
      "    <addAttributes>\n",
      "      <att name=\"colorBarMaximum\" type=\"double\">20.0</att>\n",
      "      <att name=\"colorBarMinimum\" type=\"double\">4.0</att>\n",
      "    </addAttributes>\n",
      "  </dataVariable>\n",
      "  <dataVariable>\n",
      "    <sourceName>temperature_std_dev</sourceName>\n",
      "    <destinationName>temperature_std_dev</destinationName>\n",
      "    <dataType>double</dataType>\n",
      "    <!-- sourceAttributes>\n",
      "            <att name=\"aggregation_interval\" type=\"long\">900</att>\n",
      "            <att name=\"aggregation_interval_units\">seconds</att>\n",
      "            <att name=\"aggregation_operation\">standard deviation</att>\n",
      "            <att name=\"ioos_category\">Temperature</att>\n",
      "            <att name=\"long_name\">temperature standard deviation</att>\n",
      "            <att name=\"standard_name\">sea_water_temperature_standard_deviation</att>\n",
      "            <att name=\"units\">degrees_Celcius</att>\n",
      "        </sourceAttributes -->\n",
      "    <addAttributes/>\n",
      "  </dataVariable>\n",
      "  <dataVariable>\n",
      "    <sourceName>salinity_std_dev</sourceName>\n",
      "    <destinationName>salinity_std_dev</destinationName>\n",
      "    <dataType>double</dataType>\n",
      "    <!-- sourceAttributes>\n",
      "            <att name=\"aggregation_interval\" type=\"long\">900</att>\n",
      "            <att name=\"aggregation_interval_units\">seconds</att>\n",
      "            <att name=\"aggregation_operation\">standard deviation</att>\n",
      "            <att name=\"ioos_category\">Salinity</att>\n",
      "            <att name=\"long_name\">reference salinity standard deviation</att>\n",
      "            <att name=\"standard_name\">sea_water_reference_salinity_standard_deviation</att>\n",
      "            <att name=\"units\">g/kg</att>\n",
      "        </sourceAttributes -->\n",
      "    <addAttributes/>\n",
      "  </dataVariable>\n",
      "  <dataVariable>\n",
      "    <sourceName>salinity_sample_count</sourceName>\n",
      "    <destinationName>salinity_sample_count</destinationName>\n",
      "    <dataType>long</dataType>\n",
      "    <!-- sourceAttributes>\n",
      "            <att name=\"aggregation_interval\" type=\"long\">900</att>\n",
      "            <att name=\"aggregation_interval_units\">seconds</att>\n",
      "            <att name=\"aggregation_operation\">count</att>\n",
      "            <att name=\"long_name\">reference salinity sample count</att>\n",
      "            <att name=\"standard_name\">sea_water_reference_salinity_sample_count</att>\n",
      "        </sourceAttributes -->\n",
      "    <addAttributes/>\n",
      "  </dataVariable>\n",
      "  <dataVariable>\n",
      "    <sourceName>temperature_sample_count</sourceName>\n",
      "    <destinationName>temperature_sample_count</destinationName>\n",
      "    <dataType>long</dataType>\n",
      "    <!-- sourceAttributes>\n",
      "            <att name=\"aggregation_interval\" type=\"long\">900</att>\n",
      "            <att name=\"aggregation_interval_units\">seconds</att>\n",
      "            <att name=\"aggregation_operation\">count</att>\n",
      "            <att name=\"long_name\">temperature sample count</att>\n",
      "            <att name=\"standard_name\">sea_water_temperature_sample_count</att>\n",
      "        </sourceAttributes -->\n",
      "    <addAttributes/>\n",
      "  </dataVariable>\n",
      "  <dataVariable>\n",
      "    <sourceName>latitude</sourceName>\n",
      "    <destinationName>latitude</destinationName>\n",
      "    <dataType>double</dataType>\n",
      "    <!-- sourceAttributes>\n",
      "        </sourceAttributes -->\n",
      "    <addAttributes>\n",
      "      <att name=\"colorBarMaximum\" type=\"double\">90.0</att>\n",
      "      <att name=\"colorBarMinimum\" type=\"double\">-90.0</att>\n",
      "      <att name=\"long_name\">Latitude</att>\n",
      "      <att name=\"standard_name\">latitude</att>\n",
      "      <att name=\"units\">degrees_north</att>\n",
      "    </addAttributes>\n",
      "  </dataVariable>\n",
      "  <dataVariable>\n",
      "    <sourceName>longitude</sourceName>\n",
      "    <destinationName>longitude</destinationName>\n",
      "    <dataType>double</dataType>\n",
      "    <!-- sourceAttributes>\n",
      "        </sourceAttributes -->\n",
      "    <addAttributes>\n",
      "      <att name=\"colorBarMaximum\" type=\"double\">180.0</att>\n",
      "      <att name=\"colorBarMinimum\" type=\"double\">-180.0</att>\n",
      "      <att name=\"long_name\">Longitude</att>\n",
      "      <att name=\"standard_name\">longitude</att>\n",
      "      <att name=\"units\">degrees_east</att>\n",
      "    </addAttributes>\n",
      "  </dataVariable>\n",
      "  <dataVariable>\n",
      "    <sourceName>depth</sourceName>\n",
      "    <destinationName>depth</destinationName>\n",
      "    <dataType>long</dataType>\n",
      "    <!-- sourceAttributes>\n",
      "        </sourceAttributes -->\n",
      "    <addAttributes>\n",
      "      <att name=\"colorBarMaximum\" type=\"double\">450.0</att>\n",
      "      <att name=\"colorBarMinimum\" type=\"double\">0.0</att>\n",
      "      <att name=\"colorBarPalette\">OceanDepth</att>\n",
      "      <att name=\"long_name\">Depth</att>\n",
      "      <att name=\"standard_name\">depth</att>\n",
      "      <att name=\"units\">m</att>\n",
      "    </addAttributes>\n",
      "  </dataVariable>\n",
      "</dataset>\n",
      "\n"
     ]
    }
   ],
   "source": [
    "print_tree(root)"
   ]
  },
  {
   "cell_type": "markdown",
   "metadata": {
    "collapsed": true
   },
   "source": [
    "Store the XML fragment for the dataset:"
   ]
  },
  {
   "cell_type": "code",
   "execution_count": 42,
   "metadata": {
    "collapsed": true
   },
   "outputs": [],
   "source": [
    "with open('/results/erddap_datasets_xml/{}.xml'.format(datasetID), 'wb') as f:\n",
    "    f.write(etree.tostring(root, pretty_print=True))"
   ]
  },
  {
   "cell_type": "markdown",
   "metadata": {
    "collapsed": true
   },
   "source": [
    "Edit `/opt/tomcat/content/erddap/datasets.xml` to include the XML fragment for the dataset that was stored by the abave cell.\n",
    "\n",
    "Create a flag file to signal the ERDDAP server process to load the dataset:\n",
    "```bash\n",
    "$ cd /results/erddap/flag/\n",
    "$ touch <datasetID>\n",
    "```\n",
    "\n",
    "Confirm that the dataset and its metadata were correctly added to ERDDAP by inspecting\n",
    "https://salishsea.eos.ubc.ca/erddap/tabledap/.\n",
    "If there is a problem,\n",
    "error messages can be found in `/results/erddap/logs/log.txt`."
   ]
  }
 ],
 "metadata": {
  "anaconda-cloud": {},
  "kernelspec": {
   "display_name": "Python 3",
   "language": "python",
   "name": "python3"
  },
  "language_info": {
   "codemirror_mode": {
    "name": "ipython",
    "version": 3
   },
   "file_extension": ".py",
   "mimetype": "text/x-python",
   "name": "python",
   "nbconvert_exporter": "python",
   "pygments_lexer": "ipython3",
   "version": "3.6.2"
  },
  "toc": {
   "colors": {
    "hover_highlight": "#DAA520",
    "navigate_num": "#000000",
    "navigate_text": "#333333",
    "running_highlight": "#FF0000",
    "selected_highlight": "#FFD700",
    "sidebar_border": "#EEEEEE",
    "wrapper_background": "#FFFFFF"
   },
   "moveMenuLeft": true,
   "nav_menu": {
    "height": "192px",
    "width": "252px"
   },
   "navigate_menu": true,
   "number_sections": false,
   "sideBar": true,
   "threshold": 4,
   "toc_cell": false,
   "toc_section_display": "block",
   "toc_window_display": true,
   "widenNotebook": false
  }
 },
 "nbformat": 4,
 "nbformat_minor": 1
}

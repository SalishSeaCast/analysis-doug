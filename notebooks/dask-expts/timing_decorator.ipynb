{
 "cells": [
  {
   "cell_type": "markdown",
   "source": [
    "## Function Timing Decorator\n",
    "\n",
    "Timing code execution with the Jupyter `%%time` cell magic is fine\n",
    "when the calculations actually happen when the cell is executed.\n",
    "But for `dask` operations the calculations are deferred and `%%time` just shows\n",
    "us the time it takes to add the deferred calculations to the `dask` operations graph -\n",
    "that's not what we're interested in.\n",
    "\n",
    "So, we need to do our timing explicitly, for example:"
   ],
   "metadata": {
    "collapsed": false
   }
  },
  {
   "cell_type": "markdown",
   "source": [
    "```python\n",
    "t_start = time.time()\n",
    "with xarray.open_dataset(ds_path) as ds:\n",
    "    depth_avgs = ds.vosaline.isel(y=slice(200, 300), x=slice(200,250)).mean(dim=\"deptht\")\n",
    "t_end = time.time()\n",
    "print(t_end - t_start)\n",
    "```\n",
    "    4.957032203674316\n"
   ],
   "metadata": {
    "collapsed": false
   }
  },
  {
   "cell_type": "markdown",
   "source": [
    "Adding the `t_start`, `t_end`, and `print(...` to every cell gets really annoying.\n",
    "Instead, we'll create a timing decorator to do that and write the things we want timed\n",
    "as decorated functions\n",
    "(ref: https://realpython.com/primer-on-python-decorators/).\n",
    "\n",
    "The timing decorator is:"
   ],
   "metadata": {
    "collapsed": false
   }
  },
  {
   "cell_type": "code",
   "execution_count": 1,
   "outputs": [],
   "source": [
    "def function_timer(func):\n",
    "    @functools.wraps(func)\n",
    "    def wrapper_function_timer(*args, **kwargs):\n",
    "        t_start = time.time()\n",
    "        return_value = func(*args, **kwargs)\n",
    "        t_end = time.time()\n",
    "        print(f\"{t_end - t_start}s\")\n",
    "        return return_value\n",
    "\n",
    "    return wrapper_function_timer"
   ],
   "metadata": {
    "collapsed": false,
    "pycharm": {
     "name": "#%%\n"
    }
   }
  },
  {
   "cell_type": "markdown",
   "source": [
    "Now we can re-write our explicitly timed call above as a decorated function\n",
    "and get its execution time printed when we call the function, for example:"
   ],
   "metadata": {
    "collapsed": false
   }
  },
  {
   "cell_type": "markdown",
   "source": [
    "```python\n",
    "@function_timer\n",
    "def depth_avgs_from_one_file(ds_path):\n",
    "    with xarray.open_dataset(ds_path) as ds:\n",
    "        depth_avgs = ds.vosaline.isel(y=slice(200, 300), x=slice(200,250)).mean(dim=\"deptht\")\n",
    "    return depth_avgs\n",
    "\n",
    "depth_avgs = depth_avgs_from_one_file(ds_path)\n",
    "```\n",
    "    5.186700344085693s\n"
   ],
   "metadata": {
    "collapsed": false,
    "pycharm": {
     "name": "#%% md\n"
    }
   }
  }
 ],
 "metadata": {
  "kernelspec": {
   "display_name": "Python 3",
   "language": "python",
   "name": "python3"
  },
  "language_info": {
   "codemirror_mode": {
    "name": "ipython",
    "version": 2
   },
   "file_extension": ".py",
   "mimetype": "text/x-python",
   "name": "python",
   "nbconvert_exporter": "python",
   "pygments_lexer": "ipython2",
   "version": "2.7.6"
  }
 },
 "nbformat": 4,
 "nbformat_minor": 0
}
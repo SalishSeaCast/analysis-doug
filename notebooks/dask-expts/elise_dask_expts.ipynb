{
 "cells": [
  {
   "cell_type": "markdown",
   "metadata": {},
   "source": [
    "# `dask` Experiments for Elise's Plankton Averaging Workflow\n",
    "\n",
    "This notebook explores the performance of `dask` and `xarray.open_mfdataset()` \n",
    "compared to looping over files with `netCDF4` for Elise's diatoms and microzooplankton\n",
    "averaging workflow."
   ]
  },
  {
   "cell_type": "markdown",
   "metadata": {},
   "source": [
    "The packages required by this notebook are defined in the `conda` environment file `analysis-doug/notebooks/dask-expts/environment.yaml` along with instructions on how to created an isolated environment containing the latest versions of those packages.\n",
    "The `analysis-doug/notebooks/dask-expts/requirements.txt` contains a complete list of all of the packages (top level and dependecies) and their versions that were used most recently for work in this notebook. "
   ]
  },
  {
   "cell_type": "markdown",
   "metadata": {},
   "source": [
    "To get some compute muscle,\n",
    "I run this Jupyter Lab headless on port 9999 on `smelt` (similar architecture to Elise's `char` workstation) with:\n",
    "\n",
    "  `jupyter lab --no-browser --port=9999`\n",
    "   \n",
    "and set up an `ssh` tunnel to connect to the kernel on port 9999 on `smelt` from my local machine's port 4343 with:\n",
    "\n",
    "  `ssh -N -L 4343:localhost:9999 smelt`\n",
    "  \n",
    "and finally launch the lab UI in my local browser with:\n",
    "\n",
    "  http://localhost:4343/"
   ]
  },
  {
   "cell_type": "markdown",
   "metadata": {},
   "source": [
    "## `smelt`'s CPU and Memory"
   ]
  },
  {
   "cell_type": "code",
   "execution_count": 1,
   "metadata": {},
   "outputs": [
    {
     "name": "stdout",
     "output_type": "stream",
     "text": [
      "Architecture:          x86_64\n",
      "CPU op-mode(s):        32-bit, 64-bit\n",
      "Byte Order:            Little Endian\n",
      "CPU(s):                32\n",
      "On-line CPU(s) list:   0-31\n",
      "Thread(s) per core:    2\n",
      "Core(s) per socket:    8\n",
      "Socket(s):             2\n",
      "NUMA node(s):          2\n",
      "Vendor ID:             GenuineIntel\n",
      "CPU family:            6\n",
      "Model:                 45\n",
      "Model name:            Intel(R) Xeon(R) CPU E5-2690 0 @ 2.90GHz\n",
      "Stepping:              7\n",
      "CPU MHz:               1199.988\n",
      "CPU max MHz:           3800.0000\n",
      "CPU min MHz:           1200.0000\n",
      "BogoMIPS:              5801.82\n",
      "Virtualization:        VT-x\n",
      "L1d cache:             32K\n",
      "L1i cache:             32K\n",
      "L2 cache:              256K\n",
      "L3 cache:              20480K\n",
      "NUMA node0 CPU(s):     0-7,16-23\n",
      "NUMA node1 CPU(s):     8-15,24-31\n",
      "Flags:                 fpu vme de pse tsc msr pae mce cx8 apic sep mtrr pge mca cmov pat pse36 clflush dts acpi mmx fxsr sse sse2 ss ht tm pbe syscall nx pdpe1gb rdtscp lm constant_tsc arch_perfmon pebs bts rep_good nopl xtopology nonstop_tsc aperfmperf pni pclmulqdq dtes64 monitor ds_cpl vmx smx est tm2 ssse3 cx16 xtpr pdcm pcid dca sse4_1 sse4_2 x2apic popcnt tsc_deadline_timer aes xsave avx lahf_lm epb ssbd ibrs ibpb stibp kaiser tpr_shadow vnmi flexpriority ept vpid xsaveopt dtherm ida arat pln pts md_clear flush_l1d\n"
     ]
    }
   ],
   "source": [
    "!lscpu"
   ]
  },
  {
   "cell_type": "code",
   "execution_count": 2,
   "metadata": {},
   "outputs": [
    {
     "name": "stdout",
     "output_type": "stream",
     "text": [
      "MemTotal:       264118596 kB\n"
     ]
    }
   ],
   "source": [
    "!cat /proc/meminfo | head -1"
   ]
  },
  {
   "cell_type": "markdown",
   "metadata": {},
   "source": [
    "4 physical cores with 2 threads per core of hyperthreading, so 8 logical cores, and 16Gb of RAM."
   ]
  },
  {
   "cell_type": "markdown",
   "metadata": {},
   "source": [
    "## Setup\n",
    "\n",
    "Show `matplotlib` images inline,\n",
    "and do Python imports."
   ]
  },
  {
   "cell_type": "code",
   "execution_count": 1,
   "metadata": {},
   "outputs": [],
   "source": [
    "%matplotlib inline"
   ]
  },
  {
   "cell_type": "code",
   "execution_count": 2,
   "metadata": {},
   "outputs": [],
   "source": [
    "from datetime import datetime, timedelta\n",
    "import functools\n",
    "import sys\n",
    "import time\n",
    "\n",
    "import dask\n",
    "import dask.distributed\n",
    "import matplotlib.pyplot as plt\n",
    "import netCDF4\n",
    "import numpy\n",
    "import xarray\n",
    "\n",
    "from salishsea_tools import evaltools"
   ]
  },
  {
   "cell_type": "markdown",
   "metadata": {},
   "source": [
    "Python and library versions:"
   ]
  },
  {
   "cell_type": "code",
   "execution_count": 3,
   "metadata": {},
   "outputs": [
    {
     "name": "stdout",
     "output_type": "stream",
     "text": [
      "Python sys.version='3.8.0 | packaged by conda-forge | (default, Nov 22 2019, 19:11:38) \\n[GCC 7.3.0]'\n",
      "xarray.__version__='0.14.1'\n",
      "dask.__version__='2.8.1'\n",
      "netCDF4.__version__='1.5.3'\n",
      "numpy.__version__='1.17.3'\n"
     ]
    }
   ],
   "source": [
    "print(f\"Python {sys.version=}\")\n",
    "print(f\"{xarray.__version__=}\")\n",
    "print(f\"{dask.__version__=}\")\n",
    "print(f\"{netCDF4.__version__=}\")\n",
    "print(f\"{numpy.__version__=}\")"
   ]
  },
  {
   "cell_type": "markdown",
   "metadata": {},
   "source": [
    "## Timing Decorator\n",
    "\n",
    "We can't use the `%%time` cell magic to time deferred `dask` operations\n",
    "because all that shows us is the time it takes to add the deferred calculations\n",
    "to the `dask` operations graph.\n",
    "Instead we have to time explicitly with calls to `time.time()`,\n",
    "and we use a function decorator to minimize the amount of boilerplate code for timing.\n",
    "(For more details about functions within functions,\n",
    "decorators,\n",
    "and `functools.wraps()`,\n",
    "please see https://realpython.com/primer-on-python-decorators/)"
   ]
  },
  {
   "cell_type": "code",
   "execution_count": 5,
   "metadata": {},
   "outputs": [],
   "source": [
    "def function_timer(func):\n",
    "    @functools.wraps(func)\n",
    "    def wrapper_function_timer(*args, **kwargs):\n",
    "        t_start = time.time()\n",
    "        return_value = func(*args, **kwargs)\n",
    "        t_end = time.time()\n",
    "        print(f\"{t_end - t_start}s\")\n",
    "        return return_value\n",
    "\n",
    "    return wrapper_function_timer"
   ]
  },
  {
   "cell_type": "markdown",
   "metadata": {},
   "source": [
    "## Grid Region of Interest"
   ]
  },
  {
   "cell_type": "code",
   "execution_count": 4,
   "metadata": {},
   "outputs": [],
   "source": [
    "j0, j1, i0, i1 = 230, 470, 0, 200"
   ]
  },
  {
   "cell_type": "markdown",
   "metadata": {},
   "source": [
    "## Looping Over Results Files Using `netCDF4`"
   ]
  },
  {
   "cell_type": "markdown",
   "metadata": {},
   "source": [
    "### Meshmask Arrays Needed for Depth Averaging"
   ]
  },
  {
   "cell_type": "code",
   "execution_count": 7,
   "metadata": {},
   "outputs": [],
   "source": [
    "with netCDF4.Dataset(\"/ocean/eolson/MEOPAR/NEMO-forcing/grid/mesh_mask201702_noLPE.nc\") as mesh:\n",
    "    tmask=numpy.copy(mesh.variables['tmask'][:,:,j0:j1,i0:i1])\n",
    "    e3t0=numpy.copy(mesh.variables['e3t_0'][:,:,j0:j1,i0:i1])"
   ]
  },
  {
   "cell_type": "code",
   "execution_count": 8,
   "metadata": {},
   "outputs": [
    {
     "name": "stdout",
     "output_type": "stream",
     "text": [
      "tmask.shape=(1, 40, 240, 200)\n",
      "e3t0.shape=(1, 40, 240, 200)\n"
     ]
    }
   ],
   "source": [
    "print(f\"{tmask.shape=}\")\n",
    "print(f\"{e3t0.shape=}\")"
   ]
  },
  {
   "cell_type": "markdown",
   "metadata": {},
   "source": [
    "### Collection of file to Calculate Depth Averaged Quantities From"
   ]
  },
  {
   "cell_type": "markdown",
   "metadata": {},
   "source": [
    "Operate on a single 10-day file because it is faster than\n",
    "3 months of files while we are figuring out how to optimize\n",
    "the code."
   ]
  },
  {
   "cell_type": "code",
   "execution_count": 9,
   "metadata": {},
   "outputs": [
    {
     "name": "stdout",
     "output_type": "stream",
     "text": [
      "first file starts on  2015-05-31 00:00:00\n"
     ]
    }
   ],
   "source": [
    "flistmuZ = evaltools.index_model_files(\n",
    "    datetime(2015, 6, 1), datetime(2015, 6, 9),\n",
    "    \"/data/eolson/results/MEOPAR/SS36runs/CedarRuns/testmuZ/\",\n",
    "    \"long\", 10, \"ptrc_T\", 1\n",
    ")"
   ]
  },
  {
   "cell_type": "code",
   "execution_count": 10,
   "metadata": {},
   "outputs": [
    {
     "data": {
      "text/html": [
       "<div>\n",
       "<style scoped>\n",
       "    .dataframe tbody tr th:only-of-type {\n",
       "        vertical-align: middle;\n",
       "    }\n",
       "\n",
       "    .dataframe tbody tr th {\n",
       "        vertical-align: top;\n",
       "    }\n",
       "\n",
       "    .dataframe thead th {\n",
       "        text-align: right;\n",
       "    }\n",
       "</style>\n",
       "<table border=\"1\" class=\"dataframe\">\n",
       "  <thead>\n",
       "    <tr style=\"text-align: right;\">\n",
       "      <th></th>\n",
       "      <th>paths</th>\n",
       "      <th>t_0</th>\n",
       "      <th>t_n</th>\n",
       "    </tr>\n",
       "  </thead>\n",
       "  <tbody>\n",
       "    <tr>\n",
       "      <th>0</th>\n",
       "      <td>/data/eolson/results/MEOPAR/SS36runs/CedarRuns...</td>\n",
       "      <td>2015-05-31</td>\n",
       "      <td>2015-06-10</td>\n",
       "    </tr>\n",
       "  </tbody>\n",
       "</table>\n",
       "</div>"
      ],
      "text/plain": [
       "                                               paths        t_0        t_n\n",
       "0  /data/eolson/results/MEOPAR/SS36runs/CedarRuns... 2015-05-31 2015-06-10"
      ]
     },
     "execution_count": 10,
     "metadata": {},
     "output_type": "execute_result"
    }
   ],
   "source": [
    "flistmuZ"
   ]
  },
  {
   "cell_type": "code",
   "execution_count": 11,
   "metadata": {},
   "outputs": [
    {
     "data": {
      "text/plain": [
       "(Timestamp('2015-05-31 00:00:00'), Timestamp('2015-06-10 00:00:00'))"
      ]
     },
     "execution_count": 11,
     "metadata": {},
     "output_type": "execute_result"
    }
   ],
   "source": [
    "flistmuZ['t_0'][0], flistmuZ['t_n'][len(flistmuZ)-1]"
   ]
  },
  {
   "cell_type": "code",
   "execution_count": 12,
   "metadata": {},
   "outputs": [],
   "source": [
    "@function_timer\n",
    "def calc_depth_avgs(flist, tmask, e3t0):\n",
    "    sum1 = numpy.empty((len(flist)*24*10, j1-j0, i1-i0))\n",
    "    sum1uZ = numpy.empty((len(flist)*24*10, j1-j0, i1-i0))\n",
    "    for ind, row in flist.iterrows():\n",
    "        ds = netCDF4.Dataset(row['paths'])\n",
    "        diatoms = ds.variables['diatoms'][:,:,j0:j1,i0:i1]\n",
    "        uZ = ds.variables['microzooplankton'][:,:,j0:j1,i0:i1]\n",
    "        sum1[(24*10*ind):(24*10*(ind+1)),:,:] = numpy.sum(tmask*e3t0*diatoms, 1)\n",
    "        sum1uZ[(24*10*ind):(24*10*(ind+1)),:,:] = numpy.sum(tmask*e3t0*uZ, 1)\n",
    "    diatom_int = numpy.mean(sum1, 0)\n",
    "    microzoo_int = numpy.mean(sum1uZ, 0)\n",
    "    return diatom_int, microzoo_int"
   ]
  },
  {
   "cell_type": "code",
   "execution_count": 13,
   "metadata": {},
   "outputs": [
    {
     "name": "stdout",
     "output_type": "stream",
     "text": [
      "504.31361055374146s\n"
     ]
    }
   ],
   "source": [
    "diatoms_muZ_Int, uZ_muZ_Int = calc_depth_avgs(flistmuZ, tmask, e3t0)"
   ]
  },
  {
   "cell_type": "code",
   "execution_count": 14,
   "metadata": {},
   "outputs": [
    {
     "name": "stdout",
     "output_type": "stream",
     "text": [
      "diatoms_muZ_Int.shape=(240, 200)\n",
      "uZ_muZ_Int.shape=(240, 200)\n"
     ]
    }
   ],
   "source": [
    "print(f\"{diatoms_muZ_Int.shape=}\")\n",
    "print(f\"{uZ_muZ_Int.shape=}\")"
   ]
  },
  {
   "cell_type": "markdown",
   "metadata": {},
   "source": [
    "Re-write the depth average calculation for one file\n",
    "without the loop and sum accumulator variables\n",
    "as the first step towards using `xarray.open_mfdataset()`\n",
    "and `dask.distributed`."
   ]
  },
  {
   "cell_type": "code",
   "execution_count": 15,
   "metadata": {},
   "outputs": [],
   "source": [
    "@function_timer\n",
    "def calc_depth_avgs_no_loop(flist, tmask, e3t0):\n",
    "    with netCDF4.Dataset(flist) as ds:\n",
    "        diatoms = ds.variables['diatoms'][:,:,j0:j1,i0:i1]\n",
    "        diatoms_int = (diatoms * tmask * e3t0).sum(axis=1).mean(axis=0)\n",
    "        uZ = ds.variables['microzooplankton'][:,:,j0:j1,i0:i1]\n",
    "        uZ_int = (uZ * tmask * e3t0).sum(axis=1).mean(axis=0)\n",
    "    return diatoms_int, uZ_int"
   ]
  },
  {
   "cell_type": "code",
   "execution_count": 16,
   "metadata": {},
   "outputs": [
    {
     "name": "stdout",
     "output_type": "stream",
     "text": [
      "593.3109464645386s\n"
     ]
    }
   ],
   "source": [
    "diatoms_int, uZ_int = calc_depth_avgs_no_loop(\n",
    "    \"/data/eolson/results/MEOPAR/SS36runs/CedarRuns/testmuZ/SalishSea_1h_20150531_20150709_ptrc_T_20150531-20150609.nc\",\n",
    "    tmask, e3t0)\n",
    "numpy.testing.assert_equal(diatoms_int, diatoms_muZ_Int)\n",
    "numpy.testing.assert_equal(uZ_int, uZ_muZ_Int)"
   ]
  },
  {
   "cell_type": "code",
   "execution_count": 17,
   "metadata": {},
   "outputs": [
    {
     "name": "stdout",
     "output_type": "stream",
     "text": [
      "diatoms_int.shape=(240, 200)\n",
      "uZ_int.shape=(240, 200)\n"
     ]
    }
   ],
   "source": [
    "print(f\"{diatoms_int.shape=}\")\n",
    "print(f\"{uZ_int.shape=}\")"
   ]
  },
  {
   "cell_type": "markdown",
   "metadata": {},
   "source": [
    "## Switch to `xarray`"
   ]
  },
  {
   "cell_type": "markdown",
   "metadata": {},
   "source": [
    "Continue refactoring the depth average calculation for one file\n",
    "to use `xarray.open_dataset()`."
   ]
  },
  {
   "cell_type": "code",
   "execution_count": 18,
   "metadata": {},
   "outputs": [],
   "source": [
    "with xarray.open_dataset(\"/ocean/eolson/MEOPAR/NEMO-forcing/grid/mesh_mask201702_noLPE.nc\") as mesh:\n",
    "    x_tmask = mesh.tmask.isel(y=slice(j0, j1), x=slice(i0, i1)).data\n",
    "    x_e3t0 = mesh.e3t_0.isel(y=slice(j0, j1), x=slice(i0, i1)).data"
   ]
  },
  {
   "cell_type": "code",
   "execution_count": 19,
   "metadata": {},
   "outputs": [],
   "source": [
    "@function_timer\n",
    "def calc_depth_avgs_xarray(flist, x_tmask, x_e3t0):\n",
    "    with xarray.open_dataset(flist) as ds:\n",
    "        diatoms = ds.diatoms.isel(y=slice(j0, j1), x=slice(i0, i1))\n",
    "        diatoms_int = (diatoms * x_tmask * x_e3t0).sum(axis=1).mean(axis=0)\n",
    "        uZ = ds.microzooplankton.isel(y=slice(j0, j1), x=slice(i0, i1))\n",
    "        uZ_int = (uZ * x_tmask * x_e3t0).sum(axis=1).mean(axis=0)\n",
    "    return diatoms_int, uZ_int"
   ]
  },
  {
   "cell_type": "code",
   "execution_count": 20,
   "metadata": {},
   "outputs": [
    {
     "name": "stdout",
     "output_type": "stream",
     "text": [
      "456.4098262786865s\n"
     ]
    }
   ],
   "source": [
    "x_diatoms_int, x_uZ_int = calc_depth_avgs_xarray(\n",
    "    \"/data/eolson/results/MEOPAR/SS36runs/CedarRuns/testmuZ/SalishSea_1h_20150531_20150709_ptrc_T_20150531-20150609.nc\",\n",
    "    tmask, e3t0)\n",
    "numpy.testing.assert_allclose(x_diatoms_int, diatoms_muZ_Int)\n",
    "numpy.testing.assert_allclose(x_uZ_int, uZ_muZ_Int)"
   ]
  },
  {
   "cell_type": "code",
   "execution_count": 21,
   "metadata": {},
   "outputs": [
    {
     "name": "stdout",
     "output_type": "stream",
     "text": [
      "x_diatoms_int.shape=(240, 200)\n",
      "x_uZ_int.shape=(240, 200)\n"
     ]
    }
   ],
   "source": [
    "print(f\"{x_diatoms_int.shape=}\")\n",
    "print(f\"{x_uZ_int.shape=}\")"
   ]
  },
  {
   "cell_type": "markdown",
   "metadata": {},
   "source": [
    "## Use `dask.distributed`\n",
    "\n",
    "Set up a local cluster of 2 workers with 2 threads per worker\n",
    "with the workers launched as separate processes.\n",
    "This will distribute the processing over multiple cores on `smelt`."
   ]
  },
  {
   "cell_type": "code",
   "execution_count": 22,
   "metadata": {},
   "outputs": [
    {
     "data": {
      "text/html": [
       "<table style=\"border: 2px solid white;\">\n",
       "<tr>\n",
       "<td style=\"vertical-align: top; border: 0px solid white\">\n",
       "<h3 style=\"text-align: left;\">Client</h3>\n",
       "<ul style=\"text-align: left; list-style: none; margin: 0; padding: 0;\">\n",
       "  <li><b>Scheduler: </b>tcp://127.0.0.1:43228</li>\n",
       "  <li><b>Dashboard: </b><a href='http://127.0.0.1:8787/status' target='_blank'>http://127.0.0.1:8787/status</a>\n",
       "</ul>\n",
       "</td>\n",
       "<td style=\"vertical-align: top; border: 0px solid white\">\n",
       "<h3 style=\"text-align: left;\">Cluster</h3>\n",
       "<ul style=\"text-align: left; list-style:none; margin: 0; padding: 0;\">\n",
       "  <li><b>Workers: </b>12</li>\n",
       "  <li><b>Cores: </b>24</li>\n",
       "  <li><b>Memory: </b>270.46 GB</li>\n",
       "</ul>\n",
       "</td>\n",
       "</tr>\n",
       "</table>"
      ],
      "text/plain": [
       "<Client: 'tcp://127.0.0.1:43228' processes=12 threads=24, memory=270.46 GB>"
      ]
     },
     "execution_count": 22,
     "metadata": {},
     "output_type": "execute_result"
    }
   ],
   "source": [
    "client = dask.distributed.Client(\n",
    "    n_workers=2, threads_per_worker=2, processes=True)\n",
    "client"
   ]
  },
  {
   "cell_type": "markdown",
   "metadata": {},
   "source": [
    "To make `xarray` use `dask` we have to pass a `chunks` dict to `open_dataset()`.\n",
    "\n",
    "Because we are using `dask` this function does not return the results,\n",
    "rather it returns the `dask` task graph that will be excuted to calculate the results.\n",
    "So, there is no value in decorating it with `@function_timer`.\n",
    "Instead, the assertions to confirm that the results are as expected are what triggers\n",
    "the calculation, so, we move our assertions to into a `@function_timer` decorated function."
   ]
  },
  {
   "cell_type": "code",
   "execution_count": 23,
   "metadata": {},
   "outputs": [],
   "source": [
    "def calc_depth_avgs_dask(flist, chunks, tmask, e3t0):\n",
    "    with xarray.open_dataset(flist, chunks=chunks) as ds:\n",
    "        diatoms = ds.diatoms.isel(y=slice(j0, j1), x=slice(i0, i1))\n",
    "        diatoms_int = (diatoms * tmask * e3t0).sum(axis=1).mean(axis=0)\n",
    "        uZ = ds.microzooplankton.isel(y=slice(j0, j1), x=slice(i0, i1))\n",
    "        uZ_int = (uZ * tmask * e3t0).sum(axis=1).mean(axis=0)\n",
    "    return diatoms_int, uZ_int"
   ]
  },
  {
   "cell_type": "code",
   "execution_count": 24,
   "metadata": {},
   "outputs": [],
   "source": [
    "@function_timer\n",
    "def check_results(diatoms_calc, diatoms_exp, uZ_calc, uZ_exp):\n",
    "    numpy.testing.assert_allclose(diatoms_calc, diatoms_exp)\n",
    "    numpy.testing.assert_allclose(uZ_calc, uZ_exp)"
   ]
  },
  {
   "cell_type": "code",
   "execution_count": 25,
   "metadata": {},
   "outputs": [
    {
     "name": "stdout",
     "output_type": "stream",
     "text": [
      "27.72683548927307s\n"
     ]
    }
   ],
   "source": [
    "chunks = {\"time_counter\": 1, \"deptht\": 40, \"y\": 898, \"x\": 398}\n",
    "d_diatoms_int, d_uZ_int = calc_depth_avgs_dask(\n",
    "    \"/data/eolson/results/MEOPAR/SS36runs/CedarRuns/testmuZ/SalishSea_1h_20150531_20150709_ptrc_T_20150531-20150609.nc\",\n",
    "    chunks, tmask, e3t0)\n",
    "check_results(d_diatoms_int, diatoms_muZ_Int, d_uZ_int, uZ_muZ_Int)"
   ]
  },
  {
   "cell_type": "code",
   "execution_count": 26,
   "metadata": {},
   "outputs": [
    {
     "name": "stdout",
     "output_type": "stream",
     "text": [
      "x_diatoms_int.shape=(240, 200)\n",
      "x_uZ_int.shape=(240, 200)\n"
     ]
    }
   ],
   "source": [
    "print(f\"{x_diatoms_int.shape=}\")\n",
    "print(f\"{x_uZ_int.shape=}\")"
   ]
  },
  {
   "cell_type": "markdown",
   "metadata": {},
   "source": [
    "Increase the chunk size:"
   ]
  },
  {
   "cell_type": "code",
   "execution_count": 27,
   "metadata": {},
   "outputs": [
    {
     "name": "stdout",
     "output_type": "stream",
     "text": [
      "20.735081911087036s\n"
     ]
    }
   ],
   "source": [
    "chunks = {\"time_counter\": 3, \"deptht\": 40*3, \"y\": 898*3, \"x\": 398*3}\n",
    "d_diatoms_int, d_uZ_int = calc_depth_avgs_dask(\n",
    "    \"/data/eolson/results/MEOPAR/SS36runs/CedarRuns/testmuZ/SalishSea_1h_20150531_20150709_ptrc_T_20150531-20150609.nc\",\n",
    "    chunks, tmask, e3t0)\n",
    "check_results(d_diatoms_int, diatoms_muZ_Int, d_uZ_int, uZ_muZ_Int)"
   ]
  },
  {
   "cell_type": "markdown",
   "metadata": {},
   "source": [
    "Increase the number of workers:"
   ]
  },
  {
   "cell_type": "code",
   "execution_count": 32,
   "metadata": {},
   "outputs": [],
   "source": [
    "client.cluster.scale(4)"
   ]
  },
  {
   "cell_type": "code",
   "execution_count": 33,
   "metadata": {},
   "outputs": [
    {
     "name": "stdout",
     "output_type": "stream",
     "text": [
      "20.83695673942566s\n"
     ]
    }
   ],
   "source": [
    "chunks = {\"time_counter\": 3, \"deptht\": 40*3, \"y\": 898*3, \"x\": 398*3}\n",
    "d_diatoms_int, d_uZ_int = calc_depth_avgs_dask(\n",
    "    \"/data/eolson/results/MEOPAR/SS36runs/CedarRuns/testmuZ/SalishSea_1h_20150531_20150709_ptrc_T_20150531-20150609.nc\",\n",
    "    chunks, tmask, e3t0)\n",
    "check_results(d_diatoms_int, diatoms_muZ_Int, d_uZ_int, uZ_muZ_Int)"
   ]
  },
  {
   "cell_type": "markdown",
   "metadata": {},
   "source": [
    "Increase the chunk size again:"
   ]
  },
  {
   "cell_type": "code",
   "execution_count": 34,
   "metadata": {},
   "outputs": [
    {
     "name": "stdout",
     "output_type": "stream",
     "text": [
      "26.398309469223022s\n"
     ]
    }
   ],
   "source": [
    "chunks = {\"time_counter\": 4, \"deptht\": 40*4, \"y\": 898*4, \"x\": 398*4}\n",
    "d_diatoms_int, d_uZ_int = calc_depth_avgs_dask(\n",
    "    \"/data/eolson/results/MEOPAR/SS36runs/CedarRuns/testmuZ/SalishSea_1h_20150531_20150709_ptrc_T_20150531-20150609.nc\",\n",
    "    chunks, tmask, e3t0)\n",
    "check_results(d_diatoms_int, diatoms_muZ_Int, d_uZ_int, uZ_muZ_Int)"
   ]
  },
  {
   "cell_type": "markdown",
   "metadata": {},
   "source": [
    "## Operating on More Than One File"
   ]
  },
  {
   "cell_type": "markdown",
   "metadata": {},
   "source": [
    "## Looping with `netCDF4`"
   ]
  },
  {
   "cell_type": "code",
   "execution_count": 37,
   "metadata": {},
   "outputs": [
    {
     "name": "stdout",
     "output_type": "stream",
     "text": [
      "first file starts on  2015-05-31 00:00:00\n"
     ]
    }
   ],
   "source": [
    "flistmuZ = evaltools.index_model_files(\n",
    "    datetime(2015, 6, 1), datetime(2015, 6, 19),\n",
    "    \"/data/eolson/results/MEOPAR/SS36runs/CedarRuns/testmuZ/\",\n",
    "    \"long\", 10, \"ptrc_T\", 1\n",
    ")"
   ]
  },
  {
   "cell_type": "code",
   "execution_count": 38,
   "metadata": {},
   "outputs": [
    {
     "data": {
      "text/html": [
       "<div>\n",
       "<style scoped>\n",
       "    .dataframe tbody tr th:only-of-type {\n",
       "        vertical-align: middle;\n",
       "    }\n",
       "\n",
       "    .dataframe tbody tr th {\n",
       "        vertical-align: top;\n",
       "    }\n",
       "\n",
       "    .dataframe thead th {\n",
       "        text-align: right;\n",
       "    }\n",
       "</style>\n",
       "<table border=\"1\" class=\"dataframe\">\n",
       "  <thead>\n",
       "    <tr style=\"text-align: right;\">\n",
       "      <th></th>\n",
       "      <th>paths</th>\n",
       "      <th>t_0</th>\n",
       "      <th>t_n</th>\n",
       "    </tr>\n",
       "  </thead>\n",
       "  <tbody>\n",
       "    <tr>\n",
       "      <th>0</th>\n",
       "      <td>/data/eolson/results/MEOPAR/SS36runs/CedarRuns...</td>\n",
       "      <td>2015-05-31</td>\n",
       "      <td>2015-06-10</td>\n",
       "    </tr>\n",
       "    <tr>\n",
       "      <th>1</th>\n",
       "      <td>/data/eolson/results/MEOPAR/SS36runs/CedarRuns...</td>\n",
       "      <td>2015-06-10</td>\n",
       "      <td>2015-06-20</td>\n",
       "    </tr>\n",
       "  </tbody>\n",
       "</table>\n",
       "</div>"
      ],
      "text/plain": [
       "                                               paths        t_0        t_n\n",
       "0  /data/eolson/results/MEOPAR/SS36runs/CedarRuns... 2015-05-31 2015-06-10\n",
       "1  /data/eolson/results/MEOPAR/SS36runs/CedarRuns... 2015-06-10 2015-06-20"
      ]
     },
     "execution_count": 38,
     "metadata": {},
     "output_type": "execute_result"
    }
   ],
   "source": [
    "flistmuZ"
   ]
  },
  {
   "cell_type": "code",
   "execution_count": 39,
   "metadata": {},
   "outputs": [
    {
     "data": {
      "text/plain": [
       "(Timestamp('2015-05-31 00:00:00'), Timestamp('2015-06-20 00:00:00'))"
      ]
     },
     "execution_count": 39,
     "metadata": {},
     "output_type": "execute_result"
    }
   ],
   "source": [
    "flistmuZ['t_0'][0], flistmuZ['t_n'][len(flistmuZ)-1]"
   ]
  },
  {
   "cell_type": "code",
   "execution_count": 40,
   "metadata": {},
   "outputs": [
    {
     "name": "stdout",
     "output_type": "stream",
     "text": [
      "1086.6526288986206s\n"
     ]
    }
   ],
   "source": [
    "m_diatoms_muZ_Int, m_uZ_muZ_Int = calc_depth_avgs(flistmuZ, tmask, e3t0)"
   ]
  },
  {
   "cell_type": "code",
   "execution_count": 41,
   "metadata": {},
   "outputs": [
    {
     "name": "stdout",
     "output_type": "stream",
     "text": [
      "diatoms_muZ_Int.shape=(240, 200)\n",
      "uZ_muZ_Int.shape=(240, 200)\n"
     ]
    }
   ],
   "source": [
    "print(f\"{diatoms_muZ_Int.shape=}\")\n",
    "print(f\"{uZ_muZ_Int.shape=}\")"
   ]
  },
  {
   "cell_type": "markdown",
   "metadata": {},
   "source": [
    "## `xarray.open_mfdataset()`"
   ]
  },
  {
   "cell_type": "code",
   "execution_count": 13,
   "metadata": {},
   "outputs": [],
   "source": [
    "def calc_depth_avgs_mfdataset(flist, chunks, tmask, e3t0):\n",
    "    kwargs = dict(combine=\"nested\", concat_dim=\"time_counter\", parallel=True)\n",
    "    with xarray.open_mfdataset(flist, chunks=chunks, **kwargs) as ds:\n",
    "        diatoms = ds.diatoms.isel(y=slice(j0, j1), x=slice(i0, i1))\n",
    "        diatoms_int = (diatoms * tmask * e3t0).sum(axis=1).mean(axis=0)\n",
    "        uZ = ds.microzooplankton.isel(y=slice(j0, j1), x=slice(i0, i1))\n",
    "        uZ_int = (uZ * tmask * e3t0).sum(axis=1).mean(axis=0)\n",
    "    return diatoms_int, uZ_int"
   ]
  },
  {
   "cell_type": "code",
   "execution_count": 43,
   "metadata": {},
   "outputs": [
    {
     "name": "stdout",
     "output_type": "stream",
     "text": [
      "35.82601809501648s\n"
     ]
    }
   ],
   "source": [
    "chunks = {\"time_counter\": 4, \"deptht\": 40*4, \"y\": 898*4, \"x\": 398*4}\n",
    "mf_diatoms_int, mf_uZ_int = calc_depth_avgs_mfdataset(\n",
    "    [\"/data/eolson/results/MEOPAR/SS36runs/CedarRuns/testmuZ/SalishSea_1h_20150531_20150709_ptrc_T_20150531-20150609.nc\",\n",
    "     \"/data/eolson/results/MEOPAR/SS36runs/CedarRuns/testmuZ/SalishSea_1h_20150531_20150709_ptrc_T_20150610-20150619.nc\",],\n",
    "    chunks, tmask, e3t0)\n",
    "check_results(mf_diatoms_int, m_diatoms_muZ_Int, mf_uZ_int, m_uZ_muZ_Int)"
   ]
  },
  {
   "cell_type": "code",
   "execution_count": 44,
   "metadata": {},
   "outputs": [],
   "source": [
    "client.close()"
   ]
  },
  {
   "cell_type": "markdown",
   "metadata": {},
   "source": [
    "## The Whole Enchillada\n",
    "\n",
    "`dask.distributed` and `xarray.open_mfdataset()` implementation of the\n",
    "~3 month averaging and visualization in `tryDask-nc.ipynb`.\n",
    "This section was run on `salish` to take advantage of more cores and memory."
   ]
  },
  {
   "cell_type": "code",
   "execution_count": 5,
   "metadata": {},
   "outputs": [],
   "source": [
    "with xarray.open_dataset(\"/ocean/eolson/MEOPAR/NEMO-forcing/grid/mesh_mask201702_noLPE.nc\") as mesh:\n",
    "    x_tmask = mesh.tmask.isel(y=slice(j0, j1), x=slice(i0, i1)).data\n",
    "    x_e3t0 = mesh.e3t_0.isel(y=slice(j0, j1), x=slice(i0, i1)).data"
   ]
  },
  {
   "cell_type": "code",
   "execution_count": 6,
   "metadata": {},
   "outputs": [
    {
     "name": "stdout",
     "output_type": "stream",
     "text": [
      "first file starts on  2015-05-31 00:00:00\n"
     ]
    }
   ],
   "source": [
    "flistmuZ = evaltools.index_model_files(\n",
    "    datetime(2015, 6, 1), datetime(2015, 9, 1),\n",
    "    \"/data/eolson/results/MEOPAR/SS36runs/CedarRuns/testmuZ/\",\n",
    "    \"long\", 10, \"ptrc_T\", 1\n",
    ")"
   ]
  },
  {
   "cell_type": "code",
   "execution_count": 7,
   "metadata": {},
   "outputs": [
    {
     "data": {
      "text/html": [
       "<div>\n",
       "<style scoped>\n",
       "    .dataframe tbody tr th:only-of-type {\n",
       "        vertical-align: middle;\n",
       "    }\n",
       "\n",
       "    .dataframe tbody tr th {\n",
       "        vertical-align: top;\n",
       "    }\n",
       "\n",
       "    .dataframe thead th {\n",
       "        text-align: right;\n",
       "    }\n",
       "</style>\n",
       "<table border=\"1\" class=\"dataframe\">\n",
       "  <thead>\n",
       "    <tr style=\"text-align: right;\">\n",
       "      <th></th>\n",
       "      <th>paths</th>\n",
       "      <th>t_0</th>\n",
       "      <th>t_n</th>\n",
       "    </tr>\n",
       "  </thead>\n",
       "  <tbody>\n",
       "    <tr>\n",
       "      <th>0</th>\n",
       "      <td>/data/eolson/results/MEOPAR/SS36runs/CedarRuns...</td>\n",
       "      <td>2015-05-31</td>\n",
       "      <td>2015-06-10</td>\n",
       "    </tr>\n",
       "    <tr>\n",
       "      <th>1</th>\n",
       "      <td>/data/eolson/results/MEOPAR/SS36runs/CedarRuns...</td>\n",
       "      <td>2015-06-10</td>\n",
       "      <td>2015-06-20</td>\n",
       "    </tr>\n",
       "    <tr>\n",
       "      <th>2</th>\n",
       "      <td>/data/eolson/results/MEOPAR/SS36runs/CedarRuns...</td>\n",
       "      <td>2015-06-20</td>\n",
       "      <td>2015-06-30</td>\n",
       "    </tr>\n",
       "    <tr>\n",
       "      <th>3</th>\n",
       "      <td>/data/eolson/results/MEOPAR/SS36runs/CedarRuns...</td>\n",
       "      <td>2015-06-30</td>\n",
       "      <td>2015-07-10</td>\n",
       "    </tr>\n",
       "    <tr>\n",
       "      <th>4</th>\n",
       "      <td>/data/eolson/results/MEOPAR/SS36runs/CedarRuns...</td>\n",
       "      <td>2015-07-10</td>\n",
       "      <td>2015-07-20</td>\n",
       "    </tr>\n",
       "    <tr>\n",
       "      <th>5</th>\n",
       "      <td>/data/eolson/results/MEOPAR/SS36runs/CedarRuns...</td>\n",
       "      <td>2015-07-20</td>\n",
       "      <td>2015-07-30</td>\n",
       "    </tr>\n",
       "    <tr>\n",
       "      <th>6</th>\n",
       "      <td>/data/eolson/results/MEOPAR/SS36runs/CedarRuns...</td>\n",
       "      <td>2015-07-30</td>\n",
       "      <td>2015-08-09</td>\n",
       "    </tr>\n",
       "    <tr>\n",
       "      <th>7</th>\n",
       "      <td>/data/eolson/results/MEOPAR/SS36runs/CedarRuns...</td>\n",
       "      <td>2015-08-09</td>\n",
       "      <td>2015-08-19</td>\n",
       "    </tr>\n",
       "    <tr>\n",
       "      <th>8</th>\n",
       "      <td>/data/eolson/results/MEOPAR/SS36runs/CedarRuns...</td>\n",
       "      <td>2015-08-19</td>\n",
       "      <td>2015-08-29</td>\n",
       "    </tr>\n",
       "    <tr>\n",
       "      <th>9</th>\n",
       "      <td>/data/eolson/results/MEOPAR/SS36runs/CedarRuns...</td>\n",
       "      <td>2015-08-29</td>\n",
       "      <td>2015-09-08</td>\n",
       "    </tr>\n",
       "  </tbody>\n",
       "</table>\n",
       "</div>"
      ],
      "text/plain": [
       "                                               paths        t_0        t_n\n",
       "0  /data/eolson/results/MEOPAR/SS36runs/CedarRuns... 2015-05-31 2015-06-10\n",
       "1  /data/eolson/results/MEOPAR/SS36runs/CedarRuns... 2015-06-10 2015-06-20\n",
       "2  /data/eolson/results/MEOPAR/SS36runs/CedarRuns... 2015-06-20 2015-06-30\n",
       "3  /data/eolson/results/MEOPAR/SS36runs/CedarRuns... 2015-06-30 2015-07-10\n",
       "4  /data/eolson/results/MEOPAR/SS36runs/CedarRuns... 2015-07-10 2015-07-20\n",
       "5  /data/eolson/results/MEOPAR/SS36runs/CedarRuns... 2015-07-20 2015-07-30\n",
       "6  /data/eolson/results/MEOPAR/SS36runs/CedarRuns... 2015-07-30 2015-08-09\n",
       "7  /data/eolson/results/MEOPAR/SS36runs/CedarRuns... 2015-08-09 2015-08-19\n",
       "8  /data/eolson/results/MEOPAR/SS36runs/CedarRuns... 2015-08-19 2015-08-29\n",
       "9  /data/eolson/results/MEOPAR/SS36runs/CedarRuns... 2015-08-29 2015-09-08"
      ]
     },
     "execution_count": 7,
     "metadata": {},
     "output_type": "execute_result"
    }
   ],
   "source": [
    "flistmuZ"
   ]
  },
  {
   "cell_type": "code",
   "execution_count": 8,
   "metadata": {},
   "outputs": [
    {
     "data": {
      "text/plain": [
       "(Timestamp('2015-05-31 00:00:00'), Timestamp('2015-09-08 00:00:00'))"
      ]
     },
     "execution_count": 8,
     "metadata": {},
     "output_type": "execute_result"
    }
   ],
   "source": [
    "flistmuZ['t_0'][0], flistmuZ['t_n'][len(flistmuZ)-1]"
   ]
  },
  {
   "cell_type": "code",
   "execution_count": 9,
   "metadata": {
    "collapsed": false,
    "jupyter": {
     "outputs_hidden": false
    }
   },
   "outputs": [],
   "source": [
    "flistHC = evaltools.index_model_files(\n",
    "    flistmuZ['t_0'][0], flistmuZ['t_n'][len(flistmuZ)-1] - timedelta(days=1),\n",
    "    '/results/SalishSea/hindcast.201905/', 'nowcast', 1, 'ptrc_T', 1)"
   ]
  },
  {
   "cell_type": "code",
   "execution_count": 10,
   "metadata": {},
   "outputs": [
    {
     "data": {
      "text/html": [
       "<div>\n",
       "<style scoped>\n",
       "    .dataframe tbody tr th:only-of-type {\n",
       "        vertical-align: middle;\n",
       "    }\n",
       "\n",
       "    .dataframe tbody tr th {\n",
       "        vertical-align: top;\n",
       "    }\n",
       "\n",
       "    .dataframe thead th {\n",
       "        text-align: right;\n",
       "    }\n",
       "</style>\n",
       "<table border=\"1\" class=\"dataframe\">\n",
       "  <thead>\n",
       "    <tr style=\"text-align: right;\">\n",
       "      <th></th>\n",
       "      <th>paths</th>\n",
       "      <th>t_0</th>\n",
       "      <th>t_n</th>\n",
       "    </tr>\n",
       "  </thead>\n",
       "  <tbody>\n",
       "    <tr>\n",
       "      <th>0</th>\n",
       "      <td>/results/SalishSea/hindcast.201905/31may15/Sal...</td>\n",
       "      <td>2015-05-31</td>\n",
       "      <td>2015-06-01</td>\n",
       "    </tr>\n",
       "    <tr>\n",
       "      <th>1</th>\n",
       "      <td>/results/SalishSea/hindcast.201905/01jun15/Sal...</td>\n",
       "      <td>2015-06-01</td>\n",
       "      <td>2015-06-02</td>\n",
       "    </tr>\n",
       "    <tr>\n",
       "      <th>2</th>\n",
       "      <td>/results/SalishSea/hindcast.201905/02jun15/Sal...</td>\n",
       "      <td>2015-06-02</td>\n",
       "      <td>2015-06-03</td>\n",
       "    </tr>\n",
       "    <tr>\n",
       "      <th>3</th>\n",
       "      <td>/results/SalishSea/hindcast.201905/03jun15/Sal...</td>\n",
       "      <td>2015-06-03</td>\n",
       "      <td>2015-06-04</td>\n",
       "    </tr>\n",
       "    <tr>\n",
       "      <th>4</th>\n",
       "      <td>/results/SalishSea/hindcast.201905/04jun15/Sal...</td>\n",
       "      <td>2015-06-04</td>\n",
       "      <td>2015-06-05</td>\n",
       "    </tr>\n",
       "    <tr>\n",
       "      <th>...</th>\n",
       "      <td>...</td>\n",
       "      <td>...</td>\n",
       "      <td>...</td>\n",
       "    </tr>\n",
       "    <tr>\n",
       "      <th>95</th>\n",
       "      <td>/results/SalishSea/hindcast.201905/03sep15/Sal...</td>\n",
       "      <td>2015-09-03</td>\n",
       "      <td>2015-09-04</td>\n",
       "    </tr>\n",
       "    <tr>\n",
       "      <th>96</th>\n",
       "      <td>/results/SalishSea/hindcast.201905/04sep15/Sal...</td>\n",
       "      <td>2015-09-04</td>\n",
       "      <td>2015-09-05</td>\n",
       "    </tr>\n",
       "    <tr>\n",
       "      <th>97</th>\n",
       "      <td>/results/SalishSea/hindcast.201905/05sep15/Sal...</td>\n",
       "      <td>2015-09-05</td>\n",
       "      <td>2015-09-06</td>\n",
       "    </tr>\n",
       "    <tr>\n",
       "      <th>98</th>\n",
       "      <td>/results/SalishSea/hindcast.201905/06sep15/Sal...</td>\n",
       "      <td>2015-09-06</td>\n",
       "      <td>2015-09-07</td>\n",
       "    </tr>\n",
       "    <tr>\n",
       "      <th>99</th>\n",
       "      <td>/results/SalishSea/hindcast.201905/07sep15/Sal...</td>\n",
       "      <td>2015-09-07</td>\n",
       "      <td>2015-09-08</td>\n",
       "    </tr>\n",
       "  </tbody>\n",
       "</table>\n",
       "<p>100 rows × 3 columns</p>\n",
       "</div>"
      ],
      "text/plain": [
       "                                                paths        t_0        t_n\n",
       "0   /results/SalishSea/hindcast.201905/31may15/Sal... 2015-05-31 2015-06-01\n",
       "1   /results/SalishSea/hindcast.201905/01jun15/Sal... 2015-06-01 2015-06-02\n",
       "2   /results/SalishSea/hindcast.201905/02jun15/Sal... 2015-06-02 2015-06-03\n",
       "3   /results/SalishSea/hindcast.201905/03jun15/Sal... 2015-06-03 2015-06-04\n",
       "4   /results/SalishSea/hindcast.201905/04jun15/Sal... 2015-06-04 2015-06-05\n",
       "..                                                ...        ...        ...\n",
       "95  /results/SalishSea/hindcast.201905/03sep15/Sal... 2015-09-03 2015-09-04\n",
       "96  /results/SalishSea/hindcast.201905/04sep15/Sal... 2015-09-04 2015-09-05\n",
       "97  /results/SalishSea/hindcast.201905/05sep15/Sal... 2015-09-05 2015-09-06\n",
       "98  /results/SalishSea/hindcast.201905/06sep15/Sal... 2015-09-06 2015-09-07\n",
       "99  /results/SalishSea/hindcast.201905/07sep15/Sal... 2015-09-07 2015-09-08\n",
       "\n",
       "[100 rows x 3 columns]"
      ]
     },
     "execution_count": 10,
     "metadata": {},
     "output_type": "execute_result"
    }
   ],
   "source": [
    "flistHC"
   ]
  },
  {
   "cell_type": "code",
   "execution_count": 11,
   "metadata": {},
   "outputs": [],
   "source": [
    "def calc_depth_avgs_mfdataset(flist, chunks, tmask, e3t0):\n",
    "    kwargs = dict(combine=\"nested\", concat_dim=\"time_counter\", parallel=True)\n",
    "    with xarray.open_mfdataset(flist, chunks=chunks, **kwargs) as ds:\n",
    "        diatoms = ds.diatoms.isel(y=slice(j0, j1), x=slice(i0, i1))\n",
    "        diatoms_int = (diatoms * tmask * e3t0).sum(axis=1).mean(axis=0)\n",
    "        uZ = ds.microzooplankton.isel(y=slice(j0, j1), x=slice(i0, i1))\n",
    "        uZ_int = (uZ * tmask * e3t0).sum(axis=1).mean(axis=0)\n",
    "    return diatoms_int, uZ_int"
   ]
  },
  {
   "cell_type": "code",
   "execution_count": 12,
   "metadata": {},
   "outputs": [
    {
     "data": {
      "text/html": [
       "<table style=\"border: 2px solid white;\">\n",
       "<tr>\n",
       "<td style=\"vertical-align: top; border: 0px solid white\">\n",
       "<h3 style=\"text-align: left;\">Client</h3>\n",
       "<ul style=\"text-align: left; list-style: none; margin: 0; padding: 0;\">\n",
       "  <li><b>Scheduler: </b>tcp://127.0.0.1:44061</li>\n",
       "  <li><b>Dashboard: </b><a href='http://127.0.0.1:8787/status' target='_blank'>http://127.0.0.1:8787/status</a>\n",
       "</ul>\n",
       "</td>\n",
       "<td style=\"vertical-align: top; border: 0px solid white\">\n",
       "<h3 style=\"text-align: left;\">Cluster</h3>\n",
       "<ul style=\"text-align: left; list-style:none; margin: 0; padding: 0;\">\n",
       "  <li><b>Workers: </b>12</li>\n",
       "  <li><b>Cores: </b>24</li>\n",
       "  <li><b>Memory: </b>270.46 GB</li>\n",
       "</ul>\n",
       "</td>\n",
       "</tr>\n",
       "</table>"
      ],
      "text/plain": [
       "<Client: 'tcp://127.0.0.1:44061' processes=12 threads=24, memory=270.46 GB>"
      ]
     },
     "execution_count": 12,
     "metadata": {},
     "output_type": "execute_result"
    }
   ],
   "source": [
    "client = dask.distributed.Client(\n",
    "    n_workers=12, threads_per_worker=2, processes=True)\n",
    "client"
   ]
  },
  {
   "cell_type": "code",
   "execution_count": 13,
   "metadata": {},
   "outputs": [],
   "source": [
    "chunks = {\"time_counter\": 3, \"deptht\": 40*3, \"y\": 898*3, \"x\": 398*3}"
   ]
  },
  {
   "cell_type": "code",
   "execution_count": 14,
   "metadata": {},
   "outputs": [],
   "source": [
    "x_diatoms_muZ_int, x_uZ_muZ_int = calc_depth_avgs_mfdataset(\n",
    "    [row[\"paths\"] for _, row in flistmuZ.iterrows()], chunks, x_tmask, x_e3t0\n",
    ")"
   ]
  },
  {
   "cell_type": "code",
   "execution_count": 15,
   "metadata": {},
   "outputs": [],
   "source": [
    "x_diatomsHC_int, x_uZHC_int = calc_depth_avgs_mfdataset(\n",
    "    [row[\"paths\"] for _, row in flistHC.iterrows()], chunks, x_tmask, x_e3t0\n",
    ")"
   ]
  },
  {
   "cell_type": "code",
   "execution_count": 16,
   "metadata": {},
   "outputs": [
    {
     "name": "stdout",
     "output_type": "stream",
     "text": [
      "CPU times: user 28.1 s, sys: 2.84 s, total: 31 s\n",
      "Wall time: 3min 42s\n"
     ]
    }
   ],
   "source": [
    "%%time\n",
    "diatomsmuZInt = x_diatoms_muZ_int.compute()"
   ]
  },
  {
   "cell_type": "code",
   "execution_count": 17,
   "metadata": {},
   "outputs": [
    {
     "name": "stdout",
     "output_type": "stream",
     "text": [
      "CPU times: user 26.9 s, sys: 2.35 s, total: 29.2 s\n",
      "Wall time: 3min 23s\n"
     ]
    }
   ],
   "source": [
    "%%time\n",
    "diatomsHCInt = x_diatomsHC_int.compute()"
   ]
  },
  {
   "cell_type": "code",
   "execution_count": 18,
   "metadata": {},
   "outputs": [
    {
     "data": {
      "text/plain": [
       "Text(0.5, 1.0, 'Diff')"
      ]
     },
     "execution_count": 18,
     "metadata": {},
     "output_type": "execute_result"
    },
    {
     "data": {
      "image/png": "[encoded data removed]",
      "text/plain": [
       "<Figure size 1080x288 with 6 Axes>"
      ]
     },
     "metadata": {
      "needs_background": "light"
     },
     "output_type": "display_data"
    }
   ],
   "source": [
    "fig, ax = plt.subplots(1, 3, figsize=(15, 4))\n",
    "m0 = ax[0].pcolormesh(diatomsmuZInt)\n",
    "plt.colorbar(m0, ax=ax[0])\n",
    "ax[0].set_title('muZ Diatoms')\n",
    "m1 = ax[1].pcolormesh(diatomsHCInt)\n",
    "plt.colorbar(m1,ax=ax[1])\n",
    "ax[1].set_title('HC Diatoms')\n",
    "m2 = ax[2].pcolormesh(diatomsmuZInt - diatomsHCInt)\n",
    "plt.colorbar(m2,ax=ax[2])\n",
    "ax[2].set_title('Diff')"
   ]
  },
  {
   "cell_type": "code",
   "execution_count": 19,
   "metadata": {},
   "outputs": [
    {
     "name": "stdout",
     "output_type": "stream",
     "text": [
      "CPU times: user 29.8 s, sys: 3.15 s, total: 33 s\n",
      "Wall time: 3min 36s\n"
     ]
    }
   ],
   "source": [
    "%%time\n",
    "uZmuZInt = x_uZ_muZ_int.compute()"
   ]
  },
  {
   "cell_type": "code",
   "execution_count": 20,
   "metadata": {},
   "outputs": [
    {
     "name": "stdout",
     "output_type": "stream",
     "text": [
      "CPU times: user 25.6 s, sys: 2.31 s, total: 27.9 s\n",
      "Wall time: 3min 15s\n"
     ]
    }
   ],
   "source": [
    "%%time\n",
    "uZHCInt = x_uZHC_int.compute()"
   ]
  },
  {
   "cell_type": "code",
   "execution_count": 21,
   "metadata": {},
   "outputs": [
    {
     "data": {
      "text/plain": [
       "Text(0.5, 1.0, 'Diff')"
      ]
     },
     "execution_count": 21,
     "metadata": {},
     "output_type": "execute_result"
    },
    {
     "data": {
      "image/png": "[encoded data removed]",
      "text/plain": [
       "<Figure size 1080x288 with 6 Axes>"
      ]
     },
     "metadata": {
      "needs_background": "light"
     },
     "output_type": "display_data"
    }
   ],
   "source": [
    "fig, ax = plt.subplots(1, 3, figsize=(15, 4))\n",
    "m0 = ax[0].pcolormesh(uZmuZInt)\n",
    "plt.colorbar(m0, ax=ax[0])\n",
    "ax[0].set_title('muZ microZ')\n",
    "m1 = ax[1].pcolormesh(uZHCInt)\n",
    "plt.colorbar(m1,ax=ax[1])\n",
    "ax[1].set_title('HC microZ')\n",
    "m2 = ax[2].pcolormesh(uZmuZInt - uZHCInt)\n",
    "plt.colorbar(m2,ax=ax[2])\n",
    "ax[2].set_title('Diff')"
   ]
  },
  {
   "cell_type": "code",
   "execution_count": 22,
   "metadata": {},
   "outputs": [],
   "source": [
    "client.close()"
   ]
  },
  {
   "cell_type": "code",
   "execution_count": null,
   "metadata": {},
   "outputs": [],
   "source": []
  }
 ],
 "metadata": {
  "kernelspec": {
   "display_name": "Python 3",
   "language": "python",
   "name": "python3"
  },
  "language_info": {
   "codemirror_mode": {
    "name": "ipython",
    "version": 3
   },
   "file_extension": ".py",
   "mimetype": "text/x-python",
   "name": "python",
   "nbconvert_exporter": "python",
   "pygments_lexer": "ipython3",
   "version": "3.8.0"
  }
 },
 "nbformat": 4,
 "nbformat_minor": 4
}

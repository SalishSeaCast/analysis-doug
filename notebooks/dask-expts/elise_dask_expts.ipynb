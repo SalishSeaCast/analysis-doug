{
 "cells": [
  {
   "cell_type": "markdown",
   "metadata": {},
   "source": [
    "# `dask` Experiments for Elise's Plankton Averaging Workflow\n",
    "\n",
    "This notebook explores the performance of `dask` and `xarray.open_mfdataset()` \n",
    "compared to looping over files with `netCDF4` for Elise's diatoms and microzooplankton\n",
    "averaging workflow."
   ]
  },
  {
   "cell_type": "markdown",
   "metadata": {},
   "source": [
    "The packages required by this notebook are defined in the `conda` environment file `analysis-doug/notebooks/dask-expts/environment.yaml` along with instructions on how to created an isolated environment containing the latest versions of those packages.\n",
    "The `analysis-doug/notebooks/dask-expts/requirements.txt` contains a complete list of all of the packages (top level and dependecies) and their versions that were used most recently for work in this notebook. "
   ]
  },
  {
   "cell_type": "markdown",
   "metadata": {},
   "source": [
    "To get some compute muscle,\n",
    "I run this Jupyter Lab headless on port 9999 on `smelt` (similar architecture to Elise's `char` workstation) with:\n",
    "\n",
    "  `jupyter lab --no-browser --port=9999`\n",
    "   \n",
    "and set up an `ssh` tunnel to connect to the kernel on port 9999 on `smelt` from my local machine's port 4343 with:\n",
    "\n",
    "  `ssh -N -L 4343:localhost:9999 smelt`\n",
    "  \n",
    "and finally launch the lab UI in my local browser with:\n",
    "\n",
    "  http://localhost:4343/"
   ]
  },
  {
   "cell_type": "markdown",
   "metadata": {},
   "source": [
    "## `smelt`'s CPU and Memory"
   ]
  },
  {
   "cell_type": "code",
   "execution_count": 1,
   "metadata": {},
   "outputs": [
    {
     "name": "stdout",
     "output_type": "stream",
     "text": [
      "Architecture:          x86_64\n",
      "CPU op-mode(s):        32-bit, 64-bit\n",
      "Byte Order:            Little Endian\n",
      "CPU(s):                8\n",
      "On-line CPU(s) list:   0-7\n",
      "Thread(s) per core:    2\n",
      "Core(s) per socket:    4\n",
      "Socket(s):             1\n",
      "NUMA node(s):          1\n",
      "Vendor ID:             GenuineIntel\n",
      "CPU family:            6\n",
      "Model:                 60\n",
      "Stepping:              3\n",
      "CPU MHz:               4018.125\n",
      "BogoMIPS:              7981.39\n",
      "Virtualization:        VT-x\n",
      "L1d cache:             32K\n",
      "L1i cache:             32K\n",
      "L2 cache:              256K\n",
      "L3 cache:              8192K\n",
      "NUMA node0 CPU(s):     0-7\n"
     ]
    }
   ],
   "source": [
    "!lscpu"
   ]
  },
  {
   "cell_type": "code",
   "execution_count": 2,
   "metadata": {},
   "outputs": [
    {
     "name": "stdout",
     "output_type": "stream",
     "text": [
      "MemTotal:       16373784 kB\n"
     ]
    }
   ],
   "source": [
    "!cat /proc/meminfo | head -1"
   ]
  },
  {
   "cell_type": "markdown",
   "metadata": {},
   "source": [
    "4 physical cores with 2 threads per core of hyperthreading, so 8 logical cores, and 16Gb of RAM."
   ]
  },
  {
   "cell_type": "markdown",
   "metadata": {},
   "source": [
    "## Setup\n",
    "\n",
    "Show `matplotlib` images inline,\n",
    "and do Python imports."
   ]
  },
  {
   "cell_type": "code",
   "execution_count": 3,
   "metadata": {},
   "outputs": [],
   "source": [
    "from datetime import datetime, timedelta\n",
    "import functools\n",
    "import sys\n",
    "import time\n",
    "\n",
    "import dask\n",
    "import dask.distributed\n",
    "import netCDF4\n",
    "import numpy\n",
    "import xarray\n",
    "\n",
    "from salishsea_tools import evaltools"
   ]
  },
  {
   "cell_type": "markdown",
   "metadata": {},
   "source": [
    "Python and library versions:"
   ]
  },
  {
   "cell_type": "code",
   "execution_count": 4,
   "metadata": {},
   "outputs": [
    {
     "name": "stdout",
     "output_type": "stream",
     "text": [
      "Python sys.version='3.8.0 | packaged by conda-forge | (default, Nov 22 2019, 19:11:38) \\n[GCC 7.3.0]'\n",
      "xarray.__version__='0.14.1'\n",
      "dask.__version__='2.8.1'\n",
      "netCDF4.__version__='1.5.3'\n",
      "numpy.__version__='1.17.3'\n"
     ]
    }
   ],
   "source": [
    "print(f\"Python {sys.version=}\")\n",
    "print(f\"{xarray.__version__=}\")\n",
    "print(f\"{dask.__version__=}\")\n",
    "print(f\"{netCDF4.__version__=}\")\n",
    "print(f\"{numpy.__version__=}\")"
   ]
  },
  {
   "cell_type": "markdown",
   "metadata": {},
   "source": [
    "## Timing Decorator\n",
    "\n",
    "We can't use the `%%time` cell magic to time deferred `dask` operations\n",
    "because all that shows us is the time it takes to add the deferred calculations\n",
    "to the `dask` operations graph.\n",
    "Instead we have to time explicitly with calls to `time.time()`,\n",
    "and we use a function decorator to minimize the amount of boilerplate code for timing.\n",
    "(For more details about functions within functions,\n",
    "decorators,\n",
    "and `functools.wraps()`,\n",
    "please see https://realpython.com/primer-on-python-decorators/)"
   ]
  },
  {
   "cell_type": "code",
   "execution_count": 5,
   "metadata": {},
   "outputs": [],
   "source": [
    "def function_timer(func):\n",
    "    @functools.wraps(func)\n",
    "    def wrapper_function_timer(*args, **kwargs):\n",
    "        t_start = time.time()\n",
    "        return_value = func(*args, **kwargs)\n",
    "        t_end = time.time()\n",
    "        print(f\"{t_end - t_start}s\")\n",
    "        return return_value\n",
    "\n",
    "    return wrapper_function_timer"
   ]
  },
  {
   "cell_type": "markdown",
   "metadata": {},
   "source": [
    "## Grid Region of Interest"
   ]
  },
  {
   "cell_type": "code",
   "execution_count": 6,
   "metadata": {},
   "outputs": [],
   "source": [
    "j0, j1, i0, i1 = 230, 470, 0, 200"
   ]
  },
  {
   "cell_type": "markdown",
   "metadata": {},
   "source": [
    "## Looping Over Results Files Using `netCDF4`"
   ]
  },
  {
   "cell_type": "markdown",
   "metadata": {},
   "source": [
    "### Meshmask Arrays Needed for Depth Averaging"
   ]
  },
  {
   "cell_type": "code",
   "execution_count": 7,
   "metadata": {},
   "outputs": [],
   "source": [
    "with netCDF4.Dataset(\"/ocean/eolson/MEOPAR/NEMO-forcing/grid/mesh_mask201702_noLPE.nc\") as mesh:\n",
    "    tmask=numpy.copy(mesh.variables['tmask'][:,:,j0:j1,i0:i1])\n",
    "    e3t0=numpy.copy(mesh.variables['e3t_0'][:,:,j0:j1,i0:i1])"
   ]
  },
  {
   "cell_type": "code",
   "execution_count": 8,
   "metadata": {},
   "outputs": [
    {
     "name": "stdout",
     "output_type": "stream",
     "text": [
      "tmask.shape=(1, 40, 240, 200)\n",
      "e3t0.shape=(1, 40, 240, 200)\n"
     ]
    }
   ],
   "source": [
    "print(f\"{tmask.shape=}\")\n",
    "print(f\"{e3t0.shape=}\")"
   ]
  },
  {
   "cell_type": "markdown",
   "metadata": {},
   "source": [
    "### Collection of file to Calculate Depth Averaged Quantities From"
   ]
  },
  {
   "cell_type": "markdown",
   "metadata": {},
   "source": [
    "Operate on a single 10-day file because it is faster than\n",
    "3 months of files while we are figuring out how to optimize\n",
    "the code."
   ]
  },
  {
   "cell_type": "code",
   "execution_count": 9,
   "metadata": {},
   "outputs": [
    {
     "name": "stdout",
     "output_type": "stream",
     "text": [
      "first file starts on  2015-05-31 00:00:00\n"
     ]
    }
   ],
   "source": [
    "flistmuZ = evaltools.index_model_files(\n",
    "    datetime(2015, 6, 1), datetime(2015, 6, 9),\n",
    "    \"/data/eolson/results/MEOPAR/SS36runs/CedarRuns/testmuZ/\",\n",
    "    \"long\", 10, \"ptrc_T\", 1\n",
    ")"
   ]
  },
  {
   "cell_type": "code",
   "execution_count": 10,
   "metadata": {},
   "outputs": [
    {
     "data": {
      "text/html": [
       "<div>\n",
       "<style scoped>\n",
       "    .dataframe tbody tr th:only-of-type {\n",
       "        vertical-align: middle;\n",
       "    }\n",
       "\n",
       "    .dataframe tbody tr th {\n",
       "        vertical-align: top;\n",
       "    }\n",
       "\n",
       "    .dataframe thead th {\n",
       "        text-align: right;\n",
       "    }\n",
       "</style>\n",
       "<table border=\"1\" class=\"dataframe\">\n",
       "  <thead>\n",
       "    <tr style=\"text-align: right;\">\n",
       "      <th></th>\n",
       "      <th>paths</th>\n",
       "      <th>t_0</th>\n",
       "      <th>t_n</th>\n",
       "    </tr>\n",
       "  </thead>\n",
       "  <tbody>\n",
       "    <tr>\n",
       "      <th>0</th>\n",
       "      <td>/data/eolson/results/MEOPAR/SS36runs/CedarRuns...</td>\n",
       "      <td>2015-05-31</td>\n",
       "      <td>2015-06-10</td>\n",
       "    </tr>\n",
       "  </tbody>\n",
       "</table>\n",
       "</div>"
      ],
      "text/plain": [
       "                                               paths        t_0        t_n\n",
       "0  /data/eolson/results/MEOPAR/SS36runs/CedarRuns... 2015-05-31 2015-06-10"
      ]
     },
     "execution_count": 10,
     "metadata": {},
     "output_type": "execute_result"
    }
   ],
   "source": [
    "flistmuZ"
   ]
  },
  {
   "cell_type": "code",
   "execution_count": 11,
   "metadata": {},
   "outputs": [
    {
     "data": {
      "text/plain": [
       "(Timestamp('2015-05-31 00:00:00'), Timestamp('2015-06-10 00:00:00'))"
      ]
     },
     "execution_count": 11,
     "metadata": {},
     "output_type": "execute_result"
    }
   ],
   "source": [
    "flistmuZ['t_0'][0], flistmuZ['t_n'][len(flistmuZ)-1]"
   ]
  },
  {
   "cell_type": "code",
   "execution_count": 12,
   "metadata": {},
   "outputs": [],
   "source": [
    "@function_timer\n",
    "def calc_depth_avgs(flist, tmask, e3t0):\n",
    "    sum1 = numpy.empty((len(flist)*24*10, j1-j0, i1-i0))\n",
    "    sum1uZ = numpy.empty((len(flist)*24*10, j1-j0, i1-i0))\n",
    "    for ind, row in flist.iterrows():\n",
    "        ds = netCDF4.Dataset(row['paths'])\n",
    "        diatoms = ds.variables['diatoms'][:,:,j0:j1,i0:i1]\n",
    "        uZ = ds.variables['microzooplankton'][:,:,j0:j1,i0:i1]\n",
    "        sum1[(24*10*ind):(24*10*(ind+1)),:,:] = numpy.sum(tmask*e3t0*diatoms, 1)\n",
    "        sum1uZ[(24*10*ind):(24*10*(ind+1)),:,:] = numpy.sum(tmask*e3t0*uZ, 1)\n",
    "    diatom_int = numpy.mean(sum1, 0)\n",
    "    microzoo_int = numpy.mean(sum1uZ, 0)\n",
    "    return diatom_int, microzoo_int"
   ]
  },
  {
   "cell_type": "code",
   "execution_count": 13,
   "metadata": {},
   "outputs": [
    {
     "name": "stdout",
     "output_type": "stream",
     "text": [
      "124.94744777679443s\n"
     ]
    }
   ],
   "source": [
    "diatoms_muZ_Int, uZ_muZ_Int = calc_depth_avgs(flistmuZ, tmask, e3t0)"
   ]
  },
  {
   "cell_type": "code",
   "execution_count": 14,
   "metadata": {},
   "outputs": [
    {
     "name": "stdout",
     "output_type": "stream",
     "text": [
      "diatoms_muZ_Int.shape=(240, 200)\n",
      "uZ_muZ_Int.shape=(240, 200)\n"
     ]
    }
   ],
   "source": [
    "print(f\"{diatoms_muZ_Int.shape=}\")\n",
    "print(f\"{uZ_muZ_Int.shape=}\")"
   ]
  },
  {
   "cell_type": "markdown",
   "metadata": {},
   "source": [
    "Re-write the depth average calculation for one file\n",
    "without the loop and sum accumulator variables\n",
    "as the first step towards using `xarray.open_mfdataset()`\n",
    "and `dask.distributed`."
   ]
  },
  {
   "cell_type": "code",
   "execution_count": 15,
   "metadata": {},
   "outputs": [],
   "source": [
    "@function_timer\n",
    "def calc_depth_avgs_no_loop(flist, tmask, e3t):\n",
    "    with netCDF4.Dataset(flist) as ds:\n",
    "        diatoms = ds.variables['diatoms'][:,:,j0:j1,i0:i1]\n",
    "        diatoms_int = (diatoms * tmask * e3t0).sum(axis=1).mean(axis=0)\n",
    "        uZ = ds.variables['microzooplankton'][:,:,j0:j1,i0:i1]\n",
    "        uZ_int = (uZ * tmask * e3t0).sum(axis=1).mean(axis=0)\n",
    "    return diatoms_int, uZ_int"
   ]
  },
  {
   "cell_type": "code",
   "execution_count": 16,
   "metadata": {},
   "outputs": [
    {
     "name": "stdout",
     "output_type": "stream",
     "text": [
      "109.52039122581482s\n"
     ]
    }
   ],
   "source": [
    "diatoms_int, uZ_int = calc_depth_avgs_no_loop(\n",
    "    \"/data/eolson/results/MEOPAR/SS36runs/CedarRuns/testmuZ/SalishSea_1h_20150531_20150709_ptrc_T_20150531-20150609.nc\",\n",
    "    tmask, e3t0)\n",
    "numpy.testing.assert_equal(diatoms_int, diatoms_muZ_Int)\n",
    "numpy.testing.assert_equal(uZ_int, uZ_muZ_Int)"
   ]
  },
  {
   "cell_type": "code",
   "execution_count": 17,
   "metadata": {},
   "outputs": [
    {
     "name": "stdout",
     "output_type": "stream",
     "text": [
      "diatoms_int.shape=(240, 200)\n",
      "uZ_int.shape=(240, 200)\n"
     ]
    }
   ],
   "source": [
    "print(f\"{diatoms_int.shape=}\")\n",
    "print(f\"{uZ_int.shape=}\")"
   ]
  },
  {
   "cell_type": "markdown",
   "metadata": {},
   "source": [
    "## Switch to `xarray`"
   ]
  },
  {
   "cell_type": "markdown",
   "metadata": {},
   "source": [
    "Continue refactoring the depth average calculation for one file\n",
    "to use `xarray.open_dataset()`."
   ]
  },
  {
   "cell_type": "code",
   "execution_count": 18,
   "metadata": {},
   "outputs": [],
   "source": [
    "with xarray.open_dataset(\"/ocean/eolson/MEOPAR/NEMO-forcing/grid/mesh_mask201702_noLPE.nc\") as mesh:\n",
    "    x_tmask = mesh.tmask.isel(y=slice(j0, j1), x=slice(i0, i1)).data\n",
    "    x_e3t0 = mesh.e3t_0.isel(y=slice(j0, j1), x=slice(i0, i1)).data"
   ]
  },
  {
   "cell_type": "code",
   "execution_count": 19,
   "metadata": {},
   "outputs": [],
   "source": [
    "@function_timer\n",
    "def calc_depth_avgs_xarray(flist, x_tmask, x_e3t):\n",
    "    with xarray.open_dataset(flist) as ds:\n",
    "        diatoms = ds.diatoms.isel(y=slice(j0, j1), x=slice(i0, i1))\n",
    "        diatoms_int = (diatoms * x_tmask * x_e3t0).sum(axis=1).mean(axis=0)\n",
    "        uZ = ds.microzooplankton.isel(y=slice(j0, j1), x=slice(i0, i1))\n",
    "        uZ_int = (uZ * x_tmask * x_e3t0).sum(axis=1).mean(axis=0)\n",
    "    return diatoms_int, uZ_int"
   ]
  },
  {
   "cell_type": "code",
   "execution_count": 20,
   "metadata": {},
   "outputs": [
    {
     "name": "stdout",
     "output_type": "stream",
     "text": [
      "121.93770718574524s\n"
     ]
    }
   ],
   "source": [
    "x_diatoms_int, x_uZ_int = calc_depth_avgs_xarray(\n",
    "    \"/data/eolson/results/MEOPAR/SS36runs/CedarRuns/testmuZ/SalishSea_1h_20150531_20150709_ptrc_T_20150531-20150609.nc\",\n",
    "    tmask, e3t0)\n",
    "numpy.testing.assert_allclose(x_diatoms_int, diatoms_muZ_Int)\n",
    "numpy.testing.assert_allclose(x_uZ_int, uZ_muZ_Int)"
   ]
  },
  {
   "cell_type": "code",
   "execution_count": 21,
   "metadata": {},
   "outputs": [
    {
     "name": "stdout",
     "output_type": "stream",
     "text": [
      "x_diatoms_int.shape=(240, 200)\n",
      "x_uZ_int.shape=(240, 200)\n"
     ]
    }
   ],
   "source": [
    "print(f\"{x_diatoms_int.shape=}\")\n",
    "print(f\"{x_uZ_int.shape=}\")"
   ]
  },
  {
   "cell_type": "markdown",
   "metadata": {},
   "source": [
    "## Use `dask.distributed`\n",
    "\n",
    "Set up a local cluster of 2 workers with 2 threads per worker\n",
    "with the workers launched as separate processes.\n",
    "This will distribute the processing over multiple cores on `smelt`."
   ]
  },
  {
   "cell_type": "code",
   "execution_count": 22,
   "metadata": {},
   "outputs": [
    {
     "data": {
      "text/html": [
       "<table style=\"border: 2px solid white;\">\n",
       "<tr>\n",
       "<td style=\"vertical-align: top; border: 0px solid white\">\n",
       "<h3 style=\"text-align: left;\">Client</h3>\n",
       "<ul style=\"text-align: left; list-style: none; margin: 0; padding: 0;\">\n",
       "  <li><b>Scheduler: </b>tcp://127.0.0.1:33700</li>\n",
       "  <li><b>Dashboard: </b><a href='http://127.0.0.1:8787/status' target='_blank'>http://127.0.0.1:8787/status</a>\n",
       "</ul>\n",
       "</td>\n",
       "<td style=\"vertical-align: top; border: 0px solid white\">\n",
       "<h3 style=\"text-align: left;\">Cluster</h3>\n",
       "<ul style=\"text-align: left; list-style:none; margin: 0; padding: 0;\">\n",
       "  <li><b>Workers: </b>2</li>\n",
       "  <li><b>Cores: </b>4</li>\n",
       "  <li><b>Memory: </b>16.77 GB</li>\n",
       "</ul>\n",
       "</td>\n",
       "</tr>\n",
       "</table>"
      ],
      "text/plain": [
       "<Client: 'tcp://127.0.0.1:33700' processes=2 threads=4, memory=16.77 GB>"
      ]
     },
     "execution_count": 22,
     "metadata": {},
     "output_type": "execute_result"
    }
   ],
   "source": [
    "client = dask.distributed.Client(\n",
    "    n_workers=2, threads_per_worker=2, processes=True)\n",
    "client"
   ]
  },
  {
   "cell_type": "markdown",
   "metadata": {},
   "source": [
    "To make `xarray` use `dask` we have to pass a `chunks` dict to `open_dataset()`.\n",
    "\n",
    "Because we are using `dask` this function does not return the results,\n",
    "rather it returns the `dask` task graph that will be excuted to calculate the results.\n",
    "So, there is no value in decorating it with `@function_timer`.\n",
    "Instead, the assertions to confirm that the results are as expected are what triggers\n",
    "the calculation, so, we move our assertions to into a `@function_timer` decorated function."
   ]
  },
  {
   "cell_type": "code",
   "execution_count": 23,
   "metadata": {},
   "outputs": [],
   "source": [
    "def calc_depth_avgs_dask(flist, chunks, tmask, e3t):\n",
    "    with xarray.open_dataset(flist, chunks=chunks) as ds:\n",
    "        diatoms = ds.diatoms.isel(y=slice(j0, j1), x=slice(i0, i1))\n",
    "        diatoms_int = (diatoms * tmask * e3t0).sum(axis=1).mean(axis=0)\n",
    "        uZ = ds.microzooplankton.isel(y=slice(j0, j1), x=slice(i0, i1))\n",
    "        uZ_int = (uZ * tmask * e3t0).sum(axis=1).mean(axis=0)\n",
    "    return diatoms_int, uZ_int"
   ]
  },
  {
   "cell_type": "code",
   "execution_count": 24,
   "metadata": {},
   "outputs": [],
   "source": [
    "@function_timer\n",
    "def check_results(diatoms_calc, diatoms_exp, uZ_calc, uZ_exp):\n",
    "    numpy.testing.assert_allclose(diatoms_calc, diatoms_exp)\n",
    "    numpy.testing.assert_allclose(uZ_calc, uZ_exp)"
   ]
  },
  {
   "cell_type": "code",
   "execution_count": 25,
   "metadata": {},
   "outputs": [
    {
     "name": "stdout",
     "output_type": "stream",
     "text": [
      "73.31246542930603s\n"
     ]
    }
   ],
   "source": [
    "chunks = {\"time_counter\": 1, \"deptht\": 40, \"y\": 898, \"x\": 398}\n",
    "d_diatoms_int, d_uZ_int = calc_depth_avgs_dask(\n",
    "    \"/data/eolson/results/MEOPAR/SS36runs/CedarRuns/testmuZ/SalishSea_1h_20150531_20150709_ptrc_T_20150531-20150609.nc\",\n",
    "    chunks, tmask, e3t0)\n",
    "check_results(d_diatoms_int, diatoms_muZ_Int, d_uZ_int, uZ_muZ_Int)"
   ]
  },
  {
   "cell_type": "code",
   "execution_count": 26,
   "metadata": {},
   "outputs": [
    {
     "name": "stdout",
     "output_type": "stream",
     "text": [
      "x_diatoms_int.shape=(240, 200)\n",
      "x_uZ_int.shape=(240, 200)\n"
     ]
    }
   ],
   "source": [
    "print(f\"{x_diatoms_int.shape=}\")\n",
    "print(f\"{x_uZ_int.shape=}\")"
   ]
  },
  {
   "cell_type": "markdown",
   "metadata": {},
   "source": [
    "Increase the chunk size:"
   ]
  },
  {
   "cell_type": "code",
   "execution_count": 27,
   "metadata": {},
   "outputs": [
    {
     "name": "stdout",
     "output_type": "stream",
     "text": [
      "60.823813676834106s\n"
     ]
    }
   ],
   "source": [
    "chunks = {\"time_counter\": 3, \"deptht\": 40*3, \"y\": 898*3, \"x\": 398*3}\n",
    "d_diatoms_int, d_uZ_int = calc_depth_avgs_dask(\n",
    "    \"/data/eolson/results/MEOPAR/SS36runs/CedarRuns/testmuZ/SalishSea_1h_20150531_20150709_ptrc_T_20150531-20150609.nc\",\n",
    "    chunks, tmask, e3t0)\n",
    "check_results(d_diatoms_int, diatoms_muZ_Int, d_uZ_int, uZ_muZ_Int)"
   ]
  },
  {
   "cell_type": "markdown",
   "metadata": {},
   "source": [
    "Increase the number of workers:"
   ]
  },
  {
   "cell_type": "code",
   "execution_count": 28,
   "metadata": {},
   "outputs": [],
   "source": [
    "client.cluster.scale(4)"
   ]
  },
  {
   "cell_type": "code",
   "execution_count": 29,
   "metadata": {},
   "outputs": [
    {
     "name": "stdout",
     "output_type": "stream",
     "text": [
      "42.88846802711487s\n"
     ]
    }
   ],
   "source": [
    "chunks = {\"time_counter\": 3, \"deptht\": 40*3, \"y\": 898*3, \"x\": 398*3}\n",
    "d_diatoms_int, d_uZ_int = calc_depth_avgs_dask(\n",
    "    \"/data/eolson/results/MEOPAR/SS36runs/CedarRuns/testmuZ/SalishSea_1h_20150531_20150709_ptrc_T_20150531-20150609.nc\",\n",
    "    chunks, tmask, e3t0)\n",
    "check_results(d_diatoms_int, diatoms_muZ_Int, d_uZ_int, uZ_muZ_Int)"
   ]
  },
  {
   "cell_type": "markdown",
   "metadata": {},
   "source": [
    "Increase the chunk size again:"
   ]
  },
  {
   "cell_type": "code",
   "execution_count": 30,
   "metadata": {},
   "outputs": [
    {
     "name": "stdout",
     "output_type": "stream",
     "text": [
      "39.89805269241333s\n"
     ]
    }
   ],
   "source": [
    "chunks = {\"time_counter\": 4, \"deptht\": 40*4, \"y\": 898*4, \"x\": 398*4}\n",
    "d_diatoms_int, d_uZ_int = calc_depth_avgs_dask(\n",
    "    \"/data/eolson/results/MEOPAR/SS36runs/CedarRuns/testmuZ/SalishSea_1h_20150531_20150709_ptrc_T_20150531-20150609.nc\",\n",
    "    chunks, tmask, e3t0)\n",
    "check_results(d_diatoms_int, diatoms_muZ_Int, d_uZ_int, uZ_muZ_Int)"
   ]
  },
  {
   "cell_type": "markdown",
   "metadata": {},
   "source": [
    "## Operating on More Than One File"
   ]
  },
  {
   "cell_type": "markdown",
   "metadata": {},
   "source": [
    "## Looping with `netCDF4`"
   ]
  },
  {
   "cell_type": "code",
   "execution_count": 31,
   "metadata": {},
   "outputs": [
    {
     "name": "stdout",
     "output_type": "stream",
     "text": [
      "first file starts on  2015-05-31 00:00:00\n"
     ]
    }
   ],
   "source": [
    "flistmuZ = evaltools.index_model_files(\n",
    "    datetime(2015, 6, 1), datetime(2015, 6, 19),\n",
    "    \"/data/eolson/results/MEOPAR/SS36runs/CedarRuns/testmuZ/\",\n",
    "    \"long\", 10, \"ptrc_T\", 1\n",
    ")"
   ]
  },
  {
   "cell_type": "code",
   "execution_count": 32,
   "metadata": {},
   "outputs": [
    {
     "data": {
      "text/html": [
       "<div>\n",
       "<style scoped>\n",
       "    .dataframe tbody tr th:only-of-type {\n",
       "        vertical-align: middle;\n",
       "    }\n",
       "\n",
       "    .dataframe tbody tr th {\n",
       "        vertical-align: top;\n",
       "    }\n",
       "\n",
       "    .dataframe thead th {\n",
       "        text-align: right;\n",
       "    }\n",
       "</style>\n",
       "<table border=\"1\" class=\"dataframe\">\n",
       "  <thead>\n",
       "    <tr style=\"text-align: right;\">\n",
       "      <th></th>\n",
       "      <th>paths</th>\n",
       "      <th>t_0</th>\n",
       "      <th>t_n</th>\n",
       "    </tr>\n",
       "  </thead>\n",
       "  <tbody>\n",
       "    <tr>\n",
       "      <th>0</th>\n",
       "      <td>/data/eolson/results/MEOPAR/SS36runs/CedarRuns...</td>\n",
       "      <td>2015-05-31</td>\n",
       "      <td>2015-06-10</td>\n",
       "    </tr>\n",
       "    <tr>\n",
       "      <th>1</th>\n",
       "      <td>/data/eolson/results/MEOPAR/SS36runs/CedarRuns...</td>\n",
       "      <td>2015-06-10</td>\n",
       "      <td>2015-06-20</td>\n",
       "    </tr>\n",
       "  </tbody>\n",
       "</table>\n",
       "</div>"
      ],
      "text/plain": [
       "                                               paths        t_0        t_n\n",
       "0  /data/eolson/results/MEOPAR/SS36runs/CedarRuns... 2015-05-31 2015-06-10\n",
       "1  /data/eolson/results/MEOPAR/SS36runs/CedarRuns... 2015-06-10 2015-06-20"
      ]
     },
     "execution_count": 32,
     "metadata": {},
     "output_type": "execute_result"
    }
   ],
   "source": [
    "flistmuZ"
   ]
  },
  {
   "cell_type": "code",
   "execution_count": 33,
   "metadata": {},
   "outputs": [
    {
     "data": {
      "text/plain": [
       "(Timestamp('2015-05-31 00:00:00'), Timestamp('2015-06-20 00:00:00'))"
      ]
     },
     "execution_count": 33,
     "metadata": {},
     "output_type": "execute_result"
    }
   ],
   "source": [
    "flistmuZ['t_0'][0], flistmuZ['t_n'][len(flistmuZ)-1]"
   ]
  },
  {
   "cell_type": "code",
   "execution_count": 34,
   "metadata": {},
   "outputs": [
    {
     "name": "stdout",
     "output_type": "stream",
     "text": [
      "250.0634753704071s\n"
     ]
    }
   ],
   "source": [
    "m_diatoms_muZ_Int, m_uZ_muZ_Int = calc_depth_avgs(flistmuZ, tmask, e3t0)"
   ]
  },
  {
   "cell_type": "code",
   "execution_count": 35,
   "metadata": {},
   "outputs": [
    {
     "name": "stdout",
     "output_type": "stream",
     "text": [
      "diatoms_muZ_Int.shape=(240, 200)\n",
      "uZ_muZ_Int.shape=(240, 200)\n"
     ]
    }
   ],
   "source": [
    "print(f\"{diatoms_muZ_Int.shape=}\")\n",
    "print(f\"{uZ_muZ_Int.shape=}\")"
   ]
  },
  {
   "cell_type": "markdown",
   "metadata": {},
   "source": [
    "## `xarray.open_mfdataset()`"
   ]
  },
  {
   "cell_type": "code",
   "execution_count": 36,
   "metadata": {},
   "outputs": [],
   "source": [
    "def calc_depth_avgs_mfdataset(flist, chunks, tmask, e3t):\n",
    "    kwargs = dict(combine=\"nested\", concat_dim=\"time_counter\", parallel=True)\n",
    "    with xarray.open_mfdataset(flist, chunks=chunks, **kwargs) as ds:\n",
    "        diatoms = ds.diatoms.isel(y=slice(j0, j1), x=slice(i0, i1))\n",
    "        diatoms_int = (diatoms * tmask * e3t0).sum(axis=1).mean(axis=0)\n",
    "        uZ = ds.microzooplankton.isel(y=slice(j0, j1), x=slice(i0, i1))\n",
    "        uZ_int = (uZ * tmask * e3t0).sum(axis=1).mean(axis=0)\n",
    "    return diatoms_int, uZ_int"
   ]
  },
  {
   "cell_type": "code",
   "execution_count": 37,
   "metadata": {},
   "outputs": [
    {
     "name": "stdout",
     "output_type": "stream",
     "text": [
      "81.52929306030273s\n"
     ]
    }
   ],
   "source": [
    "chunks = {\"time_counter\": 4, \"deptht\": 40*4, \"y\": 898*4, \"x\": 398*4}\n",
    "mf_diatoms_int, mf_uZ_int = calc_depth_avgs_mfdataset(\n",
    "    [\"/data/eolson/results/MEOPAR/SS36runs/CedarRuns/testmuZ/SalishSea_1h_20150531_20150709_ptrc_T_20150531-20150609.nc\",\n",
    "     \"/data/eolson/results/MEOPAR/SS36runs/CedarRuns/testmuZ/SalishSea_1h_20150531_20150709_ptrc_T_20150610-20150619.nc\",],\n",
    "    chunks, tmask, e3t0)\n",
    "check_results(mf_diatoms_int, m_diatoms_muZ_Int, mf_uZ_int, m_uZ_muZ_Int)"
   ]
  },
  {
   "cell_type": "code",
   "execution_count": 38,
   "metadata": {},
   "outputs": [],
   "source": [
    "client.close()"
   ]
  },
  {
   "cell_type": "code",
   "execution_count": null,
   "metadata": {},
   "outputs": [],
   "source": []
  }
 ],
 "metadata": {
  "kernelspec": {
   "display_name": "Python 3",
   "language": "python",
   "name": "python3"
  },
  "language_info": {
   "codemirror_mode": {
    "name": "ipython",
    "version": 3
   },
   "file_extension": ".py",
   "mimetype": "text/x-python",
   "name": "python",
   "nbconvert_exporter": "python",
   "pygments_lexer": "ipython3",
   "version": "3.8.0"
  }
 },
 "nbformat": 4,
 "nbformat_minor": 4
}

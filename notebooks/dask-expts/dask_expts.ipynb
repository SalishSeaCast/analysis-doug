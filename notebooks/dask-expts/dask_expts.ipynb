{
 "cells": [
  {
   "cell_type": "markdown",
   "metadata": {},
   "source": [
    "# `dask` Experiments on SalishSeaCast Results\n",
    "\n",
    "This notebook explores how to use `dask` and `xarray.open_mfdataset()` to "
   ]
  },
  {
   "cell_type": "markdown",
   "metadata": {},
   "source": [
    "The packages required by this notebook are defined in the `conda` environment file `analysis-doug/notebooks/dask-expts/environment.yaml` along with instructions on how to created an isolated environment containing the latest versions of those packages.\n",
    "The `analysis-doug/notebooks/dask-expts/requirements.txt` contains a complete list of all of the packages (top level and dependecies) and their versions that were used most recently for work in this notebook. "
   ]
  },
  {
   "cell_type": "code",
   "execution_count": 27,
   "metadata": {},
   "outputs": [],
   "source": [
    "%matplotlib inline"
   ]
  },
  {
   "cell_type": "code",
   "execution_count": 67,
   "metadata": {},
   "outputs": [],
   "source": [
    "import time\n",
    "\n",
    "import xarray\n",
    "from dask.distributed import Client"
   ]
  },
  {
   "cell_type": "code",
   "execution_count": 121,
   "metadata": {},
   "outputs": [
    {
     "name": "stderr",
     "output_type": "stream",
     "text": [
      "/media/doug/warehouse/conda_envs/dask-expts/lib/python3.8/site-packages/distributed/dashboard/core.py:72: UserWarning: \n",
      "Port 8787 is already in use. \n",
      "Perhaps you already have a cluster running?\n",
      "Hosting the diagnostics dashboard on a random port instead.\n",
      "  warnings.warn(\"\\n\" + msg)\n"
     ]
    },
    {
     "data": {
      "text/html": [
       "<table style=\"border: 2px solid white;\">\n",
       "<tr>\n",
       "<td style=\"vertical-align: top; border: 0px solid white\">\n",
       "<h3 style=\"text-align: left;\">Client</h3>\n",
       "<ul style=\"text-align: left; list-style: none; margin: 0; padding: 0;\">\n",
       "  <li><b>Scheduler: </b>tcp://127.0.0.1:44913</li>\n",
       "  <li><b>Dashboard: </b><a href='http://127.0.0.1:37805/status' target='_blank'>http://127.0.0.1:37805/status</a>\n",
       "</ul>\n",
       "</td>\n",
       "<td style=\"vertical-align: top; border: 0px solid white\">\n",
       "<h3 style=\"text-align: left;\">Cluster</h3>\n",
       "<ul style=\"text-align: left; list-style:none; margin: 0; padding: 0;\">\n",
       "  <li><b>Workers: </b>2</li>\n",
       "  <li><b>Cores: </b>4</li>\n",
       "  <li><b>Memory: </b>8.00 GB</li>\n",
       "</ul>\n",
       "</td>\n",
       "</tr>\n",
       "</table>"
      ],
      "text/plain": [
       "<Client: 'tcp://127.0.0.1:44913' processes=2 threads=4, memory=8.00 GB>"
      ]
     },
     "execution_count": 121,
     "metadata": {},
     "output_type": "execute_result"
    }
   ],
   "source": [
    "client = Client(n_workers=2, threads_per_worker=2, memory_limit='4GB')\n",
    "client"
   ]
  },
  {
   "cell_type": "code",
   "execution_count": 6,
   "metadata": {},
   "outputs": [],
   "source": [
    "ds = xarray.open_dataset(\"/tmp/dask-expts/SalishSea_1h_20150101_20150101_grid_T.nc\")    "
   ]
  },
  {
   "cell_type": "code",
   "execution_count": 7,
   "metadata": {},
   "outputs": [
    {
     "data": {
      "text/plain": [
       "<xarray.Dataset>\n",
       "Dimensions:               (axis_nbounds: 2, deptht: 40, nvertex: 4, time_counter: 24, x: 398, y: 898)\n",
       "Coordinates:\n",
       "    nav_lat               (y, x) float32 ...\n",
       "    nav_lon               (y, x) float32 ...\n",
       "  * deptht                (deptht) float32 0.5000003 1.5000031 ... 441.4661\n",
       "    time_centered         (time_counter) datetime64[ns] ...\n",
       "  * time_counter          (time_counter) datetime64[ns] 2015-01-01T00:30:00 ... 2015-01-01T23:30:00\n",
       "Dimensions without coordinates: axis_nbounds, nvertex, x, y\n",
       "Data variables:\n",
       "    bounds_lon            (y, x, nvertex) float32 ...\n",
       "    bounds_lat            (y, x, nvertex) float32 ...\n",
       "    area                  (y, x) float32 ...\n",
       "    deptht_bounds         (deptht, axis_nbounds) float32 ...\n",
       "    sossheig              (time_counter, y, x) float32 ...\n",
       "    time_centered_bounds  (time_counter, axis_nbounds) datetime64[ns] ...\n",
       "    time_counter_bounds   (time_counter, axis_nbounds) datetime64[ns] ...\n",
       "    votemper              (time_counter, deptht, y, x) float32 ...\n",
       "    vosaline              (time_counter, deptht, y, x) float32 ...\n",
       "Attributes:\n",
       "    name:         SalishSea_1h_20150101_20150110\n",
       "    description:  ocean T grid variables\n",
       "    title:        ocean T grid variables\n",
       "    Conventions:  CF-1.6\n",
       "    timeStamp:    2018-Dec-27 15:30:00 GMT\n",
       "    uuid:         63a95995-c0d9-44ad-bee2-e3a8786209f7"
      ]
     },
     "execution_count": 7,
     "metadata": {},
     "output_type": "execute_result"
    }
   ],
   "source": [
    "ds"
   ]
  },
  {
   "cell_type": "code",
   "execution_count": 13,
   "metadata": {},
   "outputs": [
    {
     "data": {
      "text/plain": [
       "<matplotlib.collections.QuadMesh at 0x7f5f46f90fd0>"
      ]
     },
     "execution_count": 13,
     "metadata": {},
     "output_type": "execute_result"
    },
    {
     "data": {
      "image/png": "[encoded data removed]",
      "text/plain": [
       "<Figure size 432x288 with 2 Axes>"
      ]
     },
     "metadata": {
      "needs_background": "light"
     },
     "output_type": "display_data"
    }
   ],
   "source": [
    "ds.vosaline.isel(time_counter=0, deptht=0, y=slice(200, 300), x=slice(200,250)).plot()"
   ]
  },
  {
   "cell_type": "code",
   "execution_count": 14,
   "metadata": {},
   "outputs": [
    {
     "data": {
      "text/plain": [
       "<xarray.DataArray 'vosaline' (deptht: 40, y: 100, x: 50)>\n",
       "[200000 values with dtype=float32]\n",
       "Coordinates:\n",
       "    nav_lat        (y, x) float32 ...\n",
       "    nav_lon        (y, x) float32 ...\n",
       "  * deptht         (deptht) float32 0.5000003 1.5000031 ... 414.5341 441.4661\n",
       "    time_centered  datetime64[ns] ...\n",
       "    time_counter   datetime64[ns] 2015-01-01T00:30:00\n",
       "Dimensions without coordinates: y, x\n",
       "Attributes:\n",
       "    standard_name:       sea_water_reference_salinity\n",
       "    long_name:           salinity\n",
       "    units:               g kg-1\n",
       "    online_operation:    average\n",
       "    interval_operation:  40 s\n",
       "    interval_write:      1 h\n",
       "    cell_methods:        time: mean (interval: 40 s)\n",
       "    cell_measures:       area: area"
      ]
     },
     "execution_count": 14,
     "metadata": {},
     "output_type": "execute_result"
    }
   ],
   "source": [
    "ds.vosaline.isel(time_counter=0, y=slice(200, 300), x=slice(200,250))"
   ]
  },
  {
   "cell_type": "code",
   "execution_count": 15,
   "metadata": {},
   "outputs": [
    {
     "data": {
      "text/plain": [
       "<xarray.DataArray 'vosaline' (y: 100, x: 50)>\n",
       "array([[0.      , 0.      , 7.462555, ..., 0.      , 0.      , 0.      ],\n",
       "       [0.      , 0.      , 4.382652, ..., 0.      , 0.      , 0.      ],\n",
       "       [0.      , 0.      , 0.      , ..., 0.      , 0.      , 0.      ],\n",
       "       ...,\n",
       "       [0.      , 0.      , 0.      , ..., 0.      , 0.      , 0.      ],\n",
       "       [0.      , 0.      , 0.      , ..., 0.      , 0.      , 0.      ],\n",
       "       [0.      , 0.      , 0.      , ..., 0.      , 0.      , 0.      ]],\n",
       "      dtype=float32)\n",
       "Coordinates:\n",
       "    nav_lat        (y, x) float32 ...\n",
       "    nav_lon        (y, x) float32 ...\n",
       "    time_centered  datetime64[ns] ...\n",
       "    time_counter   datetime64[ns] 2015-01-01T00:30:00\n",
       "Dimensions without coordinates: y, x"
      ]
     },
     "execution_count": 15,
     "metadata": {},
     "output_type": "execute_result"
    }
   ],
   "source": [
    "ds.vosaline.isel(time_counter=0, y=slice(200, 300), x=slice(200,250)).mean(dim=\"deptht\")"
   ]
  },
  {
   "cell_type": "code",
   "execution_count": 16,
   "metadata": {},
   "outputs": [
    {
     "data": {
      "text/plain": [
       "<matplotlib.collections.QuadMesh at 0x7f5f4e5819a0>"
      ]
     },
     "execution_count": 16,
     "metadata": {},
     "output_type": "execute_result"
    },
    {
     "data": {
      "image/png": "[encoded data removed]",
      "text/plain": [
       "<Figure size 432x288 with 2 Axes>"
      ]
     },
     "metadata": {
      "needs_background": "light"
     },
     "output_type": "display_data"
    }
   ],
   "source": [
    "ds.vosaline.isel(time_counter=0, y=slice(200, 300), x=slice(200,250)).mean(dim=\"deptht\").plot()"
   ]
  },
  {
   "cell_type": "code",
   "execution_count": 23,
   "metadata": {},
   "outputs": [
    {
     "name": "stdout",
     "output_type": "stream",
     "text": [
      "CPU times: user 6.24 s, sys: 1.36 s, total: 7.6 s\n",
      "Wall time: 7.62 s\n"
     ]
    }
   ],
   "source": [
    "%%time\n",
    "depth_avgs = ds.vosaline.isel(y=slice(200, 300), x=slice(200,250)).mean(dim=\"deptht\")"
   ]
  },
  {
   "cell_type": "code",
   "execution_count": 24,
   "metadata": {},
   "outputs": [],
   "source": [
    "ds.close()"
   ]
  },
  {
   "cell_type": "code",
   "execution_count": 73,
   "metadata": {},
   "outputs": [
    {
     "name": "stdout",
     "output_type": "stream",
     "text": [
      "7.867188930511475\n"
     ]
    }
   ],
   "source": [
    "t_start = time.time()\n",
    "with xarray.open_dataset(\"/tmp/dask-expts/SalishSea_1h_20150101_20150101_grid_T.nc\") as ds:\n",
    "    depth_avgs = ds.vosaline.isel(y=slice(200, 300), x=slice(200,250)).mean(dim=\"deptht\")\n",
    "t_end = time.time()\n",
    "print(t_end - t_start)"
   ]
  },
  {
   "cell_type": "code",
   "execution_count": 69,
   "metadata": {},
   "outputs": [
    {
     "data": {
      "text/plain": [
       "<xarray.Dataset>\n",
       "Dimensions:               (axis_nbounds: 2, deptht: 40, nvertex: 4, time_counter: 24, x: 398, y: 898)\n",
       "Coordinates:\n",
       "    nav_lat               (y, x) float32 dask.array<chunksize=(100, 50), meta=np.ndarray>\n",
       "    nav_lon               (y, x) float32 dask.array<chunksize=(100, 50), meta=np.ndarray>\n",
       "  * deptht                (deptht) float32 0.5000003 1.5000031 ... 441.4661\n",
       "    time_centered         (time_counter) datetime64[ns] dask.array<chunksize=(3,), meta=np.ndarray>\n",
       "  * time_counter          (time_counter) datetime64[ns] 2015-01-01T00:30:00 ... 2015-01-01T23:30:00\n",
       "Dimensions without coordinates: axis_nbounds, nvertex, x, y\n",
       "Data variables:\n",
       "    bounds_lon            (y, x, nvertex) float32 dask.array<chunksize=(100, 50, 4), meta=np.ndarray>\n",
       "    bounds_lat            (y, x, nvertex) float32 dask.array<chunksize=(100, 50, 4), meta=np.ndarray>\n",
       "    area                  (y, x) float32 dask.array<chunksize=(100, 50), meta=np.ndarray>\n",
       "    deptht_bounds         (deptht, axis_nbounds) float32 dask.array<chunksize=(40, 2), meta=np.ndarray>\n",
       "    sossheig              (time_counter, y, x) float32 dask.array<chunksize=(3, 100, 50), meta=np.ndarray>\n",
       "    time_centered_bounds  (time_counter, axis_nbounds) datetime64[ns] dask.array<chunksize=(3, 2), meta=np.ndarray>\n",
       "    time_counter_bounds   (time_counter, axis_nbounds) datetime64[ns] dask.array<chunksize=(3, 2), meta=np.ndarray>\n",
       "    votemper              (time_counter, deptht, y, x) float32 dask.array<chunksize=(3, 40, 100, 50), meta=np.ndarray>\n",
       "    vosaline              (time_counter, deptht, y, x) float32 dask.array<chunksize=(3, 40, 100, 50), meta=np.ndarray>\n",
       "Attributes:\n",
       "    name:         SalishSea_1h_20150101_20150110\n",
       "    description:  ocean T grid variables\n",
       "    title:        ocean T grid variables\n",
       "    Conventions:  CF-1.6\n",
       "    timeStamp:    2018-Dec-27 15:30:00 GMT\n",
       "    uuid:         63a95995-c0d9-44ad-bee2-e3a8786209f7"
      ]
     },
     "execution_count": 69,
     "metadata": {},
     "output_type": "execute_result"
    }
   ],
   "source": [
    "ds = xarray.open_dataset(\n",
    "    \"/tmp/dask-expts/SalishSea_1h_20150101_20150101_grid_T.nc\",\n",
    "    chunks={\"time_counter\": 3, \"deptht\": 40, \"y\": 100, \"x\": 50}\n",
    ")\n",
    "ds"
   ]
  },
  {
   "cell_type": "code",
   "execution_count": 70,
   "metadata": {},
   "outputs": [
    {
     "data": {
      "text/html": [
       "<table>\n",
       "<tr>\n",
       "<td>\n",
       "<table>\n",
       "  <thead>\n",
       "    <tr><td> </td><th> Array </th><th> Chunk </th></tr>\n",
       "  </thead>\n",
       "  <tbody>\n",
       "    <tr><th> Bytes </th><td> 1.37 GB </td> <td> 2.40 MB </td></tr>\n",
       "    <tr><th> Shape </th><td> (24, 40, 898, 398) </td> <td> (3, 40, 100, 50) </td></tr>\n",
       "    <tr><th> Count </th><td> 577 Tasks </td><td> 576 Chunks </td></tr>\n",
       "    <tr><th> Type </th><td> float32 </td><td> numpy.ndarray </td></tr>\n",
       "  </tbody>\n",
       "</table>\n",
       "</td>\n",
       "<td>\n",
       "<svg width=\"323\" height=\"189\" style=\"stroke:rgb(0,0,0);stroke-width:1\" >\n",
       "\n",
       "  <!-- Horizontal lines -->\n",
       "  <line x1=\"0\" y1=\"0\" x2=\"30\" y2=\"0\" style=\"stroke-width:2\" />\n",
       "  <line x1=\"0\" y1=\"25\" x2=\"30\" y2=\"25\" style=\"stroke-width:2\" />\n",
       "\n",
       "  <!-- Vertical lines -->\n",
       "  <line x1=\"0\" y1=\"0\" x2=\"0\" y2=\"25\" style=\"stroke-width:2\" />\n",
       "  <line x1=\"3\" y1=\"0\" x2=\"3\" y2=\"25\" />\n",
       "  <line x1=\"7\" y1=\"0\" x2=\"7\" y2=\"25\" />\n",
       "  <line x1=\"11\" y1=\"0\" x2=\"11\" y2=\"25\" />\n",
       "  <line x1=\"15\" y1=\"0\" x2=\"15\" y2=\"25\" />\n",
       "  <line x1=\"19\" y1=\"0\" x2=\"19\" y2=\"25\" />\n",
       "  <line x1=\"23\" y1=\"0\" x2=\"23\" y2=\"25\" />\n",
       "  <line x1=\"26\" y1=\"0\" x2=\"26\" y2=\"25\" />\n",
       "  <line x1=\"30\" y1=\"0\" x2=\"30\" y2=\"25\" style=\"stroke-width:2\" />\n",
       "\n",
       "  <!-- Colored Rectangle -->\n",
       "  <polygon points=\"0.000000,0.000000 30.703497,0.000000 30.703497,25.412617 0.000000,25.412617\" style=\"fill:#ECB172A0;stroke-width:0\"/>\n",
       "\n",
       "  <!-- Text -->\n",
       "  <text x=\"15.351748\" y=\"45.412617\" font-size=\"1.0rem\" font-weight=\"100\" text-anchor=\"middle\" >24</text>\n",
       "  <text x=\"50.703497\" y=\"12.706308\" font-size=\"1.0rem\" font-weight=\"100\" text-anchor=\"middle\" transform=\"rotate(0,50.703497,12.706308)\">1</text>\n",
       "\n",
       "\n",
       "  <!-- Horizontal lines -->\n",
       "  <line x1=\"100\" y1=\"0\" x2=\"119\" y2=\"19\" style=\"stroke-width:2\" />\n",
       "  <line x1=\"100\" y1=\"13\" x2=\"119\" y2=\"33\" />\n",
       "  <line x1=\"100\" y1=\"26\" x2=\"119\" y2=\"46\" />\n",
       "  <line x1=\"100\" y1=\"40\" x2=\"119\" y2=\"59\" />\n",
       "  <line x1=\"100\" y1=\"53\" x2=\"119\" y2=\"73\" />\n",
       "  <line x1=\"100\" y1=\"66\" x2=\"119\" y2=\"86\" />\n",
       "  <line x1=\"100\" y1=\"80\" x2=\"119\" y2=\"100\" />\n",
       "  <line x1=\"100\" y1=\"93\" x2=\"119\" y2=\"113\" />\n",
       "  <line x1=\"100\" y1=\"106\" x2=\"119\" y2=\"126\" />\n",
       "  <line x1=\"100\" y1=\"120\" x2=\"119\" y2=\"139\" style=\"stroke-width:2\" />\n",
       "\n",
       "  <!-- Vertical lines -->\n",
       "  <line x1=\"100\" y1=\"0\" x2=\"100\" y2=\"120\" style=\"stroke-width:2\" />\n",
       "  <line x1=\"119\" y1=\"19\" x2=\"119\" y2=\"139\" style=\"stroke-width:2\" />\n",
       "\n",
       "  <!-- Colored Rectangle -->\n",
       "  <polygon points=\"100.000000,0.000000 119.878113,19.878113 119.878113,139.878113 100.000000,120.000000\" style=\"fill:#ECB172A0;stroke-width:0\"/>\n",
       "\n",
       "  <!-- Horizontal lines -->\n",
       "  <line x1=\"100\" y1=\"0\" x2=\"153\" y2=\"0\" style=\"stroke-width:2\" />\n",
       "  <line x1=\"119\" y1=\"19\" x2=\"173\" y2=\"19\" style=\"stroke-width:2\" />\n",
       "\n",
       "  <!-- Vertical lines -->\n",
       "  <line x1=\"100\" y1=\"0\" x2=\"119\" y2=\"19\" style=\"stroke-width:2\" />\n",
       "  <line x1=\"106\" y1=\"0\" x2=\"126\" y2=\"19\" />\n",
       "  <line x1=\"113\" y1=\"0\" x2=\"133\" y2=\"19\" />\n",
       "  <line x1=\"120\" y1=\"0\" x2=\"139\" y2=\"19\" />\n",
       "  <line x1=\"126\" y1=\"0\" x2=\"146\" y2=\"19\" />\n",
       "  <line x1=\"133\" y1=\"0\" x2=\"153\" y2=\"19\" />\n",
       "  <line x1=\"140\" y1=\"0\" x2=\"159\" y2=\"19\" />\n",
       "  <line x1=\"146\" y1=\"0\" x2=\"166\" y2=\"19\" />\n",
       "  <line x1=\"153\" y1=\"0\" x2=\"173\" y2=\"19\" style=\"stroke-width:2\" />\n",
       "\n",
       "  <!-- Colored Rectangle -->\n",
       "  <polygon points=\"100.000000,0.000000 153.184855,0.000000 173.062968,19.878113 119.878113,19.878113\" style=\"fill:#ECB172A0;stroke-width:0\"/>\n",
       "\n",
       "  <!-- Horizontal lines -->\n",
       "  <line x1=\"119\" y1=\"19\" x2=\"173\" y2=\"19\" style=\"stroke-width:2\" />\n",
       "  <line x1=\"119\" y1=\"33\" x2=\"173\" y2=\"33\" />\n",
       "  <line x1=\"119\" y1=\"46\" x2=\"173\" y2=\"46\" />\n",
       "  <line x1=\"119\" y1=\"59\" x2=\"173\" y2=\"59\" />\n",
       "  <line x1=\"119\" y1=\"73\" x2=\"173\" y2=\"73\" />\n",
       "  <line x1=\"119\" y1=\"86\" x2=\"173\" y2=\"86\" />\n",
       "  <line x1=\"119\" y1=\"100\" x2=\"173\" y2=\"100\" />\n",
       "  <line x1=\"119\" y1=\"113\" x2=\"173\" y2=\"113\" />\n",
       "  <line x1=\"119\" y1=\"126\" x2=\"173\" y2=\"126\" />\n",
       "  <line x1=\"119\" y1=\"139\" x2=\"173\" y2=\"139\" style=\"stroke-width:2\" />\n",
       "\n",
       "  <!-- Vertical lines -->\n",
       "  <line x1=\"119\" y1=\"19\" x2=\"119\" y2=\"139\" style=\"stroke-width:2\" />\n",
       "  <line x1=\"126\" y1=\"19\" x2=\"126\" y2=\"139\" />\n",
       "  <line x1=\"133\" y1=\"19\" x2=\"133\" y2=\"139\" />\n",
       "  <line x1=\"139\" y1=\"19\" x2=\"139\" y2=\"139\" />\n",
       "  <line x1=\"146\" y1=\"19\" x2=\"146\" y2=\"139\" />\n",
       "  <line x1=\"153\" y1=\"19\" x2=\"153\" y2=\"139\" />\n",
       "  <line x1=\"159\" y1=\"19\" x2=\"159\" y2=\"139\" />\n",
       "  <line x1=\"166\" y1=\"19\" x2=\"166\" y2=\"139\" />\n",
       "  <line x1=\"173\" y1=\"19\" x2=\"173\" y2=\"139\" style=\"stroke-width:2\" />\n",
       "\n",
       "  <!-- Colored Rectangle -->\n",
       "  <polygon points=\"119.878113,19.878113 173.062968,19.878113 173.062968,139.878113 119.878113,139.878113\" style=\"fill:#ECB172A0;stroke-width:0\"/>\n",
       "\n",
       "  <!-- Text -->\n",
       "  <text x=\"146.470541\" y=\"159.878113\" font-size=\"1.0rem\" font-weight=\"100\" text-anchor=\"middle\" >398</text>\n",
       "  <text x=\"193.062968\" y=\"79.878113\" font-size=\"1.0rem\" font-weight=\"100\" text-anchor=\"middle\" transform=\"rotate(-90,193.062968,79.878113)\">898</text>\n",
       "  <text x=\"99.939056\" y=\"149.939056\" font-size=\"1.0rem\" font-weight=\"100\" text-anchor=\"middle\" transform=\"rotate(45,99.939056,149.939056)\">40</text>\n",
       "</svg>\n",
       "</td>\n",
       "</tr>\n",
       "</table>"
      ],
      "text/plain": [
       "dask.array<open_dataset-ecb6d5388864750fe656f03b3f376508vosaline, shape=(24, 40, 898, 398), dtype=float32, chunksize=(3, 40, 100, 50), chunktype=numpy.ndarray>"
      ]
     },
     "execution_count": 70,
     "metadata": {},
     "output_type": "execute_result"
    }
   ],
   "source": [
    "ds.vosaline.data"
   ]
  },
  {
   "cell_type": "code",
   "execution_count": 71,
   "metadata": {},
   "outputs": [],
   "source": [
    "depth_avgs = ds.vosaline.isel(y=slice(200, 300), x=slice(200,250)).mean(dim=\"deptht\")"
   ]
  },
  {
   "cell_type": "code",
   "execution_count": 85,
   "metadata": {},
   "outputs": [
    {
     "name": "stdout",
     "output_type": "stream",
     "text": [
      "5.554843187332153\n"
     ]
    }
   ],
   "source": [
    "t_start = time.time()\n",
    "ds = xarray.open_dataset(\n",
    "    \"/tmp/dask-expts/SalishSea_1h_20150101_20150101_grid_T.nc\",\n",
    "    chunks={\"time_counter\": 1, \"deptht\": 40, \"y\": 100, \"x\": 50}\n",
    ")\n",
    "depth_avgs = ds.vosaline.isel(y=slice(200, 300), x=slice(200,250)).mean(dim=\"deptht\")\n",
    "depth_avgs.compute()\n",
    "t_end = time.time()\n",
    "print(t_end - t_start)"
   ]
  },
  {
   "cell_type": "code",
   "execution_count": 86,
   "metadata": {},
   "outputs": [
    {
     "data": {
      "text/plain": [
       "<xarray.DataArray 'vosaline' (time_counter: 24, y: 100, x: 50)>\n",
       "dask.array<mean_agg-aggregate, shape=(24, 100, 50), dtype=float32, chunksize=(1, 100, 50), chunktype=numpy.ndarray>\n",
       "Coordinates:\n",
       "    nav_lat        (y, x) float32 dask.array<chunksize=(100, 50), meta=np.ndarray>\n",
       "    nav_lon        (y, x) float32 dask.array<chunksize=(100, 50), meta=np.ndarray>\n",
       "    time_centered  (time_counter) datetime64[ns] dask.array<chunksize=(1,), meta=np.ndarray>\n",
       "  * time_counter   (time_counter) datetime64[ns] 2015-01-01T00:30:00 ... 2015-01-01T23:30:00\n",
       "Dimensions without coordinates: y, x"
      ]
     },
     "execution_count": 86,
     "metadata": {},
     "output_type": "execute_result"
    }
   ],
   "source": [
    "depth_avgs"
   ]
  },
  {
   "cell_type": "code",
   "execution_count": 122,
   "metadata": {},
   "outputs": [
    {
     "name": "stdout",
     "output_type": "stream",
     "text": [
      "29.101138591766357\n"
     ]
    }
   ],
   "source": [
    "t_start = time.time()\n",
    "ds = xarray.open_mfdataset(\n",
    "    (\"/tmp/dask-expts/SalishSea_1h_20150101_20150101_grid_T.nc\",\n",
    "     \"/tmp/dask-expts/SalishSea_1h_20150102_20150102_grid_T.nc\",\n",
    "     \"/tmp/dask-expts/SalishSea_1h_20150103_20150103_grid_T.nc\",\n",
    "     \"/tmp/dask-expts/SalishSea_1h_20150104_20150104_grid_T.nc\",\n",
    "    ),\n",
    "#     chunks={\"time_counter\": 12, \"deptht\": 40, \"y\": 100, \"x\": 50},\n",
    "    combine=\"nested\", concat_dim=\"time_counter\", parallel=False,\n",
    ")\n",
    "depth_avgs = ds.vosaline.isel(y=slice(200, 300), x=slice(200,250)).mean(dim=\"deptht\")\n",
    "depth_avgs.compute()\n",
    "t_end = time.time()\n",
    "print(t_end - t_start)"
   ]
  },
  {
   "cell_type": "code",
   "execution_count": 115,
   "metadata": {},
   "outputs": [
    {
     "name": "stdout",
     "output_type": "stream",
     "text": [
      "31.323386669158936\n"
     ]
    }
   ],
   "source": [
    "datasets = (\"/tmp/dask-expts/SalishSea_1h_20150101_20150101_grid_T.nc\",\n",
    "     \"/tmp/dask-expts/SalishSea_1h_20150102_20150102_grid_T.nc\",\n",
    "     \"/tmp/dask-expts/SalishSea_1h_20150103_20150103_grid_T.nc\",\n",
    "     \"/tmp/dask-expts/SalishSea_1h_20150104_20150104_grid_T.nc\",\n",
    "    )\n",
    "t_start = time.time()\n",
    "for dataset in datasets:\n",
    "    with xarray.open_dataset(dataset) as ds:\n",
    "        depth_avgs = ds.vosaline.isel(y=slice(200, 300), x=slice(200,250)).mean(dim=\"deptht\")\n",
    "t_end = time.time()\n",
    "print(t_end - t_start)"
   ]
  },
  {
   "cell_type": "code",
   "execution_count": null,
   "metadata": {},
   "outputs": [],
   "source": []
  },
  {
   "cell_type": "code",
   "execution_count": null,
   "metadata": {},
   "outputs": [],
   "source": []
  }
 ],
 "metadata": {
  "kernelspec": {
   "display_name": "Python 3",
   "language": "python",
   "name": "python3"
  },
  "language_info": {
   "codemirror_mode": {
    "name": "ipython",
    "version": 3
   },
   "file_extension": ".py",
   "mimetype": "text/x-python",
   "name": "python",
   "nbconvert_exporter": "python",
   "pygments_lexer": "ipython3",
   "version": "3.8.0"
  }
 },
 "nbformat": 4,
 "nbformat_minor": 4
}

{
 "cells": [
  {
   "cell_type": "markdown",
   "metadata": {},
   "source": [
    "# Development of Algorithms for ERDDAP Dataset from ONC CTD Data\n",
    "\n",
    "Figuring out how to transform a day's ONC CTD data from a SoG node into\n",
    "a netCDF file that is part of an ERDDAP dataset:\n",
    "\n",
    "* filter the ONC data to include only `qaqcFlag == 1` samples\n",
    "* remove the `qaqcFlag` arrays as variable attributes\n",
    "* aggregate the data into 15 minute time bins;\n",
    "mean, variance, and count for each variable in each time bin\n",
    "* store dataset as netCDF file\n",
    "* generate ERDDAP `/opt/tomcat/content/erddap/datasets.xml` fragment"
   ]
  },
  {
   "cell_type": "code",
   "execution_count": 46,
   "metadata": {},
   "outputs": [],
   "source": [
    "from collections import OrderedDict\n",
    "import os\n",
    "\n",
    "import arrow\n",
    "from lxml import etree\n",
    "import matplotlib.pyplot as plt\n",
    "import numpy as np\n",
    "import xarray as xr\n",
    "\n",
    "from salishsea_tools import data_tools\n",
    "from salishsea_tools.places import PLACES"
   ]
  },
  {
   "cell_type": "code",
   "execution_count": 2,
   "metadata": {
    "collapsed": true
   },
   "outputs": [],
   "source": [
    "%matplotlib inline"
   ]
  },
  {
   "cell_type": "markdown",
   "metadata": {},
   "source": [
    "## Get Data from ONC `scalardata` Web Service\n",
    "\n",
    "Access to the ONC web services requires a user token which you can generate on the \n",
    "`Web Services API` tab of your [ONC account profile page](http://dmas.uvic.ca/Profile).\n",
    "I have stored mine in an environment variable so as not to publish it to the world\n",
    "in this notebook."
   ]
  },
  {
   "cell_type": "code",
   "execution_count": 4,
   "metadata": {
    "collapsed": true
   },
   "outputs": [],
   "source": [
    "TOKEN = os.environ['ONC_USER_TOKEN']"
   ]
  },
  {
   "cell_type": "markdown",
   "metadata": {},
   "source": [
    "Request a day's worth of CTD salinity and temperature data\n",
    "and parse them into an `xarray.Dataset`:"
   ]
  },
  {
   "cell_type": "code",
   "execution_count": 22,
   "metadata": {},
   "outputs": [],
   "source": [
    "onc_data = data_tools.get_onc_data(\n",
    "    'scalardata', 'getByStation', TOKEN,\n",
    "    station='SCVIP', deviceCategory='CTD',\n",
    "    sensors='salinity,temperature',\n",
    "    dateFrom=data_tools.onc_datetime('2015-12-27 00:00', 'utc'),\n",
    ")\n",
    "\n",
    "ctd_data = data_tools.onc_json_to_dataset(onc_data)"
   ]
  },
  {
   "cell_type": "code",
   "execution_count": 23,
   "metadata": {},
   "outputs": [
    {
     "data": {
      "text/plain": [
       "<xarray.Dataset>\n",
       "Dimensions:      (sampleTime: 86398)\n",
       "Coordinates:\n",
       "  * sampleTime   (sampleTime) datetime64[ns] 2015-12-27T00:00:00.259000 ...\n",
       "Data variables:\n",
       "    salinity     (sampleTime) float64 31.23 31.23 31.23 31.23 31.23 31.23 ...\n",
       "    temperature  (sampleTime) float64 9.959 9.959 9.959 9.959 9.959 9.959 ...\n",
       "Attributes:\n",
       "    dateFrom: 2015-12-27T00:00:00.000Z\n",
       "    deviceCategory: CTD\n",
       "    dateTo: None\n",
       "    rowLimit: None\n",
       "    outputFormat: None\n",
       "    sensors: salinity,temperature\n",
       "    nextDateFrom: 2015-12-28T00:00:00.090Z\n",
       "    totalActualSamples: 172796\n",
       "    station: SCVIP"
      ]
     },
     "execution_count": 23,
     "metadata": {},
     "output_type": "execute_result"
    }
   ],
   "source": [
    "ctd_data"
   ]
  },
  {
   "cell_type": "code",
   "execution_count": 24,
   "metadata": {},
   "outputs": [
    {
     "data": {
      "text/plain": [
       "<xarray.DataArray 'salinity' (sampleTime: 86398)>\n",
       "array([ 31.22826354,  31.22836401,  31.22826354, ...,  28.26344878,\n",
       "        28.26375019,  28.26415208])\n",
       "Coordinates:\n",
       "  * sampleTime  (sampleTime) datetime64[ns] 2015-12-27T00:00:00.259000 ...\n",
       "Attributes:\n",
       "    unitOfMeasure: g/kg\n",
       "    qaqcFlag: [1 1 1 ..., 4 4 4]\n",
       "    sensorName: Reference Salinity\n",
       "    actualSamples: 86398"
      ]
     },
     "execution_count": 24,
     "metadata": {},
     "output_type": "execute_result"
    }
   ],
   "source": [
    "ctd_data.data_vars['salinity']"
   ]
  },
  {
   "cell_type": "markdown",
   "metadata": {},
   "source": [
    "## Filter Data Based on `qaqcFlag` Values\n",
    "\n",
    "Filter the salinity data to exclude samples for which `qaqcFlag != 1`:"
   ]
  },
  {
   "cell_type": "code",
   "execution_count": 25,
   "metadata": {
    "scrolled": true
   },
   "outputs": [
    {
     "data": {
      "text/plain": [
       "<xarray.DataArray 'salinity' (sampleTime: 86398)>\n",
       "array([ 31.22826354,  31.22836401,  31.22826354, ...,  28.26344878,\n",
       "        28.26375019,  28.26415208])\n",
       "Coordinates:\n",
       "  * sampleTime  (sampleTime) datetime64[ns] 2015-12-27T00:00:00.259000 ...\n",
       "Attributes:\n",
       "    unitOfMeasure: g/kg\n",
       "    qaqcFlag: [1 1 1 ..., 4 4 4]\n",
       "    sensorName: Reference Salinity\n",
       "    actualSamples: 86398"
      ]
     },
     "execution_count": 25,
     "metadata": {},
     "output_type": "execute_result"
    }
   ],
   "source": [
    "ctd_data.salinity"
   ]
  },
  {
   "cell_type": "code",
   "execution_count": 26,
   "metadata": {},
   "outputs": [],
   "source": [
    "salinity_qaqc_mask = ctd_data.salinity.attrs['qaqcFlag'] == 1\n",
    "salinity = xr.DataArray(\n",
    "    name='salinity',\n",
    "    data=ctd_data.salinity[salinity_qaqc_mask].values,\n",
    "    coords={'time': ctd_data.salinity.sampleTime[salinity_qaqc_mask].values},\n",
    ")"
   ]
  },
  {
   "cell_type": "code",
   "execution_count": 27,
   "metadata": {
    "scrolled": false
   },
   "outputs": [
    {
     "data": {
      "text/plain": [
       "<xarray.DataArray 'salinity' (time: 54393)>\n",
       "array([ 31.22826354,  31.22836401,  31.22826354, ...,  31.22977061,\n",
       "        31.22967014,  31.22977061])\n",
       "Coordinates:\n",
       "  * time     (time) datetime64[ns] 2015-12-27T00:00:00.259000 ..."
      ]
     },
     "execution_count": 27,
     "metadata": {},
     "output_type": "execute_result"
    }
   ],
   "source": [
    "salinity"
   ]
  },
  {
   "cell_type": "markdown",
   "metadata": {},
   "source": [
    "Filter the temperature data to exclude samples for which `qaqcFlag != 1`:"
   ]
  },
  {
   "cell_type": "code",
   "execution_count": 28,
   "metadata": {},
   "outputs": [
    {
     "data": {
      "text/plain": [
       "<xarray.DataArray 'temperature' (sampleTime: 86398)>\n",
       "array([ 9.959 ,  9.959 ,  9.9591, ...,  9.9531,  9.9533,  9.9531])\n",
       "Coordinates:\n",
       "  * sampleTime  (sampleTime) datetime64[ns] 2015-12-27T00:00:00.259000 ...\n",
       "Attributes:\n",
       "    unitOfMeasure: C\n",
       "    qaqcFlag: [1 1 1 ..., 1 1 1]\n",
       "    sensorName: Temperature\n",
       "    actualSamples: 86398"
      ]
     },
     "execution_count": 28,
     "metadata": {},
     "output_type": "execute_result"
    }
   ],
   "source": [
    "ctd_data.temperature"
   ]
  },
  {
   "cell_type": "code",
   "execution_count": 29,
   "metadata": {},
   "outputs": [],
   "source": [
    "temperature_qaqc_mask = ctd_data.temperature.attrs['qaqcFlag'] == 1\n",
    "temperature = xr.DataArray(\n",
    "    name='temperature',\n",
    "    data=ctd_data.temperature[temperature_qaqc_mask].values,\n",
    "    coords={'time': ctd_data.temperature.sampleTime[temperature_qaqc_mask].values},\n",
    ")"
   ]
  },
  {
   "cell_type": "code",
   "execution_count": 30,
   "metadata": {},
   "outputs": [
    {
     "data": {
      "text/plain": [
       "<xarray.DataArray 'temperature' (time: 86395)>\n",
       "array([ 9.959 ,  9.959 ,  9.9591, ...,  9.9531,  9.9533,  9.9531])\n",
       "Coordinates:\n",
       "  * time     (time) datetime64[ns] 2015-12-27T00:00:00.259000 ..."
      ]
     },
     "execution_count": 30,
     "metadata": {},
     "output_type": "execute_result"
    }
   ],
   "source": [
    "temperature"
   ]
  },
  {
   "cell_type": "markdown",
   "metadata": {},
   "source": [
    "## Create 15 Minute Resampled Dataset"
   ]
  },
  {
   "cell_type": "markdown",
   "metadata": {},
   "source": [
    "Station-specific metadata for the dataset:"
   ]
  },
  {
   "cell_type": "code",
   "execution_count": 31,
   "metadata": {
    "collapsed": true
   },
   "outputs": [],
   "source": [
    "xr_metadata = {\n",
    "    'SCVIP': {\n",
    "        'place_name': 'Central node',\n",
    "        'ONC_station': 'Central',\n",
    "        'ONC_stationCode': PLACES['Central node']['ONC stationCode'],\n",
    "        'ONC_stationDescription': \n",
    "            'Pacific, Salish Sea, Strait of Georgia, Central, Strait of Georgia VENUS Instrument Platform',\n",
    "        'ONC_data_product_url': 'http://dmas.uvic.ca/DataSearch?location=SCVIP&deviceCategory=CTD',\n",
    "    },\n",
    "    'SEVIP': {\n",
    "        'place_name': 'East node',\n",
    "        'ONC_station': 'East',\n",
    "        'ONC_stationCode': PLACES['East node']['ONC stationCode'],\n",
    "        'ONC_stationDescription': \n",
    "            'Pacific, Salish Sea, Strait of Georgia, East, Strait of Georgia VENUS Instrument Platform',\n",
    "        'ONC_data_product_url': 'http://dmas.uvic.ca/DataSearch?location=SEVIP&deviceCategory=CTD',\n",
    "    },\n",
    "}"
   ]
  },
  {
   "cell_type": "markdown",
   "metadata": {},
   "source": [
    "Define an aggregation function to count the samples in each\n",
    "resampling interval:"
   ]
  },
  {
   "cell_type": "code",
   "execution_count": 32,
   "metadata": {
    "collapsed": true
   },
   "outputs": [],
   "source": [
    "def count(values, axis):\n",
    "    return values.size"
   ]
  },
  {
   "cell_type": "markdown",
   "metadata": {},
   "source": [
    "Create a dataset of resampled data and their statistics:"
   ]
  },
  {
   "cell_type": "code",
   "execution_count": 33,
   "metadata": {},
   "outputs": [],
   "source": [
    "onc_station = 'SCVIP'\n",
    "\n",
    "ds = xr.Dataset(\n",
    "    data_vars={\n",
    "        'salinity': xr.DataArray(\n",
    "            name='salinity',\n",
    "            data=salinity.resample('15Min', 'time', how='mean'),\n",
    "            attrs={\n",
    "                'ioos_category': 'Salinity',\n",
    "                'standard_name': 'sea_water_reference_salinity',\n",
    "                'long_name': 'reference salinity',\n",
    "                'units': 'g/kg',\n",
    "                'aggregation_operation': 'mean',\n",
    "                'aggregation_interval': 15*60,\n",
    "                'aggregation_interval_units': 'seconds',\n",
    "            },\n",
    "        ),\n",
    "        'salinity_std_dev': xr.DataArray(\n",
    "            name='salinity_std_dev',\n",
    "            data=salinity.resample('15Min', 'time', how='std'),\n",
    "            attrs={\n",
    "                'ioos_category': 'Salinity',\n",
    "                'standard_name':b 'sea_water_reference_salinity_standard_deviation',\n",
    "                'long_name': 'reference salinity standard deviation',\n",
    "                'units': 'g/kg',\n",
    "                'aggregation_operation': 'standard deviation',\n",
    "                'aggregation_interval': 15*60,\n",
    "                'aggregation_interval_units': 'seconds',\n",
    "            },\n",
    "        ),\n",
    "        'salinity_sample_count': xr.DataArray(\n",
    "            name='salinity_sample_count',\n",
    "            data=salinity.resample('15Min', 'time', how=count),\n",
    "            attrs={\n",
    "                'standard_name': 'sea_water_reference_salinity_sample_count',\n",
    "                'long_name': 'reference salinity sample count',\n",
    "                'aggregation_operation': 'count',\n",
    "                'aggregation_interval': 15*60,\n",
    "                'aggregation_interval_units': 'seconds',\n",
    "            },\n",
    "        ),\n",
    "        'temperature': xr.DataArray(\n",
    "            name='temperature',\n",
    "            data=temperature.resample('15Min', 'time', how='mean'),\n",
    "            attrs={\n",
    "                'ioos_category': 'Temperature',\n",
    "                'standard_name': 'sea_water_temperature',\n",
    "                'long_name': 'temperature',\n",
    "                'units': 'degrees_Celcius',\n",
    "                'aggregation_operation': 'mean',\n",
    "                'aggregation_interval': 15*60,\n",
    "                'aggregation_interval_units': 'seconds',\n",
    "            },\n",
    "        ),\n",
    "        'temperature_std_dev': xr.DataArray(\n",
    "            name='temperature_std_dev',\n",
    "            data=temperature.resample('15Min', 'time', how='std'),\n",
    "            attrs={\n",
    "                'ioos_category': 'Temperature',\n",
    "                'standard_name': 'sea_water_temperature_standard_deviation',\n",
    "                'long_name': 'temperature standard deviation',\n",
    "                'units': 'degrees_Celcius',\n",
    "                'aggregation_operation': 'standard deviation',\n",
    "                'aggregation_interval': 15*60,\n",
    "                'aggregation_interval_units': 'seconds',\n",
    "            },\n",
    "        ),\n",
    "        'temperature_sample_count': xr.DataArray(\n",
    "            name='temperature_sample_count',\n",
    "            data=temperature.resample('15Min', 'time', how=count),\n",
    "            attrs={\n",
    "                'standard_name': 'sea_water_temperature_sample_count',\n",
    "                'long_name': 'temperature sample count',\n",
    "                'aggregation_operation': 'count',\n",
    "                'aggregation_interval': 15*60,\n",
    "                'aggregation_interval_units': 'seconds',\n",
    "            },\n",
    "        ),\n",
    "    },\n",
    "    coords={\n",
    "        'depth': PLACES[xr_metadata[onc_station]['place_name']]['depth'],\n",
    "        'longitude': PLACES[xr_metadata[onc_station]['place_name']]['lon lat'][0],\n",
    "        'latitude': PLACES[xr_metadata[onc_station]['place_name']]['lon lat'][1],\n",
    "    },\n",
    "    attrs={\n",
    "        'history': \"\"\"\n",
    "{0} Download raw data from ONC scalardata API.\n",
    "{0} Filter to exclude data with qaqcFlag != 1.\n",
    "{0} Resample data to 15 minute intervals using mean, standard deviation and count as aggregation functions.\n",
    "{0} Store as netCDF4 file.\n",
    "        \"\"\".format(arrow.now().format('YYYY-MM-DD HH:mm:ss')),\n",
    "        'ONC_station': xr_metadata[onc_station]['ONC_station'],\n",
    "        'ONC_stationCode': PLACES[xr_metadata[onc_station]['place_name']]['ONC stationCode'],\n",
    "        'ONC_stationDescription': xr_metadata[onc_station]['ONC_stationDescription'],\n",
    "        'ONC_data_product_url': xr_metadata[onc_station]['ONC_data_product_url'],\n",
    "    },\n",
    ")"
   ]
  },
  {
   "cell_type": "markdown",
   "metadata": {},
   "source": [
    "If any of the `DataArray`s are short compared to the others the missing values\n",
    "are filled with `NaN`s.\n",
    "That makes sense for temperature and salinity values,\n",
    "and their standard deviations,\n",
    "but not their sample counts.\n",
    "So, we change `NaN`s to zeros in the sample count `DataArray`s:"
   ]
  },
  {
   "cell_type": "code",
   "execution_count": 49,
   "metadata": {
    "collapsed": true
   },
   "outputs": [],
   "source": [
    "ds.salinity_sample_count.values = np.nan_to_num(ds.salinity_sample_count.values)\n",
    "ds.temperature_sample_count.values = np.nan_to_num(ds.temperature_sample_count.values)"
   ]
  },
  {
   "cell_type": "code",
   "execution_count": 50,
   "metadata": {},
   "outputs": [
    {
     "data": {
      "text/plain": [
       "<xarray.Dataset>\n",
       "Dimensions:                   (time: 96)\n",
       "Coordinates:\n",
       "  * time                      (time) datetime64[ns] 2015-12-27 ...\n",
       "    longitude                 float64 -123.4\n",
       "    depth                     int64 294\n",
       "    latitude                  float64 49.04\n",
       "Data variables:\n",
       "    salinity                  (time) float64 31.23 31.23 31.23 31.23 31.23 ...\n",
       "    salinity_std_dev          (time) float64 0.0001472 0.0001813 0.0001711 ...\n",
       "    temperature_sample_count  (time) int64 900 900 900 900 900 900 900 900 ...\n",
       "    temperature_std_dev       (time) float64 0.0001285 0.0001598 0.000142 ...\n",
       "    salinity_sample_count     (time) float64 900.0 899.0 900.0 900.0 900.0 ...\n",
       "    temperature               (time) float64 9.959 9.959 9.959 9.959 9.958 ...\n",
       "Attributes:\n",
       "    history: \n",
       "2016-09-19 13:07:14 Download raw data from ONC scalardata API.\n",
       "2016-09-19 13:07:14 Filter to exclude data with qaqcFlag != 1.\n",
       "2016-09-19 13:07:14 Resample data to 15 minute intervals using mean, standard deviation and count as aggregation functions.\n",
       "2016-09-19 13:07:14 Store as netCDF4 file.\n",
       "        \n",
       "    ONC_stationDescription: Pacific, Salish Sea, Strait of Georgia, Central, Strait of Georgia VENUS Instrument Platform\n",
       "    ONC_stationCode: SCVIP\n",
       "    ONC_station: Central\n",
       "    ONC_data_product_url: http://dmas.uvic.ca/DataSearch?location=SCVIP&deviceCategory=CTD"
      ]
     },
     "execution_count": 50,
     "metadata": {},
     "output_type": "execute_result"
    }
   ],
   "source": [
    "ds"
   ]
  },
  {
   "cell_type": "markdown",
   "metadata": {},
   "source": [
    "## Examine the Dataset"
   ]
  },
  {
   "cell_type": "code",
   "execution_count": 51,
   "metadata": {},
   "outputs": [
    {
     "name": "stdout",
     "output_type": "stream",
     "text": [
      "<xarray.DataArray 'salinity_sample_count' (time: 96)>\n",
      "array([ 900.,  899.,  900.,  900.,  900.,  899.,  899.,  900.,  900.,\n",
      "        900.,  899.,  897.,  900.,  896.,  899.,  900.,  899.,  899.,\n",
      "        900.,  900.,  899.,  900.,  899.,  899.,  900.,  899.,  899.,\n",
      "        899.,  899.,  897.,  900.,  899.,  900.,  900.,  900.,  899.,\n",
      "        899.,  899.,  899.,  896.,  895.,  899.,  899.,  900.,  898.,\n",
      "        898.,  900.,  899.,  899.,  900.,  900.,  899.,  900.,  899.,\n",
      "        900.,  899.,  898.,  898.,  900.,  900.,  446.,    0.,    0.,\n",
      "          0.,    0.,    0.,    0.,    0.,    0.,    0.,    0.,    0.,\n",
      "          0.,    0.,    0.,    0.,    0.,    0.,    0.,    0.,    0.,\n",
      "          0.,    0.,    0.,    0.,    0.,    0.,    0.,    0.,    0.,\n",
      "          0.,    0.,    0.,    0.,    0.,    0.])\n",
      "Coordinates:\n",
      "  * time       (time) datetime64[ns] 2015-12-27 2015-12-27T00:15:00 ...\n",
      "    longitude  float64 -123.4\n",
      "    depth      int64 294\n",
      "    latitude   float64 49.04\n",
      "Attributes:\n",
      "    standard_name: sea_water_reference_salinity_sample_count\n",
      "    aggregation_operation: count\n",
      "    aggregation_interval: 900\n",
      "    aggregation_interval_units: seconds\n",
      "    long_name: reference salinity sample count\n"
     ]
    },
    {
     "data": {
      "text/plain": [
       "<matplotlib.text.Text at 0x7fab0b9b0e10>"
      ]
     },
     "execution_count": 51,
     "metadata": {},
     "output_type": "execute_result"
    },
    {
     "data": {
      "image/png": "[encoded data removed]",
      "text/plain": [
       "<matplotlib.figure.Figure at 0x7fab0bac06a0>"
      ]
     },
     "metadata": {},
     "output_type": "display_data"
    }
   ],
   "source": [
    "print(ds.salinity_sample_count)\n",
    "fig, (ax1, ax2, ax3) = plt.subplots(1, 3, figsize=(18, 6))\n",
    "salinity.plot(ax=ax1)\n",
    "ax1.set_title('Raw Data')\n",
    "ds.salinity.plot(ax=ax2)\n",
    "ax2.set_title('15 min Averaged')\n",
    "ds.salinity_std_dev.plot(ax=ax3)\n",
    "ax3.set_title('15 min Std Dev')"
   ]
  },
  {
   "cell_type": "code",
   "execution_count": 52,
   "metadata": {},
   "outputs": [
    {
     "name": "stdout",
     "output_type": "stream",
     "text": [
      "<xarray.DataArray 'temperature_sample_count' (time: 96)>\n",
      "array([900, 900, 900, 900, 900, 900, 900, 900, 900, 900, 900, 900, 900,\n",
      "       900, 900, 900, 900, 900, 900, 900, 900, 900, 900, 900, 900, 900,\n",
      "       900, 900, 900, 899, 901, 899, 900, 900, 900, 900, 900, 900, 900,\n",
      "       900, 900, 900, 900, 900, 900, 900, 900, 900, 900, 900, 900, 900,\n",
      "       900, 900, 900, 900, 900, 900, 900, 900, 900, 897, 900, 900, 900,\n",
      "       900, 900, 900, 900, 900, 900, 900, 900, 900, 900, 900, 900, 900,\n",
      "       900, 900, 900, 900, 900, 900, 900, 900, 900, 900, 900, 900, 900,\n",
      "       900, 900, 899, 900, 900])\n",
      "Coordinates:\n",
      "  * time       (time) datetime64[ns] 2015-12-27 2015-12-27T00:15:00 ...\n",
      "    longitude  float64 -123.4\n",
      "    depth      int64 294\n",
      "    latitude   float64 49.04\n",
      "Attributes:\n",
      "    standard_name: sea_water_temperature_sample_count\n",
      "    aggregation_operation: count\n",
      "    aggregation_interval: 900\n",
      "    aggregation_interval_units: seconds\n",
      "    long_name: temperature sample count\n"
     ]
    },
    {
     "data": {
      "text/plain": [
       "<matplotlib.text.Text at 0x7fab0b8d7be0>"
      ]
     },
     "execution_count": 52,
     "metadata": {},
     "output_type": "execute_result"
    },
    {
     "data": {
      "image/png": "[encoded data removed]",
      "text/plain": [
       "<matplotlib.figure.Figure at 0x7fab0b9bb550>"
      ]
     },
     "metadata": {},
     "output_type": "display_data"
    }
   ],
   "source": [
    "print(ds.temperature_sample_count)\n",
    "fig, (ax1, ax2, ax3) = plt.subplots(1, 3, figsize=(18, 6))\n",
    "temperature.plot(ax=ax1)\n",
    "ax1.set_title('Raw Data')\n",
    "ds.temperature.plot(ax=ax2)\n",
    "ax2.set_title('15 min Averaged')\n",
    "ds.temperature_std_dev.plot(ax=ax3)\n",
    "ax3.set_title('15 min Std Dev')"
   ]
  },
  {
   "cell_type": "markdown",
   "metadata": {},
   "source": [
    "## Store the Dataset as a netCDF4 File\n",
    "\n",
    "ERDDAP requires that all files in a dataset have the same units for their `time` variable.\n",
    "On the other hand,\n",
    "`xarray` defaults to using the 1st `time` value in the dataset as the time-base for the units.\n",
    "So, we have to explicitly define the `time` units as an encoding when the dataset is stored\n",
    "as a netCDF4 file."
   ]
  },
  {
   "cell_type": "code",
   "execution_count": 53,
   "metadata": {},
   "outputs": [],
   "source": [
    "ds.to_netcdf(\n",
    "    '/results/observations/ONC/CTD/{station}/{station}_CTD_15m_20151227.nc'\n",
    "    .format(station=onc_station),\n",
    "    encoding={'time': {'units': 'minutes since 1970-01-01 00:00'}})"
   ]
  },
  {
   "cell_type": "markdown",
   "metadata": {},
   "source": [
    "## Generate an ERDDAP Dataset XML Fragment\n",
    "\n",
    "Use the `/opt/tomcat/webapps/erddap/WEB-INF/GenerateDatasetsXml.sh` script\n",
    "generate the initial version of an XML fragment for a dataset:\n",
    "```\n",
    "$ cd /opt/tomcat/webapps/erddap/WEB-INF/\n",
    "$ bash GenerateDatasetsXml.sh EDDTableFromNcFiles /results/observations/ONC/CTD/SCVIP/\n",
    "```\n",
    "The `EDDTableFromNcFiles` and `/results/observations/ONC/CTD/SCVIP/` arguments\n",
    "tell the script which `EDDType` and what parent directory to use,\n",
    "avoiding having to type those in answer to prompts.\n",
    "Answer the remaining prompts,\n",
    "for example:\n",
    "```\n",
    "File name regex (e.g., \".*\\.nc\") (default=\"\")\n",
    "? .*SCVIP_CTD_15m_\\d{8}\\.nc$ \n",
    "A sample full file name (default=\"\")\n",
    "? /results/observations/ONC/CTD/SCVIP/SCVIP_CTD_15m_20160724.nc\n",
    "DimensionsCSV (or \"\" for default) (default=\"\")\n",
    "? \n",
    "ReloadEveryNMinutes (e.g., 10080) (default=\"\")\n",
    "? 10080\n",
    "PreExtractRegex (default=\"\")\n",
    "? \n",
    "PostExtractRegex (default=\"\")\n",
    "? \n",
    "ExtractRegex (default=\"\")\n",
    "? \n",
    "Column name for extract (default=\"\")\n",
    "? \n",
    "Sorted column source name (default=\"\")\n",
    "? \n",
    "Sort files by sourceName (default=\"\")\n",
    "? \n",
    "infoUrl (default=\"\")\n",
    "? https://salishsea-meopar-tools.readthedocs.org/en/latest/results_server/\n",
    "institution (default=\"\")\n",
    "? UBC EOAS\n",
    "summary (default=\"\")\n",
    "? \n",
    "title (default=\"\")\n",
    "? ONC, Strait of Georgia, Central Node, Salinity and Temperature, 15min, v1\n",
    "```\n",
    "\n",
    "The output is written to `/results/erddap/logs/GenerateDatasetsXml.out`"
   ]
  },
  {
   "cell_type": "markdown",
   "metadata": {},
   "source": [
    "The `metadata` dictionary below contains information for dataset\n",
    "attribute tags whose values need to be changed,\n",
    "or that need to be added for all datasets.\n",
    "\n",
    "The keys are the dataset attribute names.\n",
    "\n",
    "The values are dicts containing a required `text` item\n",
    "and perhaps an optional `after` item.\n",
    "\n",
    "The value associated with the `text` key is the text content\n",
    "for the attribute tag.\n",
    "\n",
    "When present,\n",
    "the value associated with the `after` key is the name\n",
    "of the dataset attribute after which a new attribute tag\n",
    "containing the `text` value is to be inserted."
   ]
  },
  {
   "cell_type": "code",
   "execution_count": 36,
   "metadata": {},
   "outputs": [],
   "source": [
    "metadata = OrderedDict([\n",
    "    ('cdm_data_type', {'text': 'TimeSeries'}),\n",
    "    ('cdm_timeseries_variables', {\n",
    "        'text': 'depth, longitude, latitude',\n",
    "        'after': 'cdm_data_type',\n",
    "    }),\n",
    "    ('institution_fullname', {\n",
    "        'text': 'Earth, Ocean & Atmospheric Sciences, University of British Columbia',\n",
    "        'after': 'institution',\n",
    "    }),\n",
    "    ('license', {\n",
    "        'text': '''The Salish Sea MEOPAR observation datasets are copyright 2013-2016\n",
    "by the Salish Sea MEOPAR Project Contributors, The University of British Columbia, and Ocean Networks Canada.\n",
    "\n",
    "They are licensed under the Apache License, Version 2.0. http://www.apache.org/licenses/LICENSE-2.0\n",
    "\n",
    "Raw instrument data on which this dataset is based were provided by Ocean Networks Canada.''',\n",
    "    }),\n",
    "    ('project', {\n",
    "        'text':'Salish Sea MEOPAR NEMO Model',\n",
    "        'after': 'title',\n",
    "    }),\n",
    "    ('creator_name', {\n",
    "        'text': 'Salish Sea MEOPAR Project Contributors',\n",
    "    }),\n",
    "    ('creator_email', {\n",
    "        'text': 'sallen@eos.ubc.ca',\n",
    "        'after': 'creator_name',\n",
    "    }),\n",
    "    ('creator_url', {\n",
    "        'text': 'https://salishsea-meopar-docs.readthedocs.org/',\n",
    "    }),\n",
    "    ('acknowledgement', {\n",
    "        'text': 'MEOPAR, ONC, Compute Canada',\n",
    "        'after': 'creator_url',\n",
    "    }),\n",
    "    ('drawLandMask', {\n",
    "        'text': 'over',\n",
    "        'after': 'acknowledgement',\n",
    "    }),\n",
    "])"
   ]
  },
  {
   "cell_type": "markdown",
   "metadata": {},
   "source": [
    "The `datasets` dictionary below provides the content\n",
    "for the dataset `title` and `summary` attributes.\n",
    "\n",
    "The `title` attribute content appears in the the datasets list table\n",
    "(among other places).\n",
    "\n",
    "The `summary` atribute content appears\n",
    "(among other places)\n",
    "when a user hovers the cursor over the `?` icon beside the `title`\n",
    "content in the datasets list table.\n",
    "The text that is inserted into the `summary` attribute tag\n",
    "by code later in this notebook is the\n",
    "`title` content followed by the `summary` content,\n",
    "separated by a blank line.\n",
    "\n",
    "The keys of the `datasets` dict are the `datasetID` strings that\n",
    "are used in many places by the ERDDAP server.\n",
    "They are structured as follows:\n",
    "\n",
    "* `ubc` to indicate that the dataset was produced at UBC\n",
    "* `ONC` to indicate that the dataset is a product of filter, resampling, etc.\n",
    "raw instrument data provided by Ocean Networks Canada (ONC)\n",
    "* a description of the dataset variables; e.g. `SCVIPCTD`\n",
    "* the time interval of values in the dataset; e.g. `15m`\n",
    "* the dataset version; e.g. `V1`\n",
    "\n",
    "So:\n",
    "\n",
    "* `ubcONCSCVIPCTD15mV1` is the version 1 dataset of 15 minute resampled CTD temperature and salinity data\n",
    "from the ONC Strait of Georgia Central node VENUS instrument platform\n",
    "\n",
    "The dataset version part of the `datasetID` is used to indicate changes in the variables\n",
    "contained in the dataset.\n",
    "\n",
    "All datasets start at `V1` and their `summary` ends with a notation about the variables\n",
    "that they contain; e.g.\n",
    "```\n",
    "v1: reference salinity, reference salinity standard deviation, reference salinity sample counts, \n",
    "temperature, temperature standard deviation, temperature sample counts variables\n",
    "```\n",
    "When the a dataset version is incremented a line describing the change is added\n",
    "to the end of its `summary`."
   ]
  },
  {
   "cell_type": "code",
   "execution_count": 27,
   "metadata": {
    "collapsed": true
   },
   "outputs": [],
   "source": [
    "datasets = {\n",
    "    'ubcONCSCVIPCTD15mV1' :{\n",
    "        'type': 'resampled CTD',\n",
    "        'title': 'ONC, Strait of Georgia, Central Node, Salinity and Temperature, 15min, v1',\n",
    "        'summary':'''Temperature and salinity data from the Ocean Networks Canada (ONC)\n",
    "Strait of Georgia Central Node VENUS Instrument Platform CTD.\n",
    "The data are resampled from the raw instrument data to 15 minute mean values.\n",
    "They are accompanied by standard deviations and sample counts for each of the 15 minute\n",
    "aggregation intervals.\n",
    "\n",
    "v1: reference salinity, reference salinity standard deviation, reference salinity sample counts, \n",
    "temperature, temperature standard deviation, temperature sample counts variables''',\n",
    "        'keywords': '''15min aggregation, ONC Central Node VENUS Instrument Platform, Ocean Networks Canada,\n",
    "depth, UBC EOAS, Strait of Georgia, latitude, longitude, ocean, SCVIP, observations, CTD,\n",
    "Oceans &gt; Ocean Temperature &gt; Water Temperature,\n",
    "reference salinity, salinity_sample_count, salinity_std_dev, sea_water_reference_salinity, \n",
    "sea_water_reference_salinity_sample_count, sea_water_reference_salinity_standard_deviation, \n",
    "sea_water_temperature, sea_water_temperature_sample_count, sea_water_temperature_standard_deviation, \n",
    "temperature, temperature_sample_count, temperature_std_dev, time''',\n",
    "        'fileNameRegex': '.*SCVIP_CTD_15m_\\d{8}\\.nc$'\n",
    "    },\n",
    "    \n",
    "    'ubcONCSEVIPCTD15mV1' :{\n",
    "        'type': 'resampled CTD',\n",
    "        'title': 'ONC, Strait of Georgia, East Node, Salinity and Temperature, 15min, v1',\n",
    "        'summary':'''Temperature and salinity data from the Ocean Networks Canada (ONC)\n",
    "Strait of Georgia East Node VENUS Instrument Platform CTD.\n",
    "The data are resampled from the raw instrument data to 15 minute mean values.\n",
    "They are accompanied by standard deviations and sample counts for each of the 15 minute\n",
    "aggregation intervals.\n",
    "\n",
    "v1: reference salinity, reference salinity standard deviation, reference salinity sample counts, \n",
    "temperature, temperature standard deviation, temperature sample counts variables''',\n",
    "        'keywords': '''15min aggregation, ONC East Node VENUS Instrument Platform, Ocean Networks Canada,\n",
    "depth, UBC EOAS, Strait of Georgia, latitude, longitude, ocean, SEVIP, observations, CTD,\n",
    "Oceans &gt; Ocean Temperature &gt; Water Temperature,\n",
    "reference salinity, salinity_sample_count, salinity_std_dev, sea_water_reference_salinity, \n",
    "sea_water_reference_salinity_sample_count, sea_water_reference_salinity_standard_deviation, \n",
    "sea_water_temperature, sea_water_temperature_sample_count, sea_water_temperature_standard_deviation, \n",
    "temperature, temperature_sample_count, temperature_std_dev, time''',\n",
    "        'fileNameRegex': '.*SEVIP_CTD_15m_\\d{8}\\.nc$'\n",
    "    },\n",
    "}"
   ]
  },
  {
   "cell_type": "markdown",
   "metadata": {},
   "source": [
    "A few convenience functions to reduce code repetition:"
   ]
  },
  {
   "cell_type": "code",
   "execution_count": 28,
   "metadata": {
    "collapsed": true
   },
   "outputs": [],
   "source": [
    "def print_tree(root):\n",
    "    \"\"\"Display an XML tree fragment with indentation.\n",
    "    \"\"\"\n",
    "    print(etree.tostring(root, pretty_print=True).decode('ascii'))"
   ]
  },
  {
   "cell_type": "code",
   "execution_count": 29,
   "metadata": {
    "collapsed": true
   },
   "outputs": [],
   "source": [
    "def find_att(root, att):\n",
    "    \"\"\"Return the dataset attribute element named att\n",
    "    or raise a ValueError exception if it cannot be found.\n",
    "    \"\"\"\n",
    "    e = root.find('.//att[@name=\"{}\"]'.format(att))\n",
    "    if e is None:\n",
    "        raise ValueError('{} attribute element not found'.format(att))\n",
    "    return e"
   ]
  },
  {
   "cell_type": "markdown",
   "metadata": {},
   "source": [
    "* parse the output of `GenerateDatasetsXml.sh` into an XML tree data structure\n",
    "* set the `datasetID` dataset attribute value\n",
    "* change the `recursive` dataset attribute value to `false`\n",
    "* re-set the `fileNameRegex` dataset attribute value because it looses its `\\` characters during parsing(?)\n",
    "* add a `cf_role` attribute element with value `timeseries_id` to the `time` variable\n",
    "* update the metadata elements with the contents of the `datasets` dict defined above\n",
    "* set the colour map limit variables for the variables that they make sense for,\n",
    "and delete from the variables for which they are nonsensical"
   ]
  },
  {
   "cell_type": "code",
   "execution_count": 30,
   "metadata": {},
   "outputs": [],
   "source": [
    "parser = etree.XMLParser(remove_blank_text=True)\n",
    "tree = etree.parse('/results/erddap/logs/GenerateDatasetsXml.out', parser)\n",
    "root = tree.getroot()\n",
    "\n",
    "datasetID = 'ubcONCSEVIPCTD15mV1'"
   ]
  },
  {
   "cell_type": "code",
   "execution_count": 31,
   "metadata": {},
   "outputs": [],
   "source": [
    "root.attrib['datasetID'] = datasetID\n",
    "root.find('.//recursive').text = 'false'\n",
    "root.find('.//fileNameRegex').text = datasets[datasetID]['fileNameRegex']"
   ]
  },
  {
   "cell_type": "code",
   "execution_count": 32,
   "metadata": {},
   "outputs": [
    {
     "data": {
      "text/plain": [
       "['time',\n",
       " 'salinity',\n",
       " 'temperature',\n",
       " 'temperature_std_dev',\n",
       " 'salinity_std_dev',\n",
       " 'salinity_sample_count',\n",
       " 'temperature_sample_count',\n",
       " 'latitude',\n",
       " 'longitude',\n",
       " 'depth']"
      ]
     },
     "execution_count": 32,
     "metadata": {},
     "output_type": "execute_result"
    }
   ],
   "source": [
    "vars = [e.text for e in tree.findall('//sourceName')]\n",
    "vars"
   ]
  },
  {
   "cell_type": "code",
   "execution_count": 33,
   "metadata": {
    "collapsed": true
   },
   "outputs": [],
   "source": [
    "e = etree.Element('att', name='cf_role')\n",
    "e.text = 'timeseries_id'\n",
    "tree.find('//dataVariable[{}]/addAttributes'.format(vars.index('time')+1)).append(e)"
   ]
  },
  {
   "cell_type": "code",
   "execution_count": 37,
   "metadata": {},
   "outputs": [],
   "source": [
    "for att, info in metadata.items():\n",
    "    e = etree.Element('att', name=att)\n",
    "    e.text = info['text']\n",
    "    try:\n",
    "        root.find('.//att[@name=\"{}\"]'.format(info['after'])).addnext(e)\n",
    "    except KeyError:\n",
    "        find_att(root, att).text = info['text']"
   ]
  },
  {
   "cell_type": "code",
   "execution_count": 38,
   "metadata": {
    "collapsed": true
   },
   "outputs": [],
   "source": [
    "title = datasets[datasetID]['title']\n",
    "find_att(root, 'title').text = title\n",
    "find_att(root, 'summary').text = '{0}\\n\\n{1}'.format(title, datasets[datasetID]['summary'])\n",
    "find_att(root, 'keywords').text = datasets[datasetID]['keywords']"
   ]
  },
  {
   "cell_type": "code",
   "execution_count": 39,
   "metadata": {
    "collapsed": true
   },
   "outputs": [],
   "source": [
    "# Salinity colour map limits\n",
    "e = tree.find(\n",
    "    '//dataVariable[{}]/addAttributes/att[@name=\"colorBarMinimum\"]'\n",
    "    .format(vars.index('salinity')+1))\n",
    "e.text = '0.0'\n",
    "e = tree.find(\n",
    "    '//dataVariable[{}]/addAttributes/att[@name=\"colorBarMaximum\"]'\n",
    "    .format(vars.index('salinity')+1))\n",
    "e.text = '34.0'\n",
    "\n",
    "# Temperature colour map limits\n",
    "e = tree.find(\n",
    "    '//dataVariable[{}]/addAttributes/att[@name=\"colorBarMinimum\"]'\n",
    "    .format(vars.index('temperature')+1))\n",
    "e.text = '4.0'\n",
    "e = tree.find(\n",
    "    '//dataVariable[{}]/addAttributes/att[@name=\"colorBarMaximum\"]'\n",
    "    .format(vars.index('temperature')+1))\n",
    "e.text = '20.0'\n",
    "\n",
    "# Depth colour map limits\n",
    "e = tree.find(\n",
    "    '//dataVariable[{}]/addAttributes/att[@name=\"colorBarMinimum\"]'\n",
    "    .format(vars.index('depth')+1))\n",
    "e.text = '0.0'\n",
    "e = tree.find(\n",
    "    '//dataVariable[{}]/addAttributes/att[@name=\"colorBarMaximum\"]'\n",
    "    .format(vars.index('depth')+1))\n",
    "e.text = '450.0'"
   ]
  },
  {
   "cell_type": "code",
   "execution_count": 40,
   "metadata": {},
   "outputs": [],
   "source": [
    "# Delete nonsensical colourBar* attributes\n",
    "no_cbar_vars = [\n",
    "    'temperature_sample_count', 'temperature_std_dev',\n",
    "    'salinity_sample_count', 'salinity_std_dev']\n",
    "for var in no_cbar_vars:\n",
    "    for att in ('colorBarMinimum', 'colorBarMaximum'):\n",
    "        e = tree.find(\n",
    "            '//dataVariable[{0}]/addAttributes/att[@name=\"{1}\"]'\n",
    "            .format(vars.index(var)+1, att))\n",
    "        e.getparent().remove(e)"
   ]
  },
  {
   "cell_type": "markdown",
   "metadata": {},
   "source": [
    "Inspect the resulting dataset XML fragment below and edit the dicts and\n",
    "code cell above until it is what is required for the dataset:"
   ]
  },
  {
   "cell_type": "code",
   "execution_count": 41,
   "metadata": {},
   "outputs": [
    {
     "name": "stdout",
     "output_type": "stream",
     "text": [
      "<dataset type=\"EDDTableFromNcFiles\" datasetID=\"ubcONCSEVIPCTD15mV1\" active=\"true\">\n",
      "  <reloadEveryNMinutes>10080</reloadEveryNMinutes>\n",
      "  <updateEveryNMillis>10000</updateEveryNMillis>\n",
      "  <fileDir>/results/observations/ONC/CTD/SEVIP/</fileDir>\n",
      "  <recursive>false</recursive>\n",
      "  <fileNameRegex>.*SEVIP_CTD_15m_\\d{8}\\.nc$</fileNameRegex>\n",
      "  <metadataFrom>last</metadataFrom>\n",
      "  <preExtractRegex/>\n",
      "  <postExtractRegex/>\n",
      "  <extractRegex/>\n",
      "  <columnNameForExtract/>\n",
      "  <sortedColumnSourceName>time</sortedColumnSourceName>\n",
      "  <sortFilesBySourceNames>time</sortFilesBySourceNames>\n",
      "  <fileTableInMemory>false</fileTableInMemory>\n",
      "  <accessibleViaFiles>false</accessibleViaFiles>\n",
      "  <!-- sourceAttributes>\n",
      "        <att name=\"_NCProperties\">version=1|netcdflibversion=4.4.1|hdf5libversion=1.8.17</att>\n",
      "        <att name=\"coordinates\">latitude longitude depth</att>\n",
      "        <att name=\"history\">\n",
      "2016-09-10 15:28:46 Download raw data from ONC scalardata API.\n",
      "2016-09-10 15:28:46 Filter to exclude data with qaqcFlag != 1.\n",
      "2016-09-10 15:28:46 Resample data to 15 minute intervals using mean, standard deviation and count as aggregation functions.\n",
      "2016-09-10 15:28:46 Store as netCDF4 file.\n",
      "        </att>\n",
      "        <att name=\"ONC_data_product_url\">http://dmas.uvic.ca/DataSearch?location=SEVIP&amp;deviceCategory=CTD</att>\n",
      "        <att name=\"ONC_station\">East</att>\n",
      "        <att name=\"ONC_stationCode\">SEVIP</att>\n",
      "        <att name=\"ONC_stationDescription\">Pacific, Salish Sea, Strait of Georgia, East, Strait of Georgia VENUS Instrument Platform</att>\n",
      "    </sourceAttributes -->\n",
      "  <!-- Please specify the actual cdm_data_type (TimeSeries?) and related info below, for example...\n",
      "        <att name=\"cdm_timeseries_variables\">station, longitude, latitude</att>\n",
      "        <att name=\"subsetVariables\">station, longitude, latitude</att>\n",
      "    -->\n",
      "  <addAttributes>\n",
      "    <att name=\"cdm_data_type\">TimeSeries</att>\n",
      "    <att name=\"cdm_timeseries_variables\">depth, longitude, latitude</att>\n",
      "    <att name=\"Conventions\">COARDS, CF-1.6, ACDD-1.3</att>\n",
      "    <att name=\"creator_name\">Salish Sea MEOPAR Project Contributors</att>\n",
      "    <att name=\"creator_email\">sallen@eos.ubc.ca</att>\n",
      "    <att name=\"creator_url\">https://salishsea-meopar-docs.readthedocs.org/</att>\n",
      "    <att name=\"acknowledgement\">MEOPAR, ONC, Compute Canada</att>\n",
      "    <att name=\"drawLandMask\">over</att>\n",
      "    <att name=\"infoUrl\">https://salishsea-meopar-tools.readthedocs.org/en/latest/results_server/</att>\n",
      "    <att name=\"institution\">UBC EOAS</att>\n",
      "    <att name=\"institution_fullname\">Earth, Ocean &amp; Atmospheric Sciences, University of British Columbia</att>\n",
      "    <att name=\"keywords\">15min aggregation, ONC East Node VENUS Instrument Platform, Ocean Networks Canada,\n",
      "depth, UBC EOAS, Strait of Georgia, latitude, longitude, ocean, SEVIP, observations, CTD,\n",
      "Oceans &amp;gt; Ocean Temperature &amp;gt; Water Temperature,\n",
      "reference salinity, salinity_sample_count, salinity_std_dev, sea_water_reference_salinity, \n",
      "sea_water_reference_salinity_sample_count, sea_water_reference_salinity_standard_deviation, \n",
      "sea_water_temperature, sea_water_temperature_sample_count, sea_water_temperature_standard_deviation, \n",
      "temperature, temperature_sample_count, temperature_std_dev, time</att>\n",
      "    <att name=\"keywords_vocabulary\">GCMD Science Keywords</att>\n",
      "    <att name=\"license\">The Salish Sea MEOPAR observation datasets are copyright 2013-2016\n",
      "by the Salish Sea MEOPAR Project Contributors, The University of British Columbia, and Ocean Networks Canada.\n",
      "\n",
      "They are licensed under the Apache License, Version 2.0. http://www.apache.org/licenses/LICENSE-2.0\n",
      "\n",
      "Raw instrument data on which this dataset is based were provided by Ocean Networks Canada.</att>\n",
      "    <att name=\"sourceUrl\">(local files)</att>\n",
      "    <att name=\"standard_name_vocabulary\">CF Standard Name Table v29</att>\n",
      "    <att name=\"summary\">ONC, Strait of Georgia, East Node, Salinity and Temperature, 15min, v1\n",
      "\n",
      "Temperature and salinity data from the Ocean Networks Canada (ONC)\n",
      "Strait of Georgia East Node VENUS Instrument Platform CTD.\n",
      "The data are resampled from the raw instrument data to 15 minute mean values.\n",
      "They are accompanied by standard deviations and sample counts for each of the 15 minute\n",
      "aggregation intervals.\n",
      "\n",
      "v1: reference salinity, reference salinity standard deviation, reference salinity sample counts, \n",
      "temperature, temperature standard deviation, temperature sample counts variables</att>\n",
      "    <att name=\"title\">ONC, Strait of Georgia, East Node, Salinity and Temperature, 15min, v1</att>\n",
      "    <att name=\"project\">Salish Sea MEOPAR NEMO Model</att>\n",
      "  </addAttributes>\n",
      "  <dataVariable>\n",
      "    <sourceName>time</sourceName>\n",
      "    <destinationName>time</destinationName>\n",
      "    <dataType>long</dataType>\n",
      "    <!-- sourceAttributes>\n",
      "            <att name=\"calendar\">proleptic_gregorian</att>\n",
      "            <att name=\"units\">minutes since 1970-01-01</att>\n",
      "        </sourceAttributes -->\n",
      "    <addAttributes>\n",
      "      <att name=\"long_name\">Time</att>\n",
      "      <att name=\"standard_name\">time</att>\n",
      "      <att name=\"cf_role\">timeseries_id</att>\n",
      "    </addAttributes>\n",
      "  </dataVariable>\n",
      "  <dataVariable>\n",
      "    <sourceName>salinity</sourceName>\n",
      "    <destinationName>salinity</destinationName>\n",
      "    <dataType>double</dataType>\n",
      "    <!-- sourceAttributes>\n",
      "            <att name=\"aggregation_interval\" type=\"long\">900</att>\n",
      "            <att name=\"aggregation_interval_units\">seconds</att>\n",
      "            <att name=\"aggregation_operation\">mean</att>\n",
      "            <att name=\"ioos_category\">Salinity</att>\n",
      "            <att name=\"long_name\">reference salinity</att>\n",
      "            <att name=\"standard_name\">sea_water_reference_salinity</att>\n",
      "            <att name=\"units\">g/kg</att>\n",
      "        </sourceAttributes -->\n",
      "    <addAttributes>\n",
      "      <att name=\"colorBarMaximum\" type=\"double\">34.0</att>\n",
      "      <att name=\"colorBarMinimum\" type=\"double\">0.0</att>\n",
      "    </addAttributes>\n",
      "  </dataVariable>\n",
      "  <dataVariable>\n",
      "    <sourceName>temperature</sourceName>\n",
      "    <destinationName>temperature</destinationName>\n",
      "    <dataType>double</dataType>\n",
      "    <!-- sourceAttributes>\n",
      "            <att name=\"aggregation_interval\" type=\"long\">900</att>\n",
      "            <att name=\"aggregation_interval_units\">seconds</att>\n",
      "            <att name=\"aggregation_operation\">mean</att>\n",
      "            <att name=\"ioos_category\">Temperature</att>\n",
      "            <att name=\"long_name\">temperature</att>\n",
      "            <att name=\"standard_name\">sea_water_temperature</att>\n",
      "            <att name=\"units\">degrees_Celcius</att>\n",
      "        </sourceAttributes -->\n",
      "    <addAttributes>\n",
      "      <att name=\"colorBarMaximum\" type=\"double\">20.0</att>\n",
      "      <att name=\"colorBarMinimum\" type=\"double\">4.0</att>\n",
      "    </addAttributes>\n",
      "  </dataVariable>\n",
      "  <dataVariable>\n",
      "    <sourceName>temperature_std_dev</sourceName>\n",
      "    <destinationName>temperature_std_dev</destinationName>\n",
      "    <dataType>double</dataType>\n",
      "    <!-- sourceAttributes>\n",
      "            <att name=\"aggregation_interval\" type=\"long\">900</att>\n",
      "            <att name=\"aggregation_interval_units\">seconds</att>\n",
      "            <att name=\"aggregation_operation\">standard deviation</att>\n",
      "            <att name=\"ioos_category\">Temperature</att>\n",
      "            <att name=\"long_name\">temperature standard deviation</att>\n",
      "            <att name=\"standard_name\">sea_water_temperature_standard_deviation</att>\n",
      "            <att name=\"units\">degrees_Celcius</att>\n",
      "        </sourceAttributes -->\n",
      "    <addAttributes/>\n",
      "  </dataVariable>\n",
      "  <dataVariable>\n",
      "    <sourceName>salinity_std_dev</sourceName>\n",
      "    <destinationName>salinity_std_dev</destinationName>\n",
      "    <dataType>double</dataType>\n",
      "    <!-- sourceAttributes>\n",
      "            <att name=\"aggregation_interval\" type=\"long\">900</att>\n",
      "            <att name=\"aggregation_interval_units\">seconds</att>\n",
      "            <att name=\"aggregation_operation\">standard deviation</att>\n",
      "            <att name=\"ioos_category\">Salinity</att>\n",
      "            <att name=\"long_name\">reference salinity standard deviation</att>\n",
      "            <att name=\"standard_name\">sea_water_reference_salinity_standard_deviation</att>\n",
      "            <att name=\"units\">g/kg</att>\n",
      "        </sourceAttributes -->\n",
      "    <addAttributes/>\n",
      "  </dataVariable>\n",
      "  <dataVariable>\n",
      "    <sourceName>salinity_sample_count</sourceName>\n",
      "    <destinationName>salinity_sample_count</destinationName>\n",
      "    <dataType>long</dataType>\n",
      "    <!-- sourceAttributes>\n",
      "            <att name=\"aggregation_interval\" type=\"long\">900</att>\n",
      "            <att name=\"aggregation_interval_units\">seconds</att>\n",
      "            <att name=\"aggregation_operation\">count</att>\n",
      "            <att name=\"long_name\">reference salinity sample count</att>\n",
      "            <att name=\"standard_name\">sea_water_reference_salinity_sample_count</att>\n",
      "        </sourceAttributes -->\n",
      "    <addAttributes/>\n",
      "  </dataVariable>\n",
      "  <dataVariable>\n",
      "    <sourceName>temperature_sample_count</sourceName>\n",
      "    <destinationName>temperature_sample_count</destinationName>\n",
      "    <dataType>long</dataType>\n",
      "    <!-- sourceAttributes>\n",
      "            <att name=\"aggregation_interval\" type=\"long\">900</att>\n",
      "            <att name=\"aggregation_interval_units\">seconds</att>\n",
      "            <att name=\"aggregation_operation\">count</att>\n",
      "            <att name=\"long_name\">temperature sample count</att>\n",
      "            <att name=\"standard_name\">sea_water_temperature_sample_count</att>\n",
      "        </sourceAttributes -->\n",
      "    <addAttributes/>\n",
      "  </dataVariable>\n",
      "  <dataVariable>\n",
      "    <sourceName>latitude</sourceName>\n",
      "    <destinationName>latitude</destinationName>\n",
      "    <dataType>double</dataType>\n",
      "    <!-- sourceAttributes>\n",
      "        </sourceAttributes -->\n",
      "    <addAttributes>\n",
      "      <att name=\"colorBarMaximum\" type=\"double\">90.0</att>\n",
      "      <att name=\"colorBarMinimum\" type=\"double\">-90.0</att>\n",
      "      <att name=\"long_name\">Latitude</att>\n",
      "      <att name=\"standard_name\">latitude</att>\n",
      "      <att name=\"units\">degrees_north</att>\n",
      "    </addAttributes>\n",
      "  </dataVariable>\n",
      "  <dataVariable>\n",
      "    <sourceName>longitude</sourceName>\n",
      "    <destinationName>longitude</destinationName>\n",
      "    <dataType>double</dataType>\n",
      "    <!-- sourceAttributes>\n",
      "        </sourceAttributes -->\n",
      "    <addAttributes>\n",
      "      <att name=\"colorBarMaximum\" type=\"double\">180.0</att>\n",
      "      <att name=\"colorBarMinimum\" type=\"double\">-180.0</att>\n",
      "      <att name=\"long_name\">Longitude</att>\n",
      "      <att name=\"standard_name\">longitude</att>\n",
      "      <att name=\"units\">degrees_east</att>\n",
      "    </addAttributes>\n",
      "  </dataVariable>\n",
      "  <dataVariable>\n",
      "    <sourceName>depth</sourceName>\n",
      "    <destinationName>depth</destinationName>\n",
      "    <dataType>long</dataType>\n",
      "    <!-- sourceAttributes>\n",
      "        </sourceAttributes -->\n",
      "    <addAttributes>\n",
      "      <att name=\"colorBarMaximum\" type=\"double\">450.0</att>\n",
      "      <att name=\"colorBarMinimum\" type=\"double\">0.0</att>\n",
      "      <att name=\"colorBarPalette\">OceanDepth</att>\n",
      "      <att name=\"long_name\">Depth</att>\n",
      "      <att name=\"standard_name\">depth</att>\n",
      "      <att name=\"units\">m</att>\n",
      "    </addAttributes>\n",
      "  </dataVariable>\n",
      "</dataset>\n",
      "\n"
     ]
    }
   ],
   "source": [
    "print_tree(root)"
   ]
  },
  {
   "cell_type": "markdown",
   "metadata": {
    "collapsed": true
   },
   "source": [
    "Store the XML fragment for the dataset:"
   ]
  },
  {
   "cell_type": "code",
   "execution_count": 42,
   "metadata": {
    "collapsed": true
   },
   "outputs": [],
   "source": [
    "with open('/results/erddap_datasets_xml/{}.xml'.format(datasetID), 'wb') as f:\n",
    "    f.write(etree.tostring(root, pretty_print=True))"
   ]
  },
  {
   "cell_type": "markdown",
   "metadata": {
    "collapsed": true
   },
   "source": [
    "Edit `/opt/tomcat/content/erddap/datasets.xml` to include the XML fragment for the dataset that was stored by the abave cell.\n",
    "\n",
    "Create a flag file to signal the ERDDAP server process to load the dataset:\n",
    "```bash\n",
    "$ cd /results/erddap/flag/\n",
    "$ touch <datasetID>\n",
    "```\n",
    "\n",
    "Confirm that the dataset and its metadata were correctly added to ERDDAP by inspecting\n",
    "https://salishsea.eos.ubc.ca/erddap/tabledap/.\n",
    "If there is a problem,\n",
    "error messages can be found in `/results/erddap/logs/log.txt`."
   ]
  }
 ],
 "metadata": {
  "anaconda-cloud": {},
  "kernelspec": {
   "display_name": "Python 3",
   "language": "python",
   "name": "python3"
  },
  "language_info": {
   "codemirror_mode": {
    "name": "ipython",
    "version": 3
   },
   "file_extension": ".py",
   "mimetype": "text/x-python",
   "name": "python",
   "nbconvert_exporter": "python",
   "pygments_lexer": "ipython3",
   "version": "3.6.1"
  },
  "toc": {
   "colors": {
    "hover_highlight": "#DAA520",
    "navigate_num": "#000000",
    "navigate_text": "#333333",
    "running_highlight": "#FF0000",
    "selected_highlight": "#FFD700",
    "sidebar_border": "#EEEEEE",
    "wrapper_background": "#FFFFFF"
   },
   "moveMenuLeft": true,
   "nav_menu": {
    "height": "155px",
    "width": "252px"
   },
   "navigate_menu": true,
   "number_sections": false,
   "sideBar": true,
   "threshold": 4,
   "toc_cell": false,
   "toc_section_display": "block",
   "toc_window_display": false,
   "widenNotebook": false
  }
 },
 "nbformat": 4,
 "nbformat_minor": 1
}

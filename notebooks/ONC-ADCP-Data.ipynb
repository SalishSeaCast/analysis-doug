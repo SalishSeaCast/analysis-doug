{
 "cells": [
  {
   "cell_type": "markdown",
   "metadata": {},
   "source": [
    "# Exploring Getting ONC ADCP Data\n",
    "\n",
    "Translating the essence of `getSogAdcpData.m` from Matlab to Python\n",
    "and from (somewhat) general purpose to pre-automation specific."
   ]
  },
  {
   "cell_type": "code",
   "execution_count": 1,
   "metadata": {
    "collapsed": true
   },
   "outputs": [],
   "source": [
    "import ftplib\n",
    "import json\n",
    "import os\n",
    "from pprint import pprint\n",
    "\n",
    "import arrow\n",
    "import requests\n",
    "from retrying import retry"
   ]
  },
  {
   "cell_type": "markdown",
   "metadata": {},
   "source": [
    "## Web Service Requests\n",
    "\n",
    "The base web service URL that provides access to ADCP data is:\n",
    "\n",
    "`http://dmas.uvic.ca/VSearchByInstrumentServiceAjax`"
   ]
  },
  {
   "cell_type": "code",
   "execution_count": 2,
   "metadata": {
    "collapsed": true
   },
   "outputs": [],
   "source": [
    "service_url = 'http://dmas.uvic.ca/VSearchByInstrumentServiceAjax'"
   ]
  },
  {
   "cell_type": "markdown",
   "metadata": {},
   "source": [
    "Two pieces of credential information associated with your `dmas.uvic.ca` account\n",
    "are required to use that service URL:\n",
    "    \n",
    "1. The email address associated with your  account.\n",
    "It is used as your `userid`.\n",
    "2. The user number associated with your account.\n",
    "It is used in the directory path on the ONC FTP server where the requested ADCP data file is stored for downloading.\n",
    "\n",
    "To avoid publishing my credentials I'll read them from an environment variable\n",
    "where I have stored them as a `:` delimited string.\n",
    "If you want to run this notebook you'll need to do the same,\n",
    "either by exporting the `ONC_FTP_CREDENTIALS` environment variable before you start\n",
    "Jupyter Notebook,\n",
    "or by storing your credentials in `os.environ['ONC_FTP_CREDENTIALS']` \n",
    "before executing the cell below."
   ]
  },
  {
   "cell_type": "code",
   "execution_count": 4,
   "metadata": {
    "collapsed": false
   },
   "outputs": [],
   "source": [
    "userid, userno = os.environ['ONC_FTP_CREDENTIALS'].split(':')"
   ]
  },
  {
   "cell_type": "markdown",
   "metadata": {},
   "source": [
    "The service returns day-log datasets.\n",
    "We're going to use it to get ADCP data one day at a time,\n",
    "so let's set a data date:"
   ]
  },
  {
   "cell_type": "code",
   "execution_count": 6,
   "metadata": {
    "collapsed": true
   },
   "outputs": [],
   "source": [
    "data_date = arrow.get('2016-07-17')"
   ]
  },
  {
   "cell_type": "markdown",
   "metadata": {},
   "source": [
    "Many of the other query parameters for ADCP data\n",
    "from the Strait of Georgia nodes are constants:"
   ]
  },
  {
   "cell_type": "code",
   "execution_count": 7,
   "metadata": {
    "collapsed": true
   },
   "outputs": [],
   "source": [
    "OPERATION = 0\n",
    "MAT_FILE = 3\n",
    "REGION_ID = 2\n",
    "META = 23"
   ]
  },
  {
   "cell_type": "code",
   "execution_count": 8,
   "metadata": {
    "collapsed": false
   },
   "outputs": [],
   "source": [
    "data_params = {\n",
    "    'operation': OPERATION,\n",
    "    'userid': userid,\n",
    "    'dataformatid': MAT_FILE,\n",
    "    'timefrom': data_date.format('DD-MMM-YYYY HH:mm:ss'),\n",
    "    'timeto': data_date.replace(days=+1).format('DD-MMM-YYYY HH:mm:ss'),\n",
    "    'deviceid': 37,\n",
    "    'sensorid': 92,\n",
    "    'regionid': REGION_ID,\n",
    "    'locationid': 3,\n",
    "    'siteid': 1000670,\n",
    "    'meta': META,\n",
    "    'params': '{\"qc\":\"1\",\"avg\":\"0\",\"rotVar\":\"0\"}',\n",
    "}"
   ]
  },
  {
   "cell_type": "markdown",
   "metadata": {},
   "source": [
    "The value for `locationid` specifies the node for which data is being requested\n",
    "(i.e. SoG East VENUS Instrument Platform is `locationid: 3`).\n",
    "\n",
    "The values for `deviceid` and `sensorid` are determined by the type and serial number\n",
    "of the ADCP device installed at the node during the deployment that includes the\n",
    "data date being requested.\n",
    "\n",
    "The value for `siteid` specifies the deployment that includes the\n",
    "data date being requested."
   ]
  },
  {
   "cell_type": "markdown",
   "metadata": {},
   "source": [
    "Sending a GET request to the service URL with the data parameters\n",
    "as its query string launches a search for the data on the ONC server.\n",
    "\n",
    "The response to the request is the `searchHdrId` which identifies the search\n",
    "on the server and is also used in the directory path on the ONC FTP server\n",
    "where the requested ADCP data file is stored for downloading.\n",
    "\n",
    "The response is a JSON snippet that is surrounded by parenthesis\n",
    "and with a trailing newline character.\n",
    "After confirming that the request did not raise an HTTP error,\n",
    "we strip those extra characters and parse the JSON response\n",
    "to get a `dict` containing the `searchHdrId` value."
   ]
  },
  {
   "cell_type": "code",
   "execution_count": 9,
   "metadata": {
    "collapsed": false
   },
   "outputs": [
    {
     "name": "stdout",
     "output_type": "stream",
     "text": [
      "{'searchHdrId': 1724432}\n"
     ]
    }
   ],
   "source": [
    "r = requests.get(service_url, data_params)\n",
    "r.raise_for_status()\n",
    "data_response = json.loads(r.text.lstrip('(').rstrip().rstrip(')'))\n",
    "print(data_response)"
   ]
  },
  {
   "cell_type": "markdown",
   "metadata": {},
   "source": [
    "The search status can be qureied by sending another request\n",
    "to the service URL with the parameters below.\n",
    "Doing so is useful for the detection of errors in the initial query\n",
    "which prevent the search from running.\n",
    "However, once the search is running the information returned is of limited value."
   ]
  },
  {
   "cell_type": "code",
   "execution_count": 10,
   "metadata": {
    "collapsed": false
   },
   "outputs": [],
   "source": [
    "search_params = {\n",
    "    'operation': 1,\n",
    "    'userid': userid,\n",
    "    'searchHdrId': data_response['searchHdrId'],\n",
    "}"
   ]
  },
  {
   "cell_type": "code",
   "execution_count": 11,
   "metadata": {
    "collapsed": false
   },
   "outputs": [
    {
     "name": "stdout",
     "output_type": "stream",
     "text": [
      "{'searchResult': [{'comment': '{\"searchType\":\"Long-Search\",\"error\":\"\",\"comment\":\"SearchResult '\n",
      "                              'initiated in branch function\"}',\n",
      "                   'fileCount': 0,\n",
      "                   'fileSize': 0,\n",
      "                   'filename': '',\n",
      "                   'metaDataFilename': '',\n",
      "                   'processingTime': -1,\n",
      "                   'searchId': 3386036,\n",
      "                   'status': 1},\n",
      "                  {'comment': '{\"searchType\":\"Long-Search\",\"error\":\"\",\"comment\":\"SearchResult '\n",
      "                              'initiated in branch function\"}',\n",
      "                   'fileCount': 0,\n",
      "                   'fileSize': 0,\n",
      "                   'filename': '',\n",
      "                   'metaDataFilename': '',\n",
      "                   'processingTime': -1,\n",
      "                   'searchId': 3386037,\n",
      "                   'status': 1}]}\n"
     ]
    }
   ],
   "source": [
    "r = requests.get(service_url, search_params)\n",
    "r.raise_for_status()\n",
    "search_response = json.loads(r.text.lstrip('(').rstrip().rstrip(')'))\n",
    "pprint(search_response)"
   ]
  },
  {
   "cell_type": "markdown",
   "metadata": {},
   "source": [
    "## Polling the ONC FTP Server for Data Search Results\n",
    "\n",
    "When the data search completes the ADCP data\n",
    "formatted as a `.mat` file will be stored on the ONC FTP server\n",
    "`ftp.neptunecanada.ca` in a directory constructed from your ONC user number,\n",
    "the `searchHdrId` value,\n",
    "and the year and month of the data date requested:"
   ]
  },
  {
   "cell_type": "code",
   "execution_count": 12,
   "metadata": {
    "collapsed": true
   },
   "outputs": [],
   "source": [
    "ftp_server = 'ftp.neptunecanada.ca'\n",
    "path_tmpl = 'pub/user{userno}/searchHeader{searchHdrId}/{data_date.year}/{data_date.month:02d}'"
   ]
  },
  {
   "cell_type": "markdown",
   "metadata": {},
   "source": [
    "We're going to use the [retrying](https://pypi.python.org/pypi/retrying) package\n",
    "to poll the FTP server to determine when the `.mat` file is ready.\n",
    "We will also use it to deal with potential errors when we subsequently\n",
    "ask the FTP server for the `.mat` file name,\n",
    "and finally download the `.mat` file.\n",
    "\n",
    "For the initial polling we need a function that iterates over the generator returned by the\n",
    "[FTP.mlsd()](https://docs.python.org/3.3/library/ftplib.html#ftplib.FTP.mlsd)\n",
    "function and returns `True` (i.e. retry) when the `.mat` file is not found,\n",
    "and `False` (i.e. stop retrying) when the `.mat` file is present:"
   ]
  },
  {
   "cell_type": "code",
   "execution_count": 13,
   "metadata": {
    "collapsed": true
   },
   "outputs": [],
   "source": [
    "def retry_if_not_matfile(mlsd):\n",
    "    for filename, facts in mlsd:\n",
    "        if not filename.startswith('.'):\n",
    "            print(filename, facts)\n",
    "            return os.path.splitext(filename)[1] != '.mat'\n",
    "    return True"
   ]
  },
  {
   "cell_type": "markdown",
   "metadata": {},
   "source": [
    "We also want to retry in the event of errors from the FTP server:"
   ]
  },
  {
   "cell_type": "code",
   "execution_count": 14,
   "metadata": {
    "collapsed": true
   },
   "outputs": [],
   "source": [
    "def retry_if_ftp_error(exception):\n",
    "    print(exception)\n",
    "    return any((\n",
    "        isinstance(exception, ftplib.error_reply),\n",
    "        isinstance(exception, ftplib.error_temp),\n",
    "        isinstance(exception, ftplib.error_perm),\n",
    "        isinstance(exception, ftplib.error_proto),\n",
    "    ))"
   ]
  },
  {
   "cell_type": "markdown",
   "metadata": {},
   "source": [
    "Tests have shown that searches typically take 5 to 10 minutes to complete,\n",
    "but in some cases they take nearly 2 hours.\n",
    "So, we'll set our retry interval to 1 minute,\n",
    "and keep retrying for up to 120 minutes.\n",
    "\n",
    "We decorate the function that polls the FTP server path\n",
    "to both retry if there is an FTP error,\n",
    "and retry if the `.mat` file is not present:"
   ]
  },
  {
   "cell_type": "code",
   "execution_count": 15,
   "metadata": {
    "collapsed": true
   },
   "outputs": [],
   "source": [
    "@retry(\n",
    "    retry_on_exception=retry_if_ftp_error,\n",
    "    wrap_exception=True, \n",
    "    wait_fixed=60*1000,\n",
    "    stop_max_delay=120*60*1000,\n",
    ")\n",
    "@retry(\n",
    "    retry_on_result=retry_if_not_matfile, \n",
    "    wait_fixed=60*1000,\n",
    "    stop_max_delay=120*60*1000,\n",
    ")\n",
    "def poll_ftp_path(ftp, path):\n",
    "    return ftp.mlsd(path)"
   ]
  },
  {
   "cell_type": "markdown",
   "metadata": {},
   "source": [
    "Getting the `.mat` file name should only be subject to possible FTP errors,\n",
    "so we'll decorate a function that does that to retry every 5 seconds for up to a minute\n",
    "if it encounters and FTP error\""
   ]
  },
  {
   "cell_type": "code",
   "execution_count": 16,
   "metadata": {
    "collapsed": true
   },
   "outputs": [],
   "source": [
    "@retry(\n",
    "    retry_on_exception=retry_if_ftp_error,\n",
    "    wrap_exception=True,\n",
    "    wait_exponential_multiplier=5*1000,\n",
    "    wait_exponential_max=60*1000,\n",
    ")\n",
    "def get_matfile_name(ftp, path):\n",
    "    for filename, facts in ftp.mlsd(path):\n",
    "        if os.path.splitext(filename)[1] == '.mat':\n",
    "            return filename"
   ]
  },
  {
   "cell_type": "markdown",
   "metadata": {},
   "source": [
    "And we'll use the same decoration for the function that downloads\n",
    "the `.mat` file:"
   ]
  },
  {
   "cell_type": "code",
   "execution_count": 17,
   "metadata": {
    "collapsed": false
   },
   "outputs": [],
   "source": [
    "@retry(\n",
    "    retry_on_exception=retry_if_ftp_error,\n",
    "    wrap_exception=True,\n",
    "    wait_exponential_multiplier=5*1000,\n",
    "    wait_exponential_max=60*1000,\n",
    ")\n",
    "def get_matfile(filename):\n",
    "    ftp.retrbinary('RETR {}'.format(filename), open(filename, 'wb').write)"
   ]
  },
  {
   "cell_type": "markdown",
   "metadata": {},
   "source": [
    "Putting it all together:"
   ]
  },
  {
   "cell_type": "code",
   "execution_count": 20,
   "metadata": {
    "collapsed": false
   },
   "outputs": [
    {
     "name": "stdout",
     "output_type": "stream",
     "text": [
      "RDIADCP150WH8497_20160717T000000.595Z-1A5010.rdi {'unix.owner': '80', 'type': 'file', 'unique': '16U8988D330F4C287FA', 'modify': '20160718215700', 'perm': 'adfr', 'size': '25077204', 'unix.group': '80', 'unix.mode': '0644'}\n",
      "RDIADCP150WH8497_20160717T000000.595Z-1A5010.rdi {'unix.owner': '80', 'type': 'file', 'unique': '16U8988D330F4C287FA', 'modify': '20160718215801', 'perm': 'adfr', 'size': '62374122', 'unix.group': '80', 'unix.mode': '0644'}\n",
      "RDIADCP150WH8497_20160717T000000.595Z-1A5010.rdi {'unix.owner': '80', 'type': 'file', 'unique': '16U8988D330F4C287FA', 'modify': '20160718215829', 'perm': 'adfr', 'size': '80094654', 'unix.group': '80', 'unix.mode': '0644'}\n",
      "RDIADCP150WH8497_20160717T000000.595Z-1A5010.mat {'unix.owner': '80', 'type': 'file', 'unique': '16U886CD77AF2B740F3', 'modify': '20160718220401', 'perm': 'adfr', 'size': '6174229', 'unix.group': '80', 'unix.mode': '0644'}\n",
      "RDIADCP150WH8497_20160717T000000.595Z-1A5010.mat\n"
     ]
    }
   ],
   "source": [
    "path = path_tmpl.format(\n",
    "    data_date=data_date, userno=userno, searchHdrId=data_response['searchHdrId'])\n",
    "\n",
    "with ftplib.FTP('ftp.neptunecanada.ca') as ftp:\n",
    "    ftp.login()\n",
    "    poll_ftp_path(ftp, path)\n",
    "    filename = get_matfile_name(ftp, path)\n",
    "    print(filename)\n",
    "    ftp.cwd(path)\n",
    "    get_matfile(filename)"
   ]
  },
  {
   "cell_type": "code",
   "execution_count": 21,
   "metadata": {
    "collapsed": false
   },
   "outputs": [
    {
     "name": "stdout",
     "output_type": "stream",
     "text": [
      "-rw-rw-r-- 1 doug doug 6174229 Jul 18 15:04 RDIADCP150WH8497_20160717T000000.595Z-1A5010.mat\r\n"
     ]
    }
   ],
   "source": [
    "ls -l *.mat"
   ]
  },
  {
   "cell_type": "code",
   "execution_count": null,
   "metadata": {
    "collapsed": true
   },
   "outputs": [],
   "source": []
  }
 ],
 "metadata": {
  "kernelspec": {
   "display_name": "Python 3",
   "language": "python",
   "name": "python3"
  },
  "language_info": {
   "codemirror_mode": {
    "name": "ipython",
    "version": 3
   },
   "file_extension": ".py",
   "mimetype": "text/x-python",
   "name": "python",
   "nbconvert_exporter": "python",
   "pygments_lexer": "ipython3",
   "version": "3.5.2"
  }
 },
 "nbformat": 4,
 "nbformat_minor": 0
}

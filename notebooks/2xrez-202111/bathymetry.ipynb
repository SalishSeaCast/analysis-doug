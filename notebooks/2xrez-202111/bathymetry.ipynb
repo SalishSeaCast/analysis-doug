{
 "cells": [
  {
   "metadata": {},
   "cell_type": "markdown",
   "source": [
    "# Bathymetry\n",
    "\n",
    "* Follow the process in Michael's\n",
    "  https://github.com/SalishSeaCast/analysis-michael/blob/master/bathymetry/bathymetry-201702.ipynb\n",
    "  notebook to create the base bathymetry for the 202405 coordinates and double resolution coordinates"
   ],
   "id": "a99ad063cceca55b"
  },
  {
   "metadata": {
    "ExecuteTime": {
     "end_time": "2024-07-06T00:02:56.692135Z",
     "start_time": "2024-07-06T00:02:56.458921Z"
    }
   },
   "cell_type": "code",
   "source": [
    "import os\n",
    "from pathlib import Path\n",
    "import sys\n",
    "\n",
    "import arrow\n",
    "import numpy\n",
    "import matplotlib.pyplot as plt\n",
    "import xarray"
   ],
   "id": "c5048e38cb25e6a2",
   "outputs": [],
   "execution_count": 2
  },
  {
   "metadata": {},
   "cell_type": "markdown",
   "source": "Python and library versions:",
   "id": "81831cce5abb6fa7"
  },
  {
   "metadata": {
    "ExecuteTime": {
     "end_time": "2024-07-06T00:02:56.695898Z",
     "start_time": "2024-07-06T00:02:56.693135Z"
    }
   },
   "cell_type": "code",
   "source": [
    "import bottleneck\n",
    "import h5netcdf\n",
    "import h5py\n",
    "import matplotlib\n",
    "import netCDF4\n",
    "import pandas\n",
    "import scipy\n",
    "\n",
    "print(f\"Python {sys.version=}\")\n",
    "print(f\"{numpy.__version__=}\")\n",
    "print(f\"{xarray.__version__=}\")\n",
    "print(f\"{bottleneck.__version__=}\")\n",
    "print(f\"{pandas.__version__=}\")\n",
    "print(f\"{h5netcdf.__version__=}\")\n",
    "print(f\"{h5py.__version__=}\")\n",
    "print(f\"{netCDF4.__version__=}\")\n",
    "print(f\"{scipy.__version__=}\")\n",
    "print(f\"{matplotlib.__version__=}\")"
   ],
   "id": "b13f846cdef35d6a",
   "outputs": [
    {
     "name": "stdout",
     "output_type": "stream",
     "text": [
      "Python sys.version='3.12.3 | packaged by conda-forge | (main, Apr 15 2024, 18:38:13) [GCC 12.3.0]'\n",
      "numpy.__version__='1.26.4'\n",
      "xarray.__version__='2024.6.0'\n",
      "bottleneck.__version__='1.4.0'\n",
      "pandas.__version__='2.2.2'\n",
      "h5netcdf.__version__='1.3.0'\n",
      "h5py.__version__='3.11.0'\n",
      "netCDF4.__version__='1.6.5'\n",
      "scipy.__version__='1.14.0'\n",
      "matplotlib.__version__='3.8.4'\n"
     ]
    }
   ],
   "execution_count": 3
  },
  {
   "metadata": {},
   "cell_type": "markdown",
   "source": [
    "We need functions from several modules in `analysis-michael/bathymetry/` but they are not packaged.\n",
    "So,\n",
    "add their paths in an adjacent clone into `sys.path`.\n",
    "\n",
    "**This is a expedient hack.\n",
    "Please don't copy it unless you really know why you are doing it.**"
   ],
   "id": "2477138cef2737ab"
  },
  {
   "metadata": {
    "ExecuteTime": {
     "end_time": "2024-07-06T00:02:56.716061Z",
     "start_time": "2024-07-06T00:02:56.696365Z"
    }
   },
   "cell_type": "code",
   "source": [
    "# isolate the probable user-specific part of repo paths to make the notebook portable\n",
    "repos_prefix = Path(\"/media/doug/warehouse/MEOPAR/\")"
   ],
   "id": "154c1f3ccae73814",
   "outputs": [],
   "execution_count": 4
  },
  {
   "metadata": {
    "ExecuteTime": {
     "end_time": "2024-07-06T00:02:56.729581Z",
     "start_time": "2024-07-06T00:02:56.717273Z"
    }
   },
   "cell_type": "code",
   "source": [
    "sys.path.insert(3, os.fspath(repos_prefix / Path(\"analysis-michael\", \"bathymetry\")))\n",
    "\n",
    "sys.path"
   ],
   "id": "8608e6e002c667a5",
   "outputs": [
    {
     "data": {
      "text/plain": [
       "['/home/doug/.local/share/JetBrains/Toolbox/apps/pycharm-professional/plugins/python/helpers-pro/jupyter_debug',\n",
       " '/home/doug/.local/share/JetBrains/Toolbox/apps/pycharm-professional/plugins/python/helpers/pydev',\n",
       " '/media/doug/warehouse/MEOPAR/analysis-doug',\n",
       " '/media/doug/warehouse/MEOPAR/analysis-michael/bathymetry',\n",
       " '/home/doug/conda_envs/2xrez-202111/lib/python312.zip',\n",
       " '/home/doug/conda_envs/2xrez-202111/lib/python3.12',\n",
       " '/home/doug/conda_envs/2xrez-202111/lib/python3.12/lib-dynload',\n",
       " '',\n",
       " '/home/doug/conda_envs/2xrez-202111/lib/python3.12/site-packages']"
      ]
     },
     "execution_count": 5,
     "metadata": {},
     "output_type": "execute_result"
    }
   ],
   "execution_count": 5
  },
  {
   "metadata": {
    "ExecuteTime": {
     "end_time": "2024-07-06T00:02:56.761755Z",
     "start_time": "2024-07-06T00:02:56.730358Z"
    }
   },
   "cell_type": "code",
   "source": "from bathy_readers import getnemo",
   "id": "884b5d2c48cfbad8",
   "outputs": [],
   "execution_count": 6
  },
  {
   "metadata": {},
   "cell_type": "code",
   "outputs": [],
   "execution_count": null,
   "source": "",
   "id": "6aced78e68b9f080"
  }
 ],
 "metadata": {
  "kernelspec": {
   "display_name": "Python 3",
   "language": "python",
   "name": "python3"
  },
  "language_info": {
   "codemirror_mode": {
    "name": "ipython",
    "version": 2
   },
   "file_extension": ".py",
   "mimetype": "text/x-python",
   "name": "python",
   "nbconvert_exporter": "python",
   "pygments_lexer": "ipython2",
   "version": "2.7.6"
  }
 },
 "nbformat": 4,
 "nbformat_minor": 5
}

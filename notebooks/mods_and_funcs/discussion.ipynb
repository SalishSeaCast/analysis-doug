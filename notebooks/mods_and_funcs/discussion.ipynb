{
 "cells": [
  {
   "cell_type": "markdown",
   "metadata": {},
   "source": [
    "# Discussion of Python Modules and Functions\n",
    "\n",
    "10-Jan-22 with Raisha and Karyn\n"
   ]
  },
  {
   "attachments": {},
   "cell_type": "markdown",
   "metadata": {},
   "source": [
    "## Topics and Notes\n",
    "\n",
    "* Functions from Notebooks to Modules\n",
    "  * A Python module is a collection of functions that become a namespace\n",
    "    when the module is imported\n",
    "\n",
    "  * Naming convention: lowercase, snake-case\n",
    "\n",
    "  * Importing\n",
    "    * `import module`\n",
    "      * `module.function()`\n",
    "    * `from module import function`\n",
    "      * `function()`\n",
    "    * `import module as mod`\n",
    "      * `mod.function()`\n",
    "    * `from module import *` **not recommended**\n",
    "    * imports only happen once\n",
    "      * restart your kernel and execute the import again if you change the module\n",
    "      * corollary: develop functions in a notebook, then paste them into a module\n",
    "    * Importing a module executes the code in the module\n",
    "    \n",
    "  * Namespace collisions with Python standard library\n",
    "\n",
    "  * Limits on importing modules\n",
    "    * same directory\n",
    "    * symlinks for nearby modules\n",
    "    * `sys.path` munging **not recommended**\n",
    "    * packaging is the real solution\n",
    "      * A Python package is a collection of modules with some metadata\n",
    "        (and ideally docs) that can be installed in an environment so that\n",
    "        the modules can be imported anywhere\n",
    "\n",
    "* Functions\n",
    "  * Naming convention: lowercase, snake_case\n",
    "\n",
    "  * Module namespace helps avoid collisions with functions from other modules,\n",
    "    packages, or Python standard library\n",
    "\n",
    "  * Positional arguments\n",
    "    * anonymous positional arguments: `*args`\n",
    "\n",
    "  * Keyword arguments and default values\n",
    "    * always after positional arguments\n",
    "    * argument name is always required: `func(name=\"foo\")\n",
    "    * anonymous keyword arguments: `**kwargs`\n",
    "\n",
    "  * Return values\n",
    "    * without `return` functions return `None`\n",
    "    * single value return\n",
    "    * tuple return: `return foo, bar`\n",
    "      * automatic tuple unpacking: `x, y = func()`\n",
    "    * `SimpleNamespace` return\n",
    "      * useful when you have to return lots (>3 ?) of values\n",
    "      * dotted notation to access namespace members: `values.x`\n",
    "\n",
    "  * Docstrings\n",
    "    * Triple-quoted comments at the top of functions that describe the function,\n",
    "      its argument(s), and return value(s)\n",
    "    * Editors and documentation tools can present docstring information in useful ways;\n",
    "      e.g. hover-text in VS Code, auto-generated API docs by Sphinx\n"
   ]
  },
  {
   "cell_type": "code",
   "execution_count": 1,
   "metadata": {},
   "outputs": [],
   "source": [
    "# def add_one(x):\n",
    "#     return x + 1"
   ]
  },
  {
   "cell_type": "code",
   "execution_count": 2,
   "metadata": {},
   "outputs": [
    {
     "data": {
      "text/plain": [
       "8"
      ]
     },
     "execution_count": 2,
     "metadata": {},
     "output_type": "execute_result"
    }
   ],
   "source": [
    "add_one(7)"
   ]
  },
  {
   "cell_type": "code",
   "execution_count": 1,
   "metadata": {},
   "outputs": [],
   "source": [
    "import demo_funcs"
   ]
  },
  {
   "cell_type": "code",
   "execution_count": 2,
   "metadata": {},
   "outputs": [
    {
     "data": {
      "text/plain": [
       "8"
      ]
     },
     "execution_count": 2,
     "metadata": {},
     "output_type": "execute_result"
    }
   ],
   "source": [
    "demo_funcs.add_one(7)"
   ]
  },
  {
   "cell_type": "code",
   "execution_count": 3,
   "metadata": {},
   "outputs": [],
   "source": [
    "from demo_funcs import add_one"
   ]
  },
  {
   "cell_type": "code",
   "execution_count": 3,
   "metadata": {},
   "outputs": [
    {
     "data": {
      "text/plain": [
       "17"
      ]
     },
     "execution_count": 3,
     "metadata": {},
     "output_type": "execute_result"
    }
   ],
   "source": [
    "demo_funcs.FOO"
   ]
  },
  {
   "cell_type": "code",
   "execution_count": 2,
   "metadata": {},
   "outputs": [
    {
     "data": {
      "text/plain": [
       "19"
      ]
     },
     "execution_count": 2,
     "metadata": {},
     "output_type": "execute_result"
    }
   ],
   "source": [
    "demo_funcs.add_foo(2)"
   ]
  },
  {
   "cell_type": "code",
   "execution_count": 2,
   "metadata": {},
   "outputs": [
    {
     "data": {
      "text/plain": [
       "0.5"
      ]
     },
     "execution_count": 2,
     "metadata": {},
     "output_type": "execute_result"
    }
   ],
   "source": [
    "demo_funcs.divide_things(1, 2)"
   ]
  },
  {
   "cell_type": "code",
   "execution_count": 3,
   "metadata": {},
   "outputs": [
    {
     "data": {
      "text/plain": [
       "0.0"
      ]
     },
     "execution_count": 3,
     "metadata": {},
     "output_type": "execute_result"
    }
   ],
   "source": [
    "demo_funcs.divide_things(0, 2)"
   ]
  },
  {
   "cell_type": "code",
   "execution_count": 4,
   "metadata": {},
   "outputs": [
    {
     "ename": "ZeroDivisionError",
     "evalue": "division by zero",
     "output_type": "error",
     "traceback": [
      "\u001b[0;31m---------------------------------------------------------------------------\u001b[0m",
      "\u001b[0;31mZeroDivisionError\u001b[0m                         Traceback (most recent call last)",
      "Cell \u001b[0;32mIn[4], line 1\u001b[0m\n\u001b[0;32m----> 1\u001b[0m demo_funcs\u001b[39m.\u001b[39;49mdivide_things(\u001b[39m2\u001b[39;49m, \u001b[39m0\u001b[39;49m)\n",
      "File \u001b[0;32m/media/doug/warehouse/MEOPAR/analysis-doug/notebooks/mods_and_funcs/demo_funcs.py:12\u001b[0m, in \u001b[0;36mdivide_things\u001b[0;34m(x, y)\u001b[0m\n\u001b[1;32m     11\u001b[0m \u001b[39mdef\u001b[39;00m \u001b[39mdivide_things\u001b[39m(x, y):\n\u001b[0;32m---> 12\u001b[0m     \u001b[39mreturn\u001b[39;00m x \u001b[39m/\u001b[39;49m y\n",
      "\u001b[0;31mZeroDivisionError\u001b[0m: division by zero"
     ]
    }
   ],
   "source": [
    "demo_funcs.divide_things(2, 0)"
   ]
  },
  {
   "cell_type": "code",
   "execution_count": 2,
   "metadata": {},
   "outputs": [
    {
     "data": {
      "text/plain": [
       "8"
      ]
     },
     "execution_count": 2,
     "metadata": {},
     "output_type": "execute_result"
    }
   ],
   "source": [
    "demo_funcs.add_things(7)"
   ]
  },
  {
   "cell_type": "code",
   "execution_count": 3,
   "metadata": {},
   "outputs": [
    {
     "data": {
      "text/plain": [
       "9"
      ]
     },
     "execution_count": 3,
     "metadata": {},
     "output_type": "execute_result"
    }
   ],
   "source": [
    "demo_funcs.add_things(7, 2)"
   ]
  },
  {
   "cell_type": "code",
   "execution_count": 4,
   "metadata": {},
   "outputs": [
    {
     "data": {
      "text/plain": [
       "12"
      ]
     },
     "execution_count": 4,
     "metadata": {},
     "output_type": "execute_result"
    }
   ],
   "source": [
    "demo_funcs.add_things(7, 2, 3)"
   ]
  },
  {
   "cell_type": "code",
   "execution_count": 2,
   "metadata": {},
   "outputs": [
    {
     "data": {
      "text/plain": [
       "(1, 'a')"
      ]
     },
     "execution_count": 2,
     "metadata": {},
     "output_type": "execute_result"
    }
   ],
   "source": [
    "demo_funcs.first_two([1, 'a', 3.1415927, {\"foo\": 2}])"
   ]
  },
  {
   "cell_type": "code",
   "execution_count": 3,
   "metadata": {},
   "outputs": [
    {
     "name": "stdout",
     "output_type": "stream",
     "text": [
      "1\n",
      "a\n"
     ]
    }
   ],
   "source": [
    "x, y = demo_funcs.first_two([1, 'a', 3.1415927, {\"foo\": 2}])\n",
    "print(x)\n",
    "print(y)"
   ]
  },
  {
   "cell_type": "code",
   "execution_count": null,
   "metadata": {},
   "outputs": [],
   "source": [
    "fig, axs = plt.subplots()\n",
    "axs[0]"
   ]
  },
  {
   "cell_type": "code",
   "execution_count": 2,
   "metadata": {},
   "outputs": [],
   "source": [
    "ns = demo_funcs.nicer_first_two()"
   ]
  },
  {
   "cell_type": "code",
   "execution_count": 3,
   "metadata": {},
   "outputs": [
    {
     "data": {
      "text/plain": [
       "1"
      ]
     },
     "execution_count": 3,
     "metadata": {},
     "output_type": "execute_result"
    }
   ],
   "source": [
    "ns.first"
   ]
  },
  {
   "cell_type": "code",
   "execution_count": null,
   "metadata": {},
   "outputs": [],
   "source": [
    "ns[\"first\"]"
   ]
  }
 ],
 "metadata": {
  "kernelspec": {
   "display_name": "mods-and-funcs",
   "language": "python",
   "name": "python3"
  },
  "language_info": {
   "codemirror_mode": {
    "name": "ipython",
    "version": 3
   },
   "file_extension": ".py",
   "mimetype": "text/x-python",
   "name": "python",
   "nbconvert_exporter": "python",
   "pygments_lexer": "ipython3",
   "version": "3.11.0"
  },
  "orig_nbformat": 4,
  "vscode": {
   "interpreter": {
    "hash": "8af64609e3881577daafa602327b15fddaa9f7451b05266e61ea011dc06c1553"
   }
  }
 },
 "nbformat": 4,
 "nbformat_minor": 2
}

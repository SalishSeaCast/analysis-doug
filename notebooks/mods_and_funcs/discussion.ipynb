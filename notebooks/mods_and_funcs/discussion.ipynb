{
 "cells": [
  {
   "cell_type": "markdown",
   "metadata": {},
   "source": [
    "# Discussion of Python Modules and Functions\n",
    "\n",
    "10-Jan-22 with Raisha and Karyn\n"
   ]
  },
  {
   "attachments": {},
   "cell_type": "markdown",
   "metadata": {},
   "source": [
    "## Topics and Notes\n",
    "\n",
    "* Functions from Notebooks to Modules\n",
    "  * A Python module is a collection of functions that become a namespace\n",
    "    when the module is imported\n",
    "\n",
    "  * Naming convention: lowercase, snake-case\n",
    "\n",
    "  * Importing\n",
    "    * `import module`\n",
    "      * `module.function()`\n",
    "    * `from module import function`\n",
    "      * `function()`\n",
    "    * `import module as mod`\n",
    "      * `mod.function()`\n",
    "    * `from module import *` **not recommended**\n",
    "\n",
    "  * Namespace collisions with Python standard library\n",
    "\n",
    "  * Limits on importing modules\n",
    "    * same directory\n",
    "    * symlinks for nearby modules\n",
    "    * `sys.path` munging **not recommended**\n",
    "    * packaging is the real solution\n",
    "      * A Python package is a collection of modules with some metadata\n",
    "        (and ideally docs) that can be installed in an environment so that\n",
    "        the modules can be imported anywhere\n",
    "\n",
    "* Functions\n",
    "  * Naming convention: lowercase, snake_case\n",
    "\n",
    "  * Module namespace helps avoid collisions with functions from other modules,\n",
    "    packages, or Python standard library\n",
    "\n",
    "  * Positional arguments\n",
    "    * anonymous positional arguments: `*args`\n",
    "\n",
    "  * Keyword arguments and default values\n",
    "    * always after positional arguments\n",
    "    * argument name is always required: `func(name=\"foo\")\n",
    "    * anonymous keyword arguments: `**kwargs`\n",
    "\n",
    "  * Return values\n",
    "    * without `return` functions return `None`\n",
    "    * single value return\n",
    "    * tuple return: `return foo, bar`\n",
    "      * automatic tuple unpacking: `x, y = func()`\n",
    "    * `SimpleNamespace` return\n",
    "      * useful when you have to return lots (>3 ?) of values\n",
    "      * dotted notation to access namespace members: `values.x`\n"
   ]
  },
  {
   "cell_type": "markdown",
   "metadata": {},
   "source": []
  }
 ],
 "metadata": {
  "kernelspec": {
   "display_name": "mods-and-funcs",
   "language": "python",
   "name": "python3"
  },
  "language_info": {
   "name": "python",
   "version": "3.11.0 | packaged by conda-forge | (main, Oct 25 2022, 06:24:40) [GCC 10.4.0]"
  },
  "orig_nbformat": 4,
  "vscode": {
   "interpreter": {
    "hash": "8af64609e3881577daafa602327b15fddaa9f7451b05266e61ea011dc06c1553"
   }
  }
 },
 "nbformat": 4,
 "nbformat_minor": 2
}

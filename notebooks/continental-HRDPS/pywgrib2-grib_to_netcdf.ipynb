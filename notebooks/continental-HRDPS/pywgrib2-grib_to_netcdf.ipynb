{
 "cells": [
  {
   "attachments": {},
   "cell_type": "markdown",
   "metadata": {},
   "source": [
    "# `grib_to_netcdf` Processing of Continental HRDPS with `pywgrib2_xr`\n",
    "\n",
    "Exploration of doing the processing of the SalishSeaNowcast `grib_to_netcdf` worker\n",
    "to generate NEMO atmospheric forcing files for SalishSeaCast from the\n",
    "ECCC MSC 2.5 km rotated lat-lon continental grid HRDPS GRIB2 files using the `pywgrib2_xr` package."
   ]
  },
  {
   "attachments": {},
   "cell_type": "markdown",
   "metadata": {},
   "source": [
    "`pywgrib2_xr`:\n",
    "* code: https://github.com/yt87/pywgrib2_xr\n",
    "* docs: https://yt87.github.io/pywgrib2_xr/index.html\n",
    "\n",
    "`conda` environment description for this notebook: `analysis-doug/notebooks/continental-HRDPS/environment.yaml`\n",
    "\n",
    "**Notes:**\n",
    "* the `pywgrib2_xr` conda package is published on the `yt87` channel, not on `conda-forge`\n",
    "* it has important dependency limits that are *not* specified in the published package:\n",
    "  * installation fails for any Python version other than 3.9\n",
    "  * there is a runtime `ImportError`:\n",
    "\n",
    "         ImportError: cannot import name 'dask_array_type' from 'xarray.core.pycompat'\n",
    "  \n",
    "    with 26-Feb-2023 versions of `dask` and `xarray`\n",
    "  * based on the 23-Mar-2021 publication date of the `ty87/pywgrib2_xr`, I pinned `dask` and `xarray` at:\n",
    "    * `dask=2021.03.0`\n",
    "    * `xarray=0.17.0`\n",
    "\n",
    "This notebook assumes that the MOAD `/results/` file system is mounted."
   ]
  },
  {
   "attachments": {},
   "cell_type": "markdown",
   "metadata": {},
   "source": [
    "## Play with the Low Level `wgrib2` Interface\n",
    "\n",
    "`pywgrib2_xr.wgrib()` is a wrapper for the\n",
    "[wgrib2](https://www.cpc.ncep.noaa.gov/products/wesley/wgrib2/long_cmd_list.html)\n",
    "command-line tool"
   ]
  },
  {
   "cell_type": "code",
   "execution_count": 1,
   "metadata": {},
   "outputs": [],
   "source": [
    "import os\n",
    "from pathlib import Path\n",
    "\n",
    "import pywgrib2_xr"
   ]
  },
  {
   "cell_type": "code",
   "execution_count": 2,
   "metadata": {},
   "outputs": [],
   "source": [
    "west_files = Path(\"/results/forcing/atmospheric/GEM2.5/GRIB/20230215/00/001/\")\n",
    "conti_files = Path(\"/results/forcing/atmospheric/continental2.5/GRIB/20230215/00/001/\")\n",
    "\n",
    "west_u_file = west_files / \"CMC_hrdps_west_UGRD_TGL_10_ps2.5km_2023021500_P001-00.grib2\"\n",
    "\n",
    "conti_u_file = conti_files / \"20230215T00Z_MSC_HRDPS_UGRD_AGL-10m_RLatLon0.0225_PT001H.grib2\"\n",
    "conti_v_file = conti_files / \"20230215T00Z_MSC_HRDPS_VGRD_AGL-10m_RLatLon0.0225_PT001H.grib2\""
   ]
  },
  {
   "cell_type": "code",
   "execution_count": 3,
   "metadata": {},
   "outputs": [
    {
     "name": "stdout",
     "output_type": "stream",
     "text": [
      "1:0:d=2023021500:UGRD:10 m above ground:60 min fcst:\n"
     ]
    }
   ],
   "source": [
    "pywgrib2_xr.wgrib(west_u_file)\n",
    "pywgrib2_xr.free_files(os.fspath(west_u_file))"
   ]
  },
  {
   "attachments": {},
   "cell_type": "markdown",
   "metadata": {},
   "source": [
    "**Note:** `pywgrib2_xr.wgrib()` calls aren't repeatable unless the file is freed with `free_files()`.\n",
    "\n",
    "I feel a context manager coming on..."
   ]
  },
  {
   "attachments": {},
   "cell_type": "markdown",
   "metadata": {},
   "source": [
    "### Get grid descriptions:"
   ]
  },
  {
   "cell_type": "code",
   "execution_count": 4,
   "metadata": {},
   "outputs": [
    {
     "name": "stdout",
     "output_type": "stream",
     "text": [
      "1:0:grid_template=20:winds(grid):\n",
      "\tpolar stereographic grid: (685 x 485) input WE:SN output WE:SN res 8\n",
      "\tNorth pole lat1 44.689624 lon1 230.093688 latD 60.000000 lonV 247.000000 dx 2500.000000 m dy 2500.000000 m\n"
     ]
    }
   ],
   "source": [
    "args = \"-d 1 -grid\"\n",
    "pywgrib2_xr.wgrib(*args.split(), west_u_file)\n",
    "pywgrib2_xr.free_files(os.fspath(west_u_file))"
   ]
  },
  {
   "cell_type": "code",
   "execution_count": 5,
   "metadata": {},
   "outputs": [
    {
     "name": "stdout",
     "output_type": "stream",
     "text": [
      "1:0:grid_template=1:winds(grid):\n",
      "\trotated lat-lon grid:(2540 x 1290) units 1e-06 input WE:SN output WE:SN res 56\n",
      "\tlat -12.302501 to 16.700001 by 0.022500\n",
      "\tlon 345.178780 to 42.306283 by 0.022500 #points=3276600\n",
      "\tsouth pole lat=-36.088520 lon=245.305142 angle of rot=0.000000\n"
     ]
    }
   ],
   "source": [
    "args = \"-d 1 -grid\"\n",
    "pywgrib2_xr.wgrib(*args.split(), conti_u_file)\n",
    "pywgrib2_xr.free_files(os.fspath(conti_u_file))"
   ]
  },
  {
   "attachments": {},
   "cell_type": "markdown",
   "metadata": {},
   "source": [
    "For the rotated lat-lon grid, the grid description string that is required to do remapping\n",
    "(e.g. rotation of winds) has the format:\n",
    "\n",
    "        rot-ll:sp_lon:sp_lat:sp_rot lon0:nlon:dlon lat0:nlat:dlat\n",
    "\n",
    "where:\n",
    "\n",
    "        sp_lon = longitude of the South pole (for rotation)\n",
    "        sp_lat = latitude of the South pole (for rotation)\n",
    "        sp_rot = angle of rotation (degrees)\n",
    " \n",
    "        lat0, lon0 = degrees of lat/lon for 1st grid point \n",
    "        nlat = number of longitudes\n",
    "        nlon = number of latitudes\n",
    "        dlon = grid cell size in degrees of longitude\n",
    "        dlat = grid cell size in degrees of latitude\n",
    "\n",
    "See: https://www.cpc.ncep.noaa.gov/products/wesley/wgrib2/new_grid.html\n",
    "\n",
    "There does not appear to be a code way to substitute in values from the grid description above.\n",
    "Doing it by inspection gives:"
   ]
  },
  {
   "cell_type": "code",
   "execution_count": 6,
   "metadata": {},
   "outputs": [],
   "source": [
    "conti_grid_desc = (\n",
    "    \"rot-ll:245.305142:-36.088520:0.000000 345.178780:2540:0.022500 -12.302501:1290:0.022500\"\n",
    ")"
   ]
  },
  {
   "attachments": {},
   "cell_type": "markdown",
   "metadata": {},
   "source": [
    "### `grib_to_netcdf._rotate_grib_wind()` Processing\n",
    "\n",
    "2 steps:\n",
    "1) create a GRIB2 file containing the UGRD and VGRD variables\n",
    "2) remap that file from the model grid to an u-goes-east, v-goes-north grid"
   ]
  },
  {
   "cell_type": "code",
   "execution_count": 7,
   "metadata": {},
   "outputs": [
    {
     "name": "stdout",
     "output_type": "stream",
     "text": [
      "1:0:d=2023021500:UGRD:10 m above ground:60 min fcst:\n",
      "1:0:d=2023021500:VGRD:10 m above ground:60 min fcst:\n",
      "-rw-rw-r-- 1 doug doug 3.6M Feb 27 17:21 /tmp/uv_py.grib\n",
      "-rw-rw-r-- 1 doug doug    0 Feb 27 17:21 /tmp/uvrot_py.grib\n"
     ]
    }
   ],
   "source": [
    "in_files = (conti_u_file, conti_v_file)\n",
    "out_file = Path(\"/tmp\", \"uv_py.grib\")\n",
    "out_file.unlink(missing_ok=True)\n",
    "args = f\"-append -grib {out_file}\"\n",
    "\n",
    "for f in in_files:\n",
    "    pywgrib2_xr.wgrib(f, *args.split())\n",
    "    pywgrib2_xr.free_files(os.fspath(f))\n",
    "\n",
    "!ls -lh /tmp/*.grib"
   ]
  },
  {
   "cell_type": "code",
   "execution_count": 8,
   "metadata": {},
   "outputs": [
    {
     "name": "stdout",
     "output_type": "stream",
     "text": [
      "1:0:d=2023021500:UGRD:10 m above ground:60 min fcst:\n",
      "2:1827917:d=2023021500:VGRD:10 m above ground:60 min fcst:\n",
      "-rw-rw-r-- 1 doug doug 3.6M Feb 27 17:21 /tmp/uv_py.grib\n",
      "-rw-rw-r-- 1 doug doug 9.4M Feb 27 17:21 /tmp/uvrot_py.grib\n"
     ]
    }
   ],
   "source": [
    "in_file = out_file\n",
    "out_file = Path( \"/tmp\", \"uvrot_py.grib\")\n",
    "out_file.unlink(missing_ok=True)\n",
    "args = f\"-new_grid_winds earth -new_grid {conti_grid_desc}\"\n",
    "\n",
    "pywgrib2_xr.wgrib(in_file, *args.split(), out_file)\n",
    "pywgrib2_xr.free_files(os.fspath(in_file), os.fspath(out_file))\n",
    "\n",
    "!ls -lh /tmp/*.grib"
   ]
  },
  {
   "cell_type": "code",
   "execution_count": null,
   "metadata": {},
   "outputs": [],
   "source": []
  }
 ],
 "metadata": {
  "kernelspec": {
   "display_name": "pywgrib2-test",
   "language": "python",
   "name": "python3"
  },
  "language_info": {
   "codemirror_mode": {
    "name": "ipython",
    "version": 3
   },
   "file_extension": ".py",
   "mimetype": "text/x-python",
   "name": "python",
   "nbconvert_exporter": "python",
   "pygments_lexer": "ipython3",
   "version": "3.9.16"
  },
  "orig_nbformat": 4,
  "vscode": {
   "interpreter": {
    "hash": "083271c44ef2fe66d9ce8997be71d25c73ecae66d4cd56a4b5e9e3ad0399cad6"
   }
  }
 },
 "nbformat": 4,
 "nbformat_minor": 2
}
